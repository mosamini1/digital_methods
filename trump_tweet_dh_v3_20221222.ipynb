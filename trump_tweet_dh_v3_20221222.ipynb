{
  "cells": [
    {
      "cell_type": "markdown",
      "metadata": {
        "id": "view-in-github",
        "colab_type": "text"
      },
      "source": [
        "<a href=\"https://colab.research.google.com/github/mosamini1/digital_methods/blob/main/trump_tweet_dh_v3_20221222.ipynb\" target=\"_parent\"><img src=\"https://colab.research.google.com/assets/colab-badge.svg\" alt=\"Open In Colab\"/></a>"
      ]
    },
    {
      "cell_type": "markdown",
      "metadata": {
        "id": "DI2dmqLwAENe"
      },
      "source": [
        "1 - Install all required packages using !pip"
      ]
    },
    {
      "cell_type": "code",
      "source": [
        "from google.colab import drive\n",
        "drive.mount('/content/drive')"
      ],
      "metadata": {
        "id": "W5bj0fnHA7BR",
        "colab": {
          "base_uri": "https://localhost:8080/"
        },
        "outputId": "aa0a3295-5544-4035-fce4-de9947e19b8e"
      },
      "execution_count": null,
      "outputs": [
        {
          "output_type": "stream",
          "name": "stdout",
          "text": [
            "Drive already mounted at /content/drive; to attempt to forcibly remount, call drive.mount(\"/content/drive\", force_remount=True).\n"
          ]
        }
      ]
    },
    {
      "cell_type": "code",
      "execution_count": null,
      "metadata": {
        "id": "mdQ5Sex13BMJ",
        "colab": {
          "base_uri": "https://localhost:8080/"
        },
        "outputId": "7f96ae74-1aa3-4f9c-daf6-ca41c7cccc92"
      },
      "outputs": [
        {
          "output_type": "stream",
          "name": "stdout",
          "text": [
            "Looking in indexes: https://pypi.org/simple, https://us-python.pkg.dev/colab-wheels/public/simple/\n",
            "Requirement already satisfied: bertopic in /usr/local/lib/python3.8/dist-packages (0.12.0)\n",
            "Requirement already satisfied: hdbscan>=0.8.28 in /usr/local/lib/python3.8/dist-packages (from bertopic) (0.8.29)\n",
            "Requirement already satisfied: numpy>=1.20.0 in /usr/local/lib/python3.8/dist-packages (from bertopic) (1.21.6)\n",
            "Requirement already satisfied: plotly>=4.7.0 in /usr/local/lib/python3.8/dist-packages (from bertopic) (5.5.0)\n",
            "Requirement already satisfied: pyyaml<6.0 in /usr/local/lib/python3.8/dist-packages (from bertopic) (5.4.1)\n",
            "Requirement already satisfied: scikit-learn>=0.22.2.post1 in /usr/local/lib/python3.8/dist-packages (from bertopic) (1.0.2)\n",
            "Requirement already satisfied: sentence-transformers>=0.4.1 in /usr/local/lib/python3.8/dist-packages (from bertopic) (2.2.2)\n",
            "Requirement already satisfied: umap-learn>=0.5.0 in /usr/local/lib/python3.8/dist-packages (from bertopic) (0.5.3)\n",
            "Requirement already satisfied: pandas>=1.1.5 in /usr/local/lib/python3.8/dist-packages (from bertopic) (1.3.5)\n",
            "Requirement already satisfied: tqdm>=4.41.1 in /usr/local/lib/python3.8/dist-packages (from bertopic) (4.64.1)\n",
            "Requirement already satisfied: scipy>=1.0 in /usr/local/lib/python3.8/dist-packages (from hdbscan>=0.8.28->bertopic) (1.7.3)\n",
            "Requirement already satisfied: joblib>=1.0 in /usr/local/lib/python3.8/dist-packages (from hdbscan>=0.8.28->bertopic) (1.2.0)\n",
            "Requirement already satisfied: cython>=0.27 in /usr/local/lib/python3.8/dist-packages (from hdbscan>=0.8.28->bertopic) (0.29.32)\n",
            "Requirement already satisfied: pytz>=2017.3 in /usr/local/lib/python3.8/dist-packages (from pandas>=1.1.5->bertopic) (2022.6)\n",
            "Requirement already satisfied: python-dateutil>=2.7.3 in /usr/local/lib/python3.8/dist-packages (from pandas>=1.1.5->bertopic) (2.8.2)\n",
            "Requirement already satisfied: six in /usr/local/lib/python3.8/dist-packages (from plotly>=4.7.0->bertopic) (1.15.0)\n",
            "Requirement already satisfied: tenacity>=6.2.0 in /usr/local/lib/python3.8/dist-packages (from plotly>=4.7.0->bertopic) (8.1.0)\n",
            "Requirement already satisfied: threadpoolctl>=2.0.0 in /usr/local/lib/python3.8/dist-packages (from scikit-learn>=0.22.2.post1->bertopic) (3.1.0)\n",
            "Requirement already satisfied: torchvision in /usr/local/lib/python3.8/dist-packages (from sentence-transformers>=0.4.1->bertopic) (0.14.0+cu116)\n",
            "Requirement already satisfied: sentencepiece in /usr/local/lib/python3.8/dist-packages (from sentence-transformers>=0.4.1->bertopic) (0.1.97)\n",
            "Requirement already satisfied: nltk in /usr/local/lib/python3.8/dist-packages (from sentence-transformers>=0.4.1->bertopic) (3.7)\n",
            "Requirement already satisfied: transformers<5.0.0,>=4.6.0 in /usr/local/lib/python3.8/dist-packages (from sentence-transformers>=0.4.1->bertopic) (4.25.1)\n",
            "Requirement already satisfied: torch>=1.6.0 in /usr/local/lib/python3.8/dist-packages (from sentence-transformers>=0.4.1->bertopic) (1.13.0+cu116)\n",
            "Requirement already satisfied: huggingface-hub>=0.4.0 in /usr/local/lib/python3.8/dist-packages (from sentence-transformers>=0.4.1->bertopic) (0.11.1)\n",
            "Requirement already satisfied: typing-extensions>=3.7.4.3 in /usr/local/lib/python3.8/dist-packages (from huggingface-hub>=0.4.0->sentence-transformers>=0.4.1->bertopic) (4.4.0)\n",
            "Requirement already satisfied: filelock in /usr/local/lib/python3.8/dist-packages (from huggingface-hub>=0.4.0->sentence-transformers>=0.4.1->bertopic) (3.8.2)\n",
            "Requirement already satisfied: packaging>=20.9 in /usr/local/lib/python3.8/dist-packages (from huggingface-hub>=0.4.0->sentence-transformers>=0.4.1->bertopic) (21.3)\n",
            "Requirement already satisfied: requests in /usr/local/lib/python3.8/dist-packages (from huggingface-hub>=0.4.0->sentence-transformers>=0.4.1->bertopic) (2.23.0)\n",
            "Requirement already satisfied: pyparsing!=3.0.5,>=2.0.2 in /usr/local/lib/python3.8/dist-packages (from packaging>=20.9->huggingface-hub>=0.4.0->sentence-transformers>=0.4.1->bertopic) (3.0.9)\n",
            "Requirement already satisfied: tokenizers!=0.11.3,<0.14,>=0.11.1 in /usr/local/lib/python3.8/dist-packages (from transformers<5.0.0,>=4.6.0->sentence-transformers>=0.4.1->bertopic) (0.13.2)\n",
            "Requirement already satisfied: regex!=2019.12.17 in /usr/local/lib/python3.8/dist-packages (from transformers<5.0.0,>=4.6.0->sentence-transformers>=0.4.1->bertopic) (2022.6.2)\n",
            "Requirement already satisfied: numba>=0.49 in /usr/local/lib/python3.8/dist-packages (from umap-learn>=0.5.0->bertopic) (0.56.4)\n",
            "Requirement already satisfied: pynndescent>=0.5 in /usr/local/lib/python3.8/dist-packages (from umap-learn>=0.5.0->bertopic) (0.5.8)\n",
            "Requirement already satisfied: llvmlite<0.40,>=0.39.0dev0 in /usr/local/lib/python3.8/dist-packages (from numba>=0.49->umap-learn>=0.5.0->bertopic) (0.39.1)\n",
            "Requirement already satisfied: importlib-metadata in /usr/local/lib/python3.8/dist-packages (from numba>=0.49->umap-learn>=0.5.0->bertopic) (5.1.0)\n",
            "Requirement already satisfied: setuptools in /usr/local/lib/python3.8/dist-packages (from numba>=0.49->umap-learn>=0.5.0->bertopic) (57.4.0)\n",
            "Requirement already satisfied: zipp>=0.5 in /usr/local/lib/python3.8/dist-packages (from importlib-metadata->numba>=0.49->umap-learn>=0.5.0->bertopic) (3.11.0)\n",
            "Requirement already satisfied: click in /usr/local/lib/python3.8/dist-packages (from nltk->sentence-transformers>=0.4.1->bertopic) (7.1.2)\n",
            "Requirement already satisfied: idna<3,>=2.5 in /usr/local/lib/python3.8/dist-packages (from requests->huggingface-hub>=0.4.0->sentence-transformers>=0.4.1->bertopic) (2.10)\n",
            "Requirement already satisfied: certifi>=2017.4.17 in /usr/local/lib/python3.8/dist-packages (from requests->huggingface-hub>=0.4.0->sentence-transformers>=0.4.1->bertopic) (2022.12.7)\n",
            "Requirement already satisfied: urllib3!=1.25.0,!=1.25.1,<1.26,>=1.21.1 in /usr/local/lib/python3.8/dist-packages (from requests->huggingface-hub>=0.4.0->sentence-transformers>=0.4.1->bertopic) (1.24.3)\n",
            "Requirement already satisfied: chardet<4,>=3.0.2 in /usr/local/lib/python3.8/dist-packages (from requests->huggingface-hub>=0.4.0->sentence-transformers>=0.4.1->bertopic) (3.0.4)\n",
            "Requirement already satisfied: pillow!=8.3.*,>=5.3.0 in /usr/local/lib/python3.8/dist-packages (from torchvision->sentence-transformers>=0.4.1->bertopic) (7.1.2)\n",
            "Looking in indexes: https://pypi.org/simple, https://us-python.pkg.dev/colab-wheels/public/simple/\n",
            "Requirement already satisfied: bertopic in /usr/local/lib/python3.8/dist-packages (0.12.0)\n",
            "Requirement already satisfied: umap-learn>=0.5.0 in /usr/local/lib/python3.8/dist-packages (from bertopic) (0.5.3)\n",
            "Requirement already satisfied: pyyaml<6.0 in /usr/local/lib/python3.8/dist-packages (from bertopic) (5.4.1)\n",
            "Requirement already satisfied: pandas>=1.1.5 in /usr/local/lib/python3.8/dist-packages (from bertopic) (1.3.5)\n",
            "Requirement already satisfied: tqdm>=4.41.1 in /usr/local/lib/python3.8/dist-packages (from bertopic) (4.64.1)\n",
            "Requirement already satisfied: numpy>=1.20.0 in /usr/local/lib/python3.8/dist-packages (from bertopic) (1.21.6)\n",
            "Requirement already satisfied: plotly>=4.7.0 in /usr/local/lib/python3.8/dist-packages (from bertopic) (5.5.0)\n",
            "Requirement already satisfied: sentence-transformers>=0.4.1 in /usr/local/lib/python3.8/dist-packages (from bertopic) (2.2.2)\n",
            "Requirement already satisfied: scikit-learn>=0.22.2.post1 in /usr/local/lib/python3.8/dist-packages (from bertopic) (1.0.2)\n",
            "Requirement already satisfied: hdbscan>=0.8.28 in /usr/local/lib/python3.8/dist-packages (from bertopic) (0.8.29)\n",
            "Requirement already satisfied: joblib>=1.0 in /usr/local/lib/python3.8/dist-packages (from hdbscan>=0.8.28->bertopic) (1.2.0)\n",
            "Requirement already satisfied: cython>=0.27 in /usr/local/lib/python3.8/dist-packages (from hdbscan>=0.8.28->bertopic) (0.29.32)\n",
            "Requirement already satisfied: scipy>=1.0 in /usr/local/lib/python3.8/dist-packages (from hdbscan>=0.8.28->bertopic) (1.7.3)\n",
            "Requirement already satisfied: pytz>=2017.3 in /usr/local/lib/python3.8/dist-packages (from pandas>=1.1.5->bertopic) (2022.6)\n",
            "Requirement already satisfied: python-dateutil>=2.7.3 in /usr/local/lib/python3.8/dist-packages (from pandas>=1.1.5->bertopic) (2.8.2)\n",
            "Requirement already satisfied: six in /usr/local/lib/python3.8/dist-packages (from plotly>=4.7.0->bertopic) (1.15.0)\n",
            "Requirement already satisfied: tenacity>=6.2.0 in /usr/local/lib/python3.8/dist-packages (from plotly>=4.7.0->bertopic) (8.1.0)\n",
            "Requirement already satisfied: threadpoolctl>=2.0.0 in /usr/local/lib/python3.8/dist-packages (from scikit-learn>=0.22.2.post1->bertopic) (3.1.0)\n",
            "Requirement already satisfied: nltk in /usr/local/lib/python3.8/dist-packages (from sentence-transformers>=0.4.1->bertopic) (3.7)\n",
            "Requirement already satisfied: torch>=1.6.0 in /usr/local/lib/python3.8/dist-packages (from sentence-transformers>=0.4.1->bertopic) (1.13.0+cu116)\n",
            "Requirement already satisfied: transformers<5.0.0,>=4.6.0 in /usr/local/lib/python3.8/dist-packages (from sentence-transformers>=0.4.1->bertopic) (4.25.1)\n",
            "Requirement already satisfied: huggingface-hub>=0.4.0 in /usr/local/lib/python3.8/dist-packages (from sentence-transformers>=0.4.1->bertopic) (0.11.1)\n",
            "Requirement already satisfied: sentencepiece in /usr/local/lib/python3.8/dist-packages (from sentence-transformers>=0.4.1->bertopic) (0.1.97)\n",
            "Requirement already satisfied: torchvision in /usr/local/lib/python3.8/dist-packages (from sentence-transformers>=0.4.1->bertopic) (0.14.0+cu116)\n",
            "Requirement already satisfied: packaging>=20.9 in /usr/local/lib/python3.8/dist-packages (from huggingface-hub>=0.4.0->sentence-transformers>=0.4.1->bertopic) (21.3)\n",
            "Requirement already satisfied: requests in /usr/local/lib/python3.8/dist-packages (from huggingface-hub>=0.4.0->sentence-transformers>=0.4.1->bertopic) (2.23.0)\n",
            "Requirement already satisfied: typing-extensions>=3.7.4.3 in /usr/local/lib/python3.8/dist-packages (from huggingface-hub>=0.4.0->sentence-transformers>=0.4.1->bertopic) (4.4.0)\n",
            "Requirement already satisfied: filelock in /usr/local/lib/python3.8/dist-packages (from huggingface-hub>=0.4.0->sentence-transformers>=0.4.1->bertopic) (3.8.2)\n",
            "Requirement already satisfied: pyparsing!=3.0.5,>=2.0.2 in /usr/local/lib/python3.8/dist-packages (from packaging>=20.9->huggingface-hub>=0.4.0->sentence-transformers>=0.4.1->bertopic) (3.0.9)\n",
            "Requirement already satisfied: regex!=2019.12.17 in /usr/local/lib/python3.8/dist-packages (from transformers<5.0.0,>=4.6.0->sentence-transformers>=0.4.1->bertopic) (2022.6.2)\n",
            "Requirement already satisfied: tokenizers!=0.11.3,<0.14,>=0.11.1 in /usr/local/lib/python3.8/dist-packages (from transformers<5.0.0,>=4.6.0->sentence-transformers>=0.4.1->bertopic) (0.13.2)\n",
            "Requirement already satisfied: pynndescent>=0.5 in /usr/local/lib/python3.8/dist-packages (from umap-learn>=0.5.0->bertopic) (0.5.8)\n",
            "Requirement already satisfied: numba>=0.49 in /usr/local/lib/python3.8/dist-packages (from umap-learn>=0.5.0->bertopic) (0.56.4)\n",
            "Requirement already satisfied: llvmlite<0.40,>=0.39.0dev0 in /usr/local/lib/python3.8/dist-packages (from numba>=0.49->umap-learn>=0.5.0->bertopic) (0.39.1)\n",
            "Requirement already satisfied: importlib-metadata in /usr/local/lib/python3.8/dist-packages (from numba>=0.49->umap-learn>=0.5.0->bertopic) (5.1.0)\n",
            "Requirement already satisfied: setuptools in /usr/local/lib/python3.8/dist-packages (from numba>=0.49->umap-learn>=0.5.0->bertopic) (57.4.0)\n",
            "Requirement already satisfied: zipp>=0.5 in /usr/local/lib/python3.8/dist-packages (from importlib-metadata->numba>=0.49->umap-learn>=0.5.0->bertopic) (3.11.0)\n",
            "Requirement already satisfied: click in /usr/local/lib/python3.8/dist-packages (from nltk->sentence-transformers>=0.4.1->bertopic) (7.1.2)\n",
            "Requirement already satisfied: certifi>=2017.4.17 in /usr/local/lib/python3.8/dist-packages (from requests->huggingface-hub>=0.4.0->sentence-transformers>=0.4.1->bertopic) (2022.12.7)\n",
            "Requirement already satisfied: chardet<4,>=3.0.2 in /usr/local/lib/python3.8/dist-packages (from requests->huggingface-hub>=0.4.0->sentence-transformers>=0.4.1->bertopic) (3.0.4)\n",
            "Requirement already satisfied: urllib3!=1.25.0,!=1.25.1,<1.26,>=1.21.1 in /usr/local/lib/python3.8/dist-packages (from requests->huggingface-hub>=0.4.0->sentence-transformers>=0.4.1->bertopic) (1.24.3)\n",
            "Requirement already satisfied: idna<3,>=2.5 in /usr/local/lib/python3.8/dist-packages (from requests->huggingface-hub>=0.4.0->sentence-transformers>=0.4.1->bertopic) (2.10)\n",
            "Requirement already satisfied: pillow!=8.3.*,>=5.3.0 in /usr/local/lib/python3.8/dist-packages (from torchvision->sentence-transformers>=0.4.1->bertopic) (7.1.2)\n",
            "Looking in indexes: https://pypi.org/simple, https://us-python.pkg.dev/colab-wheels/public/simple/\n",
            "\u001b[31mERROR: Could not find a version that satisfies the requirement punkt (from versions: none)\u001b[0m\n",
            "\u001b[31mERROR: No matching distribution found for punkt\u001b[0m\n",
            "Looking in indexes: https://pypi.org/simple, https://us-python.pkg.dev/colab-wheels/public/simple/\n",
            "Requirement already satisfied: stopwords in /usr/local/lib/python3.8/dist-packages (1.0.0)\n",
            "Looking in indexes: https://pypi.org/simple, https://us-python.pkg.dev/colab-wheels/public/simple/\n",
            "Requirement already satisfied: pandas in /usr/local/lib/python3.8/dist-packages (1.3.5)\n",
            "Requirement already satisfied: numpy>=1.17.3 in /usr/local/lib/python3.8/dist-packages (from pandas) (1.21.6)\n",
            "Requirement already satisfied: pytz>=2017.3 in /usr/local/lib/python3.8/dist-packages (from pandas) (2022.6)\n",
            "Requirement already satisfied: python-dateutil>=2.7.3 in /usr/local/lib/python3.8/dist-packages (from pandas) (2.8.2)\n",
            "Requirement already satisfied: six>=1.5 in /usr/local/lib/python3.8/dist-packages (from python-dateutil>=2.7.3->pandas) (1.15.0)\n",
            "Looking in indexes: https://pypi.org/simple, https://us-python.pkg.dev/colab-wheels/public/simple/\n",
            "Requirement already satisfied: numpy in /usr/local/lib/python3.8/dist-packages (1.21.6)\n",
            "Looking in indexes: https://pypi.org/simple, https://us-python.pkg.dev/colab-wheels/public/simple/\n",
            "\u001b[31mERROR: Could not find a version that satisfies the requirement re (from versions: none)\u001b[0m\n",
            "\u001b[31mERROR: No matching distribution found for re\u001b[0m\n",
            "Looking in indexes: https://pypi.org/simple, https://us-python.pkg.dev/colab-wheels/public/simple/\n",
            "\u001b[31mERROR: Could not find a version that satisfies the requirement string (from versions: none)\u001b[0m\n",
            "\u001b[31mERROR: No matching distribution found for string\u001b[0m\n",
            "Looking in indexes: https://pypi.org/simple, https://us-python.pkg.dev/colab-wheels/public/simple/\n",
            "Requirement already satisfied: nltk in /usr/local/lib/python3.8/dist-packages (3.7)\n",
            "Requirement already satisfied: tqdm in /usr/local/lib/python3.8/dist-packages (from nltk) (4.64.1)\n",
            "Requirement already satisfied: click in /usr/local/lib/python3.8/dist-packages (from nltk) (7.1.2)\n",
            "Requirement already satisfied: regex>=2021.8.3 in /usr/local/lib/python3.8/dist-packages (from nltk) (2022.6.2)\n",
            "Requirement already satisfied: joblib in /usr/local/lib/python3.8/dist-packages (from nltk) (1.2.0)\n",
            "Looking in indexes: https://pypi.org/simple, https://us-python.pkg.dev/colab-wheels/public/simple/\n",
            "Requirement already satisfied: sklearn in /usr/local/lib/python3.8/dist-packages (0.0.post1)\n",
            "Looking in indexes: https://pypi.org/simple, https://us-python.pkg.dev/colab-wheels/public/simple/\n",
            "Requirement already satisfied: emoji in /usr/local/lib/python3.8/dist-packages (2.2.0)\n",
            "Looking in indexes: https://pypi.org/simple, https://us-python.pkg.dev/colab-wheels/public/simple/\n",
            "Requirement already satisfied: gensim in /usr/local/lib/python3.8/dist-packages (3.6.0)\n",
            "Requirement already satisfied: smart-open>=1.2.1 in /usr/local/lib/python3.8/dist-packages (from gensim) (6.3.0)\n",
            "Requirement already satisfied: scipy>=0.18.1 in /usr/local/lib/python3.8/dist-packages (from gensim) (1.7.3)\n",
            "Requirement already satisfied: six>=1.5.0 in /usr/local/lib/python3.8/dist-packages (from gensim) (1.15.0)\n",
            "Requirement already satisfied: numpy>=1.11.3 in /usr/local/lib/python3.8/dist-packages (from gensim) (1.21.6)\n",
            "Looking in indexes: https://pypi.org/simple, https://us-python.pkg.dev/colab-wheels/public/simple/\n",
            "Requirement already satisfied: spacy in /usr/local/lib/python3.8/dist-packages (3.4.4)\n",
            "Requirement already satisfied: cymem<2.1.0,>=2.0.2 in /usr/local/lib/python3.8/dist-packages (from spacy) (2.0.7)\n",
            "Requirement already satisfied: typer<0.8.0,>=0.3.0 in /usr/local/lib/python3.8/dist-packages (from spacy) (0.7.0)\n",
            "Requirement already satisfied: numpy>=1.15.0 in /usr/local/lib/python3.8/dist-packages (from spacy) (1.21.6)\n",
            "Requirement already satisfied: pathy>=0.3.5 in /usr/local/lib/python3.8/dist-packages (from spacy) (0.10.1)\n",
            "Requirement already satisfied: pydantic!=1.8,!=1.8.1,<1.11.0,>=1.7.4 in /usr/local/lib/python3.8/dist-packages (from spacy) (1.10.2)\n",
            "Requirement already satisfied: thinc<8.2.0,>=8.1.0 in /usr/local/lib/python3.8/dist-packages (from spacy) (8.1.5)\n",
            "Requirement already satisfied: requests<3.0.0,>=2.13.0 in /usr/local/lib/python3.8/dist-packages (from spacy) (2.23.0)\n",
            "Requirement already satisfied: langcodes<4.0.0,>=3.2.0 in /usr/local/lib/python3.8/dist-packages (from spacy) (3.3.0)\n",
            "Requirement already satisfied: srsly<3.0.0,>=2.4.3 in /usr/local/lib/python3.8/dist-packages (from spacy) (2.4.5)\n",
            "Requirement already satisfied: spacy-legacy<3.1.0,>=3.0.10 in /usr/local/lib/python3.8/dist-packages (from spacy) (3.0.10)\n",
            "Requirement already satisfied: jinja2 in /usr/local/lib/python3.8/dist-packages (from spacy) (2.11.3)\n",
            "Requirement already satisfied: catalogue<2.1.0,>=2.0.6 in /usr/local/lib/python3.8/dist-packages (from spacy) (2.0.8)\n",
            "Requirement already satisfied: setuptools in /usr/local/lib/python3.8/dist-packages (from spacy) (57.4.0)\n",
            "Requirement already satisfied: smart-open<7.0.0,>=5.2.1 in /usr/local/lib/python3.8/dist-packages (from spacy) (6.3.0)\n",
            "Requirement already satisfied: preshed<3.1.0,>=3.0.2 in /usr/local/lib/python3.8/dist-packages (from spacy) (3.0.8)\n",
            "Requirement already satisfied: murmurhash<1.1.0,>=0.28.0 in /usr/local/lib/python3.8/dist-packages (from spacy) (1.0.9)\n",
            "Requirement already satisfied: tqdm<5.0.0,>=4.38.0 in /usr/local/lib/python3.8/dist-packages (from spacy) (4.64.1)\n",
            "Requirement already satisfied: packaging>=20.0 in /usr/local/lib/python3.8/dist-packages (from spacy) (21.3)\n",
            "Requirement already satisfied: spacy-loggers<2.0.0,>=1.0.0 in /usr/local/lib/python3.8/dist-packages (from spacy) (1.0.4)\n",
            "Requirement already satisfied: wasabi<1.1.0,>=0.9.1 in /usr/local/lib/python3.8/dist-packages (from spacy) (0.10.1)\n",
            "Requirement already satisfied: pyparsing!=3.0.5,>=2.0.2 in /usr/local/lib/python3.8/dist-packages (from packaging>=20.0->spacy) (3.0.9)\n",
            "Requirement already satisfied: typing-extensions>=4.1.0 in /usr/local/lib/python3.8/dist-packages (from pydantic!=1.8,!=1.8.1,<1.11.0,>=1.7.4->spacy) (4.4.0)\n",
            "Requirement already satisfied: idna<3,>=2.5 in /usr/local/lib/python3.8/dist-packages (from requests<3.0.0,>=2.13.0->spacy) (2.10)\n",
            "Requirement already satisfied: urllib3!=1.25.0,!=1.25.1,<1.26,>=1.21.1 in /usr/local/lib/python3.8/dist-packages (from requests<3.0.0,>=2.13.0->spacy) (1.24.3)\n",
            "Requirement already satisfied: certifi>=2017.4.17 in /usr/local/lib/python3.8/dist-packages (from requests<3.0.0,>=2.13.0->spacy) (2022.12.7)\n",
            "Requirement already satisfied: chardet<4,>=3.0.2 in /usr/local/lib/python3.8/dist-packages (from requests<3.0.0,>=2.13.0->spacy) (3.0.4)\n",
            "Requirement already satisfied: blis<0.8.0,>=0.7.8 in /usr/local/lib/python3.8/dist-packages (from thinc<8.2.0,>=8.1.0->spacy) (0.7.9)\n",
            "Requirement already satisfied: confection<1.0.0,>=0.0.1 in /usr/local/lib/python3.8/dist-packages (from thinc<8.2.0,>=8.1.0->spacy) (0.0.3)\n",
            "Requirement already satisfied: click<9.0.0,>=7.1.1 in /usr/local/lib/python3.8/dist-packages (from typer<0.8.0,>=0.3.0->spacy) (7.1.2)\n",
            "Requirement already satisfied: MarkupSafe>=0.23 in /usr/local/lib/python3.8/dist-packages (from jinja2->spacy) (2.0.1)\n",
            "Looking in indexes: https://pypi.org/simple, https://us-python.pkg.dev/colab-wheels/public/simple/\n",
            "Requirement already satisfied: seaborn in /usr/local/lib/python3.8/dist-packages (0.11.2)\n",
            "Requirement already satisfied: matplotlib>=2.2 in /usr/local/lib/python3.8/dist-packages (from seaborn) (3.2.2)\n",
            "Requirement already satisfied: pandas>=0.23 in /usr/local/lib/python3.8/dist-packages (from seaborn) (1.3.5)\n",
            "Requirement already satisfied: numpy>=1.15 in /usr/local/lib/python3.8/dist-packages (from seaborn) (1.21.6)\n",
            "Requirement already satisfied: scipy>=1.0 in /usr/local/lib/python3.8/dist-packages (from seaborn) (1.7.3)\n",
            "Requirement already satisfied: cycler>=0.10 in /usr/local/lib/python3.8/dist-packages (from matplotlib>=2.2->seaborn) (0.11.0)\n",
            "Requirement already satisfied: kiwisolver>=1.0.1 in /usr/local/lib/python3.8/dist-packages (from matplotlib>=2.2->seaborn) (1.4.4)\n",
            "Requirement already satisfied: pyparsing!=2.0.4,!=2.1.2,!=2.1.6,>=2.0.1 in /usr/local/lib/python3.8/dist-packages (from matplotlib>=2.2->seaborn) (3.0.9)\n",
            "Requirement already satisfied: python-dateutil>=2.1 in /usr/local/lib/python3.8/dist-packages (from matplotlib>=2.2->seaborn) (2.8.2)\n",
            "Requirement already satisfied: pytz>=2017.3 in /usr/local/lib/python3.8/dist-packages (from pandas>=0.23->seaborn) (2022.6)\n",
            "Requirement already satisfied: six>=1.5 in /usr/local/lib/python3.8/dist-packages (from python-dateutil>=2.1->matplotlib>=2.2->seaborn) (1.15.0)\n",
            "Looking in indexes: https://pypi.org/simple, https://us-python.pkg.dev/colab-wheels/public/simple/\n",
            "Requirement already satisfied: plotly in /usr/local/lib/python3.8/dist-packages (5.5.0)\n",
            "Requirement already satisfied: tenacity>=6.2.0 in /usr/local/lib/python3.8/dist-packages (from plotly) (8.1.0)\n",
            "Requirement already satisfied: six in /usr/local/lib/python3.8/dist-packages (from plotly) (1.15.0)\n"
          ]
        }
      ],
      "source": [
        "\n",
        "!pip install bertopic\n",
        "!pip install bertopic\n",
        "!pip install punkt\n",
        "!pip install stopwords\n",
        "!pip install pandas\n",
        "!pip install numpy\n",
        "!pip install re\n",
        "!pip install string\n",
        "!pip install nltk\n",
        "!pip install sklearn\n",
        "!pip install emoji\n",
        "!pip install gensim\n",
        "!pip install spacy\n",
        "!pip install seaborn\n",
        "!pip install plotly\n"
      ]
    },
    {
      "cell_type": "markdown",
      "metadata": {
        "id": "CN0s93JaAENi"
      },
      "source": [
        "2 - Download packages specific to nltk; normally we would have to load nltk prior to this, however since these are already installed, no need"
      ]
    },
    {
      "cell_type": "code",
      "execution_count": null,
      "metadata": {
        "id": "o-wEWe5H4iQn",
        "tags": [],
        "colab": {
          "base_uri": "https://localhost:8080/",
          "height": 217
        },
        "outputId": "fffbb8a5-8ae9-4fdb-dfa3-079f931881b6"
      },
      "outputs": [
        {
          "output_type": "error",
          "ename": "NameError",
          "evalue": "ignored",
          "traceback": [
            "\u001b[0;31m---------------------------------------------------------------------------\u001b[0m",
            "\u001b[0;31mNameError\u001b[0m                                 Traceback (most recent call last)",
            "\u001b[0;32m<ipython-input-3-32ae49f09dc1>\u001b[0m in \u001b[0;36m<module>\u001b[0;34m\u001b[0m\n\u001b[0;32m----> 1\u001b[0;31m \u001b[0mnltk\u001b[0m\u001b[0;34m.\u001b[0m\u001b[0mdownload\u001b[0m\u001b[0;34m(\u001b[0m\u001b[0;34m'punkt'\u001b[0m\u001b[0;34m)\u001b[0m\u001b[0;34m\u001b[0m\u001b[0;34m\u001b[0m\u001b[0m\n\u001b[0m\u001b[1;32m      2\u001b[0m \u001b[0mnltk\u001b[0m\u001b[0;34m.\u001b[0m\u001b[0mdownload\u001b[0m\u001b[0;34m(\u001b[0m\u001b[0;34m'stopwords'\u001b[0m\u001b[0;34m)\u001b[0m\u001b[0;34m\u001b[0m\u001b[0;34m\u001b[0m\u001b[0m\n\u001b[1;32m      3\u001b[0m \u001b[0mnltk\u001b[0m\u001b[0;34m.\u001b[0m\u001b[0mdownload\u001b[0m\u001b[0;34m(\u001b[0m\u001b[0;34m'wordnet'\u001b[0m\u001b[0;34m)\u001b[0m\u001b[0;34m\u001b[0m\u001b[0;34m\u001b[0m\u001b[0m\n\u001b[1;32m      4\u001b[0m \u001b[0mnltk\u001b[0m\u001b[0;34m.\u001b[0m\u001b[0mdownload\u001b[0m\u001b[0;34m(\u001b[0m\u001b[0;34m'omw-1.4'\u001b[0m\u001b[0;34m)\u001b[0m\u001b[0;34m\u001b[0m\u001b[0;34m\u001b[0m\u001b[0m\n",
            "\u001b[0;31mNameError\u001b[0m: name 'nltk' is not defined"
          ]
        }
      ],
      "source": [
        "\n",
        "nltk.download('punkt')\n",
        "nltk.download('stopwords')\n",
        "nltk.download('wordnet')\n",
        "nltk.download('omw-1.4')\n"
      ]
    },
    {
      "cell_type": "markdown",
      "metadata": {
        "id": "gmQpT7gLAENj"
      },
      "source": [
        "3 - Load all packages needed for our analysis"
      ]
    },
    {
      "cell_type": "code",
      "execution_count": null,
      "metadata": {
        "id": "JAV4elm23i5L"
      },
      "outputs": [],
      "source": [
        "import pandas as pd\n",
        "import numpy as np\n",
        "import bertopic \n",
        "import re\n",
        "import string\n",
        "from nltk.corpus import stopwords\n",
        "from nltk.tokenize import word_tokenize\n",
        "from sklearn.feature_extraction.text import TfidfVectorizer\n",
        "from sklearn.model_selection import train_test_split\n",
        "from nltk.stem import PorterStemmer\n",
        "from nltk.stem import WordNetLemmatizer\n",
        "import nltk\n",
        "import gensim\n",
        "import spacy\n",
        "\n",
        "# ML Libraries\n",
        "from sklearn.metrics import accuracy_score\n",
        "from sklearn.naive_bayes import MultinomialNB\n",
        "from sklearn.linear_model import LogisticRegression\n",
        "from sklearn.svm import SVC\n",
        "\n",
        "# Global Parameters\n",
        "stop_words = set(stopwords.words('english'))"
      ]
    },
    {
      "cell_type": "code",
      "execution_count": null,
      "metadata": {
        "id": "p_ewxd1Y4lMW"
      },
      "outputs": [],
      "source": [
        "import seaborn as sns\n",
        "import sys\n",
        "import numpy as np\n",
        "import pandas as pd\n",
        "import matplotlib as mpl\n",
        "import matplotlib.pyplot as plt\n",
        "import seaborn as sns\n",
        "import sklearn as sk\n",
        "import nltk\n",
        "import plotly"
      ]
    },
    {
      "cell_type": "markdown",
      "metadata": {
        "id": "gej_XRksAENk"
      },
      "source": [
        "4 - Set out specific preferences and ensure our model is reproducible"
      ]
    },
    {
      "cell_type": "code",
      "execution_count": null,
      "metadata": {
        "id": "S93Twa1Y4dZZ"
      },
      "outputs": [],
      "source": [
        "#seaborn options\n",
        "sns.set_style('white')\n",
        "\n",
        "#pandas options\n",
        "pd.options.display.max_rows = 100\n",
        "pd.options.display.max_columns = 100\n",
        "\n",
        "#Reproducibility!\n",
        "seed = 42\n",
        "num_folds = 10\n",
        "v_size = 0.2\n",
        "metric = 'accuracy'\n",
        "\n",
        "#Random seeds\n",
        "np.random.seed(seed)"
      ]
    },
    {
      "cell_type": "markdown",
      "metadata": {
        "id": "shaeqmzoAENl"
      },
      "source": [
        "5 - Load our Trump data set that is already filtered for between 1/1/2019 and 1/1/2021; filtering conducted in R"
      ]
    },
    {
      "cell_type": "code",
      "execution_count": null,
      "metadata": {
        "id": "hmUvsTFz3zVP"
      },
      "outputs": [],
      "source": [
        "df = pd.read_csv(\"/content/drive/MyDrive/__Academics/HDS/DIGHUM/tweets_filtered_4_analysis.csv\"\n",
        "                #,encoding = 'latin-1'\n",
        "                )"
      ]
    },
    {
      "cell_type": "code",
      "execution_count": null,
      "metadata": {
        "id": "mwAVOn2Q38Pj"
      },
      "outputs": [],
      "source": [
        "df.head(10)"
      ]
    },
    {
      "cell_type": "markdown",
      "metadata": {
        "id": "07J-VH_dAENm"
      },
      "source": [
        "6 - Make a copy, so our source file is readily available in case we need to start again"
      ]
    },
    {
      "cell_type": "code",
      "execution_count": null,
      "metadata": {
        "id": "tKvpOxv-AENm"
      },
      "outputs": [],
      "source": [
        "df2 = df.copy()"
      ]
    },
    {
      "cell_type": "markdown",
      "metadata": {
        "id": "fxmA996UAENn"
      },
      "source": [
        "7 - Drop the columns that we will not be needing"
      ]
    },
    {
      "cell_type": "code",
      "execution_count": null,
      "metadata": {
        "id": "VkoK1DsrAENn"
      },
      "outputs": [],
      "source": [
        "df2.columns"
      ]
    },
    {
      "cell_type": "code",
      "execution_count": null,
      "metadata": {
        "id": "8dh_pWVUAENo"
      },
      "outputs": [],
      "source": [
        "toDrop = ['Unnamed: 0', 'id', 'isRetweet', 'isDeleted', 'device',\n",
        "       'favorites', 'retweets', 'date', 'isFlagged',\n",
        "       'date_time', 'time']"
      ]
    },
    {
      "cell_type": "code",
      "execution_count": null,
      "metadata": {
        "id": "g8IRqgEsAENo"
      },
      "outputs": [],
      "source": [
        "df2.drop(toDrop, axis=1, inplace=True)"
      ]
    },
    {
      "cell_type": "code",
      "execution_count": null,
      "metadata": {
        "id": "vBBTR4FUAENo"
      },
      "outputs": [],
      "source": [
        "df2.head(10)"
      ]
    },
    {
      "cell_type": "markdown",
      "metadata": {
        "id": "eRJQFPKdAENo"
      },
      "source": [
        "8 - Remove retweets"
      ]
    },
    {
      "cell_type": "code",
      "execution_count": null,
      "metadata": {
        "id": "eFuxJ9iEAENo"
      },
      "outputs": [],
      "source": [
        "df2=df2[~df2['text'].str.startswith('RT')]"
      ]
    },
    {
      "cell_type": "code",
      "execution_count": null,
      "metadata": {
        "id": "uLnEeBilAENp"
      },
      "outputs": [],
      "source": [
        "df2.info()"
      ]
    },
    {
      "cell_type": "markdown",
      "metadata": {
        "id": "YNKy3lY5AENp"
      },
      "source": [
        "9 - Convert date field to dtype datetime then extract month"
      ]
    },
    {
      "cell_type": "code",
      "execution_count": null,
      "metadata": {
        "id": "4MUoZOAvAENp"
      },
      "outputs": [],
      "source": [
        "df2['df_created_at'] = pd.to_datetime(df2['df_created_at'])"
      ]
    },
    {
      "cell_type": "code",
      "execution_count": null,
      "metadata": {
        "id": "KSDeVbqrAENq"
      },
      "outputs": [],
      "source": [
        "df2.head(5)"
      ]
    },
    {
      "cell_type": "code",
      "execution_count": null,
      "metadata": {
        "id": "d6ULmD1FAENq"
      },
      "outputs": [],
      "source": [
        "df2['month'] = df2['df_created_at'].dt.to_period('M')"
      ]
    },
    {
      "cell_type": "markdown",
      "metadata": {
        "id": "liFT0ixOAENq"
      },
      "source": [
        "10 - Create a quick bar graph showing the number of tweets across year and month"
      ]
    },
    {
      "cell_type": "code",
      "execution_count": null,
      "metadata": {
        "id": "oxjz_SFSAENq",
        "colab": {
          "base_uri": "https://localhost:8080/",
          "height": 658
        },
        "outputId": "a8627f5d-757f-4a1a-eaad-afad79a6f75a"
      },
      "outputs": [
        {
          "output_type": "display_data",
          "data": {
            "text/plain": [
              "<Figure size 2160x720 with 1 Axes>"
            ],
            "image/png": "[encoded data removed]"
          },
          "metadata": {}
        }
      ],
      "source": [
        "plt.figure(figsize=(30, 10))\n",
        "sns.set_style('white')\n",
        "sns.countplot(x='month', data=df2 )\n",
        "plt.xticks(rotation = 90)\n",
        "plt.title(\"Distributions of Number of Trump's Tweets \", fontsize = 20)\n",
        "plt.show()"
      ]
    },
    {
      "cell_type": "markdown",
      "metadata": {
        "id": "8Shl3q2UAENq"
      },
      "source": [
        "11 - Implement a script to preprocess and normalize tweets, in preparation for nlp topic modeling and analysis"
      ]
    },
    {
      "cell_type": "code",
      "execution_count": null,
      "metadata": {
        "id": "DIqsAAOfAENr"
      },
      "outputs": [],
      "source": [
        "from emoji import demojize\n",
        "from nltk.tokenize import TweetTokenizer\n",
        "\n",
        "\n",
        "tokenizer = TweetTokenizer()\n",
        "\n",
        "\n",
        "def normalizeToken(token):\n",
        "    lowercased_token = token.lower()\n",
        "    if token.startswith(\"@\"):\n",
        "        return \"\"\n",
        "    elif lowercased_token.startswith(\"http\") or lowercased_token.startswith(\"www\"):\n",
        "        return \"\"\n",
        "    elif len(token) == 1:\n",
        "        return demojize(token)\n",
        "    else:\n",
        "        if token == \"’\":\n",
        "            return \"'\"\n",
        "        elif token == \"…\":\n",
        "            return \"...\"\n",
        "        else:\n",
        "            return token\n",
        "\n",
        "\n",
        "def normalizeTweet(tweet):\n",
        "    tokens = tokenizer.tokenize(tweet.replace(\"’\", \"'\").replace(\"…\", \"...\"))\n",
        "    normTweet = \" \".join([normalizeToken(token) for token in tokens])\n",
        "\n",
        "    normTweet = (\n",
        "        normTweet.replace(\"cannot \", \"can not \")\n",
        "        .replace(\"n't \", \" n't \")\n",
        "        .replace(\"n 't \", \" n't \")\n",
        "        .replace(\"ca n't\", \"can't\")\n",
        "        .replace(\"ai n't\", \"ain't\")\n",
        "    )\n",
        "    normTweet = (\n",
        "        normTweet.replace(\"'m \", \" 'm \")\n",
        "        .replace(\"'re \", \" 're \")\n",
        "        .replace(\"'s \", \" 's \")\n",
        "        .replace(\"'ll \", \" 'll \")\n",
        "        .replace(\"'d \", \" 'd \")\n",
        "        .replace(\"'ve \", \" 've \")\n",
        "    )\n",
        "    normTweet = (\n",
        "        normTweet.replace(\" p . m .\", \"  p.m.\")\n",
        "        .replace(\" p . m \", \" p.m \")\n",
        "        .replace(\" a . m .\", \" a.m.\")\n",
        "        .replace(\" a . m \", \" a.m \")\n",
        "    )\n",
        "\n",
        "    return \" \".join(normTweet.split())"
      ]
    },
    {
      "cell_type": "code",
      "execution_count": null,
      "metadata": {
        "id": "SIYVaOFwAENy"
      },
      "outputs": [],
      "source": [
        "import torch\n",
        "from transformers import AutoTokenizer\n",
        "#from TweetNormalizer import normalizeTweet\n",
        "df2['text'] = df2['text'].apply(normalizeTweet)"
      ]
    },
    {
      "cell_type": "code",
      "execution_count": null,
      "metadata": {
        "id": "8hV7_prcAENy"
      },
      "outputs": [],
      "source": [
        "df2.head(10)"
      ]
    },
    {
      "cell_type": "code",
      "execution_count": null,
      "metadata": {
        "id": "5Mpqz3aUAENz"
      },
      "outputs": [],
      "source": [
        "df2.info()"
      ]
    },
    {
      "cell_type": "markdown",
      "metadata": {
        "id": "SSeDHW1UAENz"
      },
      "source": [
        "12 - Turn all blank rows into NaN and remove"
      ]
    },
    {
      "cell_type": "code",
      "execution_count": null,
      "metadata": {
        "id": "IaR4stebAENz"
      },
      "outputs": [],
      "source": [
        "df2['text'].replace('', np.nan, inplace=True)"
      ]
    },
    {
      "cell_type": "code",
      "execution_count": null,
      "metadata": {
        "id": "i_lHr-6JAENz"
      },
      "outputs": [],
      "source": [
        "df3 = df2.dropna(how='any',axis=0) \n"
      ]
    },
    {
      "cell_type": "code",
      "execution_count": null,
      "metadata": {
        "id": "XxLUf0LdAENz"
      },
      "outputs": [],
      "source": [
        "df3.head(10)"
      ]
    },
    {
      "cell_type": "markdown",
      "metadata": {
        "id": "8egqu15CAEN0"
      },
      "source": [
        "13 - Additional pre-processing steps "
      ]
    },
    {
      "cell_type": "code",
      "execution_count": null,
      "metadata": {
        "id": "USUqzH9mAEN0"
      },
      "outputs": [],
      "source": [
        "#Lower case \n",
        "def remove_uppercase(text):\n",
        "    text_lowercase = ' '.join(x.lower() for x in text.split())# It will discard all uppercases\n",
        "    return text_lowercase"
      ]
    },
    {
      "cell_type": "code",
      "execution_count": null,
      "metadata": {
        "id": "8O-0vnIrAEN0"
      },
      "outputs": [],
      "source": [
        "df3['text_clean'] = df3['text'].apply(lambda x: remove_uppercase(x))\n"
      ]
    },
    {
      "cell_type": "code",
      "execution_count": null,
      "metadata": {
        "id": "2SOXh-vNAEN0"
      },
      "outputs": [],
      "source": [
        "df3"
      ]
    },
    {
      "cell_type": "code",
      "execution_count": null,
      "metadata": {
        "id": "4_b7YVNAAEN0"
      },
      "outputs": [],
      "source": [
        "#Function to remove Punctuation\n",
        "string.punctuation\n",
        "\n",
        "def remove_punct(text):\n",
        "    text_nopunct = \"\".join([char for char in text if char not in string.punctuation])# It will discard all punctuations\n",
        "    return text_nopunct"
      ]
    },
    {
      "cell_type": "code",
      "execution_count": null,
      "metadata": {
        "id": "ljWW_JWuAEN0"
      },
      "outputs": [],
      "source": [
        "df3['text_clean'] = df3['text_clean'].apply(lambda x: remove_punct(x))\n"
      ]
    },
    {
      "cell_type": "markdown",
      "metadata": {
        "id": "VdQMWdwVAEN1"
      },
      "source": [
        "14 - Apply tokenization and handle removal"
      ]
    },
    {
      "cell_type": "code",
      "execution_count": null,
      "metadata": {
        "id": "_V6kEJkkAEN1"
      },
      "outputs": [],
      "source": [
        "from nltk.tokenize import TweetTokenizer\n",
        "tknzr = TweetTokenizer(strip_handles=True)"
      ]
    },
    {
      "cell_type": "code",
      "execution_count": null,
      "metadata": {
        "id": "YQiBn04SAEN1"
      },
      "outputs": [],
      "source": [
        "df3['text_clean_token'] = df3['text_clean'].apply(tknzr.tokenize)"
      ]
    },
    {
      "cell_type": "code",
      "execution_count": null,
      "metadata": {
        "id": "-ikD4WuKAEN1"
      },
      "outputs": [],
      "source": [
        "df3"
      ]
    },
    {
      "cell_type": "markdown",
      "metadata": {
        "id": "1B5Y83oFAEN2"
      },
      "source": [
        "15 - Remove all stopwords"
      ]
    },
    {
      "cell_type": "code",
      "execution_count": null,
      "metadata": {
        "id": "seDss1XkAEN2"
      },
      "outputs": [],
      "source": [
        "stopword = nltk.corpus.stopwords.words('english') # All English Stopwords\n",
        "def remove_stopwords(tokenized_list):\n",
        "    text = [word for word in tokenized_list if word not in stopword]# To remove all stopwords\n",
        "    return text"
      ]
    },
    {
      "cell_type": "code",
      "execution_count": null,
      "metadata": {
        "id": "unlS915DAEN2"
      },
      "outputs": [],
      "source": [
        "df3['text_clean_token'] = df3['text_clean_token'].apply(lambda x: remove_stopwords(x))"
      ]
    },
    {
      "cell_type": "code",
      "execution_count": null,
      "metadata": {
        "id": "d_RzSjKyAEN2"
      },
      "outputs": [],
      "source": [
        "df3"
      ]
    },
    {
      "cell_type": "markdown",
      "metadata": {
        "id": "l_YeACccAEN2"
      },
      "source": [
        "16 - Apply lemmatization (not using stemming, since the former tends to be more precise, even though it may take up more resources)"
      ]
    },
    {
      "cell_type": "code",
      "execution_count": null,
      "metadata": {
        "id": "_zlkBw3fAEN3"
      },
      "outputs": [],
      "source": [
        "wn = nltk.WordNetLemmatizer()\n",
        "\n",
        "def lemmatizing(tokenized_text):\n",
        "    text = [wn.lemmatize(word,  pos='a') for word in tokenized_text]\n",
        "    return text"
      ]
    },
    {
      "cell_type": "code",
      "execution_count": null,
      "metadata": {
        "id": "l8Cs2YJNAEN3"
      },
      "outputs": [],
      "source": [
        "df3['text_clean_token_lemma'] = df3['text_clean_token'].apply(lambda x: lemmatizing(x))\n"
      ]
    },
    {
      "cell_type": "code",
      "execution_count": null,
      "metadata": {
        "id": "FAwZB5l9AEN3"
      },
      "outputs": [],
      "source": [
        "df3"
      ]
    },
    {
      "cell_type": "markdown",
      "metadata": {
        "id": "6fk2C1VYAEN3"
      },
      "source": [
        "17 - Creating another checkpoint by copying over data set"
      ]
    },
    {
      "cell_type": "code",
      "execution_count": null,
      "metadata": {
        "id": "dDfcFRI7AEN3"
      },
      "outputs": [],
      "source": [
        "df4 = df3.copy()"
      ]
    },
    {
      "cell_type": "code",
      "execution_count": null,
      "metadata": {
        "id": "BE47uKsJAEN4"
      },
      "outputs": [],
      "source": [
        "df4"
      ]
    },
    {
      "cell_type": "code",
      "execution_count": null,
      "metadata": {
        "id": "L8OlnPGbAEN4"
      },
      "outputs": [],
      "source": [
        "df4.columns"
      ]
    },
    {
      "cell_type": "code",
      "execution_count": null,
      "metadata": {
        "id": "oZYMocYDAEN4"
      },
      "outputs": [],
      "source": [
        "df4.info()"
      ]
    },
    {
      "cell_type": "markdown",
      "metadata": {
        "id": "-R7sJV_aAEN4"
      },
      "source": [
        "18 - Convert new text field into string"
      ]
    },
    {
      "cell_type": "code",
      "execution_count": null,
      "metadata": {
        "id": "FiBGAsoTAEN4"
      },
      "outputs": [],
      "source": [
        "df4['text_clean_token_lemma'] = df4['text_clean_token_lemma'].astype(str)"
      ]
    },
    {
      "cell_type": "markdown",
      "metadata": {
        "id": "dGlXxjqtAEN4"
      },
      "source": [
        "19 - Need to reset index, otherwise model will not work"
      ]
    },
    {
      "cell_type": "code",
      "execution_count": null,
      "metadata": {
        "id": "tx7SK5OCAEN5"
      },
      "outputs": [],
      "source": [
        "df4 = df4.reset_index(drop=True)\n"
      ]
    },
    {
      "cell_type": "markdown",
      "metadata": {
        "id": "hr28urS5AEN5"
      },
      "source": [
        "20 - Set up BERTopic topic model"
      ]
    },
    {
      "cell_type": "code",
      "execution_count": null,
      "metadata": {
        "id": "Hg3_bZdUAEN5"
      },
      "outputs": [],
      "source": [
        "from bertopic import BERTopic\n",
        "from sklearn.feature_extraction.text import CountVectorizer\n",
        "\n",
        "#vectorizer_model = CountVectorizer(ngram_range=(1,3), stop_words=\"english\", min_df=5)\n",
        "topic_model = BERTopic(language=\"english\", \n",
        "                       calculate_probabilities=False, \n",
        "                       verbose=True,\n",
        "                       low_memory= True,\n",
        "                       embedding_model = \"paraphrase-MiniLM-L3-v2\",\n",
        "                       #vectorizer_model=vectorizer_model,\n",
        "                       nr_topics = 53)"
      ]
    },
    {
      "cell_type": "code",
      "execution_count": null,
      "metadata": {
        "id": "1I7_t8YCAEN5"
      },
      "outputs": [],
      "source": [
        "df4"
      ]
    },
    {
      "cell_type": "markdown",
      "metadata": {
        "id": "fhOLZMtXAEN5"
      },
      "source": [
        "19 - Apply model to data"
      ]
    },
    {
      "cell_type": "code",
      "execution_count": null,
      "metadata": {
        "id": "A6M4dr8cAEN6",
        "colab": {
          "base_uri": "https://localhost:8080/",
          "height": 118,
          "referenced_widgets": [
            "955e83c88a6a45b7a07b85f1602c068d",
            "dffe8aa35316486097b960f4b0c0d867",
            "21eb1c41a8384d3f81c126e0e8ee8b6d",
            "0e2eeb88b6ff4b84ba721473de4d62b9",
            "6ef5bd33ac3b4e04b0113f52db8fe9ec",
            "336cbd3b761b460dbd4bc015dfc6552b",
            "91ddc7c850494fd1812d0562ea7f0457",
            "c8f68caef3f247b08d1c84d6c37ea958",
            "d339d2276a914c679c315381639bdd79",
            "c5e680656c4f4520bbf52ee638a97917",
            "cbb8e53c34364566be0fc9ae0ccc1ecd"
          ]
        },
        "outputId": "9664749a-a07e-4d5b-fce2-1eb94a39041d"
      },
      "outputs": [
        {
          "output_type": "display_data",
          "data": {
            "text/plain": [
              "Batches:   0%|          | 0/317 [00:00<?, ?it/s]"
            ],
            "application/vnd.jupyter.widget-view+json": {
              "version_major": 2,
              "version_minor": 0,
              "model_id": "955e83c88a6a45b7a07b85f1602c068d"
            }
          },
          "metadata": {}
        },
        {
          "output_type": "stream",
          "name": "stderr",
          "text": [
            "2022-12-23 03:50:30,346 - BERTopic - Transformed documents to Embeddings\n",
            "2022-12-23 03:50:52,551 - BERTopic - Reduced dimensionality\n",
            "2022-12-23 03:50:53,096 - BERTopic - Clustered reduced embeddings\n",
            "2022-12-23 03:50:54,574 - BERTopic - Reduced number of topics from 149 to 54\n"
          ]
        }
      ],
      "source": [
        "#Gived that our dataset is so large, need to implement the following guidance on parameter\n",
        "#tuning to make sure it runs faster: https://github.com/MaartenGr/BERTopic/issues/151\n",
        "topics, probs = topic_model.fit_transform(df4.text_clean_token_lemma)"
      ]
    },
    {
      "cell_type": "markdown",
      "metadata": {
        "id": "ES7v-LkpAEN6"
      },
      "source": [
        "20 - Lets visualize to get some insight into our data"
      ]
    },
    {
      "cell_type": "code",
      "execution_count": null,
      "metadata": {
        "id": "99u6gvejAEN6",
        "colab": {
          "base_uri": "https://localhost:8080/",
          "height": 1000
        },
        "outputId": "96649f6d-2542-4683-b878-5b40a633b0cd"
      },
      "outputs": [
        {
          "output_type": "execute_result",
          "data": {
            "text/plain": [
              "    Topic  Count                                           Name\n",
              "0      -1   4788                     -1_great_nt_president_fake\n",
              "1       0    338                         0_thank_kag_2020_honor\n",
              "2       1    328         1_endorsement_complete_total_amendment\n",
              "3       2    310                  2_border_wall_southern_mexico\n",
              "4       3    289                3_ballots_election_rigged_votes\n",
              "5       4    240                    4_biden_joe_sleepy_fracking\n",
              "6       5    220                     5_china_tariffs_deal_trade\n",
              "7       6    179            6_book_great_congratulations_number\n",
              "8       7    169                       7_honor_god_today_nation\n",
              "9       8    139         8_mueller_report_collusion_obstruction\n",
              "10      9    127          9_pennsylvania_wisconsin_ohio_florida\n",
              "11     10    121                    10_nancy_pelosi_cryin_chuck\n",
              "12     11    114                     11_ratings_wow_morning_cnn\n",
              "13     12    108                 12_hillary_crooked_clinton_fbi\n",
              "14     13    106                  13_trump_donald_president_via\n",
              "15     14    100                     14_schiff_adam_read_shifty\n",
              "16     15     94                15_left_radical_democrats_media\n",
              "17     16     93  16_harassment_presidential_campaign_obamagate\n",
              "18     17     93                   17_impeachment_rt_hoax_trial\n",
              "19     18     91                   18_best_economy_ever_history\n",
              "20     19     91                 19_white_house_news_conference\n",
              "21     20     89                  20_fed_reserve_rates_interest\n",
              "22     21     83                      21_america_make_get_great\n",
              "23     22     79         22_anarchists_guard_portland_agitators\n",
              "24     23     78               23_media_lamestream_fake_corrupt\n",
              "25     24     75                          24_true_agree_yes_100\n",
              "26     25     74                       25_fake_news_media_enemy\n",
              "27     26     72           26_congratulations_great_proud_going\n",
              "28     27     68                  27_stock_market_record_nasdaq\n",
              "29     28     67                    28_bus_transit_area_funding\n",
              "30     29     66               29_court_supreme_justices_judges\n",
              "31     30     63                  30_thank_franklin_thanks_true\n",
              "32     31     63                     31_isis_turkey_kurds_syria\n",
              "33     32     63              32_iran_iranian_sanctions_nuclear\n",
              "34     33     62               33_interviewed_enjoy_900_tonight\n",
              "35     34     58                 34_flynn_general_honor_welcome\n",
              "36     35     58             35_carolina_north_bishop_hurricane\n",
              "37     36     57                36_hunt_witch_collusion_history\n",
              "38     37     56                 37_testing_cases_vaccines_open\n",
              "39     38     55              38_conference_white_house_eastern\n",
              "40     39     55               39_maga_thank_pennsylvania_maine\n",
              "41     40     55                40_job_amazing_great_incredible\n",
              "42     41     54      41_coronavirus_countries_testing_handling\n",
              "43     42     53                  42_mini_mike_bloomberg_debate\n",
              "44     43     51                    43_rating_approval_party_95\n",
              "45     44     51                           44_kim_korea_jong_un\n",
              "46     45     50          45_whistleblower_call_schiff_socalled\n",
              "47     46     49             46_great_transition_greatness_scam\n",
              "48     47     49       47_louisiana_governor_edwards_republican\n",
              "49     48     48                           48_maga_soon_see_way\n",
              "50     49     47             49_happy_birthday_day_thanksgiving\n",
              "51     50     46                    50_israel_peace_arab_jewish\n",
              "52     51     46               51_dems_nothing_democrats_senate\n",
              "53     52     46     52_georgia_signature_verification_governor"
            ],
            "text/html": [
              "\n",
              "  <div id=\"df-0d03ffc7-029e-4c04-9ee9-cd189d3a2e02\">\n",
              "    <div class=\"colab-df-container\">\n",
              "      <div>\n",
              "<style scoped>\n",
              "    .dataframe tbody tr th:only-of-type {\n",
              "        vertical-align: middle;\n",
              "    }\n",
              "\n",
              "    .dataframe tbody tr th {\n",
              "        vertical-align: top;\n",
              "    }\n",
              "\n",
              "    .dataframe thead th {\n",
              "        text-align: right;\n",
              "    }\n",
              "</style>\n",
              "<table border=\"1\" class=\"dataframe\">\n",
              "  <thead>\n",
              "    <tr style=\"text-align: right;\">\n",
              "      <th></th>\n",
              "      <th>Topic</th>\n",
              "      <th>Count</th>\n",
              "      <th>Name</th>\n",
              "    </tr>\n",
              "  </thead>\n",
              "  <tbody>\n",
              "    <tr>\n",
              "      <th>0</th>\n",
              "      <td>-1</td>\n",
              "      <td>4788</td>\n",
              "      <td>-1_great_nt_president_fake</td>\n",
              "    </tr>\n",
              "    <tr>\n",
              "      <th>1</th>\n",
              "      <td>0</td>\n",
              "      <td>338</td>\n",
              "      <td>0_thank_kag_2020_honor</td>\n",
              "    </tr>\n",
              "    <tr>\n",
              "      <th>2</th>\n",
              "      <td>1</td>\n",
              "      <td>328</td>\n",
              "      <td>1_endorsement_complete_total_amendment</td>\n",
              "    </tr>\n",
              "    <tr>\n",
              "      <th>3</th>\n",
              "      <td>2</td>\n",
              "      <td>310</td>\n",
              "      <td>2_border_wall_southern_mexico</td>\n",
              "    </tr>\n",
              "    <tr>\n",
              "      <th>4</th>\n",
              "      <td>3</td>\n",
              "      <td>289</td>\n",
              "      <td>3_ballots_election_rigged_votes</td>\n",
              "    </tr>\n",
              "    <tr>\n",
              "      <th>5</th>\n",
              "      <td>4</td>\n",
              "      <td>240</td>\n",
              "      <td>4_biden_joe_sleepy_fracking</td>\n",
              "    </tr>\n",
              "    <tr>\n",
              "      <th>6</th>\n",
              "      <td>5</td>\n",
              "      <td>220</td>\n",
              "      <td>5_china_tariffs_deal_trade</td>\n",
              "    </tr>\n",
              "    <tr>\n",
              "      <th>7</th>\n",
              "      <td>6</td>\n",
              "      <td>179</td>\n",
              "      <td>6_book_great_congratulations_number</td>\n",
              "    </tr>\n",
              "    <tr>\n",
              "      <th>8</th>\n",
              "      <td>7</td>\n",
              "      <td>169</td>\n",
              "      <td>7_honor_god_today_nation</td>\n",
              "    </tr>\n",
              "    <tr>\n",
              "      <th>9</th>\n",
              "      <td>8</td>\n",
              "      <td>139</td>\n",
              "      <td>8_mueller_report_collusion_obstruction</td>\n",
              "    </tr>\n",
              "    <tr>\n",
              "      <th>10</th>\n",
              "      <td>9</td>\n",
              "      <td>127</td>\n",
              "      <td>9_pennsylvania_wisconsin_ohio_florida</td>\n",
              "    </tr>\n",
              "    <tr>\n",
              "      <th>11</th>\n",
              "      <td>10</td>\n",
              "      <td>121</td>\n",
              "      <td>10_nancy_pelosi_cryin_chuck</td>\n",
              "    </tr>\n",
              "    <tr>\n",
              "      <th>12</th>\n",
              "      <td>11</td>\n",
              "      <td>114</td>\n",
              "      <td>11_ratings_wow_morning_cnn</td>\n",
              "    </tr>\n",
              "    <tr>\n",
              "      <th>13</th>\n",
              "      <td>12</td>\n",
              "      <td>108</td>\n",
              "      <td>12_hillary_crooked_clinton_fbi</td>\n",
              "    </tr>\n",
              "    <tr>\n",
              "      <th>14</th>\n",
              "      <td>13</td>\n",
              "      <td>106</td>\n",
              "      <td>13_trump_donald_president_via</td>\n",
              "    </tr>\n",
              "    <tr>\n",
              "      <th>15</th>\n",
              "      <td>14</td>\n",
              "      <td>100</td>\n",
              "      <td>14_schiff_adam_read_shifty</td>\n",
              "    </tr>\n",
              "    <tr>\n",
              "      <th>16</th>\n",
              "      <td>15</td>\n",
              "      <td>94</td>\n",
              "      <td>15_left_radical_democrats_media</td>\n",
              "    </tr>\n",
              "    <tr>\n",
              "      <th>17</th>\n",
              "      <td>16</td>\n",
              "      <td>93</td>\n",
              "      <td>16_harassment_presidential_campaign_obamagate</td>\n",
              "    </tr>\n",
              "    <tr>\n",
              "      <th>18</th>\n",
              "      <td>17</td>\n",
              "      <td>93</td>\n",
              "      <td>17_impeachment_rt_hoax_trial</td>\n",
              "    </tr>\n",
              "    <tr>\n",
              "      <th>19</th>\n",
              "      <td>18</td>\n",
              "      <td>91</td>\n",
              "      <td>18_best_economy_ever_history</td>\n",
              "    </tr>\n",
              "    <tr>\n",
              "      <th>20</th>\n",
              "      <td>19</td>\n",
              "      <td>91</td>\n",
              "      <td>19_white_house_news_conference</td>\n",
              "    </tr>\n",
              "    <tr>\n",
              "      <th>21</th>\n",
              "      <td>20</td>\n",
              "      <td>89</td>\n",
              "      <td>20_fed_reserve_rates_interest</td>\n",
              "    </tr>\n",
              "    <tr>\n",
              "      <th>22</th>\n",
              "      <td>21</td>\n",
              "      <td>83</td>\n",
              "      <td>21_america_make_get_great</td>\n",
              "    </tr>\n",
              "    <tr>\n",
              "      <th>23</th>\n",
              "      <td>22</td>\n",
              "      <td>79</td>\n",
              "      <td>22_anarchists_guard_portland_agitators</td>\n",
              "    </tr>\n",
              "    <tr>\n",
              "      <th>24</th>\n",
              "      <td>23</td>\n",
              "      <td>78</td>\n",
              "      <td>23_media_lamestream_fake_corrupt</td>\n",
              "    </tr>\n",
              "    <tr>\n",
              "      <th>25</th>\n",
              "      <td>24</td>\n",
              "      <td>75</td>\n",
              "      <td>24_true_agree_yes_100</td>\n",
              "    </tr>\n",
              "    <tr>\n",
              "      <th>26</th>\n",
              "      <td>25</td>\n",
              "      <td>74</td>\n",
              "      <td>25_fake_news_media_enemy</td>\n",
              "    </tr>\n",
              "    <tr>\n",
              "      <th>27</th>\n",
              "      <td>26</td>\n",
              "      <td>72</td>\n",
              "      <td>26_congratulations_great_proud_going</td>\n",
              "    </tr>\n",
              "    <tr>\n",
              "      <th>28</th>\n",
              "      <td>27</td>\n",
              "      <td>68</td>\n",
              "      <td>27_stock_market_record_nasdaq</td>\n",
              "    </tr>\n",
              "    <tr>\n",
              "      <th>29</th>\n",
              "      <td>28</td>\n",
              "      <td>67</td>\n",
              "      <td>28_bus_transit_area_funding</td>\n",
              "    </tr>\n",
              "    <tr>\n",
              "      <th>30</th>\n",
              "      <td>29</td>\n",
              "      <td>66</td>\n",
              "      <td>29_court_supreme_justices_judges</td>\n",
              "    </tr>\n",
              "    <tr>\n",
              "      <th>31</th>\n",
              "      <td>30</td>\n",
              "      <td>63</td>\n",
              "      <td>30_thank_franklin_thanks_true</td>\n",
              "    </tr>\n",
              "    <tr>\n",
              "      <th>32</th>\n",
              "      <td>31</td>\n",
              "      <td>63</td>\n",
              "      <td>31_isis_turkey_kurds_syria</td>\n",
              "    </tr>\n",
              "    <tr>\n",
              "      <th>33</th>\n",
              "      <td>32</td>\n",
              "      <td>63</td>\n",
              "      <td>32_iran_iranian_sanctions_nuclear</td>\n",
              "    </tr>\n",
              "    <tr>\n",
              "      <th>34</th>\n",
              "      <td>33</td>\n",
              "      <td>62</td>\n",
              "      <td>33_interviewed_enjoy_900_tonight</td>\n",
              "    </tr>\n",
              "    <tr>\n",
              "      <th>35</th>\n",
              "      <td>34</td>\n",
              "      <td>58</td>\n",
              "      <td>34_flynn_general_honor_welcome</td>\n",
              "    </tr>\n",
              "    <tr>\n",
              "      <th>36</th>\n",
              "      <td>35</td>\n",
              "      <td>58</td>\n",
              "      <td>35_carolina_north_bishop_hurricane</td>\n",
              "    </tr>\n",
              "    <tr>\n",
              "      <th>37</th>\n",
              "      <td>36</td>\n",
              "      <td>57</td>\n",
              "      <td>36_hunt_witch_collusion_history</td>\n",
              "    </tr>\n",
              "    <tr>\n",
              "      <th>38</th>\n",
              "      <td>37</td>\n",
              "      <td>56</td>\n",
              "      <td>37_testing_cases_vaccines_open</td>\n",
              "    </tr>\n",
              "    <tr>\n",
              "      <th>39</th>\n",
              "      <td>38</td>\n",
              "      <td>55</td>\n",
              "      <td>38_conference_white_house_eastern</td>\n",
              "    </tr>\n",
              "    <tr>\n",
              "      <th>40</th>\n",
              "      <td>39</td>\n",
              "      <td>55</td>\n",
              "      <td>39_maga_thank_pennsylvania_maine</td>\n",
              "    </tr>\n",
              "    <tr>\n",
              "      <th>41</th>\n",
              "      <td>40</td>\n",
              "      <td>55</td>\n",
              "      <td>40_job_amazing_great_incredible</td>\n",
              "    </tr>\n",
              "    <tr>\n",
              "      <th>42</th>\n",
              "      <td>41</td>\n",
              "      <td>54</td>\n",
              "      <td>41_coronavirus_countries_testing_handling</td>\n",
              "    </tr>\n",
              "    <tr>\n",
              "      <th>43</th>\n",
              "      <td>42</td>\n",
              "      <td>53</td>\n",
              "      <td>42_mini_mike_bloomberg_debate</td>\n",
              "    </tr>\n",
              "    <tr>\n",
              "      <th>44</th>\n",
              "      <td>43</td>\n",
              "      <td>51</td>\n",
              "      <td>43_rating_approval_party_95</td>\n",
              "    </tr>\n",
              "    <tr>\n",
              "      <th>45</th>\n",
              "      <td>44</td>\n",
              "      <td>51</td>\n",
              "      <td>44_kim_korea_jong_un</td>\n",
              "    </tr>\n",
              "    <tr>\n",
              "      <th>46</th>\n",
              "      <td>45</td>\n",
              "      <td>50</td>\n",
              "      <td>45_whistleblower_call_schiff_socalled</td>\n",
              "    </tr>\n",
              "    <tr>\n",
              "      <th>47</th>\n",
              "      <td>46</td>\n",
              "      <td>49</td>\n",
              "      <td>46_great_transition_greatness_scam</td>\n",
              "    </tr>\n",
              "    <tr>\n",
              "      <th>48</th>\n",
              "      <td>47</td>\n",
              "      <td>49</td>\n",
              "      <td>47_louisiana_governor_edwards_republican</td>\n",
              "    </tr>\n",
              "    <tr>\n",
              "      <th>49</th>\n",
              "      <td>48</td>\n",
              "      <td>48</td>\n",
              "      <td>48_maga_soon_see_way</td>\n",
              "    </tr>\n",
              "    <tr>\n",
              "      <th>50</th>\n",
              "      <td>49</td>\n",
              "      <td>47</td>\n",
              "      <td>49_happy_birthday_day_thanksgiving</td>\n",
              "    </tr>\n",
              "    <tr>\n",
              "      <th>51</th>\n",
              "      <td>50</td>\n",
              "      <td>46</td>\n",
              "      <td>50_israel_peace_arab_jewish</td>\n",
              "    </tr>\n",
              "    <tr>\n",
              "      <th>52</th>\n",
              "      <td>51</td>\n",
              "      <td>46</td>\n",
              "      <td>51_dems_nothing_democrats_senate</td>\n",
              "    </tr>\n",
              "    <tr>\n",
              "      <th>53</th>\n",
              "      <td>52</td>\n",
              "      <td>46</td>\n",
              "      <td>52_georgia_signature_verification_governor</td>\n",
              "    </tr>\n",
              "  </tbody>\n",
              "</table>\n",
              "</div>\n",
              "      <button class=\"colab-df-convert\" onclick=\"convertToInteractive('df-0d03ffc7-029e-4c04-9ee9-cd189d3a2e02')\"\n",
              "              title=\"Convert this dataframe to an interactive table.\"\n",
              "              style=\"display:none;\">\n",
              "        \n",
              "  <svg xmlns=\"http://www.w3.org/2000/svg\" height=\"24px\"viewBox=\"0 0 24 24\"\n",
              "       width=\"24px\">\n",
              "    <path d=\"M0 0h24v24H0V0z\" fill=\"none\"/>\n",
              "    <path d=\"M18.56 5.44l.94 2.06.94-2.06 2.06-.94-2.06-.94-.94-2.06-.94 2.06-2.06.94zm-11 1L8.5 8.5l.94-2.06 2.06-.94-2.06-.94L8.5 2.5l-.94 2.06-2.06.94zm10 10l.94 2.06.94-2.06 2.06-.94-2.06-.94-.94-2.06-.94 2.06-2.06.94z\"/><path d=\"M17.41 7.96l-1.37-1.37c-.4-.4-.92-.59-1.43-.59-.52 0-1.04.2-1.43.59L10.3 9.45l-7.72 7.72c-.78.78-.78 2.05 0 2.83L4 21.41c.39.39.9.59 1.41.59.51 0 1.02-.2 1.41-.59l7.78-7.78 2.81-2.81c.8-.78.8-2.07 0-2.86zM5.41 20L4 18.59l7.72-7.72 1.47 1.35L5.41 20z\"/>\n",
              "  </svg>\n",
              "      </button>\n",
              "      \n",
              "  <style>\n",
              "    .colab-df-container {\n",
              "      display:flex;\n",
              "      flex-wrap:wrap;\n",
              "      gap: 12px;\n",
              "    }\n",
              "\n",
              "    .colab-df-convert {\n",
              "      background-color: #E8F0FE;\n",
              "      border: none;\n",
              "      border-radius: 50%;\n",
              "      cursor: pointer;\n",
              "      display: none;\n",
              "      fill: #1967D2;\n",
              "      height: 32px;\n",
              "      padding: 0 0 0 0;\n",
              "      width: 32px;\n",
              "    }\n",
              "\n",
              "    .colab-df-convert:hover {\n",
              "      background-color: #E2EBFA;\n",
              "      box-shadow: 0px 1px 2px rgba(60, 64, 67, 0.3), 0px 1px 3px 1px rgba(60, 64, 67, 0.15);\n",
              "      fill: #174EA6;\n",
              "    }\n",
              "\n",
              "    [theme=dark] .colab-df-convert {\n",
              "      background-color: #3B4455;\n",
              "      fill: #D2E3FC;\n",
              "    }\n",
              "\n",
              "    [theme=dark] .colab-df-convert:hover {\n",
              "      background-color: #434B5C;\n",
              "      box-shadow: 0px 1px 3px 1px rgba(0, 0, 0, 0.15);\n",
              "      filter: drop-shadow(0px 1px 2px rgba(0, 0, 0, 0.3));\n",
              "      fill: #FFFFFF;\n",
              "    }\n",
              "  </style>\n",
              "\n",
              "      <script>\n",
              "        const buttonEl =\n",
              "          document.querySelector('#df-0d03ffc7-029e-4c04-9ee9-cd189d3a2e02 button.colab-df-convert');\n",
              "        buttonEl.style.display =\n",
              "          google.colab.kernel.accessAllowed ? 'block' : 'none';\n",
              "\n",
              "        async function convertToInteractive(key) {\n",
              "          const element = document.querySelector('#df-0d03ffc7-029e-4c04-9ee9-cd189d3a2e02');\n",
              "          const dataTable =\n",
              "            await google.colab.kernel.invokeFunction('convertToInteractive',\n",
              "                                                     [key], {});\n",
              "          if (!dataTable) return;\n",
              "\n",
              "          const docLinkHtml = 'Like what you see? Visit the ' +\n",
              "            '<a target=\"_blank\" href=https://colab.research.google.com/notebooks/data_table.ipynb>data table notebook</a>'\n",
              "            + ' to learn more about interactive tables.';\n",
              "          element.innerHTML = '';\n",
              "          dataTable['output_type'] = 'display_data';\n",
              "          await google.colab.output.renderOutput(dataTable, element);\n",
              "          const docLink = document.createElement('div');\n",
              "          docLink.innerHTML = docLinkHtml;\n",
              "          element.appendChild(docLink);\n",
              "        }\n",
              "      </script>\n",
              "    </div>\n",
              "  </div>\n",
              "  "
            ]
          },
          "metadata": {},
          "execution_count": 36
        }
      ],
      "source": [
        "freq = topic_model.get_topic_info(); freq"
      ]
    },
    {
      "cell_type": "markdown",
      "metadata": {
        "id": "kgs134d1AEN7"
      },
      "source": [
        "22 - Here are a series of visualizations that provide more insight into Trump's tweets. Still trying to derive conclusive thoughts."
      ]
    },
    {
      "cell_type": "code",
      "execution_count": null,
      "metadata": {
        "tags": [],
        "id": "HMhcnbHvAEN7",
        "colab": {
          "base_uri": "https://localhost:8080/",
          "height": 667
        },
        "outputId": "f107b18d-fd55-4558-c98c-11f491612c63"
      },
      "outputs": [
        {
          "output_type": "display_data",
          "data": {
            "text/html": [
              "<html>\n",
              "<head><meta charset=\"utf-8\" /></head>\n",
              "<body>\n",
              "    <div>            <script src=\"https://cdnjs.cloudflare.com/ajax/libs/mathjax/2.7.5/MathJax.js?config=TeX-AMS-MML_SVG\"></script><script type=\"text/javascript\">if (window.MathJax) {MathJax.Hub.Config({SVG: {font: \"STIX-Web\"}});}</script>                <script type=\"text/javascript\">window.PlotlyConfig = {MathJaxConfig: 'local'};</script>\n",
              "        <script src=\"https://cdn.plot.ly/plotly-2.8.3.min.js\"></script>                <div id=\"1814bab5-f44c-4ae7-a34e-f46f9dd969a1\" class=\"plotly-graph-div\" style=\"height:650px; width:650px;\"></div>            <script type=\"text/javascript\">                                    window.PLOTLYENV=window.PLOTLYENV || {};                                    if (document.getElementById(\"1814bab5-f44c-4ae7-a34e-f46f9dd969a1\")) {                    Plotly.newPlot(                        \"1814bab5-f44c-4ae7-a34e-f46f9dd969a1\",                        [{\"customdata\":[[0,\"thank | kag | 2020 | honor | nice\",338],[1,\"endorsement | complete | total | amendment | vets\",328],[2,\"border | wall | southern | mexico | security\",310],[3,\"ballots | election | rigged | votes | ballot\",289],[4,\"biden | joe | sleepy | fracking | wins\",240],[5,\"china | tariffs | deal | trade | farmers\",220],[6,\"book | great | congratulations | number | new\",179],[7,\"honor | god | today | nation | venezuela\",169],[8,\"mueller | report | collusion | obstruction | robert\",139],[9,\"pennsylvania | wisconsin | ohio | florida | crowd\",127],[10,\"nancy | pelosi | cryin | chuck | crazy\",121],[11,\"ratings | wow | morning | cnn | msdnc\",114],[12,\"hillary | crooked | clinton | fbi | comey\",108],[13,\"trump | donald | president | via | black\",106],[14,\"schiff | adam | read | shifty | transcripts\",100],[15,\"left | radical | democrats | media | partner\",94],[16,\"harassment | presidential | campaign | obamagate | spying\",93],[17,\"impeachment | rt | hoax | trial | democrats\",93],[18,\"best | economy | ever | history | unemployment\",91],[19,\"white | house | news | conference | today\",91],[20,\"fed | reserve | rates | interest | inflation\",89],[21,\"america | make | get | great | keep\",83],[22,\"anarchists | guard | portland | agitators | mayor\",79],[23,\"media | lamestream | fake | corrupt | news\",78],[24,\"true | agree | yes | 100 | correct\",75],[25,\"fake | news | media | enemy | story\",74],[26,\"congratulations | great | proud | going | champion\",72],[27,\"stock | market | record | nasdaq | high\",68],[28,\"bus | transit | area | funding | funds\",67],[29,\"court | supreme | justices | judges | daca\",66],[30,\"thank | franklin | thanks | true | david\",63],[31,\"isis | turkey | kurds | syria | caliphate\",63],[32,\"iran | iranian | sanctions | nuclear | attack\",63],[33,\"interviewed | enjoy | 900 | tonight | eastern\",62],[34,\"flynn | general | honor | welcome | congratulations\",58],[35,\"carolina | north | bishop | hurricane | dorian\",58],[36,\"hunt | witch | collusion | history | continues\",57],[37,\"testing | cases | vaccines | open | deaths\",56],[38,\"conference | white | house | eastern | 530\",55],[39,\"maga | thank | pennsylvania | maine | jobs\",55],[40,\"job | amazing | great | incredible | evening\",55],[41,\"coronavirus | countries | testing | handling | china\",54],[42,\"mini | mike | bloomberg | debate | mayor\",53],[43,\"rating | approval | party | 95 | republican\",51],[44,\"kim | korea | jong | un | north\",51],[45,\"whistleblower | call | schiff | socalled | ukrainian\",50],[46,\"great | transition | greatness | scam | texas\",49],[47,\"louisiana | governor | edwards | republican | vote\",49],[48,\"maga | soon | see | way | henderson\",48],[49,\"happy | birthday | day | thanksgiving | 245th\",47],[50,\"israel | peace | arab | jewish | bahrain\",46],[51,\"dems | nothing | democrats | senate | house\",46],[52,\"georgia | signature | verification | governor | signatures\",46]],\"hovertemplate\":\"<b>Topic %{customdata[0]}</b><br>Words: %{customdata[1]}<br>Size: %{customdata[2]}\",\"legendgroup\":\"\",\"marker\":{\"color\":\"#B0BEC5\",\"size\":[338,328,310,289,240,220,179,169,139,127,121,114,108,106,100,94,93,93,91,91,89,83,79,78,75,74,72,68,67,66,63,63,63,62,58,58,57,56,55,55,55,54,53,51,51,50,49,49,48,47,46,46,46],\"sizemode\":\"area\",\"sizeref\":0.21125,\"symbol\":\"circle\",\"line\":{\"color\":\"DarkSlateGrey\",\"width\":2}},\"mode\":\"markers\",\"name\":\"\",\"orientation\":\"v\",\"showlegend\":false,\"x\":[18.488811492919922,19.422780990600586,-0.1673172116279602,15.628711700439453,-0.4074539542198181,6.904036045074463,-0.6738563776016235,-2.1462082862854004,-8.234488487243652,18.398984909057617,-0.3543988764286041,0.4510228633880615,-7.955573558807373,19.167325973510742,5.440889358520508,1.6249643564224243,-7.843462944030762,5.592643737792969,19.347023010253906,-0.7844573855400085,6.904071807861328,19.112016677856445,1.722773551940918,1.3202648162841797,1.3808598518371582,1.2080659866333008,11.34970760345459,19.385297775268555,-1.1010525226593018,-0.47188428044319153,11.465215682983398,-1.9924451112747192,-2.192610025405884,17.950355529785156,-2.0468432903289795,-0.9889497756958008,-8.306865692138672,7.577631950378418,17.893569946289062,18.315021514892578,11.184821128845215,7.577636241912842,-0.45190954208374023,19.454118728637695,-2.27949857711792,5.3017778396606445,19.171241760253906,19.31421661376953,18.220504760742188,-1.8506308794021606,-2.243583917617798,0.37860503792762756,15.628753662109375],\"xaxis\":\"x\",\"y\":[-1.6943202018737793,-0.7664446830749512,0.7826224565505981,-5.647543907165527,0.5210838317871094,10.709433555603027,1.3332206010818481,13.440579414367676,0.9493474364280701,-1.736074447631836,0.809506356716156,0.5161576271057129,0.7557074427604675,13.888941764831543,-10.322731971740723,14.889216423034668,0.6047089099884033,-10.463062286376953,13.745360374450684,1.4298099279403687,10.709428787231445,-0.7012968063354492,14.993561744689941,14.70893383026123,14.468782424926758,14.846443176269531,-4.870595932006836,13.71094799041748,1.7183858156204224,0.5256200432777405,-4.75324010848999,13.14218521118164,13.283706665039062,-1.5304062366485596,12.107380867004395,1.6179872751235962,0.8989186882972717,22.825725555419922,-1.6187176704406738,-1.8215593099594116,-5.0359416007995605,22.825727462768555,0.638606071472168,13.650208473205566,12.784186363220215,-10.173711776733398,-0.7946624755859375,-0.90984046459198,-1.0461606979370117,11.83952522277832,12.460992813110352,0.5319086313247681,-5.647467613220215],\"yaxis\":\"y\",\"type\":\"scatter\"}],                        {\"template\":{\"data\":{\"barpolar\":[{\"marker\":{\"line\":{\"color\":\"white\",\"width\":0.5},\"pattern\":{\"fillmode\":\"overlay\",\"size\":10,\"solidity\":0.2}},\"type\":\"barpolar\"}],\"bar\":[{\"error_x\":{\"color\":\"rgb(36,36,36)\"},\"error_y\":{\"color\":\"rgb(36,36,36)\"},\"marker\":{\"line\":{\"color\":\"white\",\"width\":0.5},\"pattern\":{\"fillmode\":\"overlay\",\"size\":10,\"solidity\":0.2}},\"type\":\"bar\"}],\"carpet\":[{\"aaxis\":{\"endlinecolor\":\"rgb(36,36,36)\",\"gridcolor\":\"white\",\"linecolor\":\"white\",\"minorgridcolor\":\"white\",\"startlinecolor\":\"rgb(36,36,36)\"},\"baxis\":{\"endlinecolor\":\"rgb(36,36,36)\",\"gridcolor\":\"white\",\"linecolor\":\"white\",\"minorgridcolor\":\"white\",\"startlinecolor\":\"rgb(36,36,36)\"},\"type\":\"carpet\"}],\"choropleth\":[{\"colorbar\":{\"outlinewidth\":1,\"tickcolor\":\"rgb(36,36,36)\",\"ticks\":\"outside\"},\"type\":\"choropleth\"}],\"contourcarpet\":[{\"colorbar\":{\"outlinewidth\":1,\"tickcolor\":\"rgb(36,36,36)\",\"ticks\":\"outside\"},\"type\":\"contourcarpet\"}],\"contour\":[{\"colorbar\":{\"outlinewidth\":1,\"tickcolor\":\"rgb(36,36,36)\",\"ticks\":\"outside\"},\"colorscale\":[[0.0,\"#440154\"],[0.1111111111111111,\"#482878\"],[0.2222222222222222,\"#3e4989\"],[0.3333333333333333,\"#31688e\"],[0.4444444444444444,\"#26828e\"],[0.5555555555555556,\"#1f9e89\"],[0.6666666666666666,\"#35b779\"],[0.7777777777777778,\"#6ece58\"],[0.8888888888888888,\"#b5de2b\"],[1.0,\"#fde725\"]],\"type\":\"contour\"}],\"heatmapgl\":[{\"colorbar\":{\"outlinewidth\":1,\"tickcolor\":\"rgb(36,36,36)\",\"ticks\":\"outside\"},\"colorscale\":[[0.0,\"#440154\"],[0.1111111111111111,\"#482878\"],[0.2222222222222222,\"#3e4989\"],[0.3333333333333333,\"#31688e\"],[0.4444444444444444,\"#26828e\"],[0.5555555555555556,\"#1f9e89\"],[0.6666666666666666,\"#35b779\"],[0.7777777777777778,\"#6ece58\"],[0.8888888888888888,\"#b5de2b\"],[1.0,\"#fde725\"]],\"type\":\"heatmapgl\"}],\"heatmap\":[{\"colorbar\":{\"outlinewidth\":1,\"tickcolor\":\"rgb(36,36,36)\",\"ticks\":\"outside\"},\"colorscale\":[[0.0,\"#440154\"],[0.1111111111111111,\"#482878\"],[0.2222222222222222,\"#3e4989\"],[0.3333333333333333,\"#31688e\"],[0.4444444444444444,\"#26828e\"],[0.5555555555555556,\"#1f9e89\"],[0.6666666666666666,\"#35b779\"],[0.7777777777777778,\"#6ece58\"],[0.8888888888888888,\"#b5de2b\"],[1.0,\"#fde725\"]],\"type\":\"heatmap\"}],\"histogram2dcontour\":[{\"colorbar\":{\"outlinewidth\":1,\"tickcolor\":\"rgb(36,36,36)\",\"ticks\":\"outside\"},\"colorscale\":[[0.0,\"#440154\"],[0.1111111111111111,\"#482878\"],[0.2222222222222222,\"#3e4989\"],[0.3333333333333333,\"#31688e\"],[0.4444444444444444,\"#26828e\"],[0.5555555555555556,\"#1f9e89\"],[0.6666666666666666,\"#35b779\"],[0.7777777777777778,\"#6ece58\"],[0.8888888888888888,\"#b5de2b\"],[1.0,\"#fde725\"]],\"type\":\"histogram2dcontour\"}],\"histogram2d\":[{\"colorbar\":{\"outlinewidth\":1,\"tickcolor\":\"rgb(36,36,36)\",\"ticks\":\"outside\"},\"colorscale\":[[0.0,\"#440154\"],[0.1111111111111111,\"#482878\"],[0.2222222222222222,\"#3e4989\"],[0.3333333333333333,\"#31688e\"],[0.4444444444444444,\"#26828e\"],[0.5555555555555556,\"#1f9e89\"],[0.6666666666666666,\"#35b779\"],[0.7777777777777778,\"#6ece58\"],[0.8888888888888888,\"#b5de2b\"],[1.0,\"#fde725\"]],\"type\":\"histogram2d\"}],\"histogram\":[{\"marker\":{\"line\":{\"color\":\"white\",\"width\":0.6}},\"type\":\"histogram\"}],\"mesh3d\":[{\"colorbar\":{\"outlinewidth\":1,\"tickcolor\":\"rgb(36,36,36)\",\"ticks\":\"outside\"},\"type\":\"mesh3d\"}],\"parcoords\":[{\"line\":{\"colorbar\":{\"outlinewidth\":1,\"tickcolor\":\"rgb(36,36,36)\",\"ticks\":\"outside\"}},\"type\":\"parcoords\"}],\"pie\":[{\"automargin\":true,\"type\":\"pie\"}],\"scatter3d\":[{\"line\":{\"colorbar\":{\"outlinewidth\":1,\"tickcolor\":\"rgb(36,36,36)\",\"ticks\":\"outside\"}},\"marker\":{\"colorbar\":{\"outlinewidth\":1,\"tickcolor\":\"rgb(36,36,36)\",\"ticks\":\"outside\"}},\"type\":\"scatter3d\"}],\"scattercarpet\":[{\"marker\":{\"colorbar\":{\"outlinewidth\":1,\"tickcolor\":\"rgb(36,36,36)\",\"ticks\":\"outside\"}},\"type\":\"scattercarpet\"}],\"scattergeo\":[{\"marker\":{\"colorbar\":{\"outlinewidth\":1,\"tickcolor\":\"rgb(36,36,36)\",\"ticks\":\"outside\"}},\"type\":\"scattergeo\"}],\"scattergl\":[{\"marker\":{\"colorbar\":{\"outlinewidth\":1,\"tickcolor\":\"rgb(36,36,36)\",\"ticks\":\"outside\"}},\"type\":\"scattergl\"}],\"scattermapbox\":[{\"marker\":{\"colorbar\":{\"outlinewidth\":1,\"tickcolor\":\"rgb(36,36,36)\",\"ticks\":\"outside\"}},\"type\":\"scattermapbox\"}],\"scatterpolargl\":[{\"marker\":{\"colorbar\":{\"outlinewidth\":1,\"tickcolor\":\"rgb(36,36,36)\",\"ticks\":\"outside\"}},\"type\":\"scatterpolargl\"}],\"scatterpolar\":[{\"marker\":{\"colorbar\":{\"outlinewidth\":1,\"tickcolor\":\"rgb(36,36,36)\",\"ticks\":\"outside\"}},\"type\":\"scatterpolar\"}],\"scatter\":[{\"marker\":{\"colorbar\":{\"outlinewidth\":1,\"tickcolor\":\"rgb(36,36,36)\",\"ticks\":\"outside\"}},\"type\":\"scatter\"}],\"scatterternary\":[{\"marker\":{\"colorbar\":{\"outlinewidth\":1,\"tickcolor\":\"rgb(36,36,36)\",\"ticks\":\"outside\"}},\"type\":\"scatterternary\"}],\"surface\":[{\"colorbar\":{\"outlinewidth\":1,\"tickcolor\":\"rgb(36,36,36)\",\"ticks\":\"outside\"},\"colorscale\":[[0.0,\"#440154\"],[0.1111111111111111,\"#482878\"],[0.2222222222222222,\"#3e4989\"],[0.3333333333333333,\"#31688e\"],[0.4444444444444444,\"#26828e\"],[0.5555555555555556,\"#1f9e89\"],[0.6666666666666666,\"#35b779\"],[0.7777777777777778,\"#6ece58\"],[0.8888888888888888,\"#b5de2b\"],[1.0,\"#fde725\"]],\"type\":\"surface\"}],\"table\":[{\"cells\":{\"fill\":{\"color\":\"rgb(237,237,237)\"},\"line\":{\"color\":\"white\"}},\"header\":{\"fill\":{\"color\":\"rgb(217,217,217)\"},\"line\":{\"color\":\"white\"}},\"type\":\"table\"}]},\"layout\":{\"annotationdefaults\":{\"arrowhead\":0,\"arrowwidth\":1},\"autotypenumbers\":\"strict\",\"coloraxis\":{\"colorbar\":{\"outlinewidth\":1,\"tickcolor\":\"rgb(36,36,36)\",\"ticks\":\"outside\"}},\"colorscale\":{\"diverging\":[[0.0,\"rgb(103,0,31)\"],[0.1,\"rgb(178,24,43)\"],[0.2,\"rgb(214,96,77)\"],[0.3,\"rgb(244,165,130)\"],[0.4,\"rgb(253,219,199)\"],[0.5,\"rgb(247,247,247)\"],[0.6,\"rgb(209,229,240)\"],[0.7,\"rgb(146,197,222)\"],[0.8,\"rgb(67,147,195)\"],[0.9,\"rgb(33,102,172)\"],[1.0,\"rgb(5,48,97)\"]],\"sequential\":[[0.0,\"#440154\"],[0.1111111111111111,\"#482878\"],[0.2222222222222222,\"#3e4989\"],[0.3333333333333333,\"#31688e\"],[0.4444444444444444,\"#26828e\"],[0.5555555555555556,\"#1f9e89\"],[0.6666666666666666,\"#35b779\"],[0.7777777777777778,\"#6ece58\"],[0.8888888888888888,\"#b5de2b\"],[1.0,\"#fde725\"]],\"sequentialminus\":[[0.0,\"#440154\"],[0.1111111111111111,\"#482878\"],[0.2222222222222222,\"#3e4989\"],[0.3333333333333333,\"#31688e\"],[0.4444444444444444,\"#26828e\"],[0.5555555555555556,\"#1f9e89\"],[0.6666666666666666,\"#35b779\"],[0.7777777777777778,\"#6ece58\"],[0.8888888888888888,\"#b5de2b\"],[1.0,\"#fde725\"]]},\"colorway\":[\"#1F77B4\",\"#FF7F0E\",\"#2CA02C\",\"#D62728\",\"#9467BD\",\"#8C564B\",\"#E377C2\",\"#7F7F7F\",\"#BCBD22\",\"#17BECF\"],\"font\":{\"color\":\"rgb(36,36,36)\"},\"geo\":{\"bgcolor\":\"white\",\"lakecolor\":\"white\",\"landcolor\":\"white\",\"showlakes\":true,\"showland\":true,\"subunitcolor\":\"white\"},\"hoverlabel\":{\"align\":\"left\"},\"hovermode\":\"closest\",\"mapbox\":{\"style\":\"light\"},\"paper_bgcolor\":\"white\",\"plot_bgcolor\":\"white\",\"polar\":{\"angularaxis\":{\"gridcolor\":\"rgb(232,232,232)\",\"linecolor\":\"rgb(36,36,36)\",\"showgrid\":false,\"showline\":true,\"ticks\":\"outside\"},\"bgcolor\":\"white\",\"radialaxis\":{\"gridcolor\":\"rgb(232,232,232)\",\"linecolor\":\"rgb(36,36,36)\",\"showgrid\":false,\"showline\":true,\"ticks\":\"outside\"}},\"scene\":{\"xaxis\":{\"backgroundcolor\":\"white\",\"gridcolor\":\"rgb(232,232,232)\",\"gridwidth\":2,\"linecolor\":\"rgb(36,36,36)\",\"showbackground\":true,\"showgrid\":false,\"showline\":true,\"ticks\":\"outside\",\"zeroline\":false,\"zerolinecolor\":\"rgb(36,36,36)\"},\"yaxis\":{\"backgroundcolor\":\"white\",\"gridcolor\":\"rgb(232,232,232)\",\"gridwidth\":2,\"linecolor\":\"rgb(36,36,36)\",\"showbackground\":true,\"showgrid\":false,\"showline\":true,\"ticks\":\"outside\",\"zeroline\":false,\"zerolinecolor\":\"rgb(36,36,36)\"},\"zaxis\":{\"backgroundcolor\":\"white\",\"gridcolor\":\"rgb(232,232,232)\",\"gridwidth\":2,\"linecolor\":\"rgb(36,36,36)\",\"showbackground\":true,\"showgrid\":false,\"showline\":true,\"ticks\":\"outside\",\"zeroline\":false,\"zerolinecolor\":\"rgb(36,36,36)\"}},\"shapedefaults\":{\"fillcolor\":\"black\",\"line\":{\"width\":0},\"opacity\":0.3},\"ternary\":{\"aaxis\":{\"gridcolor\":\"rgb(232,232,232)\",\"linecolor\":\"rgb(36,36,36)\",\"showgrid\":false,\"showline\":true,\"ticks\":\"outside\"},\"baxis\":{\"gridcolor\":\"rgb(232,232,232)\",\"linecolor\":\"rgb(36,36,36)\",\"showgrid\":false,\"showline\":true,\"ticks\":\"outside\"},\"bgcolor\":\"white\",\"caxis\":{\"gridcolor\":\"rgb(232,232,232)\",\"linecolor\":\"rgb(36,36,36)\",\"showgrid\":false,\"showline\":true,\"ticks\":\"outside\"}},\"title\":{\"x\":0.05},\"xaxis\":{\"automargin\":true,\"gridcolor\":\"rgb(232,232,232)\",\"linecolor\":\"rgb(36,36,36)\",\"showgrid\":false,\"showline\":true,\"ticks\":\"outside\",\"title\":{\"standoff\":15},\"zeroline\":false,\"zerolinecolor\":\"rgb(36,36,36)\"},\"yaxis\":{\"automargin\":true,\"gridcolor\":\"rgb(232,232,232)\",\"linecolor\":\"rgb(36,36,36)\",\"showgrid\":false,\"showline\":true,\"ticks\":\"outside\",\"title\":{\"standoff\":15},\"zeroline\":false,\"zerolinecolor\":\"rgb(36,36,36)\"}}},\"xaxis\":{\"anchor\":\"y\",\"domain\":[0.0,1.0],\"title\":{\"text\":\"\"},\"visible\":false,\"range\":[-9.552895545959473,22.37223653793335]},\"yaxis\":{\"anchor\":\"x\",\"domain\":[0.0,1.0],\"title\":{\"text\":\"\"},\"visible\":false,\"range\":[-12.032521629333496,26.249586582183838]},\"legend\":{\"tracegroupgap\":0,\"itemsizing\":\"constant\"},\"margin\":{\"t\":60},\"title\":{\"font\":{\"size\":22,\"color\":\"Black\"},\"text\":\"<b>Intertopic Distance Map\",\"y\":0.95,\"x\":0.5,\"xanchor\":\"center\",\"yanchor\":\"top\"},\"hoverlabel\":{\"font\":{\"size\":16,\"family\":\"Rockwell\"},\"bgcolor\":\"white\"},\"width\":650,\"height\":650,\"sliders\":[{\"active\":0,\"pad\":{\"t\":50},\"steps\":[{\"args\":[{\"marker.color\":[[\"red\",\"#B0BEC5\",\"#B0BEC5\",\"#B0BEC5\",\"#B0BEC5\",\"#B0BEC5\",\"#B0BEC5\",\"#B0BEC5\",\"#B0BEC5\",\"#B0BEC5\",\"#B0BEC5\",\"#B0BEC5\",\"#B0BEC5\",\"#B0BEC5\",\"#B0BEC5\",\"#B0BEC5\",\"#B0BEC5\",\"#B0BEC5\",\"#B0BEC5\",\"#B0BEC5\",\"#B0BEC5\",\"#B0BEC5\",\"#B0BEC5\",\"#B0BEC5\",\"#B0BEC5\",\"#B0BEC5\",\"#B0BEC5\",\"#B0BEC5\",\"#B0BEC5\",\"#B0BEC5\",\"#B0BEC5\",\"#B0BEC5\",\"#B0BEC5\",\"#B0BEC5\",\"#B0BEC5\",\"#B0BEC5\",\"#B0BEC5\",\"#B0BEC5\",\"#B0BEC5\",\"#B0BEC5\",\"#B0BEC5\",\"#B0BEC5\",\"#B0BEC5\",\"#B0BEC5\",\"#B0BEC5\",\"#B0BEC5\",\"#B0BEC5\",\"#B0BEC5\",\"#B0BEC5\",\"#B0BEC5\",\"#B0BEC5\",\"#B0BEC5\",\"#B0BEC5\"]]}],\"label\":\"Topic 0\",\"method\":\"update\"},{\"args\":[{\"marker.color\":[[\"#B0BEC5\",\"red\",\"#B0BEC5\",\"#B0BEC5\",\"#B0BEC5\",\"#B0BEC5\",\"#B0BEC5\",\"#B0BEC5\",\"#B0BEC5\",\"#B0BEC5\",\"#B0BEC5\",\"#B0BEC5\",\"#B0BEC5\",\"#B0BEC5\",\"#B0BEC5\",\"#B0BEC5\",\"#B0BEC5\",\"#B0BEC5\",\"#B0BEC5\",\"#B0BEC5\",\"#B0BEC5\",\"#B0BEC5\",\"#B0BEC5\",\"#B0BEC5\",\"#B0BEC5\",\"#B0BEC5\",\"#B0BEC5\",\"#B0BEC5\",\"#B0BEC5\",\"#B0BEC5\",\"#B0BEC5\",\"#B0BEC5\",\"#B0BEC5\",\"#B0BEC5\",\"#B0BEC5\",\"#B0BEC5\",\"#B0BEC5\",\"#B0BEC5\",\"#B0BEC5\",\"#B0BEC5\",\"#B0BEC5\",\"#B0BEC5\",\"#B0BEC5\",\"#B0BEC5\",\"#B0BEC5\",\"#B0BEC5\",\"#B0BEC5\",\"#B0BEC5\",\"#B0BEC5\",\"#B0BEC5\",\"#B0BEC5\",\"#B0BEC5\",\"#B0BEC5\"]]}],\"label\":\"Topic 1\",\"method\":\"update\"},{\"args\":[{\"marker.color\":[[\"#B0BEC5\",\"#B0BEC5\",\"red\",\"#B0BEC5\",\"#B0BEC5\",\"#B0BEC5\",\"#B0BEC5\",\"#B0BEC5\",\"#B0BEC5\",\"#B0BEC5\",\"#B0BEC5\",\"#B0BEC5\",\"#B0BEC5\",\"#B0BEC5\",\"#B0BEC5\",\"#B0BEC5\",\"#B0BEC5\",\"#B0BEC5\",\"#B0BEC5\",\"#B0BEC5\",\"#B0BEC5\",\"#B0BEC5\",\"#B0BEC5\",\"#B0BEC5\",\"#B0BEC5\",\"#B0BEC5\",\"#B0BEC5\",\"#B0BEC5\",\"#B0BEC5\",\"#B0BEC5\",\"#B0BEC5\",\"#B0BEC5\",\"#B0BEC5\",\"#B0BEC5\",\"#B0BEC5\",\"#B0BEC5\",\"#B0BEC5\",\"#B0BEC5\",\"#B0BEC5\",\"#B0BEC5\",\"#B0BEC5\",\"#B0BEC5\",\"#B0BEC5\",\"#B0BEC5\",\"#B0BEC5\",\"#B0BEC5\",\"#B0BEC5\",\"#B0BEC5\",\"#B0BEC5\",\"#B0BEC5\",\"#B0BEC5\",\"#B0BEC5\",\"#B0BEC5\"]]}],\"label\":\"Topic 2\",\"method\":\"update\"},{\"args\":[{\"marker.color\":[[\"#B0BEC5\",\"#B0BEC5\",\"#B0BEC5\",\"red\",\"#B0BEC5\",\"#B0BEC5\",\"#B0BEC5\",\"#B0BEC5\",\"#B0BEC5\",\"#B0BEC5\",\"#B0BEC5\",\"#B0BEC5\",\"#B0BEC5\",\"#B0BEC5\",\"#B0BEC5\",\"#B0BEC5\",\"#B0BEC5\",\"#B0BEC5\",\"#B0BEC5\",\"#B0BEC5\",\"#B0BEC5\",\"#B0BEC5\",\"#B0BEC5\",\"#B0BEC5\",\"#B0BEC5\",\"#B0BEC5\",\"#B0BEC5\",\"#B0BEC5\",\"#B0BEC5\",\"#B0BEC5\",\"#B0BEC5\",\"#B0BEC5\",\"#B0BEC5\",\"#B0BEC5\",\"#B0BEC5\",\"#B0BEC5\",\"#B0BEC5\",\"#B0BEC5\",\"#B0BEC5\",\"#B0BEC5\",\"#B0BEC5\",\"#B0BEC5\",\"#B0BEC5\",\"#B0BEC5\",\"#B0BEC5\",\"#B0BEC5\",\"#B0BEC5\",\"#B0BEC5\",\"#B0BEC5\",\"#B0BEC5\",\"#B0BEC5\",\"#B0BEC5\",\"#B0BEC5\"]]}],\"label\":\"Topic 3\",\"method\":\"update\"},{\"args\":[{\"marker.color\":[[\"#B0BEC5\",\"#B0BEC5\",\"#B0BEC5\",\"#B0BEC5\",\"red\",\"#B0BEC5\",\"#B0BEC5\",\"#B0BEC5\",\"#B0BEC5\",\"#B0BEC5\",\"#B0BEC5\",\"#B0BEC5\",\"#B0BEC5\",\"#B0BEC5\",\"#B0BEC5\",\"#B0BEC5\",\"#B0BEC5\",\"#B0BEC5\",\"#B0BEC5\",\"#B0BEC5\",\"#B0BEC5\",\"#B0BEC5\",\"#B0BEC5\",\"#B0BEC5\",\"#B0BEC5\",\"#B0BEC5\",\"#B0BEC5\",\"#B0BEC5\",\"#B0BEC5\",\"#B0BEC5\",\"#B0BEC5\",\"#B0BEC5\",\"#B0BEC5\",\"#B0BEC5\",\"#B0BEC5\",\"#B0BEC5\",\"#B0BEC5\",\"#B0BEC5\",\"#B0BEC5\",\"#B0BEC5\",\"#B0BEC5\",\"#B0BEC5\",\"#B0BEC5\",\"#B0BEC5\",\"#B0BEC5\",\"#B0BEC5\",\"#B0BEC5\",\"#B0BEC5\",\"#B0BEC5\",\"#B0BEC5\",\"#B0BEC5\",\"#B0BEC5\",\"#B0BEC5\"]]}],\"label\":\"Topic 4\",\"method\":\"update\"},{\"args\":[{\"marker.color\":[[\"#B0BEC5\",\"#B0BEC5\",\"#B0BEC5\",\"#B0BEC5\",\"#B0BEC5\",\"red\",\"#B0BEC5\",\"#B0BEC5\",\"#B0BEC5\",\"#B0BEC5\",\"#B0BEC5\",\"#B0BEC5\",\"#B0BEC5\",\"#B0BEC5\",\"#B0BEC5\",\"#B0BEC5\",\"#B0BEC5\",\"#B0BEC5\",\"#B0BEC5\",\"#B0BEC5\",\"#B0BEC5\",\"#B0BEC5\",\"#B0BEC5\",\"#B0BEC5\",\"#B0BEC5\",\"#B0BEC5\",\"#B0BEC5\",\"#B0BEC5\",\"#B0BEC5\",\"#B0BEC5\",\"#B0BEC5\",\"#B0BEC5\",\"#B0BEC5\",\"#B0BEC5\",\"#B0BEC5\",\"#B0BEC5\",\"#B0BEC5\",\"#B0BEC5\",\"#B0BEC5\",\"#B0BEC5\",\"#B0BEC5\",\"#B0BEC5\",\"#B0BEC5\",\"#B0BEC5\",\"#B0BEC5\",\"#B0BEC5\",\"#B0BEC5\",\"#B0BEC5\",\"#B0BEC5\",\"#B0BEC5\",\"#B0BEC5\",\"#B0BEC5\",\"#B0BEC5\"]]}],\"label\":\"Topic 5\",\"method\":\"update\"},{\"args\":[{\"marker.color\":[[\"#B0BEC5\",\"#B0BEC5\",\"#B0BEC5\",\"#B0BEC5\",\"#B0BEC5\",\"#B0BEC5\",\"red\",\"#B0BEC5\",\"#B0BEC5\",\"#B0BEC5\",\"#B0BEC5\",\"#B0BEC5\",\"#B0BEC5\",\"#B0BEC5\",\"#B0BEC5\",\"#B0BEC5\",\"#B0BEC5\",\"#B0BEC5\",\"#B0BEC5\",\"#B0BEC5\",\"#B0BEC5\",\"#B0BEC5\",\"#B0BEC5\",\"#B0BEC5\",\"#B0BEC5\",\"#B0BEC5\",\"#B0BEC5\",\"#B0BEC5\",\"#B0BEC5\",\"#B0BEC5\",\"#B0BEC5\",\"#B0BEC5\",\"#B0BEC5\",\"#B0BEC5\",\"#B0BEC5\",\"#B0BEC5\",\"#B0BEC5\",\"#B0BEC5\",\"#B0BEC5\",\"#B0BEC5\",\"#B0BEC5\",\"#B0BEC5\",\"#B0BEC5\",\"#B0BEC5\",\"#B0BEC5\",\"#B0BEC5\",\"#B0BEC5\",\"#B0BEC5\",\"#B0BEC5\",\"#B0BEC5\",\"#B0BEC5\",\"#B0BEC5\",\"#B0BEC5\"]]}],\"label\":\"Topic 6\",\"method\":\"update\"},{\"args\":[{\"marker.color\":[[\"#B0BEC5\",\"#B0BEC5\",\"#B0BEC5\",\"#B0BEC5\",\"#B0BEC5\",\"#B0BEC5\",\"#B0BEC5\",\"red\",\"#B0BEC5\",\"#B0BEC5\",\"#B0BEC5\",\"#B0BEC5\",\"#B0BEC5\",\"#B0BEC5\",\"#B0BEC5\",\"#B0BEC5\",\"#B0BEC5\",\"#B0BEC5\",\"#B0BEC5\",\"#B0BEC5\",\"#B0BEC5\",\"#B0BEC5\",\"#B0BEC5\",\"#B0BEC5\",\"#B0BEC5\",\"#B0BEC5\",\"#B0BEC5\",\"#B0BEC5\",\"#B0BEC5\",\"#B0BEC5\",\"#B0BEC5\",\"#B0BEC5\",\"#B0BEC5\",\"#B0BEC5\",\"#B0BEC5\",\"#B0BEC5\",\"#B0BEC5\",\"#B0BEC5\",\"#B0BEC5\",\"#B0BEC5\",\"#B0BEC5\",\"#B0BEC5\",\"#B0BEC5\",\"#B0BEC5\",\"#B0BEC5\",\"#B0BEC5\",\"#B0BEC5\",\"#B0BEC5\",\"#B0BEC5\",\"#B0BEC5\",\"#B0BEC5\",\"#B0BEC5\",\"#B0BEC5\"]]}],\"label\":\"Topic 7\",\"method\":\"update\"},{\"args\":[{\"marker.color\":[[\"#B0BEC5\",\"#B0BEC5\",\"#B0BEC5\",\"#B0BEC5\",\"#B0BEC5\",\"#B0BEC5\",\"#B0BEC5\",\"#B0BEC5\",\"red\",\"#B0BEC5\",\"#B0BEC5\",\"#B0BEC5\",\"#B0BEC5\",\"#B0BEC5\",\"#B0BEC5\",\"#B0BEC5\",\"#B0BEC5\",\"#B0BEC5\",\"#B0BEC5\",\"#B0BEC5\",\"#B0BEC5\",\"#B0BEC5\",\"#B0BEC5\",\"#B0BEC5\",\"#B0BEC5\",\"#B0BEC5\",\"#B0BEC5\",\"#B0BEC5\",\"#B0BEC5\",\"#B0BEC5\",\"#B0BEC5\",\"#B0BEC5\",\"#B0BEC5\",\"#B0BEC5\",\"#B0BEC5\",\"#B0BEC5\",\"#B0BEC5\",\"#B0BEC5\",\"#B0BEC5\",\"#B0BEC5\",\"#B0BEC5\",\"#B0BEC5\",\"#B0BEC5\",\"#B0BEC5\",\"#B0BEC5\",\"#B0BEC5\",\"#B0BEC5\",\"#B0BEC5\",\"#B0BEC5\",\"#B0BEC5\",\"#B0BEC5\",\"#B0BEC5\",\"#B0BEC5\"]]}],\"label\":\"Topic 8\",\"method\":\"update\"},{\"args\":[{\"marker.color\":[[\"#B0BEC5\",\"#B0BEC5\",\"#B0BEC5\",\"#B0BEC5\",\"#B0BEC5\",\"#B0BEC5\",\"#B0BEC5\",\"#B0BEC5\",\"#B0BEC5\",\"red\",\"#B0BEC5\",\"#B0BEC5\",\"#B0BEC5\",\"#B0BEC5\",\"#B0BEC5\",\"#B0BEC5\",\"#B0BEC5\",\"#B0BEC5\",\"#B0BEC5\",\"#B0BEC5\",\"#B0BEC5\",\"#B0BEC5\",\"#B0BEC5\",\"#B0BEC5\",\"#B0BEC5\",\"#B0BEC5\",\"#B0BEC5\",\"#B0BEC5\",\"#B0BEC5\",\"#B0BEC5\",\"#B0BEC5\",\"#B0BEC5\",\"#B0BEC5\",\"#B0BEC5\",\"#B0BEC5\",\"#B0BEC5\",\"#B0BEC5\",\"#B0BEC5\",\"#B0BEC5\",\"#B0BEC5\",\"#B0BEC5\",\"#B0BEC5\",\"#B0BEC5\",\"#B0BEC5\",\"#B0BEC5\",\"#B0BEC5\",\"#B0BEC5\",\"#B0BEC5\",\"#B0BEC5\",\"#B0BEC5\",\"#B0BEC5\",\"#B0BEC5\",\"#B0BEC5\"]]}],\"label\":\"Topic 9\",\"method\":\"update\"},{\"args\":[{\"marker.color\":[[\"#B0BEC5\",\"#B0BEC5\",\"#B0BEC5\",\"#B0BEC5\",\"#B0BEC5\",\"#B0BEC5\",\"#B0BEC5\",\"#B0BEC5\",\"#B0BEC5\",\"#B0BEC5\",\"red\",\"#B0BEC5\",\"#B0BEC5\",\"#B0BEC5\",\"#B0BEC5\",\"#B0BEC5\",\"#B0BEC5\",\"#B0BEC5\",\"#B0BEC5\",\"#B0BEC5\",\"#B0BEC5\",\"#B0BEC5\",\"#B0BEC5\",\"#B0BEC5\",\"#B0BEC5\",\"#B0BEC5\",\"#B0BEC5\",\"#B0BEC5\",\"#B0BEC5\",\"#B0BEC5\",\"#B0BEC5\",\"#B0BEC5\",\"#B0BEC5\",\"#B0BEC5\",\"#B0BEC5\",\"#B0BEC5\",\"#B0BEC5\",\"#B0BEC5\",\"#B0BEC5\",\"#B0BEC5\",\"#B0BEC5\",\"#B0BEC5\",\"#B0BEC5\",\"#B0BEC5\",\"#B0BEC5\",\"#B0BEC5\",\"#B0BEC5\",\"#B0BEC5\",\"#B0BEC5\",\"#B0BEC5\",\"#B0BEC5\",\"#B0BEC5\",\"#B0BEC5\"]]}],\"label\":\"Topic 10\",\"method\":\"update\"},{\"args\":[{\"marker.color\":[[\"#B0BEC5\",\"#B0BEC5\",\"#B0BEC5\",\"#B0BEC5\",\"#B0BEC5\",\"#B0BEC5\",\"#B0BEC5\",\"#B0BEC5\",\"#B0BEC5\",\"#B0BEC5\",\"#B0BEC5\",\"red\",\"#B0BEC5\",\"#B0BEC5\",\"#B0BEC5\",\"#B0BEC5\",\"#B0BEC5\",\"#B0BEC5\",\"#B0BEC5\",\"#B0BEC5\",\"#B0BEC5\",\"#B0BEC5\",\"#B0BEC5\",\"#B0BEC5\",\"#B0BEC5\",\"#B0BEC5\",\"#B0BEC5\",\"#B0BEC5\",\"#B0BEC5\",\"#B0BEC5\",\"#B0BEC5\",\"#B0BEC5\",\"#B0BEC5\",\"#B0BEC5\",\"#B0BEC5\",\"#B0BEC5\",\"#B0BEC5\",\"#B0BEC5\",\"#B0BEC5\",\"#B0BEC5\",\"#B0BEC5\",\"#B0BEC5\",\"#B0BEC5\",\"#B0BEC5\",\"#B0BEC5\",\"#B0BEC5\",\"#B0BEC5\",\"#B0BEC5\",\"#B0BEC5\",\"#B0BEC5\",\"#B0BEC5\",\"#B0BEC5\",\"#B0BEC5\"]]}],\"label\":\"Topic 11\",\"method\":\"update\"},{\"args\":[{\"marker.color\":[[\"#B0BEC5\",\"#B0BEC5\",\"#B0BEC5\",\"#B0BEC5\",\"#B0BEC5\",\"#B0BEC5\",\"#B0BEC5\",\"#B0BEC5\",\"#B0BEC5\",\"#B0BEC5\",\"#B0BEC5\",\"#B0BEC5\",\"red\",\"#B0BEC5\",\"#B0BEC5\",\"#B0BEC5\",\"#B0BEC5\",\"#B0BEC5\",\"#B0BEC5\",\"#B0BEC5\",\"#B0BEC5\",\"#B0BEC5\",\"#B0BEC5\",\"#B0BEC5\",\"#B0BEC5\",\"#B0BEC5\",\"#B0BEC5\",\"#B0BEC5\",\"#B0BEC5\",\"#B0BEC5\",\"#B0BEC5\",\"#B0BEC5\",\"#B0BEC5\",\"#B0BEC5\",\"#B0BEC5\",\"#B0BEC5\",\"#B0BEC5\",\"#B0BEC5\",\"#B0BEC5\",\"#B0BEC5\",\"#B0BEC5\",\"#B0BEC5\",\"#B0BEC5\",\"#B0BEC5\",\"#B0BEC5\",\"#B0BEC5\",\"#B0BEC5\",\"#B0BEC5\",\"#B0BEC5\",\"#B0BEC5\",\"#B0BEC5\",\"#B0BEC5\",\"#B0BEC5\"]]}],\"label\":\"Topic 12\",\"method\":\"update\"},{\"args\":[{\"marker.color\":[[\"#B0BEC5\",\"#B0BEC5\",\"#B0BEC5\",\"#B0BEC5\",\"#B0BEC5\",\"#B0BEC5\",\"#B0BEC5\",\"#B0BEC5\",\"#B0BEC5\",\"#B0BEC5\",\"#B0BEC5\",\"#B0BEC5\",\"#B0BEC5\",\"red\",\"#B0BEC5\",\"#B0BEC5\",\"#B0BEC5\",\"#B0BEC5\",\"#B0BEC5\",\"#B0BEC5\",\"#B0BEC5\",\"#B0BEC5\",\"#B0BEC5\",\"#B0BEC5\",\"#B0BEC5\",\"#B0BEC5\",\"#B0BEC5\",\"#B0BEC5\",\"#B0BEC5\",\"#B0BEC5\",\"#B0BEC5\",\"#B0BEC5\",\"#B0BEC5\",\"#B0BEC5\",\"#B0BEC5\",\"#B0BEC5\",\"#B0BEC5\",\"#B0BEC5\",\"#B0BEC5\",\"#B0BEC5\",\"#B0BEC5\",\"#B0BEC5\",\"#B0BEC5\",\"#B0BEC5\",\"#B0BEC5\",\"#B0BEC5\",\"#B0BEC5\",\"#B0BEC5\",\"#B0BEC5\",\"#B0BEC5\",\"#B0BEC5\",\"#B0BEC5\",\"#B0BEC5\"]]}],\"label\":\"Topic 13\",\"method\":\"update\"},{\"args\":[{\"marker.color\":[[\"#B0BEC5\",\"#B0BEC5\",\"#B0BEC5\",\"#B0BEC5\",\"#B0BEC5\",\"#B0BEC5\",\"#B0BEC5\",\"#B0BEC5\",\"#B0BEC5\",\"#B0BEC5\",\"#B0BEC5\",\"#B0BEC5\",\"#B0BEC5\",\"#B0BEC5\",\"red\",\"#B0BEC5\",\"#B0BEC5\",\"#B0BEC5\",\"#B0BEC5\",\"#B0BEC5\",\"#B0BEC5\",\"#B0BEC5\",\"#B0BEC5\",\"#B0BEC5\",\"#B0BEC5\",\"#B0BEC5\",\"#B0BEC5\",\"#B0BEC5\",\"#B0BEC5\",\"#B0BEC5\",\"#B0BEC5\",\"#B0BEC5\",\"#B0BEC5\",\"#B0BEC5\",\"#B0BEC5\",\"#B0BEC5\",\"#B0BEC5\",\"#B0BEC5\",\"#B0BEC5\",\"#B0BEC5\",\"#B0BEC5\",\"#B0BEC5\",\"#B0BEC5\",\"#B0BEC5\",\"#B0BEC5\",\"#B0BEC5\",\"#B0BEC5\",\"#B0BEC5\",\"#B0BEC5\",\"#B0BEC5\",\"#B0BEC5\",\"#B0BEC5\",\"#B0BEC5\"]]}],\"label\":\"Topic 14\",\"method\":\"update\"},{\"args\":[{\"marker.color\":[[\"#B0BEC5\",\"#B0BEC5\",\"#B0BEC5\",\"#B0BEC5\",\"#B0BEC5\",\"#B0BEC5\",\"#B0BEC5\",\"#B0BEC5\",\"#B0BEC5\",\"#B0BEC5\",\"#B0BEC5\",\"#B0BEC5\",\"#B0BEC5\",\"#B0BEC5\",\"#B0BEC5\",\"red\",\"#B0BEC5\",\"#B0BEC5\",\"#B0BEC5\",\"#B0BEC5\",\"#B0BEC5\",\"#B0BEC5\",\"#B0BEC5\",\"#B0BEC5\",\"#B0BEC5\",\"#B0BEC5\",\"#B0BEC5\",\"#B0BEC5\",\"#B0BEC5\",\"#B0BEC5\",\"#B0BEC5\",\"#B0BEC5\",\"#B0BEC5\",\"#B0BEC5\",\"#B0BEC5\",\"#B0BEC5\",\"#B0BEC5\",\"#B0BEC5\",\"#B0BEC5\",\"#B0BEC5\",\"#B0BEC5\",\"#B0BEC5\",\"#B0BEC5\",\"#B0BEC5\",\"#B0BEC5\",\"#B0BEC5\",\"#B0BEC5\",\"#B0BEC5\",\"#B0BEC5\",\"#B0BEC5\",\"#B0BEC5\",\"#B0BEC5\",\"#B0BEC5\"]]}],\"label\":\"Topic 15\",\"method\":\"update\"},{\"args\":[{\"marker.color\":[[\"#B0BEC5\",\"#B0BEC5\",\"#B0BEC5\",\"#B0BEC5\",\"#B0BEC5\",\"#B0BEC5\",\"#B0BEC5\",\"#B0BEC5\",\"#B0BEC5\",\"#B0BEC5\",\"#B0BEC5\",\"#B0BEC5\",\"#B0BEC5\",\"#B0BEC5\",\"#B0BEC5\",\"#B0BEC5\",\"red\",\"#B0BEC5\",\"#B0BEC5\",\"#B0BEC5\",\"#B0BEC5\",\"#B0BEC5\",\"#B0BEC5\",\"#B0BEC5\",\"#B0BEC5\",\"#B0BEC5\",\"#B0BEC5\",\"#B0BEC5\",\"#B0BEC5\",\"#B0BEC5\",\"#B0BEC5\",\"#B0BEC5\",\"#B0BEC5\",\"#B0BEC5\",\"#B0BEC5\",\"#B0BEC5\",\"#B0BEC5\",\"#B0BEC5\",\"#B0BEC5\",\"#B0BEC5\",\"#B0BEC5\",\"#B0BEC5\",\"#B0BEC5\",\"#B0BEC5\",\"#B0BEC5\",\"#B0BEC5\",\"#B0BEC5\",\"#B0BEC5\",\"#B0BEC5\",\"#B0BEC5\",\"#B0BEC5\",\"#B0BEC5\",\"#B0BEC5\"]]}],\"label\":\"Topic 16\",\"method\":\"update\"},{\"args\":[{\"marker.color\":[[\"#B0BEC5\",\"#B0BEC5\",\"#B0BEC5\",\"#B0BEC5\",\"#B0BEC5\",\"#B0BEC5\",\"#B0BEC5\",\"#B0BEC5\",\"#B0BEC5\",\"#B0BEC5\",\"#B0BEC5\",\"#B0BEC5\",\"#B0BEC5\",\"#B0BEC5\",\"#B0BEC5\",\"#B0BEC5\",\"#B0BEC5\",\"red\",\"#B0BEC5\",\"#B0BEC5\",\"#B0BEC5\",\"#B0BEC5\",\"#B0BEC5\",\"#B0BEC5\",\"#B0BEC5\",\"#B0BEC5\",\"#B0BEC5\",\"#B0BEC5\",\"#B0BEC5\",\"#B0BEC5\",\"#B0BEC5\",\"#B0BEC5\",\"#B0BEC5\",\"#B0BEC5\",\"#B0BEC5\",\"#B0BEC5\",\"#B0BEC5\",\"#B0BEC5\",\"#B0BEC5\",\"#B0BEC5\",\"#B0BEC5\",\"#B0BEC5\",\"#B0BEC5\",\"#B0BEC5\",\"#B0BEC5\",\"#B0BEC5\",\"#B0BEC5\",\"#B0BEC5\",\"#B0BEC5\",\"#B0BEC5\",\"#B0BEC5\",\"#B0BEC5\",\"#B0BEC5\"]]}],\"label\":\"Topic 17\",\"method\":\"update\"},{\"args\":[{\"marker.color\":[[\"#B0BEC5\",\"#B0BEC5\",\"#B0BEC5\",\"#B0BEC5\",\"#B0BEC5\",\"#B0BEC5\",\"#B0BEC5\",\"#B0BEC5\",\"#B0BEC5\",\"#B0BEC5\",\"#B0BEC5\",\"#B0BEC5\",\"#B0BEC5\",\"#B0BEC5\",\"#B0BEC5\",\"#B0BEC5\",\"#B0BEC5\",\"#B0BEC5\",\"red\",\"#B0BEC5\",\"#B0BEC5\",\"#B0BEC5\",\"#B0BEC5\",\"#B0BEC5\",\"#B0BEC5\",\"#B0BEC5\",\"#B0BEC5\",\"#B0BEC5\",\"#B0BEC5\",\"#B0BEC5\",\"#B0BEC5\",\"#B0BEC5\",\"#B0BEC5\",\"#B0BEC5\",\"#B0BEC5\",\"#B0BEC5\",\"#B0BEC5\",\"#B0BEC5\",\"#B0BEC5\",\"#B0BEC5\",\"#B0BEC5\",\"#B0BEC5\",\"#B0BEC5\",\"#B0BEC5\",\"#B0BEC5\",\"#B0BEC5\",\"#B0BEC5\",\"#B0BEC5\",\"#B0BEC5\",\"#B0BEC5\",\"#B0BEC5\",\"#B0BEC5\",\"#B0BEC5\"]]}],\"label\":\"Topic 18\",\"method\":\"update\"},{\"args\":[{\"marker.color\":[[\"#B0BEC5\",\"#B0BEC5\",\"#B0BEC5\",\"#B0BEC5\",\"#B0BEC5\",\"#B0BEC5\",\"#B0BEC5\",\"#B0BEC5\",\"#B0BEC5\",\"#B0BEC5\",\"#B0BEC5\",\"#B0BEC5\",\"#B0BEC5\",\"#B0BEC5\",\"#B0BEC5\",\"#B0BEC5\",\"#B0BEC5\",\"#B0BEC5\",\"#B0BEC5\",\"red\",\"#B0BEC5\",\"#B0BEC5\",\"#B0BEC5\",\"#B0BEC5\",\"#B0BEC5\",\"#B0BEC5\",\"#B0BEC5\",\"#B0BEC5\",\"#B0BEC5\",\"#B0BEC5\",\"#B0BEC5\",\"#B0BEC5\",\"#B0BEC5\",\"#B0BEC5\",\"#B0BEC5\",\"#B0BEC5\",\"#B0BEC5\",\"#B0BEC5\",\"#B0BEC5\",\"#B0BEC5\",\"#B0BEC5\",\"#B0BEC5\",\"#B0BEC5\",\"#B0BEC5\",\"#B0BEC5\",\"#B0BEC5\",\"#B0BEC5\",\"#B0BEC5\",\"#B0BEC5\",\"#B0BEC5\",\"#B0BEC5\",\"#B0BEC5\",\"#B0BEC5\"]]}],\"label\":\"Topic 19\",\"method\":\"update\"},{\"args\":[{\"marker.color\":[[\"#B0BEC5\",\"#B0BEC5\",\"#B0BEC5\",\"#B0BEC5\",\"#B0BEC5\",\"#B0BEC5\",\"#B0BEC5\",\"#B0BEC5\",\"#B0BEC5\",\"#B0BEC5\",\"#B0BEC5\",\"#B0BEC5\",\"#B0BEC5\",\"#B0BEC5\",\"#B0BEC5\",\"#B0BEC5\",\"#B0BEC5\",\"#B0BEC5\",\"#B0BEC5\",\"#B0BEC5\",\"red\",\"#B0BEC5\",\"#B0BEC5\",\"#B0BEC5\",\"#B0BEC5\",\"#B0BEC5\",\"#B0BEC5\",\"#B0BEC5\",\"#B0BEC5\",\"#B0BEC5\",\"#B0BEC5\",\"#B0BEC5\",\"#B0BEC5\",\"#B0BEC5\",\"#B0BEC5\",\"#B0BEC5\",\"#B0BEC5\",\"#B0BEC5\",\"#B0BEC5\",\"#B0BEC5\",\"#B0BEC5\",\"#B0BEC5\",\"#B0BEC5\",\"#B0BEC5\",\"#B0BEC5\",\"#B0BEC5\",\"#B0BEC5\",\"#B0BEC5\",\"#B0BEC5\",\"#B0BEC5\",\"#B0BEC5\",\"#B0BEC5\",\"#B0BEC5\"]]}],\"label\":\"Topic 20\",\"method\":\"update\"},{\"args\":[{\"marker.color\":[[\"#B0BEC5\",\"#B0BEC5\",\"#B0BEC5\",\"#B0BEC5\",\"#B0BEC5\",\"#B0BEC5\",\"#B0BEC5\",\"#B0BEC5\",\"#B0BEC5\",\"#B0BEC5\",\"#B0BEC5\",\"#B0BEC5\",\"#B0BEC5\",\"#B0BEC5\",\"#B0BEC5\",\"#B0BEC5\",\"#B0BEC5\",\"#B0BEC5\",\"#B0BEC5\",\"#B0BEC5\",\"#B0BEC5\",\"red\",\"#B0BEC5\",\"#B0BEC5\",\"#B0BEC5\",\"#B0BEC5\",\"#B0BEC5\",\"#B0BEC5\",\"#B0BEC5\",\"#B0BEC5\",\"#B0BEC5\",\"#B0BEC5\",\"#B0BEC5\",\"#B0BEC5\",\"#B0BEC5\",\"#B0BEC5\",\"#B0BEC5\",\"#B0BEC5\",\"#B0BEC5\",\"#B0BEC5\",\"#B0BEC5\",\"#B0BEC5\",\"#B0BEC5\",\"#B0BEC5\",\"#B0BEC5\",\"#B0BEC5\",\"#B0BEC5\",\"#B0BEC5\",\"#B0BEC5\",\"#B0BEC5\",\"#B0BEC5\",\"#B0BEC5\",\"#B0BEC5\"]]}],\"label\":\"Topic 21\",\"method\":\"update\"},{\"args\":[{\"marker.color\":[[\"#B0BEC5\",\"#B0BEC5\",\"#B0BEC5\",\"#B0BEC5\",\"#B0BEC5\",\"#B0BEC5\",\"#B0BEC5\",\"#B0BEC5\",\"#B0BEC5\",\"#B0BEC5\",\"#B0BEC5\",\"#B0BEC5\",\"#B0BEC5\",\"#B0BEC5\",\"#B0BEC5\",\"#B0BEC5\",\"#B0BEC5\",\"#B0BEC5\",\"#B0BEC5\",\"#B0BEC5\",\"#B0BEC5\",\"#B0BEC5\",\"red\",\"#B0BEC5\",\"#B0BEC5\",\"#B0BEC5\",\"#B0BEC5\",\"#B0BEC5\",\"#B0BEC5\",\"#B0BEC5\",\"#B0BEC5\",\"#B0BEC5\",\"#B0BEC5\",\"#B0BEC5\",\"#B0BEC5\",\"#B0BEC5\",\"#B0BEC5\",\"#B0BEC5\",\"#B0BEC5\",\"#B0BEC5\",\"#B0BEC5\",\"#B0BEC5\",\"#B0BEC5\",\"#B0BEC5\",\"#B0BEC5\",\"#B0BEC5\",\"#B0BEC5\",\"#B0BEC5\",\"#B0BEC5\",\"#B0BEC5\",\"#B0BEC5\",\"#B0BEC5\",\"#B0BEC5\"]]}],\"label\":\"Topic 22\",\"method\":\"update\"},{\"args\":[{\"marker.color\":[[\"#B0BEC5\",\"#B0BEC5\",\"#B0BEC5\",\"#B0BEC5\",\"#B0BEC5\",\"#B0BEC5\",\"#B0BEC5\",\"#B0BEC5\",\"#B0BEC5\",\"#B0BEC5\",\"#B0BEC5\",\"#B0BEC5\",\"#B0BEC5\",\"#B0BEC5\",\"#B0BEC5\",\"#B0BEC5\",\"#B0BEC5\",\"#B0BEC5\",\"#B0BEC5\",\"#B0BEC5\",\"#B0BEC5\",\"#B0BEC5\",\"#B0BEC5\",\"red\",\"#B0BEC5\",\"#B0BEC5\",\"#B0BEC5\",\"#B0BEC5\",\"#B0BEC5\",\"#B0BEC5\",\"#B0BEC5\",\"#B0BEC5\",\"#B0BEC5\",\"#B0BEC5\",\"#B0BEC5\",\"#B0BEC5\",\"#B0BEC5\",\"#B0BEC5\",\"#B0BEC5\",\"#B0BEC5\",\"#B0BEC5\",\"#B0BEC5\",\"#B0BEC5\",\"#B0BEC5\",\"#B0BEC5\",\"#B0BEC5\",\"#B0BEC5\",\"#B0BEC5\",\"#B0BEC5\",\"#B0BEC5\",\"#B0BEC5\",\"#B0BEC5\",\"#B0BEC5\"]]}],\"label\":\"Topic 23\",\"method\":\"update\"},{\"args\":[{\"marker.color\":[[\"#B0BEC5\",\"#B0BEC5\",\"#B0BEC5\",\"#B0BEC5\",\"#B0BEC5\",\"#B0BEC5\",\"#B0BEC5\",\"#B0BEC5\",\"#B0BEC5\",\"#B0BEC5\",\"#B0BEC5\",\"#B0BEC5\",\"#B0BEC5\",\"#B0BEC5\",\"#B0BEC5\",\"#B0BEC5\",\"#B0BEC5\",\"#B0BEC5\",\"#B0BEC5\",\"#B0BEC5\",\"#B0BEC5\",\"#B0BEC5\",\"#B0BEC5\",\"#B0BEC5\",\"red\",\"#B0BEC5\",\"#B0BEC5\",\"#B0BEC5\",\"#B0BEC5\",\"#B0BEC5\",\"#B0BEC5\",\"#B0BEC5\",\"#B0BEC5\",\"#B0BEC5\",\"#B0BEC5\",\"#B0BEC5\",\"#B0BEC5\",\"#B0BEC5\",\"#B0BEC5\",\"#B0BEC5\",\"#B0BEC5\",\"#B0BEC5\",\"#B0BEC5\",\"#B0BEC5\",\"#B0BEC5\",\"#B0BEC5\",\"#B0BEC5\",\"#B0BEC5\",\"#B0BEC5\",\"#B0BEC5\",\"#B0BEC5\",\"#B0BEC5\",\"#B0BEC5\"]]}],\"label\":\"Topic 24\",\"method\":\"update\"},{\"args\":[{\"marker.color\":[[\"#B0BEC5\",\"#B0BEC5\",\"#B0BEC5\",\"#B0BEC5\",\"#B0BEC5\",\"#B0BEC5\",\"#B0BEC5\",\"#B0BEC5\",\"#B0BEC5\",\"#B0BEC5\",\"#B0BEC5\",\"#B0BEC5\",\"#B0BEC5\",\"#B0BEC5\",\"#B0BEC5\",\"#B0BEC5\",\"#B0BEC5\",\"#B0BEC5\",\"#B0BEC5\",\"#B0BEC5\",\"#B0BEC5\",\"#B0BEC5\",\"#B0BEC5\",\"#B0BEC5\",\"#B0BEC5\",\"red\",\"#B0BEC5\",\"#B0BEC5\",\"#B0BEC5\",\"#B0BEC5\",\"#B0BEC5\",\"#B0BEC5\",\"#B0BEC5\",\"#B0BEC5\",\"#B0BEC5\",\"#B0BEC5\",\"#B0BEC5\",\"#B0BEC5\",\"#B0BEC5\",\"#B0BEC5\",\"#B0BEC5\",\"#B0BEC5\",\"#B0BEC5\",\"#B0BEC5\",\"#B0BEC5\",\"#B0BEC5\",\"#B0BEC5\",\"#B0BEC5\",\"#B0BEC5\",\"#B0BEC5\",\"#B0BEC5\",\"#B0BEC5\",\"#B0BEC5\"]]}],\"label\":\"Topic 25\",\"method\":\"update\"},{\"args\":[{\"marker.color\":[[\"#B0BEC5\",\"#B0BEC5\",\"#B0BEC5\",\"#B0BEC5\",\"#B0BEC5\",\"#B0BEC5\",\"#B0BEC5\",\"#B0BEC5\",\"#B0BEC5\",\"#B0BEC5\",\"#B0BEC5\",\"#B0BEC5\",\"#B0BEC5\",\"#B0BEC5\",\"#B0BEC5\",\"#B0BEC5\",\"#B0BEC5\",\"#B0BEC5\",\"#B0BEC5\",\"#B0BEC5\",\"#B0BEC5\",\"#B0BEC5\",\"#B0BEC5\",\"#B0BEC5\",\"#B0BEC5\",\"#B0BEC5\",\"red\",\"#B0BEC5\",\"#B0BEC5\",\"#B0BEC5\",\"#B0BEC5\",\"#B0BEC5\",\"#B0BEC5\",\"#B0BEC5\",\"#B0BEC5\",\"#B0BEC5\",\"#B0BEC5\",\"#B0BEC5\",\"#B0BEC5\",\"#B0BEC5\",\"#B0BEC5\",\"#B0BEC5\",\"#B0BEC5\",\"#B0BEC5\",\"#B0BEC5\",\"#B0BEC5\",\"#B0BEC5\",\"#B0BEC5\",\"#B0BEC5\",\"#B0BEC5\",\"#B0BEC5\",\"#B0BEC5\",\"#B0BEC5\"]]}],\"label\":\"Topic 26\",\"method\":\"update\"},{\"args\":[{\"marker.color\":[[\"#B0BEC5\",\"#B0BEC5\",\"#B0BEC5\",\"#B0BEC5\",\"#B0BEC5\",\"#B0BEC5\",\"#B0BEC5\",\"#B0BEC5\",\"#B0BEC5\",\"#B0BEC5\",\"#B0BEC5\",\"#B0BEC5\",\"#B0BEC5\",\"#B0BEC5\",\"#B0BEC5\",\"#B0BEC5\",\"#B0BEC5\",\"#B0BEC5\",\"#B0BEC5\",\"#B0BEC5\",\"#B0BEC5\",\"#B0BEC5\",\"#B0BEC5\",\"#B0BEC5\",\"#B0BEC5\",\"#B0BEC5\",\"#B0BEC5\",\"red\",\"#B0BEC5\",\"#B0BEC5\",\"#B0BEC5\",\"#B0BEC5\",\"#B0BEC5\",\"#B0BEC5\",\"#B0BEC5\",\"#B0BEC5\",\"#B0BEC5\",\"#B0BEC5\",\"#B0BEC5\",\"#B0BEC5\",\"#B0BEC5\",\"#B0BEC5\",\"#B0BEC5\",\"#B0BEC5\",\"#B0BEC5\",\"#B0BEC5\",\"#B0BEC5\",\"#B0BEC5\",\"#B0BEC5\",\"#B0BEC5\",\"#B0BEC5\",\"#B0BEC5\",\"#B0BEC5\"]]}],\"label\":\"Topic 27\",\"method\":\"update\"},{\"args\":[{\"marker.color\":[[\"#B0BEC5\",\"#B0BEC5\",\"#B0BEC5\",\"#B0BEC5\",\"#B0BEC5\",\"#B0BEC5\",\"#B0BEC5\",\"#B0BEC5\",\"#B0BEC5\",\"#B0BEC5\",\"#B0BEC5\",\"#B0BEC5\",\"#B0BEC5\",\"#B0BEC5\",\"#B0BEC5\",\"#B0BEC5\",\"#B0BEC5\",\"#B0BEC5\",\"#B0BEC5\",\"#B0BEC5\",\"#B0BEC5\",\"#B0BEC5\",\"#B0BEC5\",\"#B0BEC5\",\"#B0BEC5\",\"#B0BEC5\",\"#B0BEC5\",\"#B0BEC5\",\"red\",\"#B0BEC5\",\"#B0BEC5\",\"#B0BEC5\",\"#B0BEC5\",\"#B0BEC5\",\"#B0BEC5\",\"#B0BEC5\",\"#B0BEC5\",\"#B0BEC5\",\"#B0BEC5\",\"#B0BEC5\",\"#B0BEC5\",\"#B0BEC5\",\"#B0BEC5\",\"#B0BEC5\",\"#B0BEC5\",\"#B0BEC5\",\"#B0BEC5\",\"#B0BEC5\",\"#B0BEC5\",\"#B0BEC5\",\"#B0BEC5\",\"#B0BEC5\",\"#B0BEC5\"]]}],\"label\":\"Topic 28\",\"method\":\"update\"},{\"args\":[{\"marker.color\":[[\"#B0BEC5\",\"#B0BEC5\",\"#B0BEC5\",\"#B0BEC5\",\"#B0BEC5\",\"#B0BEC5\",\"#B0BEC5\",\"#B0BEC5\",\"#B0BEC5\",\"#B0BEC5\",\"#B0BEC5\",\"#B0BEC5\",\"#B0BEC5\",\"#B0BEC5\",\"#B0BEC5\",\"#B0BEC5\",\"#B0BEC5\",\"#B0BEC5\",\"#B0BEC5\",\"#B0BEC5\",\"#B0BEC5\",\"#B0BEC5\",\"#B0BEC5\",\"#B0BEC5\",\"#B0BEC5\",\"#B0BEC5\",\"#B0BEC5\",\"#B0BEC5\",\"#B0BEC5\",\"red\",\"#B0BEC5\",\"#B0BEC5\",\"#B0BEC5\",\"#B0BEC5\",\"#B0BEC5\",\"#B0BEC5\",\"#B0BEC5\",\"#B0BEC5\",\"#B0BEC5\",\"#B0BEC5\",\"#B0BEC5\",\"#B0BEC5\",\"#B0BEC5\",\"#B0BEC5\",\"#B0BEC5\",\"#B0BEC5\",\"#B0BEC5\",\"#B0BEC5\",\"#B0BEC5\",\"#B0BEC5\",\"#B0BEC5\",\"#B0BEC5\",\"#B0BEC5\"]]}],\"label\":\"Topic 29\",\"method\":\"update\"},{\"args\":[{\"marker.color\":[[\"#B0BEC5\",\"#B0BEC5\",\"#B0BEC5\",\"#B0BEC5\",\"#B0BEC5\",\"#B0BEC5\",\"#B0BEC5\",\"#B0BEC5\",\"#B0BEC5\",\"#B0BEC5\",\"#B0BEC5\",\"#B0BEC5\",\"#B0BEC5\",\"#B0BEC5\",\"#B0BEC5\",\"#B0BEC5\",\"#B0BEC5\",\"#B0BEC5\",\"#B0BEC5\",\"#B0BEC5\",\"#B0BEC5\",\"#B0BEC5\",\"#B0BEC5\",\"#B0BEC5\",\"#B0BEC5\",\"#B0BEC5\",\"#B0BEC5\",\"#B0BEC5\",\"#B0BEC5\",\"#B0BEC5\",\"red\",\"#B0BEC5\",\"#B0BEC5\",\"#B0BEC5\",\"#B0BEC5\",\"#B0BEC5\",\"#B0BEC5\",\"#B0BEC5\",\"#B0BEC5\",\"#B0BEC5\",\"#B0BEC5\",\"#B0BEC5\",\"#B0BEC5\",\"#B0BEC5\",\"#B0BEC5\",\"#B0BEC5\",\"#B0BEC5\",\"#B0BEC5\",\"#B0BEC5\",\"#B0BEC5\",\"#B0BEC5\",\"#B0BEC5\",\"#B0BEC5\"]]}],\"label\":\"Topic 30\",\"method\":\"update\"},{\"args\":[{\"marker.color\":[[\"#B0BEC5\",\"#B0BEC5\",\"#B0BEC5\",\"#B0BEC5\",\"#B0BEC5\",\"#B0BEC5\",\"#B0BEC5\",\"#B0BEC5\",\"#B0BEC5\",\"#B0BEC5\",\"#B0BEC5\",\"#B0BEC5\",\"#B0BEC5\",\"#B0BEC5\",\"#B0BEC5\",\"#B0BEC5\",\"#B0BEC5\",\"#B0BEC5\",\"#B0BEC5\",\"#B0BEC5\",\"#B0BEC5\",\"#B0BEC5\",\"#B0BEC5\",\"#B0BEC5\",\"#B0BEC5\",\"#B0BEC5\",\"#B0BEC5\",\"#B0BEC5\",\"#B0BEC5\",\"#B0BEC5\",\"#B0BEC5\",\"red\",\"#B0BEC5\",\"#B0BEC5\",\"#B0BEC5\",\"#B0BEC5\",\"#B0BEC5\",\"#B0BEC5\",\"#B0BEC5\",\"#B0BEC5\",\"#B0BEC5\",\"#B0BEC5\",\"#B0BEC5\",\"#B0BEC5\",\"#B0BEC5\",\"#B0BEC5\",\"#B0BEC5\",\"#B0BEC5\",\"#B0BEC5\",\"#B0BEC5\",\"#B0BEC5\",\"#B0BEC5\",\"#B0BEC5\"]]}],\"label\":\"Topic 31\",\"method\":\"update\"},{\"args\":[{\"marker.color\":[[\"#B0BEC5\",\"#B0BEC5\",\"#B0BEC5\",\"#B0BEC5\",\"#B0BEC5\",\"#B0BEC5\",\"#B0BEC5\",\"#B0BEC5\",\"#B0BEC5\",\"#B0BEC5\",\"#B0BEC5\",\"#B0BEC5\",\"#B0BEC5\",\"#B0BEC5\",\"#B0BEC5\",\"#B0BEC5\",\"#B0BEC5\",\"#B0BEC5\",\"#B0BEC5\",\"#B0BEC5\",\"#B0BEC5\",\"#B0BEC5\",\"#B0BEC5\",\"#B0BEC5\",\"#B0BEC5\",\"#B0BEC5\",\"#B0BEC5\",\"#B0BEC5\",\"#B0BEC5\",\"#B0BEC5\",\"#B0BEC5\",\"#B0BEC5\",\"red\",\"#B0BEC5\",\"#B0BEC5\",\"#B0BEC5\",\"#B0BEC5\",\"#B0BEC5\",\"#B0BEC5\",\"#B0BEC5\",\"#B0BEC5\",\"#B0BEC5\",\"#B0BEC5\",\"#B0BEC5\",\"#B0BEC5\",\"#B0BEC5\",\"#B0BEC5\",\"#B0BEC5\",\"#B0BEC5\",\"#B0BEC5\",\"#B0BEC5\",\"#B0BEC5\",\"#B0BEC5\"]]}],\"label\":\"Topic 32\",\"method\":\"update\"},{\"args\":[{\"marker.color\":[[\"#B0BEC5\",\"#B0BEC5\",\"#B0BEC5\",\"#B0BEC5\",\"#B0BEC5\",\"#B0BEC5\",\"#B0BEC5\",\"#B0BEC5\",\"#B0BEC5\",\"#B0BEC5\",\"#B0BEC5\",\"#B0BEC5\",\"#B0BEC5\",\"#B0BEC5\",\"#B0BEC5\",\"#B0BEC5\",\"#B0BEC5\",\"#B0BEC5\",\"#B0BEC5\",\"#B0BEC5\",\"#B0BEC5\",\"#B0BEC5\",\"#B0BEC5\",\"#B0BEC5\",\"#B0BEC5\",\"#B0BEC5\",\"#B0BEC5\",\"#B0BEC5\",\"#B0BEC5\",\"#B0BEC5\",\"#B0BEC5\",\"#B0BEC5\",\"#B0BEC5\",\"red\",\"#B0BEC5\",\"#B0BEC5\",\"#B0BEC5\",\"#B0BEC5\",\"#B0BEC5\",\"#B0BEC5\",\"#B0BEC5\",\"#B0BEC5\",\"#B0BEC5\",\"#B0BEC5\",\"#B0BEC5\",\"#B0BEC5\",\"#B0BEC5\",\"#B0BEC5\",\"#B0BEC5\",\"#B0BEC5\",\"#B0BEC5\",\"#B0BEC5\",\"#B0BEC5\"]]}],\"label\":\"Topic 33\",\"method\":\"update\"},{\"args\":[{\"marker.color\":[[\"#B0BEC5\",\"#B0BEC5\",\"#B0BEC5\",\"#B0BEC5\",\"#B0BEC5\",\"#B0BEC5\",\"#B0BEC5\",\"#B0BEC5\",\"#B0BEC5\",\"#B0BEC5\",\"#B0BEC5\",\"#B0BEC5\",\"#B0BEC5\",\"#B0BEC5\",\"#B0BEC5\",\"#B0BEC5\",\"#B0BEC5\",\"#B0BEC5\",\"#B0BEC5\",\"#B0BEC5\",\"#B0BEC5\",\"#B0BEC5\",\"#B0BEC5\",\"#B0BEC5\",\"#B0BEC5\",\"#B0BEC5\",\"#B0BEC5\",\"#B0BEC5\",\"#B0BEC5\",\"#B0BEC5\",\"#B0BEC5\",\"#B0BEC5\",\"#B0BEC5\",\"#B0BEC5\",\"red\",\"#B0BEC5\",\"#B0BEC5\",\"#B0BEC5\",\"#B0BEC5\",\"#B0BEC5\",\"#B0BEC5\",\"#B0BEC5\",\"#B0BEC5\",\"#B0BEC5\",\"#B0BEC5\",\"#B0BEC5\",\"#B0BEC5\",\"#B0BEC5\",\"#B0BEC5\",\"#B0BEC5\",\"#B0BEC5\",\"#B0BEC5\",\"#B0BEC5\"]]}],\"label\":\"Topic 34\",\"method\":\"update\"},{\"args\":[{\"marker.color\":[[\"#B0BEC5\",\"#B0BEC5\",\"#B0BEC5\",\"#B0BEC5\",\"#B0BEC5\",\"#B0BEC5\",\"#B0BEC5\",\"#B0BEC5\",\"#B0BEC5\",\"#B0BEC5\",\"#B0BEC5\",\"#B0BEC5\",\"#B0BEC5\",\"#B0BEC5\",\"#B0BEC5\",\"#B0BEC5\",\"#B0BEC5\",\"#B0BEC5\",\"#B0BEC5\",\"#B0BEC5\",\"#B0BEC5\",\"#B0BEC5\",\"#B0BEC5\",\"#B0BEC5\",\"#B0BEC5\",\"#B0BEC5\",\"#B0BEC5\",\"#B0BEC5\",\"#B0BEC5\",\"#B0BEC5\",\"#B0BEC5\",\"#B0BEC5\",\"#B0BEC5\",\"#B0BEC5\",\"#B0BEC5\",\"red\",\"#B0BEC5\",\"#B0BEC5\",\"#B0BEC5\",\"#B0BEC5\",\"#B0BEC5\",\"#B0BEC5\",\"#B0BEC5\",\"#B0BEC5\",\"#B0BEC5\",\"#B0BEC5\",\"#B0BEC5\",\"#B0BEC5\",\"#B0BEC5\",\"#B0BEC5\",\"#B0BEC5\",\"#B0BEC5\",\"#B0BEC5\"]]}],\"label\":\"Topic 35\",\"method\":\"update\"},{\"args\":[{\"marker.color\":[[\"#B0BEC5\",\"#B0BEC5\",\"#B0BEC5\",\"#B0BEC5\",\"#B0BEC5\",\"#B0BEC5\",\"#B0BEC5\",\"#B0BEC5\",\"#B0BEC5\",\"#B0BEC5\",\"#B0BEC5\",\"#B0BEC5\",\"#B0BEC5\",\"#B0BEC5\",\"#B0BEC5\",\"#B0BEC5\",\"#B0BEC5\",\"#B0BEC5\",\"#B0BEC5\",\"#B0BEC5\",\"#B0BEC5\",\"#B0BEC5\",\"#B0BEC5\",\"#B0BEC5\",\"#B0BEC5\",\"#B0BEC5\",\"#B0BEC5\",\"#B0BEC5\",\"#B0BEC5\",\"#B0BEC5\",\"#B0BEC5\",\"#B0BEC5\",\"#B0BEC5\",\"#B0BEC5\",\"#B0BEC5\",\"#B0BEC5\",\"red\",\"#B0BEC5\",\"#B0BEC5\",\"#B0BEC5\",\"#B0BEC5\",\"#B0BEC5\",\"#B0BEC5\",\"#B0BEC5\",\"#B0BEC5\",\"#B0BEC5\",\"#B0BEC5\",\"#B0BEC5\",\"#B0BEC5\",\"#B0BEC5\",\"#B0BEC5\",\"#B0BEC5\",\"#B0BEC5\"]]}],\"label\":\"Topic 36\",\"method\":\"update\"},{\"args\":[{\"marker.color\":[[\"#B0BEC5\",\"#B0BEC5\",\"#B0BEC5\",\"#B0BEC5\",\"#B0BEC5\",\"#B0BEC5\",\"#B0BEC5\",\"#B0BEC5\",\"#B0BEC5\",\"#B0BEC5\",\"#B0BEC5\",\"#B0BEC5\",\"#B0BEC5\",\"#B0BEC5\",\"#B0BEC5\",\"#B0BEC5\",\"#B0BEC5\",\"#B0BEC5\",\"#B0BEC5\",\"#B0BEC5\",\"#B0BEC5\",\"#B0BEC5\",\"#B0BEC5\",\"#B0BEC5\",\"#B0BEC5\",\"#B0BEC5\",\"#B0BEC5\",\"#B0BEC5\",\"#B0BEC5\",\"#B0BEC5\",\"#B0BEC5\",\"#B0BEC5\",\"#B0BEC5\",\"#B0BEC5\",\"#B0BEC5\",\"#B0BEC5\",\"#B0BEC5\",\"red\",\"#B0BEC5\",\"#B0BEC5\",\"#B0BEC5\",\"#B0BEC5\",\"#B0BEC5\",\"#B0BEC5\",\"#B0BEC5\",\"#B0BEC5\",\"#B0BEC5\",\"#B0BEC5\",\"#B0BEC5\",\"#B0BEC5\",\"#B0BEC5\",\"#B0BEC5\",\"#B0BEC5\"]]}],\"label\":\"Topic 37\",\"method\":\"update\"},{\"args\":[{\"marker.color\":[[\"#B0BEC5\",\"#B0BEC5\",\"#B0BEC5\",\"#B0BEC5\",\"#B0BEC5\",\"#B0BEC5\",\"#B0BEC5\",\"#B0BEC5\",\"#B0BEC5\",\"#B0BEC5\",\"#B0BEC5\",\"#B0BEC5\",\"#B0BEC5\",\"#B0BEC5\",\"#B0BEC5\",\"#B0BEC5\",\"#B0BEC5\",\"#B0BEC5\",\"#B0BEC5\",\"#B0BEC5\",\"#B0BEC5\",\"#B0BEC5\",\"#B0BEC5\",\"#B0BEC5\",\"#B0BEC5\",\"#B0BEC5\",\"#B0BEC5\",\"#B0BEC5\",\"#B0BEC5\",\"#B0BEC5\",\"#B0BEC5\",\"#B0BEC5\",\"#B0BEC5\",\"#B0BEC5\",\"#B0BEC5\",\"#B0BEC5\",\"#B0BEC5\",\"#B0BEC5\",\"red\",\"#B0BEC5\",\"#B0BEC5\",\"#B0BEC5\",\"#B0BEC5\",\"#B0BEC5\",\"#B0BEC5\",\"#B0BEC5\",\"#B0BEC5\",\"#B0BEC5\",\"#B0BEC5\",\"#B0BEC5\",\"#B0BEC5\",\"#B0BEC5\",\"#B0BEC5\"]]}],\"label\":\"Topic 38\",\"method\":\"update\"},{\"args\":[{\"marker.color\":[[\"#B0BEC5\",\"#B0BEC5\",\"#B0BEC5\",\"#B0BEC5\",\"#B0BEC5\",\"#B0BEC5\",\"#B0BEC5\",\"#B0BEC5\",\"#B0BEC5\",\"#B0BEC5\",\"#B0BEC5\",\"#B0BEC5\",\"#B0BEC5\",\"#B0BEC5\",\"#B0BEC5\",\"#B0BEC5\",\"#B0BEC5\",\"#B0BEC5\",\"#B0BEC5\",\"#B0BEC5\",\"#B0BEC5\",\"#B0BEC5\",\"#B0BEC5\",\"#B0BEC5\",\"#B0BEC5\",\"#B0BEC5\",\"#B0BEC5\",\"#B0BEC5\",\"#B0BEC5\",\"#B0BEC5\",\"#B0BEC5\",\"#B0BEC5\",\"#B0BEC5\",\"#B0BEC5\",\"#B0BEC5\",\"#B0BEC5\",\"#B0BEC5\",\"#B0BEC5\",\"#B0BEC5\",\"red\",\"#B0BEC5\",\"#B0BEC5\",\"#B0BEC5\",\"#B0BEC5\",\"#B0BEC5\",\"#B0BEC5\",\"#B0BEC5\",\"#B0BEC5\",\"#B0BEC5\",\"#B0BEC5\",\"#B0BEC5\",\"#B0BEC5\",\"#B0BEC5\"]]}],\"label\":\"Topic 39\",\"method\":\"update\"},{\"args\":[{\"marker.color\":[[\"#B0BEC5\",\"#B0BEC5\",\"#B0BEC5\",\"#B0BEC5\",\"#B0BEC5\",\"#B0BEC5\",\"#B0BEC5\",\"#B0BEC5\",\"#B0BEC5\",\"#B0BEC5\",\"#B0BEC5\",\"#B0BEC5\",\"#B0BEC5\",\"#B0BEC5\",\"#B0BEC5\",\"#B0BEC5\",\"#B0BEC5\",\"#B0BEC5\",\"#B0BEC5\",\"#B0BEC5\",\"#B0BEC5\",\"#B0BEC5\",\"#B0BEC5\",\"#B0BEC5\",\"#B0BEC5\",\"#B0BEC5\",\"#B0BEC5\",\"#B0BEC5\",\"#B0BEC5\",\"#B0BEC5\",\"#B0BEC5\",\"#B0BEC5\",\"#B0BEC5\",\"#B0BEC5\",\"#B0BEC5\",\"#B0BEC5\",\"#B0BEC5\",\"#B0BEC5\",\"#B0BEC5\",\"#B0BEC5\",\"red\",\"#B0BEC5\",\"#B0BEC5\",\"#B0BEC5\",\"#B0BEC5\",\"#B0BEC5\",\"#B0BEC5\",\"#B0BEC5\",\"#B0BEC5\",\"#B0BEC5\",\"#B0BEC5\",\"#B0BEC5\",\"#B0BEC5\"]]}],\"label\":\"Topic 40\",\"method\":\"update\"},{\"args\":[{\"marker.color\":[[\"#B0BEC5\",\"#B0BEC5\",\"#B0BEC5\",\"#B0BEC5\",\"#B0BEC5\",\"#B0BEC5\",\"#B0BEC5\",\"#B0BEC5\",\"#B0BEC5\",\"#B0BEC5\",\"#B0BEC5\",\"#B0BEC5\",\"#B0BEC5\",\"#B0BEC5\",\"#B0BEC5\",\"#B0BEC5\",\"#B0BEC5\",\"#B0BEC5\",\"#B0BEC5\",\"#B0BEC5\",\"#B0BEC5\",\"#B0BEC5\",\"#B0BEC5\",\"#B0BEC5\",\"#B0BEC5\",\"#B0BEC5\",\"#B0BEC5\",\"#B0BEC5\",\"#B0BEC5\",\"#B0BEC5\",\"#B0BEC5\",\"#B0BEC5\",\"#B0BEC5\",\"#B0BEC5\",\"#B0BEC5\",\"#B0BEC5\",\"#B0BEC5\",\"#B0BEC5\",\"#B0BEC5\",\"#B0BEC5\",\"#B0BEC5\",\"red\",\"#B0BEC5\",\"#B0BEC5\",\"#B0BEC5\",\"#B0BEC5\",\"#B0BEC5\",\"#B0BEC5\",\"#B0BEC5\",\"#B0BEC5\",\"#B0BEC5\",\"#B0BEC5\",\"#B0BEC5\"]]}],\"label\":\"Topic 41\",\"method\":\"update\"},{\"args\":[{\"marker.color\":[[\"#B0BEC5\",\"#B0BEC5\",\"#B0BEC5\",\"#B0BEC5\",\"#B0BEC5\",\"#B0BEC5\",\"#B0BEC5\",\"#B0BEC5\",\"#B0BEC5\",\"#B0BEC5\",\"#B0BEC5\",\"#B0BEC5\",\"#B0BEC5\",\"#B0BEC5\",\"#B0BEC5\",\"#B0BEC5\",\"#B0BEC5\",\"#B0BEC5\",\"#B0BEC5\",\"#B0BEC5\",\"#B0BEC5\",\"#B0BEC5\",\"#B0BEC5\",\"#B0BEC5\",\"#B0BEC5\",\"#B0BEC5\",\"#B0BEC5\",\"#B0BEC5\",\"#B0BEC5\",\"#B0BEC5\",\"#B0BEC5\",\"#B0BEC5\",\"#B0BEC5\",\"#B0BEC5\",\"#B0BEC5\",\"#B0BEC5\",\"#B0BEC5\",\"#B0BEC5\",\"#B0BEC5\",\"#B0BEC5\",\"#B0BEC5\",\"#B0BEC5\",\"red\",\"#B0BEC5\",\"#B0BEC5\",\"#B0BEC5\",\"#B0BEC5\",\"#B0BEC5\",\"#B0BEC5\",\"#B0BEC5\",\"#B0BEC5\",\"#B0BEC5\",\"#B0BEC5\"]]}],\"label\":\"Topic 42\",\"method\":\"update\"},{\"args\":[{\"marker.color\":[[\"#B0BEC5\",\"#B0BEC5\",\"#B0BEC5\",\"#B0BEC5\",\"#B0BEC5\",\"#B0BEC5\",\"#B0BEC5\",\"#B0BEC5\",\"#B0BEC5\",\"#B0BEC5\",\"#B0BEC5\",\"#B0BEC5\",\"#B0BEC5\",\"#B0BEC5\",\"#B0BEC5\",\"#B0BEC5\",\"#B0BEC5\",\"#B0BEC5\",\"#B0BEC5\",\"#B0BEC5\",\"#B0BEC5\",\"#B0BEC5\",\"#B0BEC5\",\"#B0BEC5\",\"#B0BEC5\",\"#B0BEC5\",\"#B0BEC5\",\"#B0BEC5\",\"#B0BEC5\",\"#B0BEC5\",\"#B0BEC5\",\"#B0BEC5\",\"#B0BEC5\",\"#B0BEC5\",\"#B0BEC5\",\"#B0BEC5\",\"#B0BEC5\",\"#B0BEC5\",\"#B0BEC5\",\"#B0BEC5\",\"#B0BEC5\",\"#B0BEC5\",\"#B0BEC5\",\"red\",\"#B0BEC5\",\"#B0BEC5\",\"#B0BEC5\",\"#B0BEC5\",\"#B0BEC5\",\"#B0BEC5\",\"#B0BEC5\",\"#B0BEC5\",\"#B0BEC5\"]]}],\"label\":\"Topic 43\",\"method\":\"update\"},{\"args\":[{\"marker.color\":[[\"#B0BEC5\",\"#B0BEC5\",\"#B0BEC5\",\"#B0BEC5\",\"#B0BEC5\",\"#B0BEC5\",\"#B0BEC5\",\"#B0BEC5\",\"#B0BEC5\",\"#B0BEC5\",\"#B0BEC5\",\"#B0BEC5\",\"#B0BEC5\",\"#B0BEC5\",\"#B0BEC5\",\"#B0BEC5\",\"#B0BEC5\",\"#B0BEC5\",\"#B0BEC5\",\"#B0BEC5\",\"#B0BEC5\",\"#B0BEC5\",\"#B0BEC5\",\"#B0BEC5\",\"#B0BEC5\",\"#B0BEC5\",\"#B0BEC5\",\"#B0BEC5\",\"#B0BEC5\",\"#B0BEC5\",\"#B0BEC5\",\"#B0BEC5\",\"#B0BEC5\",\"#B0BEC5\",\"#B0BEC5\",\"#B0BEC5\",\"#B0BEC5\",\"#B0BEC5\",\"#B0BEC5\",\"#B0BEC5\",\"#B0BEC5\",\"#B0BEC5\",\"#B0BEC5\",\"#B0BEC5\",\"red\",\"#B0BEC5\",\"#B0BEC5\",\"#B0BEC5\",\"#B0BEC5\",\"#B0BEC5\",\"#B0BEC5\",\"#B0BEC5\",\"#B0BEC5\"]]}],\"label\":\"Topic 44\",\"method\":\"update\"},{\"args\":[{\"marker.color\":[[\"#B0BEC5\",\"#B0BEC5\",\"#B0BEC5\",\"#B0BEC5\",\"#B0BEC5\",\"#B0BEC5\",\"#B0BEC5\",\"#B0BEC5\",\"#B0BEC5\",\"#B0BEC5\",\"#B0BEC5\",\"#B0BEC5\",\"#B0BEC5\",\"#B0BEC5\",\"#B0BEC5\",\"#B0BEC5\",\"#B0BEC5\",\"#B0BEC5\",\"#B0BEC5\",\"#B0BEC5\",\"#B0BEC5\",\"#B0BEC5\",\"#B0BEC5\",\"#B0BEC5\",\"#B0BEC5\",\"#B0BEC5\",\"#B0BEC5\",\"#B0BEC5\",\"#B0BEC5\",\"#B0BEC5\",\"#B0BEC5\",\"#B0BEC5\",\"#B0BEC5\",\"#B0BEC5\",\"#B0BEC5\",\"#B0BEC5\",\"#B0BEC5\",\"#B0BEC5\",\"#B0BEC5\",\"#B0BEC5\",\"#B0BEC5\",\"#B0BEC5\",\"#B0BEC5\",\"#B0BEC5\",\"#B0BEC5\",\"red\",\"#B0BEC5\",\"#B0BEC5\",\"#B0BEC5\",\"#B0BEC5\",\"#B0BEC5\",\"#B0BEC5\",\"#B0BEC5\"]]}],\"label\":\"Topic 45\",\"method\":\"update\"},{\"args\":[{\"marker.color\":[[\"#B0BEC5\",\"#B0BEC5\",\"#B0BEC5\",\"#B0BEC5\",\"#B0BEC5\",\"#B0BEC5\",\"#B0BEC5\",\"#B0BEC5\",\"#B0BEC5\",\"#B0BEC5\",\"#B0BEC5\",\"#B0BEC5\",\"#B0BEC5\",\"#B0BEC5\",\"#B0BEC5\",\"#B0BEC5\",\"#B0BEC5\",\"#B0BEC5\",\"#B0BEC5\",\"#B0BEC5\",\"#B0BEC5\",\"#B0BEC5\",\"#B0BEC5\",\"#B0BEC5\",\"#B0BEC5\",\"#B0BEC5\",\"#B0BEC5\",\"#B0BEC5\",\"#B0BEC5\",\"#B0BEC5\",\"#B0BEC5\",\"#B0BEC5\",\"#B0BEC5\",\"#B0BEC5\",\"#B0BEC5\",\"#B0BEC5\",\"#B0BEC5\",\"#B0BEC5\",\"#B0BEC5\",\"#B0BEC5\",\"#B0BEC5\",\"#B0BEC5\",\"#B0BEC5\",\"#B0BEC5\",\"#B0BEC5\",\"#B0BEC5\",\"red\",\"#B0BEC5\",\"#B0BEC5\",\"#B0BEC5\",\"#B0BEC5\",\"#B0BEC5\",\"#B0BEC5\"]]}],\"label\":\"Topic 46\",\"method\":\"update\"},{\"args\":[{\"marker.color\":[[\"#B0BEC5\",\"#B0BEC5\",\"#B0BEC5\",\"#B0BEC5\",\"#B0BEC5\",\"#B0BEC5\",\"#B0BEC5\",\"#B0BEC5\",\"#B0BEC5\",\"#B0BEC5\",\"#B0BEC5\",\"#B0BEC5\",\"#B0BEC5\",\"#B0BEC5\",\"#B0BEC5\",\"#B0BEC5\",\"#B0BEC5\",\"#B0BEC5\",\"#B0BEC5\",\"#B0BEC5\",\"#B0BEC5\",\"#B0BEC5\",\"#B0BEC5\",\"#B0BEC5\",\"#B0BEC5\",\"#B0BEC5\",\"#B0BEC5\",\"#B0BEC5\",\"#B0BEC5\",\"#B0BEC5\",\"#B0BEC5\",\"#B0BEC5\",\"#B0BEC5\",\"#B0BEC5\",\"#B0BEC5\",\"#B0BEC5\",\"#B0BEC5\",\"#B0BEC5\",\"#B0BEC5\",\"#B0BEC5\",\"#B0BEC5\",\"#B0BEC5\",\"#B0BEC5\",\"#B0BEC5\",\"#B0BEC5\",\"#B0BEC5\",\"#B0BEC5\",\"red\",\"#B0BEC5\",\"#B0BEC5\",\"#B0BEC5\",\"#B0BEC5\",\"#B0BEC5\"]]}],\"label\":\"Topic 47\",\"method\":\"update\"},{\"args\":[{\"marker.color\":[[\"#B0BEC5\",\"#B0BEC5\",\"#B0BEC5\",\"#B0BEC5\",\"#B0BEC5\",\"#B0BEC5\",\"#B0BEC5\",\"#B0BEC5\",\"#B0BEC5\",\"#B0BEC5\",\"#B0BEC5\",\"#B0BEC5\",\"#B0BEC5\",\"#B0BEC5\",\"#B0BEC5\",\"#B0BEC5\",\"#B0BEC5\",\"#B0BEC5\",\"#B0BEC5\",\"#B0BEC5\",\"#B0BEC5\",\"#B0BEC5\",\"#B0BEC5\",\"#B0BEC5\",\"#B0BEC5\",\"#B0BEC5\",\"#B0BEC5\",\"#B0BEC5\",\"#B0BEC5\",\"#B0BEC5\",\"#B0BEC5\",\"#B0BEC5\",\"#B0BEC5\",\"#B0BEC5\",\"#B0BEC5\",\"#B0BEC5\",\"#B0BEC5\",\"#B0BEC5\",\"#B0BEC5\",\"#B0BEC5\",\"#B0BEC5\",\"#B0BEC5\",\"#B0BEC5\",\"#B0BEC5\",\"#B0BEC5\",\"#B0BEC5\",\"#B0BEC5\",\"#B0BEC5\",\"red\",\"#B0BEC5\",\"#B0BEC5\",\"#B0BEC5\",\"#B0BEC5\"]]}],\"label\":\"Topic 48\",\"method\":\"update\"},{\"args\":[{\"marker.color\":[[\"#B0BEC5\",\"#B0BEC5\",\"#B0BEC5\",\"#B0BEC5\",\"#B0BEC5\",\"#B0BEC5\",\"#B0BEC5\",\"#B0BEC5\",\"#B0BEC5\",\"#B0BEC5\",\"#B0BEC5\",\"#B0BEC5\",\"#B0BEC5\",\"#B0BEC5\",\"#B0BEC5\",\"#B0BEC5\",\"#B0BEC5\",\"#B0BEC5\",\"#B0BEC5\",\"#B0BEC5\",\"#B0BEC5\",\"#B0BEC5\",\"#B0BEC5\",\"#B0BEC5\",\"#B0BEC5\",\"#B0BEC5\",\"#B0BEC5\",\"#B0BEC5\",\"#B0BEC5\",\"#B0BEC5\",\"#B0BEC5\",\"#B0BEC5\",\"#B0BEC5\",\"#B0BEC5\",\"#B0BEC5\",\"#B0BEC5\",\"#B0BEC5\",\"#B0BEC5\",\"#B0BEC5\",\"#B0BEC5\",\"#B0BEC5\",\"#B0BEC5\",\"#B0BEC5\",\"#B0BEC5\",\"#B0BEC5\",\"#B0BEC5\",\"#B0BEC5\",\"#B0BEC5\",\"#B0BEC5\",\"red\",\"#B0BEC5\",\"#B0BEC5\",\"#B0BEC5\"]]}],\"label\":\"Topic 49\",\"method\":\"update\"},{\"args\":[{\"marker.color\":[[\"#B0BEC5\",\"#B0BEC5\",\"#B0BEC5\",\"#B0BEC5\",\"#B0BEC5\",\"#B0BEC5\",\"#B0BEC5\",\"#B0BEC5\",\"#B0BEC5\",\"#B0BEC5\",\"#B0BEC5\",\"#B0BEC5\",\"#B0BEC5\",\"#B0BEC5\",\"#B0BEC5\",\"#B0BEC5\",\"#B0BEC5\",\"#B0BEC5\",\"#B0BEC5\",\"#B0BEC5\",\"#B0BEC5\",\"#B0BEC5\",\"#B0BEC5\",\"#B0BEC5\",\"#B0BEC5\",\"#B0BEC5\",\"#B0BEC5\",\"#B0BEC5\",\"#B0BEC5\",\"#B0BEC5\",\"#B0BEC5\",\"#B0BEC5\",\"#B0BEC5\",\"#B0BEC5\",\"#B0BEC5\",\"#B0BEC5\",\"#B0BEC5\",\"#B0BEC5\",\"#B0BEC5\",\"#B0BEC5\",\"#B0BEC5\",\"#B0BEC5\",\"#B0BEC5\",\"#B0BEC5\",\"#B0BEC5\",\"#B0BEC5\",\"#B0BEC5\",\"#B0BEC5\",\"#B0BEC5\",\"#B0BEC5\",\"red\",\"#B0BEC5\",\"#B0BEC5\"]]}],\"label\":\"Topic 50\",\"method\":\"update\"},{\"args\":[{\"marker.color\":[[\"#B0BEC5\",\"#B0BEC5\",\"#B0BEC5\",\"#B0BEC5\",\"#B0BEC5\",\"#B0BEC5\",\"#B0BEC5\",\"#B0BEC5\",\"#B0BEC5\",\"#B0BEC5\",\"#B0BEC5\",\"#B0BEC5\",\"#B0BEC5\",\"#B0BEC5\",\"#B0BEC5\",\"#B0BEC5\",\"#B0BEC5\",\"#B0BEC5\",\"#B0BEC5\",\"#B0BEC5\",\"#B0BEC5\",\"#B0BEC5\",\"#B0BEC5\",\"#B0BEC5\",\"#B0BEC5\",\"#B0BEC5\",\"#B0BEC5\",\"#B0BEC5\",\"#B0BEC5\",\"#B0BEC5\",\"#B0BEC5\",\"#B0BEC5\",\"#B0BEC5\",\"#B0BEC5\",\"#B0BEC5\",\"#B0BEC5\",\"#B0BEC5\",\"#B0BEC5\",\"#B0BEC5\",\"#B0BEC5\",\"#B0BEC5\",\"#B0BEC5\",\"#B0BEC5\",\"#B0BEC5\",\"#B0BEC5\",\"#B0BEC5\",\"#B0BEC5\",\"#B0BEC5\",\"#B0BEC5\",\"#B0BEC5\",\"#B0BEC5\",\"red\",\"#B0BEC5\"]]}],\"label\":\"Topic 51\",\"method\":\"update\"},{\"args\":[{\"marker.color\":[[\"#B0BEC5\",\"#B0BEC5\",\"#B0BEC5\",\"#B0BEC5\",\"#B0BEC5\",\"#B0BEC5\",\"#B0BEC5\",\"#B0BEC5\",\"#B0BEC5\",\"#B0BEC5\",\"#B0BEC5\",\"#B0BEC5\",\"#B0BEC5\",\"#B0BEC5\",\"#B0BEC5\",\"#B0BEC5\",\"#B0BEC5\",\"#B0BEC5\",\"#B0BEC5\",\"#B0BEC5\",\"#B0BEC5\",\"#B0BEC5\",\"#B0BEC5\",\"#B0BEC5\",\"#B0BEC5\",\"#B0BEC5\",\"#B0BEC5\",\"#B0BEC5\",\"#B0BEC5\",\"#B0BEC5\",\"#B0BEC5\",\"#B0BEC5\",\"#B0BEC5\",\"#B0BEC5\",\"#B0BEC5\",\"#B0BEC5\",\"#B0BEC5\",\"#B0BEC5\",\"#B0BEC5\",\"#B0BEC5\",\"#B0BEC5\",\"#B0BEC5\",\"#B0BEC5\",\"#B0BEC5\",\"#B0BEC5\",\"#B0BEC5\",\"#B0BEC5\",\"#B0BEC5\",\"#B0BEC5\",\"#B0BEC5\",\"#B0BEC5\",\"#B0BEC5\",\"red\"]]}],\"label\":\"Topic 52\",\"method\":\"update\"}]}],\"shapes\":[{\"line\":{\"color\":\"#CFD8DC\",\"width\":2},\"type\":\"line\",\"x0\":6.409670495986939,\"x1\":6.409670495986939,\"y0\":-12.032521629333496,\"y1\":26.249586582183838},{\"line\":{\"color\":\"#9E9E9E\",\"width\":2},\"type\":\"line\",\"x0\":-9.552895545959473,\"x1\":22.37223653793335,\"y0\":7.108532476425171,\"y1\":7.108532476425171}],\"annotations\":[{\"showarrow\":false,\"text\":\"D1\",\"x\":-9.552895545959473,\"y\":7.108532476425171,\"yshift\":10},{\"showarrow\":false,\"text\":\"D2\",\"x\":6.409670495986939,\"xshift\":10,\"y\":26.249586582183838}]},                        {\"responsive\": true}                    ).then(function(){\n",
              "                            \n",
              "var gd = document.getElementById('1814bab5-f44c-4ae7-a34e-f46f9dd969a1');\n",
              "var x = new MutationObserver(function (mutations, observer) {{\n",
              "        var display = window.getComputedStyle(gd).display;\n",
              "        if (!display || display === 'none') {{\n",
              "            console.log([gd, 'removed!']);\n",
              "            Plotly.purge(gd);\n",
              "            observer.disconnect();\n",
              "        }}\n",
              "}});\n",
              "\n",
              "// Listen for the removal of the full notebook cells\n",
              "var notebookContainer = gd.closest('#notebook-container');\n",
              "if (notebookContainer) {{\n",
              "    x.observe(notebookContainer, {childList: true});\n",
              "}}\n",
              "\n",
              "// Listen for the clearing of the current output cell\n",
              "var outputEl = gd.closest('.output');\n",
              "if (outputEl) {{\n",
              "    x.observe(outputEl, {childList: true});\n",
              "}}\n",
              "\n",
              "                        })                };                            </script>        </div>\n",
              "</body>\n",
              "</html>"
            ]
          },
          "metadata": {}
        }
      ],
      "source": [
        "topic_model.visualize_topics()"
      ]
    },
    {
      "cell_type": "code",
      "execution_count": null,
      "metadata": {
        "tags": [],
        "id": "tYRxjX7hAEN8",
        "colab": {
          "base_uri": "https://localhost:8080/",
          "height": 967
        },
        "outputId": "e1ff3ca1-b3f0-4bf1-c86a-8e6c310aaabf"
      },
      "outputs": [
        {
          "output_type": "display_data",
          "data": {
            "text/html": [
              "<html>\n",
              "<head><meta charset=\"utf-8\" /></head>\n",
              "<body>\n",
              "    <div>            <script src=\"https://cdnjs.cloudflare.com/ajax/libs/mathjax/2.7.5/MathJax.js?config=TeX-AMS-MML_SVG\"></script><script type=\"text/javascript\">if (window.MathJax) {MathJax.Hub.Config({SVG: {font: \"STIX-Web\"}});}</script>                <script type=\"text/javascript\">window.PlotlyConfig = {MathJaxConfig: 'local'};</script>\n",
              "        <script src=\"https://cdn.plot.ly/plotly-2.8.3.min.js\"></script>                <div id=\"5c2455b2-3131-4e01-ad3e-9de50f92b1c0\" class=\"plotly-graph-div\" style=\"height:950px; width:1000px;\"></div>            <script type=\"text/javascript\">                                    window.PLOTLYENV=window.PLOTLYENV || {};                                    if (document.getElementById(\"5c2455b2-3131-4e01-ad3e-9de50f92b1c0\")) {                    Plotly.newPlot(                        \"5c2455b2-3131-4e01-ad3e-9de50f92b1c0\",                        [{\"hoverinfo\":\"text\",\"marker\":{\"color\":\"rgb(61,153,112)\"},\"mode\":\"lines\",\"x\":[0.0,0.5631642391335475,0.5631642391335475,0.0],\"xaxis\":\"x\",\"y\":[-5.0,-5.0,-15.0,-15.0],\"yaxis\":\"y\",\"type\":\"scatter\"},{\"hoverinfo\":\"text\",\"marker\":{\"color\":\"rgb(255,65,54)\"},\"mode\":\"lines\",\"x\":[0.0,0.734379727393881,0.734379727393881,0.0],\"xaxis\":\"x\",\"y\":[-25.0,-25.0,-35.0,-35.0],\"yaxis\":\"y\",\"type\":\"scatter\"},{\"hoverinfo\":\"text\",\"marker\":{\"color\":\"rgb(0,116,217)\"},\"mode\":\"lines\",\"x\":[0.5631642391335475,1.6993772149500448,1.6993772149500448,0.734379727393881],\"xaxis\":\"x\",\"y\":[-10.0,-10.0,-30.0,-30.0],\"yaxis\":\"y\",\"type\":\"scatter\"},{\"hoverinfo\":\"text\",\"marker\":{\"color\":\"rgb(0,116,217)\"},\"mode\":\"lines\",\"x\":[0.0,1.2058105159674921,1.2058105159674921,0.0],\"xaxis\":\"x\",\"y\":[-45.0,-45.0,-55.0,-55.0],\"yaxis\":\"y\",\"type\":\"scatter\"},{\"hoverinfo\":\"text\",\"marker\":{\"color\":\"rgb(0,116,217)\"},\"mode\":\"lines\",\"x\":[0.0,1.1353607267107664,1.1353607267107664,0.0],\"xaxis\":\"x\",\"y\":[-65.0,-65.0,-75.0,-75.0],\"yaxis\":\"y\",\"type\":\"scatter\"},{\"hoverinfo\":\"text\",\"marker\":{\"color\":\"rgb(0,116,217)\"},\"mode\":\"lines\",\"x\":[1.2058105159674921,1.4207127852863928,1.4207127852863928,1.1353607267107664],\"xaxis\":\"x\",\"y\":[-50.0,-50.0,-70.0,-70.0],\"yaxis\":\"y\",\"type\":\"scatter\"},{\"hoverinfo\":\"text\",\"marker\":{\"color\":\"rgb(0,116,217)\"},\"mode\":\"lines\",\"x\":[0.0,1.1856747871748845,1.1856747871748845,0.0],\"xaxis\":\"x\",\"y\":[-85.0,-85.0,-95.0,-95.0],\"yaxis\":\"y\",\"type\":\"scatter\"},{\"hoverinfo\":\"text\",\"marker\":{\"color\":\"rgb(35,205,205)\"},\"mode\":\"lines\",\"x\":[0.0,0.9887169196773192,0.9887169196773192,0.0],\"xaxis\":\"x\",\"y\":[-105.0,-105.0,-115.0,-115.0],\"yaxis\":\"y\",\"type\":\"scatter\"},{\"hoverinfo\":\"text\",\"marker\":{\"color\":\"rgb(0,116,217)\"},\"mode\":\"lines\",\"x\":[1.1856747871748845,1.3178819066473193,1.3178819066473193,0.9887169196773192],\"xaxis\":\"x\",\"y\":[-90.0,-90.0,-110.0,-110.0],\"yaxis\":\"y\",\"type\":\"scatter\"},{\"hoverinfo\":\"text\",\"marker\":{\"color\":\"rgb(0,116,217)\"},\"mode\":\"lines\",\"x\":[0.0,1.1543296736885338,1.1543296736885338,0.0],\"xaxis\":\"x\",\"y\":[-125.0,-125.0,-135.0,-135.0],\"yaxis\":\"y\",\"type\":\"scatter\"},{\"hoverinfo\":\"text\",\"marker\":{\"color\":\"rgb(0,116,217)\"},\"mode\":\"lines\",\"x\":[1.3178819066473193,1.4046541107441202,1.4046541107441202,1.1543296736885338],\"xaxis\":\"x\",\"y\":[-100.0,-100.0,-130.0,-130.0],\"yaxis\":\"y\",\"type\":\"scatter\"},{\"hoverinfo\":\"text\",\"marker\":{\"color\":\"rgb(0,116,217)\"},\"mode\":\"lines\",\"x\":[1.4207127852863928,1.5953162944431112,1.5953162944431112,1.4046541107441202],\"xaxis\":\"x\",\"y\":[-60.0,-60.0,-115.0,-115.0],\"yaxis\":\"y\",\"type\":\"scatter\"},{\"hoverinfo\":\"text\",\"marker\":{\"color\":\"rgb(0,116,217)\"},\"mode\":\"lines\",\"x\":[0.0,1.0131359821994699,1.0131359821994699,0.0],\"xaxis\":\"x\",\"y\":[-145.0,-145.0,-155.0,-155.0],\"yaxis\":\"y\",\"type\":\"scatter\"},{\"hoverinfo\":\"text\",\"marker\":{\"color\":\"rgb(0,116,217)\"},\"mode\":\"lines\",\"x\":[0.0,1.1580073455892268,1.1580073455892268,0.0],\"xaxis\":\"x\",\"y\":[-165.0,-165.0,-175.0,-175.0],\"yaxis\":\"y\",\"type\":\"scatter\"},{\"hoverinfo\":\"text\",\"marker\":{\"color\":\"rgb(0,116,217)\"},\"mode\":\"lines\",\"x\":[1.0131359821994699,1.3205354269914962,1.3205354269914962,1.1580073455892268],\"xaxis\":\"x\",\"y\":[-150.0,-150.0,-170.0,-170.0],\"yaxis\":\"y\",\"type\":\"scatter\"},{\"hoverinfo\":\"text\",\"marker\":{\"color\":\"rgb(133,20,75)\"},\"mode\":\"lines\",\"x\":[0.0,0.9960631988505947,0.9960631988505947,0.0],\"xaxis\":\"x\",\"y\":[-185.0,-185.0,-195.0,-195.0],\"yaxis\":\"y\",\"type\":\"scatter\"},{\"hoverinfo\":\"text\",\"marker\":{\"color\":\"rgb(0,116,217)\"},\"mode\":\"lines\",\"x\":[1.3205354269914962,1.5839422539997778,1.5839422539997778,0.9960631988505947],\"xaxis\":\"x\",\"y\":[-160.0,-160.0,-190.0,-190.0],\"yaxis\":\"y\",\"type\":\"scatter\"},{\"hoverinfo\":\"text\",\"marker\":{\"color\":\"rgb(0,116,217)\"},\"mode\":\"lines\",\"x\":[0.0,1.4312155329976244,1.4312155329976244,0.0],\"xaxis\":\"x\",\"y\":[-205.0,-205.0,-215.0,-215.0],\"yaxis\":\"y\",\"type\":\"scatter\"},{\"hoverinfo\":\"text\",\"marker\":{\"color\":\"rgb(0,116,217)\"},\"mode\":\"lines\",\"x\":[1.4312155329976244,1.437781258066111,1.437781258066111,0.0],\"xaxis\":\"x\",\"y\":[-210.0,-210.0,-225.0,-225.0],\"yaxis\":\"y\",\"type\":\"scatter\"},{\"hoverinfo\":\"text\",\"marker\":{\"color\":\"rgb(0,116,217)\"},\"mode\":\"lines\",\"x\":[0.0,1.371403971000232,1.371403971000232,0.0],\"xaxis\":\"x\",\"y\":[-235.0,-235.0,-245.0,-245.0],\"yaxis\":\"y\",\"type\":\"scatter\"},{\"hoverinfo\":\"text\",\"marker\":{\"color\":\"rgb(0,116,217)\"},\"mode\":\"lines\",\"x\":[1.437781258066111,1.457500513635396,1.457500513635396,1.371403971000232],\"xaxis\":\"x\",\"y\":[-217.5,-217.5,-240.0,-240.0],\"yaxis\":\"y\",\"type\":\"scatter\"},{\"hoverinfo\":\"text\",\"marker\":{\"color\":\"rgb(0,116,217)\"},\"mode\":\"lines\",\"x\":[0.0,1.1981663760773036,1.1981663760773036,0.0],\"xaxis\":\"x\",\"y\":[-255.0,-255.0,-265.0,-265.0],\"yaxis\":\"y\",\"type\":\"scatter\"},{\"hoverinfo\":\"text\",\"marker\":{\"color\":\"rgb(0,116,217)\"},\"mode\":\"lines\",\"x\":[0.0,1.2283484961763462,1.2283484961763462,0.0],\"xaxis\":\"x\",\"y\":[-275.0,-275.0,-285.0,-285.0],\"yaxis\":\"y\",\"type\":\"scatter\"},{\"hoverinfo\":\"text\",\"marker\":{\"color\":\"rgb(0,116,217)\"},\"mode\":\"lines\",\"x\":[0.0,1.29401568088532,1.29401568088532,0.0],\"xaxis\":\"x\",\"y\":[-295.0,-295.0,-305.0,-305.0],\"yaxis\":\"y\",\"type\":\"scatter\"},{\"hoverinfo\":\"text\",\"marker\":{\"color\":\"rgb(0,116,217)\"},\"mode\":\"lines\",\"x\":[1.2283484961763462,1.4421453762910392,1.4421453762910392,1.29401568088532],\"xaxis\":\"x\",\"y\":[-280.0,-280.0,-300.0,-300.0],\"yaxis\":\"y\",\"type\":\"scatter\"},{\"hoverinfo\":\"text\",\"marker\":{\"color\":\"rgb(0,116,217)\"},\"mode\":\"lines\",\"x\":[1.1981663760773036,1.4670715315032306,1.4670715315032306,1.4421453762910392],\"xaxis\":\"x\",\"y\":[-260.0,-260.0,-290.0,-290.0],\"yaxis\":\"y\",\"type\":\"scatter\"},{\"hoverinfo\":\"text\",\"marker\":{\"color\":\"rgb(0,116,217)\"},\"mode\":\"lines\",\"x\":[1.457500513635396,1.6076128856197434,1.6076128856197434,1.4670715315032306],\"xaxis\":\"x\",\"y\":[-228.75,-228.75,-275.0,-275.0],\"yaxis\":\"y\",\"type\":\"scatter\"},{\"hoverinfo\":\"text\",\"marker\":{\"color\":\"rgb(0,116,217)\"},\"mode\":\"lines\",\"x\":[1.5839422539997778,1.844932405019165,1.844932405019165,1.6076128856197434],\"xaxis\":\"x\",\"y\":[-175.0,-175.0,-251.875,-251.875],\"yaxis\":\"y\",\"type\":\"scatter\"},{\"hoverinfo\":\"text\",\"marker\":{\"color\":\"rgb(0,116,217)\"},\"mode\":\"lines\",\"x\":[0.0,1.0927145491193284,1.0927145491193284,0.0],\"xaxis\":\"x\",\"y\":[-325.0,-325.0,-335.0,-335.0],\"yaxis\":\"y\",\"type\":\"scatter\"},{\"hoverinfo\":\"text\",\"marker\":{\"color\":\"rgb(0,116,217)\"},\"mode\":\"lines\",\"x\":[0.0,1.193322364827773,1.193322364827773,1.0927145491193284],\"xaxis\":\"x\",\"y\":[-315.0,-315.0,-330.0,-330.0],\"yaxis\":\"y\",\"type\":\"scatter\"},{\"hoverinfo\":\"text\",\"marker\":{\"color\":\"rgb(0,116,217)\"},\"mode\":\"lines\",\"x\":[0.0,1.1128395587322781,1.1128395587322781,0.0],\"xaxis\":\"x\",\"y\":[-345.0,-345.0,-355.0,-355.0],\"yaxis\":\"y\",\"type\":\"scatter\"},{\"hoverinfo\":\"text\",\"marker\":{\"color\":\"rgb(0,116,217)\"},\"mode\":\"lines\",\"x\":[0.0,1.209397389640211,1.209397389640211,0.0],\"xaxis\":\"x\",\"y\":[-375.0,-375.0,-385.0,-385.0],\"yaxis\":\"y\",\"type\":\"scatter\"},{\"hoverinfo\":\"text\",\"marker\":{\"color\":\"rgb(0,116,217)\"},\"mode\":\"lines\",\"x\":[0.0,1.2324872777407996,1.2324872777407996,1.209397389640211],\"xaxis\":\"x\",\"y\":[-365.0,-365.0,-380.0,-380.0],\"yaxis\":\"y\",\"type\":\"scatter\"},{\"hoverinfo\":\"text\",\"marker\":{\"color\":\"rgb(0,116,217)\"},\"mode\":\"lines\",\"x\":[1.1128395587322781,1.367004100994621,1.367004100994621,1.2324872777407996],\"xaxis\":\"x\",\"y\":[-350.0,-350.0,-372.5,-372.5],\"yaxis\":\"y\",\"type\":\"scatter\"},{\"hoverinfo\":\"text\",\"marker\":{\"color\":\"rgb(0,116,217)\"},\"mode\":\"lines\",\"x\":[0.0,1.0997051953150443,1.0997051953150443,0.0],\"xaxis\":\"x\",\"y\":[-395.0,-395.0,-405.0,-405.0],\"yaxis\":\"y\",\"type\":\"scatter\"},{\"hoverinfo\":\"text\",\"marker\":{\"color\":\"rgb(0,116,217)\"},\"mode\":\"lines\",\"x\":[0.0,1.1559410958001863,1.1559410958001863,0.0],\"xaxis\":\"x\",\"y\":[-415.0,-415.0,-425.0,-425.0],\"yaxis\":\"y\",\"type\":\"scatter\"},{\"hoverinfo\":\"text\",\"marker\":{\"color\":\"rgb(0,116,217)\"},\"mode\":\"lines\",\"x\":[1.1559410958001863,1.2751454785659582,1.2751454785659582,0.0],\"xaxis\":\"x\",\"y\":[-420.0,-420.0,-435.0,-435.0],\"yaxis\":\"y\",\"type\":\"scatter\"},{\"hoverinfo\":\"text\",\"marker\":{\"color\":\"rgb(0,116,217)\"},\"mode\":\"lines\",\"x\":[1.0997051953150443,1.355563645818345,1.355563645818345,1.2751454785659582],\"xaxis\":\"x\",\"y\":[-400.0,-400.0,-427.5,-427.5],\"yaxis\":\"y\",\"type\":\"scatter\"},{\"hoverinfo\":\"text\",\"marker\":{\"color\":\"rgb(0,116,217)\"},\"mode\":\"lines\",\"x\":[1.367004100994621,1.4550891242686472,1.4550891242686472,1.355563645818345],\"xaxis\":\"x\",\"y\":[-361.25,-361.25,-413.75,-413.75],\"yaxis\":\"y\",\"type\":\"scatter\"},{\"hoverinfo\":\"text\",\"marker\":{\"color\":\"rgb(0,116,217)\"},\"mode\":\"lines\",\"x\":[1.193322364827773,1.6170319957244732,1.6170319957244732,1.4550891242686472],\"xaxis\":\"x\",\"y\":[-322.5,-322.5,-387.5,-387.5],\"yaxis\":\"y\",\"type\":\"scatter\"},{\"hoverinfo\":\"text\",\"marker\":{\"color\":\"rgb(255,220,0)\"},\"mode\":\"lines\",\"x\":[0.0,0.9347932161205847,0.9347932161205847,0.0],\"xaxis\":\"x\",\"y\":[-445.0,-445.0,-455.0,-455.0],\"yaxis\":\"y\",\"type\":\"scatter\"},{\"hoverinfo\":\"text\",\"marker\":{\"color\":\"rgb(0,116,217)\"},\"mode\":\"lines\",\"x\":[1.6170319957244732,1.7313023237823675,1.7313023237823675,0.9347932161205847],\"xaxis\":\"x\",\"y\":[-355.0,-355.0,-450.0,-450.0],\"yaxis\":\"y\",\"type\":\"scatter\"},{\"hoverinfo\":\"text\",\"marker\":{\"color\":\"rgb(0,116,217)\"},\"mode\":\"lines\",\"x\":[1.844932405019165,2.0316678290827856,2.0316678290827856,1.7313023237823675],\"xaxis\":\"x\",\"y\":[-213.4375,-213.4375,-402.5,-402.5],\"yaxis\":\"y\",\"type\":\"scatter\"},{\"hoverinfo\":\"text\",\"marker\":{\"color\":\"rgb(40,35,35)\"},\"mode\":\"lines\",\"x\":[0.0,0.7400152664268563,0.7400152664268563,0.0],\"xaxis\":\"x\",\"y\":[-465.0,-465.0,-475.0,-475.0],\"yaxis\":\"y\",\"type\":\"scatter\"},{\"hoverinfo\":\"text\",\"marker\":{\"color\":\"rgb(61,153,112)\"},\"mode\":\"lines\",\"x\":[0.0,0.8141673623249592,0.8141673623249592,0.0],\"xaxis\":\"x\",\"y\":[-485.0,-485.0,-495.0,-495.0],\"yaxis\":\"y\",\"type\":\"scatter\"},{\"hoverinfo\":\"text\",\"marker\":{\"color\":\"rgb(0,116,217)\"},\"mode\":\"lines\",\"x\":[0.7400152664268563,1.830961771178661,1.830961771178661,0.8141673623249592],\"xaxis\":\"x\",\"y\":[-470.0,-470.0,-490.0,-490.0],\"yaxis\":\"y\",\"type\":\"scatter\"},{\"hoverinfo\":\"text\",\"marker\":{\"color\":\"rgb(0,116,217)\"},\"mode\":\"lines\",\"x\":[2.0316678290827856,2.0946778168833338,2.0946778168833338,1.830961771178661],\"xaxis\":\"x\",\"y\":[-307.96875,-307.96875,-480.0,-480.0],\"yaxis\":\"y\",\"type\":\"scatter\"},{\"hoverinfo\":\"text\",\"marker\":{\"color\":\"rgb(0,116,217)\"},\"mode\":\"lines\",\"x\":[1.5953162944431112,2.415319858647234,2.415319858647234,2.0946778168833338],\"xaxis\":\"x\",\"y\":[-87.5,-87.5,-393.984375,-393.984375],\"yaxis\":\"y\",\"type\":\"scatter\"},{\"hoverinfo\":\"text\",\"marker\":{\"color\":\"rgb(0,116,217)\"},\"mode\":\"lines\",\"x\":[1.6993772149500448,2.8709786466368805,2.8709786466368805,2.415319858647234],\"xaxis\":\"x\",\"y\":[-20.0,-20.0,-240.7421875,-240.7421875],\"yaxis\":\"y\",\"type\":\"scatter\"}],                        {\"autosize\":false,\"height\":950,\"hovermode\":\"closest\",\"showlegend\":false,\"width\":1000,\"xaxis\":{\"mirror\":\"allticks\",\"rangemode\":\"tozero\",\"showgrid\":false,\"showline\":true,\"showticklabels\":true,\"ticks\":\"outside\",\"type\":\"linear\",\"zeroline\":false},\"yaxis\":{\"mirror\":\"allticks\",\"rangemode\":\"tozero\",\"showgrid\":false,\"showline\":true,\"showticklabels\":true,\"tickmode\":\"array\",\"ticks\":\"outside\",\"ticktext\":[\"30_thank_franklin_thanks\",\"0_thank_kag_2020\",\"39_maga_thank_pennsylvania\",\"48_maga_soon_see\",\"9_pennsylvania_wisconsin_ohio\",\"21_america_make_get\",\"47_louisiana_governor_edwards\",\"1_endorsement_complete_total\",\"40_job_amazing_great\",\"46_great_transition_greatness\",\"26_congratulations_great_pr...\",\"6_book_great_congratulations\",\"34_flynn_general_honor\",\"7_honor_god_today\",\"41_coronavirus_countries_te...\",\"37_testing_cases_vaccines\",\"5_china_tariffs_deal\",\"20_fed_reserve_rates\",\"18_best_economy_ever\",\"27_stock_market_record\",\"43_rating_approval_party\",\"24_true_agree_yes\",\"33_interviewed_enjoy_900\",\"49_happy_birthday_day\",\"28_bus_transit_area\",\"35_carolina_north_bishop\",\"44_kim_korea_jong\",\"32_iran_iranian_sanctions\",\"31_isis_turkey_kurds\",\"42_mini_mike_bloomberg\",\"11_ratings_wow_morning\",\"36_hunt_witch_collusion\",\"8_mueller_report_collusion\",\"12_hillary_crooked_clinton\",\"16_harassment_presidential_...\",\"13_trump_donald_president\",\"4_biden_joe_sleepy\",\"3_ballots_election_rigged\",\"29_court_supreme_justices\",\"22_anarchists_guard_portland\",\"15_left_radical_democrats\",\"2_border_wall_southern\",\"10_nancy_pelosi_cryin\",\"17_impeachment_rt_hoax\",\"14_schiff_adam_read\",\"45_whistleblower_call_schiff\",\"23_media_lamestream_fake\",\"25_fake_news_media\",\"19_white_house_news\",\"38_conference_white_house\"],\"tickvals\":[-5.0,-15.0,-25.0,-35.0,-45.0,-55.0,-65.0,-75.0,-85.0,-95.0,-105.0,-115.0,-125.0,-135.0,-145.0,-155.0,-165.0,-175.0,-185.0,-195.0,-205.0,-215.0,-225.0,-235.0,-245.0,-255.0,-265.0,-275.0,-285.0,-295.0,-305.0,-315.0,-325.0,-335.0,-345.0,-355.0,-365.0,-375.0,-385.0,-395.0,-405.0,-415.0,-425.0,-435.0,-445.0,-455.0,-465.0,-475.0,-485.0,-495.0],\"type\":\"linear\",\"zeroline\":false,\"range\":[-500.0,0.0]},\"template\":{\"data\":{\"barpolar\":[{\"marker\":{\"line\":{\"color\":\"white\",\"width\":0.5},\"pattern\":{\"fillmode\":\"overlay\",\"size\":10,\"solidity\":0.2}},\"type\":\"barpolar\"}],\"bar\":[{\"error_x\":{\"color\":\"#2a3f5f\"},\"error_y\":{\"color\":\"#2a3f5f\"},\"marker\":{\"line\":{\"color\":\"white\",\"width\":0.5},\"pattern\":{\"fillmode\":\"overlay\",\"size\":10,\"solidity\":0.2}},\"type\":\"bar\"}],\"carpet\":[{\"aaxis\":{\"endlinecolor\":\"#2a3f5f\",\"gridcolor\":\"#C8D4E3\",\"linecolor\":\"#C8D4E3\",\"minorgridcolor\":\"#C8D4E3\",\"startlinecolor\":\"#2a3f5f\"},\"baxis\":{\"endlinecolor\":\"#2a3f5f\",\"gridcolor\":\"#C8D4E3\",\"linecolor\":\"#C8D4E3\",\"minorgridcolor\":\"#C8D4E3\",\"startlinecolor\":\"#2a3f5f\"},\"type\":\"carpet\"}],\"choropleth\":[{\"colorbar\":{\"outlinewidth\":0,\"ticks\":\"\"},\"type\":\"choropleth\"}],\"contourcarpet\":[{\"colorbar\":{\"outlinewidth\":0,\"ticks\":\"\"},\"type\":\"contourcarpet\"}],\"contour\":[{\"colorbar\":{\"outlinewidth\":0,\"ticks\":\"\"},\"colorscale\":[[0.0,\"#0d0887\"],[0.1111111111111111,\"#46039f\"],[0.2222222222222222,\"#7201a8\"],[0.3333333333333333,\"#9c179e\"],[0.4444444444444444,\"#bd3786\"],[0.5555555555555556,\"#d8576b\"],[0.6666666666666666,\"#ed7953\"],[0.7777777777777778,\"#fb9f3a\"],[0.8888888888888888,\"#fdca26\"],[1.0,\"#f0f921\"]],\"type\":\"contour\"}],\"heatmapgl\":[{\"colorbar\":{\"outlinewidth\":0,\"ticks\":\"\"},\"colorscale\":[[0.0,\"#0d0887\"],[0.1111111111111111,\"#46039f\"],[0.2222222222222222,\"#7201a8\"],[0.3333333333333333,\"#9c179e\"],[0.4444444444444444,\"#bd3786\"],[0.5555555555555556,\"#d8576b\"],[0.6666666666666666,\"#ed7953\"],[0.7777777777777778,\"#fb9f3a\"],[0.8888888888888888,\"#fdca26\"],[1.0,\"#f0f921\"]],\"type\":\"heatmapgl\"}],\"heatmap\":[{\"colorbar\":{\"outlinewidth\":0,\"ticks\":\"\"},\"colorscale\":[[0.0,\"#0d0887\"],[0.1111111111111111,\"#46039f\"],[0.2222222222222222,\"#7201a8\"],[0.3333333333333333,\"#9c179e\"],[0.4444444444444444,\"#bd3786\"],[0.5555555555555556,\"#d8576b\"],[0.6666666666666666,\"#ed7953\"],[0.7777777777777778,\"#fb9f3a\"],[0.8888888888888888,\"#fdca26\"],[1.0,\"#f0f921\"]],\"type\":\"heatmap\"}],\"histogram2dcontour\":[{\"colorbar\":{\"outlinewidth\":0,\"ticks\":\"\"},\"colorscale\":[[0.0,\"#0d0887\"],[0.1111111111111111,\"#46039f\"],[0.2222222222222222,\"#7201a8\"],[0.3333333333333333,\"#9c179e\"],[0.4444444444444444,\"#bd3786\"],[0.5555555555555556,\"#d8576b\"],[0.6666666666666666,\"#ed7953\"],[0.7777777777777778,\"#fb9f3a\"],[0.8888888888888888,\"#fdca26\"],[1.0,\"#f0f921\"]],\"type\":\"histogram2dcontour\"}],\"histogram2d\":[{\"colorbar\":{\"outlinewidth\":0,\"ticks\":\"\"},\"colorscale\":[[0.0,\"#0d0887\"],[0.1111111111111111,\"#46039f\"],[0.2222222222222222,\"#7201a8\"],[0.3333333333333333,\"#9c179e\"],[0.4444444444444444,\"#bd3786\"],[0.5555555555555556,\"#d8576b\"],[0.6666666666666666,\"#ed7953\"],[0.7777777777777778,\"#fb9f3a\"],[0.8888888888888888,\"#fdca26\"],[1.0,\"#f0f921\"]],\"type\":\"histogram2d\"}],\"histogram\":[{\"marker\":{\"pattern\":{\"fillmode\":\"overlay\",\"size\":10,\"solidity\":0.2}},\"type\":\"histogram\"}],\"mesh3d\":[{\"colorbar\":{\"outlinewidth\":0,\"ticks\":\"\"},\"type\":\"mesh3d\"}],\"parcoords\":[{\"line\":{\"colorbar\":{\"outlinewidth\":0,\"ticks\":\"\"}},\"type\":\"parcoords\"}],\"pie\":[{\"automargin\":true,\"type\":\"pie\"}],\"scatter3d\":[{\"line\":{\"colorbar\":{\"outlinewidth\":0,\"ticks\":\"\"}},\"marker\":{\"colorbar\":{\"outlinewidth\":0,\"ticks\":\"\"}},\"type\":\"scatter3d\"}],\"scattercarpet\":[{\"marker\":{\"colorbar\":{\"outlinewidth\":0,\"ticks\":\"\"}},\"type\":\"scattercarpet\"}],\"scattergeo\":[{\"marker\":{\"colorbar\":{\"outlinewidth\":0,\"ticks\":\"\"}},\"type\":\"scattergeo\"}],\"scattergl\":[{\"marker\":{\"colorbar\":{\"outlinewidth\":0,\"ticks\":\"\"}},\"type\":\"scattergl\"}],\"scattermapbox\":[{\"marker\":{\"colorbar\":{\"outlinewidth\":0,\"ticks\":\"\"}},\"type\":\"scattermapbox\"}],\"scatterpolargl\":[{\"marker\":{\"colorbar\":{\"outlinewidth\":0,\"ticks\":\"\"}},\"type\":\"scatterpolargl\"}],\"scatterpolar\":[{\"marker\":{\"colorbar\":{\"outlinewidth\":0,\"ticks\":\"\"}},\"type\":\"scatterpolar\"}],\"scatter\":[{\"marker\":{\"colorbar\":{\"outlinewidth\":0,\"ticks\":\"\"}},\"type\":\"scatter\"}],\"scatterternary\":[{\"marker\":{\"colorbar\":{\"outlinewidth\":0,\"ticks\":\"\"}},\"type\":\"scatterternary\"}],\"surface\":[{\"colorbar\":{\"outlinewidth\":0,\"ticks\":\"\"},\"colorscale\":[[0.0,\"#0d0887\"],[0.1111111111111111,\"#46039f\"],[0.2222222222222222,\"#7201a8\"],[0.3333333333333333,\"#9c179e\"],[0.4444444444444444,\"#bd3786\"],[0.5555555555555556,\"#d8576b\"],[0.6666666666666666,\"#ed7953\"],[0.7777777777777778,\"#fb9f3a\"],[0.8888888888888888,\"#fdca26\"],[1.0,\"#f0f921\"]],\"type\":\"surface\"}],\"table\":[{\"cells\":{\"fill\":{\"color\":\"#EBF0F8\"},\"line\":{\"color\":\"white\"}},\"header\":{\"fill\":{\"color\":\"#C8D4E3\"},\"line\":{\"color\":\"white\"}},\"type\":\"table\"}]},\"layout\":{\"annotationdefaults\":{\"arrowcolor\":\"#2a3f5f\",\"arrowhead\":0,\"arrowwidth\":1},\"autotypenumbers\":\"strict\",\"coloraxis\":{\"colorbar\":{\"outlinewidth\":0,\"ticks\":\"\"}},\"colorscale\":{\"diverging\":[[0,\"#8e0152\"],[0.1,\"#c51b7d\"],[0.2,\"#de77ae\"],[0.3,\"#f1b6da\"],[0.4,\"#fde0ef\"],[0.5,\"#f7f7f7\"],[0.6,\"#e6f5d0\"],[0.7,\"#b8e186\"],[0.8,\"#7fbc41\"],[0.9,\"#4d9221\"],[1,\"#276419\"]],\"sequential\":[[0.0,\"#0d0887\"],[0.1111111111111111,\"#46039f\"],[0.2222222222222222,\"#7201a8\"],[0.3333333333333333,\"#9c179e\"],[0.4444444444444444,\"#bd3786\"],[0.5555555555555556,\"#d8576b\"],[0.6666666666666666,\"#ed7953\"],[0.7777777777777778,\"#fb9f3a\"],[0.8888888888888888,\"#fdca26\"],[1.0,\"#f0f921\"]],\"sequentialminus\":[[0.0,\"#0d0887\"],[0.1111111111111111,\"#46039f\"],[0.2222222222222222,\"#7201a8\"],[0.3333333333333333,\"#9c179e\"],[0.4444444444444444,\"#bd3786\"],[0.5555555555555556,\"#d8576b\"],[0.6666666666666666,\"#ed7953\"],[0.7777777777777778,\"#fb9f3a\"],[0.8888888888888888,\"#fdca26\"],[1.0,\"#f0f921\"]]},\"colorway\":[\"#636efa\",\"#EF553B\",\"#00cc96\",\"#ab63fa\",\"#FFA15A\",\"#19d3f3\",\"#FF6692\",\"#B6E880\",\"#FF97FF\",\"#FECB52\"],\"font\":{\"color\":\"#2a3f5f\"},\"geo\":{\"bgcolor\":\"white\",\"lakecolor\":\"white\",\"landcolor\":\"white\",\"showlakes\":true,\"showland\":true,\"subunitcolor\":\"#C8D4E3\"},\"hoverlabel\":{\"align\":\"left\"},\"hovermode\":\"closest\",\"mapbox\":{\"style\":\"light\"},\"paper_bgcolor\":\"white\",\"plot_bgcolor\":\"white\",\"polar\":{\"angularaxis\":{\"gridcolor\":\"#EBF0F8\",\"linecolor\":\"#EBF0F8\",\"ticks\":\"\"},\"bgcolor\":\"white\",\"radialaxis\":{\"gridcolor\":\"#EBF0F8\",\"linecolor\":\"#EBF0F8\",\"ticks\":\"\"}},\"scene\":{\"xaxis\":{\"backgroundcolor\":\"white\",\"gridcolor\":\"#DFE8F3\",\"gridwidth\":2,\"linecolor\":\"#EBF0F8\",\"showbackground\":true,\"ticks\":\"\",\"zerolinecolor\":\"#EBF0F8\"},\"yaxis\":{\"backgroundcolor\":\"white\",\"gridcolor\":\"#DFE8F3\",\"gridwidth\":2,\"linecolor\":\"#EBF0F8\",\"showbackground\":true,\"ticks\":\"\",\"zerolinecolor\":\"#EBF0F8\"},\"zaxis\":{\"backgroundcolor\":\"white\",\"gridcolor\":\"#DFE8F3\",\"gridwidth\":2,\"linecolor\":\"#EBF0F8\",\"showbackground\":true,\"ticks\":\"\",\"zerolinecolor\":\"#EBF0F8\"}},\"shapedefaults\":{\"line\":{\"color\":\"#2a3f5f\"}},\"ternary\":{\"aaxis\":{\"gridcolor\":\"#DFE8F3\",\"linecolor\":\"#A2B1C6\",\"ticks\":\"\"},\"baxis\":{\"gridcolor\":\"#DFE8F3\",\"linecolor\":\"#A2B1C6\",\"ticks\":\"\"},\"bgcolor\":\"white\",\"caxis\":{\"gridcolor\":\"#DFE8F3\",\"linecolor\":\"#A2B1C6\",\"ticks\":\"\"}},\"title\":{\"x\":0.05},\"xaxis\":{\"automargin\":true,\"gridcolor\":\"#EBF0F8\",\"linecolor\":\"#EBF0F8\",\"ticks\":\"\",\"title\":{\"standoff\":15},\"zerolinecolor\":\"#EBF0F8\",\"zerolinewidth\":2},\"yaxis\":{\"automargin\":true,\"gridcolor\":\"#EBF0F8\",\"linecolor\":\"#EBF0F8\",\"ticks\":\"\",\"title\":{\"standoff\":15},\"zerolinecolor\":\"#EBF0F8\",\"zerolinewidth\":2}}},\"title\":{\"font\":{\"size\":22,\"color\":\"Black\"},\"text\":\"<b>Hierarchical Clustering\",\"x\":0.5,\"xanchor\":\"center\",\"yanchor\":\"top\"},\"hoverlabel\":{\"font\":{\"size\":16,\"family\":\"Rockwell\"},\"bgcolor\":\"white\"},\"plot_bgcolor\":\"#ECEFF1\"},                        {\"responsive\": true}                    ).then(function(){\n",
              "                            \n",
              "var gd = document.getElementById('5c2455b2-3131-4e01-ad3e-9de50f92b1c0');\n",
              "var x = new MutationObserver(function (mutations, observer) {{\n",
              "        var display = window.getComputedStyle(gd).display;\n",
              "        if (!display || display === 'none') {{\n",
              "            console.log([gd, 'removed!']);\n",
              "            Plotly.purge(gd);\n",
              "            observer.disconnect();\n",
              "        }}\n",
              "}});\n",
              "\n",
              "// Listen for the removal of the full notebook cells\n",
              "var notebookContainer = gd.closest('#notebook-container');\n",
              "if (notebookContainer) {{\n",
              "    x.observe(notebookContainer, {childList: true});\n",
              "}}\n",
              "\n",
              "// Listen for the clearing of the current output cell\n",
              "var outputEl = gd.closest('.output');\n",
              "if (outputEl) {{\n",
              "    x.observe(outputEl, {childList: true});\n",
              "}}\n",
              "\n",
              "                        })                };                            </script>        </div>\n",
              "</body>\n",
              "</html>"
            ]
          },
          "metadata": {}
        }
      ],
      "source": [
        "topic_model.visualize_hierarchy(top_n_topics=50)"
      ]
    },
    {
      "cell_type": "code",
      "execution_count": null,
      "metadata": {
        "id": "y8-31eHiAEN8",
        "colab": {
          "base_uri": "https://localhost:8080/"
        },
        "outputId": "2b19fdcc-988d-4f1d-9ac1-90468ef00a38"
      },
      "outputs": [
        {
          "output_type": "execute_result",
          "data": {
            "text/plain": [
              "[('thank', 0.44568966633910956),\n",
              " ('kag', 0.14971915224284404),\n",
              " ('2020', 0.12605096552155792),\n",
              " ('honor', 0.06459620926067657),\n",
              " ('nice', 0.05632303728829824),\n",
              " ('great', 0.044960210476473174),\n",
              " ('love', 0.043516230450476284),\n",
              " ('working', 0.02951597792371671),\n",
              " ('hard', 0.0281620272050619),\n",
              " ('dallas', 0.024675182794394714)]"
            ]
          },
          "metadata": {},
          "execution_count": 39
        }
      ],
      "source": [
        "topic_model.get_topic(0)"
      ]
    },
    {
      "cell_type": "code",
      "source": [
        "df4['month'] = df4['month'].astype(datetime)\n"
      ],
      "metadata": {
        "colab": {
          "base_uri": "https://localhost:8080/",
          "height": 165
        },
        "id": "9W4YSSoGIM9k",
        "outputId": "cf61c51d-da55-4b8e-e82c-06fea9d6554c"
      },
      "execution_count": null,
      "outputs": [
        {
          "output_type": "error",
          "ename": "NameError",
          "evalue": "ignored",
          "traceback": [
            "\u001b[0;31m---------------------------------------------------------------------------\u001b[0m",
            "\u001b[0;31mNameError\u001b[0m                                 Traceback (most recent call last)",
            "\u001b[0;32m<ipython-input-88-dddf5db1653e>\u001b[0m in \u001b[0;36m<module>\u001b[0;34m\u001b[0m\n\u001b[0;32m----> 1\u001b[0;31m \u001b[0mdf4\u001b[0m\u001b[0;34m[\u001b[0m\u001b[0;34m'month'\u001b[0m\u001b[0;34m]\u001b[0m \u001b[0;34m=\u001b[0m \u001b[0mdf4\u001b[0m\u001b[0;34m[\u001b[0m\u001b[0;34m'month'\u001b[0m\u001b[0;34m]\u001b[0m\u001b[0;34m.\u001b[0m\u001b[0mastype\u001b[0m\u001b[0;34m(\u001b[0m\u001b[0mdatetime\u001b[0m\u001b[0;34m)\u001b[0m\u001b[0;34m\u001b[0m\u001b[0;34m\u001b[0m\u001b[0m\n\u001b[0m",
            "\u001b[0;31mNameError\u001b[0m: name 'datetime' is not defined"
          ]
        }
      ]
    },
    {
      "cell_type": "code",
      "source": [
        "df4.month\n"
      ],
      "metadata": {
        "colab": {
          "base_uri": "https://localhost:8080/"
        },
        "id": "MIuxdObVKR8g",
        "outputId": "0be54ab3-c99b-4b02-a8da-481740761c5a"
      },
      "execution_count": null,
      "outputs": [
        {
          "output_type": "execute_result",
          "data": {
            "text/plain": [
              "0        1583020800000000000\n",
              "1        1598918400000000000\n",
              "2        1580515200000000000\n",
              "3        1577836800000000000\n",
              "4        1601510400000000000\n",
              "                ...         \n",
              "10119    1575158400000000000\n",
              "10120    1575158400000000000\n",
              "10121    1575158400000000000\n",
              "10122    1601510400000000000\n",
              "10123    1601510400000000000\n",
              "Name: month, Length: 10124, dtype: object"
            ]
          },
          "metadata": {},
          "execution_count": 87
        }
      ]
    },
    {
      "cell_type": "code",
      "execution_count": null,
      "metadata": {
        "id": "fFnd_U1uAEN8"
      },
      "outputs": [],
      "source": [
        "timestamps = df4.month.to_list()\n",
        "tweets = df4.text_clean_token_lemma.to_list()"
      ]
    },
    {
      "cell_type": "code",
      "source": [
        "df4.month = pd.to_numeric(pd.to_datetime(df4.month))"
      ],
      "metadata": {
        "id": "0fRjNUfOIBpv"
      },
      "execution_count": null,
      "outputs": []
    },
    {
      "cell_type": "code",
      "source": [
        "df4.info()"
      ],
      "metadata": {
        "colab": {
          "base_uri": "https://localhost:8080/"
        },
        "id": "JngLsRppJiqz",
        "outputId": "28a5e63f-09b6-46aa-d2d4-a59240b0bd40"
      },
      "execution_count": null,
      "outputs": [
        {
          "output_type": "stream",
          "name": "stdout",
          "text": [
            "<class 'pandas.core.frame.DataFrame'>\n",
            "RangeIndex: 10124 entries, 0 to 10123\n",
            "Data columns (total 6 columns):\n",
            " #   Column                  Non-Null Count  Dtype \n",
            "---  ------                  --------------  ----- \n",
            " 0   text                    10124 non-null  object\n",
            " 1   df_created_at           10124 non-null  object\n",
            " 2   month                   10124 non-null  object\n",
            " 3   text_clean              10124 non-null  object\n",
            " 4   text_clean_token        10124 non-null  object\n",
            " 5   text_clean_token_lemma  10124 non-null  object\n",
            "dtypes: object(6)\n",
            "memory usage: 474.7+ KB\n"
          ]
        }
      ]
    },
    {
      "cell_type": "code",
      "source": [
        "timestamps2 = list(set(timestamps))"
      ],
      "metadata": {
        "id": "_fZV5-bnKbb0"
      },
      "execution_count": null,
      "outputs": []
    },
    {
      "cell_type": "code",
      "execution_count": null,
      "metadata": {
        "id": "OTynEoQzAEN8",
        "colab": {
          "base_uri": "https://localhost:8080/",
          "height": 311
        },
        "outputId": "dd38a31b-2bc3-421a-a892-68d69385a46f"
      },
      "outputs": [
        {
          "output_type": "error",
          "ename": "ValueError",
          "evalue": "ignored",
          "traceback": [
            "\u001b[0;31m---------------------------------------------------------------------------\u001b[0m",
            "\u001b[0;31mValueError\u001b[0m                                Traceback (most recent call last)",
            "\u001b[0;32m<ipython-input-84-541a7d6547f4>\u001b[0m in \u001b[0;36m<module>\u001b[0;34m\u001b[0m\n\u001b[0;32m----> 1\u001b[0;31m \u001b[0mtopics_over_time\u001b[0m \u001b[0;34m=\u001b[0m \u001b[0mtopic_model\u001b[0m\u001b[0;34m.\u001b[0m\u001b[0mtopics_over_time\u001b[0m\u001b[0;34m(\u001b[0m\u001b[0mtweets\u001b[0m\u001b[0;34m,\u001b[0m \u001b[0mtopics\u001b[0m\u001b[0;34m,\u001b[0m \u001b[0mtimestamps\u001b[0m\u001b[0;34m)\u001b[0m\u001b[0;34m\u001b[0m\u001b[0;34m\u001b[0m\u001b[0m\n\u001b[0m",
            "\u001b[0;32m/usr/local/lib/python3.8/dist-packages/bertopic/_bertopic.py\u001b[0m in \u001b[0;36mtopics_over_time\u001b[0;34m(self, docs, timestamps, nr_bins, datetime_format, evolution_tuning, global_tuning)\u001b[0m\n\u001b[1;32m    663\u001b[0m \u001b[0;34m\u001b[0m\u001b[0m\n\u001b[1;32m    664\u001b[0m         \u001b[0;32mif\u001b[0m \u001b[0mnr_bins\u001b[0m\u001b[0;34m:\u001b[0m\u001b[0;34m\u001b[0m\u001b[0;34m\u001b[0m\u001b[0m\n\u001b[0;32m--> 665\u001b[0;31m             \u001b[0mdocuments\u001b[0m\u001b[0;34m[\u001b[0m\u001b[0;34m\"Bins\"\u001b[0m\u001b[0;34m]\u001b[0m \u001b[0;34m=\u001b[0m \u001b[0mpd\u001b[0m\u001b[0;34m.\u001b[0m\u001b[0mcut\u001b[0m\u001b[0;34m(\u001b[0m\u001b[0mdocuments\u001b[0m\u001b[0;34m.\u001b[0m\u001b[0mTimestamps\u001b[0m\u001b[0;34m,\u001b[0m \u001b[0mbins\u001b[0m\u001b[0;34m=\u001b[0m\u001b[0mnr_bins\u001b[0m\u001b[0;34m)\u001b[0m\u001b[0;34m\u001b[0m\u001b[0;34m\u001b[0m\u001b[0m\n\u001b[0m\u001b[1;32m    666\u001b[0m             \u001b[0mdocuments\u001b[0m\u001b[0;34m[\u001b[0m\u001b[0;34m\"Timestamps\"\u001b[0m\u001b[0;34m]\u001b[0m \u001b[0;34m=\u001b[0m \u001b[0mdocuments\u001b[0m\u001b[0;34m.\u001b[0m\u001b[0mapply\u001b[0m\u001b[0;34m(\u001b[0m\u001b[0;32mlambda\u001b[0m \u001b[0mrow\u001b[0m\u001b[0;34m:\u001b[0m \u001b[0mrow\u001b[0m\u001b[0;34m.\u001b[0m\u001b[0mBins\u001b[0m\u001b[0;34m.\u001b[0m\u001b[0mleft\u001b[0m\u001b[0;34m,\u001b[0m \u001b[0;36m1\u001b[0m\u001b[0;34m)\u001b[0m\u001b[0;34m\u001b[0m\u001b[0;34m\u001b[0m\u001b[0m\n\u001b[1;32m    667\u001b[0m \u001b[0;34m\u001b[0m\u001b[0m\n",
            "\u001b[0;32m/usr/local/lib/python3.8/dist-packages/pandas/core/reshape/tile.py\u001b[0m in \u001b[0;36mcut\u001b[0;34m(x, bins, right, labels, retbins, precision, include_lowest, duplicates, ordered)\u001b[0m\n\u001b[1;32m    283\u001b[0m         \u001b[0;31m# GH 26045: cast to float64 to avoid an overflow\u001b[0m\u001b[0;34m\u001b[0m\u001b[0;34m\u001b[0m\u001b[0;34m\u001b[0m\u001b[0m\n\u001b[1;32m    284\u001b[0m         \u001b[0;32mif\u001b[0m \u001b[0;34m(\u001b[0m\u001b[0mnp\u001b[0m\u001b[0;34m.\u001b[0m\u001b[0mdiff\u001b[0m\u001b[0;34m(\u001b[0m\u001b[0mbins\u001b[0m\u001b[0;34m.\u001b[0m\u001b[0mastype\u001b[0m\u001b[0;34m(\u001b[0m\u001b[0;34m\"float64\"\u001b[0m\u001b[0;34m)\u001b[0m\u001b[0;34m)\u001b[0m \u001b[0;34m<\u001b[0m \u001b[0;36m0\u001b[0m\u001b[0;34m)\u001b[0m\u001b[0;34m.\u001b[0m\u001b[0many\u001b[0m\u001b[0;34m(\u001b[0m\u001b[0;34m)\u001b[0m\u001b[0;34m:\u001b[0m\u001b[0;34m\u001b[0m\u001b[0;34m\u001b[0m\u001b[0m\n\u001b[0;32m--> 285\u001b[0;31m             \u001b[0;32mraise\u001b[0m \u001b[0mValueError\u001b[0m\u001b[0;34m(\u001b[0m\u001b[0;34m\"bins must increase monotonically.\"\u001b[0m\u001b[0;34m)\u001b[0m\u001b[0;34m\u001b[0m\u001b[0;34m\u001b[0m\u001b[0m\n\u001b[0m\u001b[1;32m    286\u001b[0m \u001b[0;34m\u001b[0m\u001b[0m\n\u001b[1;32m    287\u001b[0m     fac, bins = _bins_to_cuts(\n",
            "\u001b[0;31mValueError\u001b[0m: bins must increase monotonically."
          ]
        }
      ],
      "source": [
        "topics_over_time = topic_model.topics_over_time(tweets, topics, timestamps)"
      ]
    },
    {
      "cell_type": "code",
      "execution_count": null,
      "metadata": {
        "id": "IMK_jYm0AEN8",
        "colab": {
          "base_uri": "https://localhost:8080/",
          "height": 217
        },
        "outputId": "87b70b57-1438-4344-ee8b-eb96aa70415a"
      },
      "outputs": [
        {
          "output_type": "error",
          "ename": "NameError",
          "evalue": "ignored",
          "traceback": [
            "\u001b[0;31m---------------------------------------------------------------------------\u001b[0m",
            "\u001b[0;31mNameError\u001b[0m                                 Traceback (most recent call last)",
            "\u001b[0;32m<ipython-input-43-5befbe9ec91b>\u001b[0m in \u001b[0;36m<module>\u001b[0;34m\u001b[0m\n\u001b[1;32m      1\u001b[0m topic_model.visualize_topics_over_time(\n\u001b[0;32m----> 2\u001b[0;31m     \u001b[0mtopics_over_time\u001b[0m\u001b[0;34m\u001b[0m\u001b[0;34m\u001b[0m\u001b[0m\n\u001b[0m\u001b[1;32m      3\u001b[0m    \u001b[0;31m# ,top_n_topics=50\u001b[0m\u001b[0;34m\u001b[0m\u001b[0;34m\u001b[0m\u001b[0;34m\u001b[0m\u001b[0m\n\u001b[1;32m      4\u001b[0m     )\n",
            "\u001b[0;31mNameError\u001b[0m: name 'topics_over_time' is not defined"
          ]
        }
      ],
      "source": [
        "topic_model.visualize_topics_over_time(\n",
        "    topics_over_time \n",
        "   # ,top_n_topics=50\n",
        "    )\n"
      ]
    },
    {
      "cell_type": "code",
      "execution_count": null,
      "metadata": {
        "id": "9xFj6W5lAEN9",
        "colab": {
          "base_uri": "https://localhost:8080/",
          "height": 817
        },
        "outputId": "3d064149-8982-41b7-bab6-0f03f8bf414f"
      },
      "outputs": [
        {
          "output_type": "display_data",
          "data": {
            "text/html": [
              "<html>\n",
              "<head><meta charset=\"utf-8\" /></head>\n",
              "<body>\n",
              "    <div>            <script src=\"https://cdnjs.cloudflare.com/ajax/libs/mathjax/2.7.5/MathJax.js?config=TeX-AMS-MML_SVG\"></script><script type=\"text/javascript\">if (window.MathJax) {MathJax.Hub.Config({SVG: {font: \"STIX-Web\"}});}</script>                <script type=\"text/javascript\">window.PlotlyConfig = {MathJaxConfig: 'local'};</script>\n",
              "        <script src=\"https://cdn.plot.ly/plotly-2.8.3.min.js\"></script>                <div id=\"017d497b-19c1-4b23-a72e-c8ebc5fa8116\" class=\"plotly-graph-div\" style=\"height:800px; width:800px;\"></div>            <script type=\"text/javascript\">                                    window.PLOTLYENV=window.PLOTLYENV || {};                                    if (document.getElementById(\"017d497b-19c1-4b23-a72e-c8ebc5fa8116\")) {                    Plotly.newPlot(                        \"017d497b-19c1-4b23-a72e-c8ebc5fa8116\",                        [{\"coloraxis\":\"coloraxis\",\"name\":\"0\",\"x\":[\"0_thank_kag_2020\",\"1_endorsement_complete_total\",\"2_border_wall_southern\",\"3_ballots_election_rigged\",\"4_biden_joe_sleepy\",\"5_china_tariffs_deal\",\"6_book_great_congratulations\",\"7_honor_god_today\",\"8_mueller_report_collusion\",\"9_pennsylvania_wisconsin_ohio\",\"10_nancy_pelosi_cryin\",\"11_ratings_wow_morning\",\"12_hillary_crooked_clinton\",\"13_trump_donald_president\",\"14_schiff_adam_read\",\"15_left_radical_democrats\",\"16_harassment_presidential_...\",\"17_impeachment_rt_hoax\",\"18_best_economy_ever\",\"19_white_house_news\",\"20_fed_reserve_rates\",\"21_america_make_get\",\"22_anarchists_guard_portland\",\"23_media_lamestream_fake\",\"24_true_agree_yes\",\"25_fake_news_media\",\"26_congratulations_great_pr...\",\"27_stock_market_record\",\"28_bus_transit_area\",\"29_court_supreme_justices\",\"30_thank_franklin_thanks\",\"31_isis_turkey_kurds\",\"32_iran_iranian_sanctions\",\"33_interviewed_enjoy_900\",\"34_flynn_general_honor\",\"35_carolina_north_bishop\",\"36_hunt_witch_collusion\",\"37_testing_cases_vaccines\",\"38_conference_white_house\",\"39_maga_thank_pennsylvania\",\"40_job_amazing_great\",\"41_coronavirus_countries_te...\",\"42_mini_mike_bloomberg\",\"43_rating_approval_party\",\"44_kim_korea_jong\",\"45_whistleblower_call_schiff\",\"46_great_transition_greatness\",\"47_louisiana_governor_edwards\",\"48_maga_soon_see\",\"49_happy_birthday_day\",\"50_israel_peace_arab\",\"51_dems_nothing_democrats\",\"52_georgia_signature_verifi...\"],\"y\":[\"0_thank_kag_2020\",\"1_endorsement_complete_total\",\"2_border_wall_southern\",\"3_ballots_election_rigged\",\"4_biden_joe_sleepy\",\"5_china_tariffs_deal\",\"6_book_great_congratulations\",\"7_honor_god_today\",\"8_mueller_report_collusion\",\"9_pennsylvania_wisconsin_ohio\",\"10_nancy_pelosi_cryin\",\"11_ratings_wow_morning\",\"12_hillary_crooked_clinton\",\"13_trump_donald_president\",\"14_schiff_adam_read\",\"15_left_radical_democrats\",\"16_harassment_presidential_...\",\"17_impeachment_rt_hoax\",\"18_best_economy_ever\",\"19_white_house_news\",\"20_fed_reserve_rates\",\"21_america_make_get\",\"22_anarchists_guard_portland\",\"23_media_lamestream_fake\",\"24_true_agree_yes\",\"25_fake_news_media\",\"26_congratulations_great_pr...\",\"27_stock_market_record\",\"28_bus_transit_area\",\"29_court_supreme_justices\",\"30_thank_franklin_thanks\",\"31_isis_turkey_kurds\",\"32_iran_iranian_sanctions\",\"33_interviewed_enjoy_900\",\"34_flynn_general_honor\",\"35_carolina_north_bishop\",\"36_hunt_witch_collusion\",\"37_testing_cases_vaccines\",\"38_conference_white_house\",\"39_maga_thank_pennsylvania\",\"40_job_amazing_great\",\"41_coronavirus_countries_te...\",\"42_mini_mike_bloomberg\",\"43_rating_approval_party\",\"44_kim_korea_jong\",\"45_whistleblower_call_schiff\",\"46_great_transition_greatness\",\"47_louisiana_governor_edwards\",\"48_maga_soon_see\",\"49_happy_birthday_day\",\"50_israel_peace_arab\",\"51_dems_nothing_democrats\",\"52_georgia_signature_verifi...\"],\"z\":[[1.0000000000000004,0.6453624097150265,0.7741894237326953,0.6320726991112962,0.5206593110882315,0.584462333994514,0.6188313594110486,0.8204525818319002,0.7905954420962393,0.6449688045544293,0.6189916036988679,0.5396844784129141,0.7542495125634501,0.6268886015979928,0.717989956388886,0.6114845035313641,0.6532475518511711,0.6159107780002209,0.5593582490828926,0.7963859724689023,0.7592627111118512,0.6122111776836745,0.79242244729729,0.638125470094466,0.6219550987310722,0.751441865690631,0.7836101244199513,0.7613278809848213,0.6724269058360742,0.5646145529136943,0.7020039712726496,0.6861598365412516,0.46559692222851723,0.3398682026225263,0.726204185410472,0.7714613081192033,0.601820467606269,0.4679893218320261,0.6058065321564964,0.7566439853479829,0.5151764172962977,0.8113742801055359,0.33935866496102324,0.707378276169583,0.6263630509747318,0.560574384979282,0.3484439562621385,0.7515270264925831,0.6182329920659038,0.7264572073749294,0.7230126498102607,0.4736253688888947,0.6808339568313748],[0.6453624097150265,1.0000000000000002,0.6339619325496433,0.4613506801015512,0.22895003794847593,0.44344250862623785,0.5085668169603796,0.7285189397693779,0.6145859877978156,0.4019017830753074,0.5054833777816226,0.3761224799266476,0.6020461151819799,0.38718960815633374,0.4594747910980846,0.4457941996895061,0.43720109628084286,0.24879093554907986,0.34211957496534373,0.6609029586425705,0.5763482482530099,0.5367197110583439,0.6172832911870819,0.44777010097005226,0.3569145375510195,0.6168742151290648,0.4557517506692456,0.7382137353577392,0.5313669661839433,0.5555981165319923,0.49870830746617456,0.8864738335091955,0.2869868014551788,0.13415606007371,0.6507136338410021,0.6904955732840306,0.4252099411879767,0.2364581204902365,0.48675013058317573,0.6289612143891624,0.660377983084966,0.6987599591899899,0.30697317482392733,0.5759471919264963,0.540755860806427,0.40503356161667825,0.3457354449390755,0.7025340502213439,0.4049127582902027,0.6735221478078356,0.6896651903937752,0.3201327768361194,0.41289990161151635],[0.7741894237326953,0.6339619325496433,0.9999999999999982,0.6301288605761767,0.5045711556963002,0.5659581586658906,0.6130096799168112,0.7505390425949956,0.7355801874628374,0.6010043759690908,0.5857951816502283,0.47289470176394743,0.6757086169032017,0.5624901945914534,0.6488388141558832,0.5337747280273487,0.5805987683541918,0.5177390905771307,0.5335463321392486,0.7540253928781195,0.6700443589947663,0.6217884449662442,0.7731640477675314,0.6200550742702781,0.47796689601503967,0.7151301084856281,0.5842744457996034,0.686444419635129,0.6530011980048094,0.6034721784210466,0.7083753292188703,0.668902785358193,0.47466540846232447,0.3374050663265999,0.6266771600231539,0.7279428247962569,0.5609443485187946,0.3736870108971469,0.5771740528808949,0.7076388887353815,0.47491095099644587,0.7309727384046418,0.3341755638340472,0.7070374701323653,0.6872258588974942,0.47403547909284877,0.3017096073611137,0.6751456455902305,0.5816236540627158,0.6792012269622064,0.6118967708243429,0.4399751885898257,0.6195756307070406],[0.6320726991112962,0.4613506801015512,0.6301288605761767,0.9999999999999997,0.40220745079886755,0.39988919269802653,0.6142946090316608,0.540667890793241,0.6146037867753015,0.5819451077016391,0.5893304191300868,0.4732330484582781,0.4804475660360294,0.4682580902306525,0.5373952484680745,0.47174510966167094,0.5814006653577867,0.5014027027946637,0.48398817987199694,0.5964923725718253,0.6264837455852698,0.4947122032163456,0.6686656620657444,0.654129462499243,0.39322091558101335,0.5135995272278961,0.4718765445774536,0.4582638643998759,0.46021193821678613,0.5756243382515311,0.5389802657909152,0.43563940072130986,0.4641471514424624,0.43083912102152133,0.4904079645261204,0.5658710122816657,0.6130542321685457,0.3521484965773787,0.5305305065544537,0.627676924989492,0.37703711026935766,0.5438789791043402,0.35425748391231104,0.46712442295900536,0.46650990993464536,0.49651641018266035,0.2538985649512886,0.5563714870214265,0.5175058102967223,0.5747374385207588,0.5211067912787788,0.5263006047604193,0.5414173503920238],[0.5206593110882315,0.22895003794847593,0.5045711556963002,0.40220745079886755,0.9999999999999999,0.34879714924889255,0.29593718216737513,0.3377538580992015,0.4433572225200831,0.41502989880545993,0.4440699690874198,0.29130262674061624,0.44424189448761564,0.5106307521095464,0.4472426750190623,0.4654653860440911,0.46877293899809347,0.5262779922266458,0.5057977450163103,0.4192285603251795,0.44255124900816856,0.36928920752637945,0.45324249845397346,0.3924141587004286,0.39103252493181406,0.4000083943465991,0.49449331021880344,0.32011240606833197,0.38431500333937924,0.32816600029999093,0.49388253794611947,0.2972771104841238,0.26995222373350763,0.20859561796082227,0.3497812717582158,0.42902330714392617,0.3783487143670987,0.3285834716463963,0.3862822914213624,0.47316080314461845,0.30053756821139566,0.3443277917302412,0.20089237447882244,0.38701177989248936,0.5527926428923481,0.3235978603332624,0.2969462320029251,0.2756299737989485,0.5234180087783228,0.39973034873510294,0.3283095294733905,0.2216901788272488,0.5694452992252088],[0.584462333994514,0.44344250862623785,0.5659581586658906,0.39988919269802653,0.34879714924889255,0.9999999999999997,0.4700658393549328,0.5204392932854851,0.5195411191475185,0.41881566758310246,0.4248586424632295,0.40286076395639775,0.5174089161961298,0.4834941671415342,0.5016519658394467,0.4401975640746202,0.4743057700106193,0.44241660027393614,0.3123123189456239,0.49788708128496595,0.49691958751853904,0.44514592694176863,0.4935779222274624,0.5077338052948825,0.3321060970153864,0.4364595037406893,0.41064895187060246,0.5166726148383024,0.46124562523896806,0.404605172211587,0.3968264178232489,0.5331519479989234,0.3733998906081701,0.19408250360136856,0.43667459458683566,0.5064097095466094,0.4299921728987133,0.21192583245879812,0.3014844651764535,0.49011668599456104,0.29252861591143114,0.5069279765137797,0.20941815284099868,0.5682526483817303,0.41180530207277766,0.3483809287980719,0.1953737375768121,0.44009680976000726,0.4453643670512029,0.39816884469165725,0.4211054786129995,0.37048625084951503,0.5393890708361249],[0.6188313594110486,0.5085668169603796,0.6130096799168112,0.6142946090316608,0.29593718216737513,0.4700658393549328,0.9999999999999992,0.5617409807804765,0.5869979980092113,0.46908688780854507,0.46979688524968616,0.24463318595185446,0.5000233270934018,0.3332978006520441,0.5330437126526806,0.3796677944665013,0.42522546960529756,0.3794835761762088,0.3459119291661266,0.6694397079285421,0.5298918712957503,0.615356769845544,0.6367281768464935,0.5242970306036768,0.36959128836368466,0.5602447901430061,0.4822652816233939,0.46238570478789676,0.6006302144159681,0.5414263552407473,0.4844879928689725,0.48617129364119577,0.43049659512419947,0.4049922395409894,0.4790994350103539,0.5634683589950076,0.42309884363585587,0.32103728305308515,0.5503063415134902,0.5401727099313197,0.4086669671904292,0.544781603566482,0.3635724005215212,0.5426330946801514,0.4715957054069247,0.5204752586227026,0.31223580157480774,0.5563147340866657,0.3917192600793652,0.53593766301929,0.4909849118654828,0.4519494562940072,0.423991943802366],[0.8204525818319002,0.7285189397693779,0.7505390425949956,0.540667890793241,0.3377538580992015,0.5204392932854851,0.5617409807804765,1.0000000000000007,0.7409285898241993,0.5461329766611681,0.5601600347941289,0.468034060211758,0.7256884676471888,0.5069730023112682,0.5988603489368367,0.5622397193056137,0.5154728333638743,0.411986770293561,0.41280690714674717,0.7555171704409099,0.6661568703651473,0.557146403591843,0.7306960364575563,0.524536081757013,0.48806634637105273,0.737536229467205,0.6207971604899745,0.8139232620739972,0.6295051947432784,0.5377530526892628,0.6502087975278508,0.7714911825171309,0.3662220741718515,0.20150373322637757,0.7387894715394328,0.8081142421903184,0.5757742533193658,0.3832898641660569,0.5252426411895956,0.6765727627544931,0.5574831126697475,0.8482769163908935,0.2652476052719008,0.7026781664879528,0.5510161716549424,0.4781272809182139,0.3731057660579426,0.7823122422147325,0.4985434137512813,0.7480308937215672,0.7055271674202622,0.4087801407110048,0.47451987609749424],[0.7905954420962393,0.6145859877978156,0.7355801874628374,0.6146037867753015,0.4433572225200831,0.5195411191475185,0.5869979980092113,0.7409285898241993,1.0000000000000007,0.5319369756181341,0.6036810813100122,0.5023749456299373,0.6250637485683023,0.49439936350535313,0.6581291499488835,0.5035541049895655,0.5766679604659714,0.514132210490983,0.41618874192543803,0.7472505887201039,0.6887575102099601,0.5646841465598337,0.8003014474883197,0.6446407283384947,0.4227355816991458,0.6963318054973558,0.6092765242847108,0.7114848089886404,0.5623111183894373,0.5176982049543785,0.6568229395123406,0.6633363000288437,0.5588589955262485,0.4494197518617887,0.6751057748832444,0.7722147702610068,0.5711979368034754,0.3908034602542552,0.5456363706849011,0.6860305464430032,0.4376811244062267,0.7233569759730569,0.33152979507199787,0.6035678457319746,0.5355970100785188,0.5392516111417396,0.2749050053334225,0.6563747489825001,0.5913627054832244,0.6475880807810219,0.7295747255554155,0.5955983912616714,0.5659864538345508],[0.6449688045544293,0.4019017830753074,0.6010043759690908,0.5819451077016391,0.41502989880545993,0.41881566758310246,0.46908688780854507,0.5461329766611681,0.5319369756181341,0.9999999999999999,0.4604036905884378,0.45578718391314976,0.5181103812102734,0.6303469158919954,0.6760477347525621,0.6100827577462025,0.6071212848290302,0.6901181695056662,0.6103288846636334,0.5394524827241505,0.6139272692916586,0.4437084373239019,0.5405626512929371,0.4823521143980516,0.5461180805457377,0.545896430048725,0.5666275774709484,0.4221435979758599,0.4329099386361572,0.4301793388994512,0.5803027032975471,0.46355787577642005,0.4674390277097125,0.3578229280395873,0.4338207737692168,0.5733942119659673,0.4199176678443726,0.5408131279615783,0.560329622520595,0.5642226860525512,0.4573122142885874,0.5364494132324116,0.3113881856980518,0.523512012808226,0.4970658491802519,0.45438890341150157,0.38239084256147454,0.46027945742457876,0.4650153851933663,0.5581256794580407,0.4306683740695665,0.39369578488468326,0.6620578683683693],[0.6189916036988679,0.5054833777816226,0.5857951816502283,0.5893304191300868,0.4440699690874198,0.4248586424632295,0.46979688524968616,0.5601600347941289,0.6036810813100122,0.4604036905884378,1.0000000000000004,0.38228076572740427,0.5598310017969301,0.38211853560908954,0.5008026770481474,0.3799900515351088,0.41777117332120833,0.3809600438262903,0.37856281563597094,0.6023908990436045,0.5995459121214319,0.45242129008824633,0.6489678936859563,0.6569987451549899,0.322881608770691,0.514174498303893,0.4619506765166273,0.5448753322741691,0.4845066039524318,0.622948526373884,0.5753589127329657,0.4896765605594265,0.266654201593791,0.244350438945197,0.5859200497876603,0.5563242450832334,0.6360540964984244,0.3356895970421058,0.4130658258630659,0.6208857099957815,0.43014711862705635,0.5984570288797252,0.1866440583007752,0.5312243269401635,0.5353346651559944,0.40976349077423063,0.29902559804192824,0.6088780610837642,0.6465405346729168,0.6327239827136861,0.4963501420053611,0.2902907244366155,0.47501503721023625],[0.5396844784129141,0.3761224799266476,0.47289470176394743,0.4732330484582781,0.29130262674061624,0.40286076395639775,0.24463318595185446,0.468034060211758,0.5023749456299373,0.45578718391314976,0.38228076572740427,0.9999999999999994,0.5077768564299014,0.5695075906584347,0.3457627375722932,0.4897512415767712,0.5394907367454259,0.40587386815455084,0.37014056162297526,0.44725604981997197,0.4846608742395837,0.27310338681088564,0.4983345685329562,0.4214284599739393,0.4178283750607478,0.4100423364989269,0.49075741441754306,0.5176694810279523,0.39758546003817874,0.2316265531331735,0.38159928528613773,0.42178798118299243,0.26033276319650284,0.24079273004383542,0.48574885317119615,0.4707543621055518,0.35584343179136685,0.36085470135030395,0.306592784088402,0.46212552788029654,0.33780828229097004,0.504761539616323,0.16934297111899563,0.4411723625038782,0.4086370975986977,0.3065459542279512,0.2988304866938703,0.42824914590730156,0.37220954227679515,0.3964767153369299,0.49988436082046783,0.38219576675123823,0.5276993965069557],[0.7542495125634501,0.6020461151819799,0.6757086169032017,0.4804475660360294,0.44424189448761564,0.5174089161961298,0.5000233270934018,0.7256884676471888,0.6250637485683023,0.5181103812102734,0.5598310017969301,0.5077768564299014,1.000000000000001,0.5297553808633898,0.540382897171763,0.5622157022255236,0.5316861262471826,0.4704568228678365,0.4908732751999245,0.658390600581398,0.6641308364555488,0.5826595498120438,0.6208785017121574,0.47292290523129377,0.6205978026121567,0.6275085394941676,0.7131145858163608,0.6845444458595459,0.6773241316346001,0.49197161014516094,0.5440018600656024,0.6150977750922266,0.3358536335713519,0.17502706467350945,0.7386012786641495,0.6940952898768367,0.540102625171963,0.390773671685212,0.5148617451053984,0.6639719833596053,0.5329606443975535,0.757417834788288,0.30204337166788947,0.7085134852687986,0.7085104192025536,0.5067075018591323,0.3913073170620662,0.6327828055093841,0.46068431334351245,0.6997371050196017,0.6486543292348679,0.28956418124028743,0.5282583130591949],[0.6268886015979928,0.38718960815633374,0.5624901945914534,0.4682580902306525,0.5106307521095464,0.4834941671415342,0.3332978006520441,0.5069730023112682,0.49439936350535313,0.6303469158919954,0.38211853560908954,0.5695075906584347,0.5297553808633898,1.0,0.5358339185743917,0.5352618758246762,0.5555902663957689,0.6065736202071351,0.4720564744646202,0.5197440274905634,0.5478757738694119,0.447119196572151,0.5340347281568361,0.42208099961957174,0.5460605098731287,0.5044263344036872,0.5451170097205661,0.4823858196411486,0.4448565397765817,0.312999165387263,0.4657151338219338,0.4857693557804658,0.40609658420633654,0.22218161753989799,0.39807088111655303,0.5644643650055822,0.4481091770456318,0.40837129783899034,0.3995830576959011,0.49986909663001716,0.3860545739903165,0.5229272896200616,0.2692942216056647,0.4777537870092998,0.46651581907031703,0.38102152620422236,0.3852212390804421,0.38103584921055395,0.4934948006632043,0.47237015968319285,0.4164523476625244,0.2710332469911133,0.6191507052640332],[0.717989956388886,0.4594747910980846,0.6488388141558832,0.5373952484680745,0.4472426750190623,0.5016519658394467,0.5330437126526806,0.5988603489368367,0.6581291499488835,0.6760477347525621,0.5008026770481474,0.3457627375722932,0.540382897171763,0.5358339185743917,0.9999999999999996,0.5793586806264005,0.5182176499051041,0.7004363001559337,0.431558031352347,0.6167138430269001,0.6304028102099773,0.5001637179448202,0.6459132362500859,0.5746438747507618,0.43016683649223275,0.5406656186366948,0.5600609664899691,0.5032872027971858,0.4844077867778144,0.43052431174765343,0.5781281073635504,0.5674904687382702,0.3802078368813151,0.30325824470548374,0.46767213881674363,0.6306383455503412,0.4759490311001142,0.3362295666486766,0.44905567773401933,0.6147043107769637,0.3941114071524551,0.5742705626915665,0.25820661548677915,0.6090797416413135,0.5201957666665576,0.5017934954894496,0.285232652886095,0.5206068010643837,0.5450546307047683,0.5383934099384403,0.5257598620050389,0.3890830462927224,0.5469403210165407],[0.6114845035313641,0.4457941996895061,0.5337747280273487,0.47174510966167094,0.4654653860440911,0.4401975640746202,0.3796677944665013,0.5622397193056137,0.5035541049895655,0.6100827577462025,0.3799900515351088,0.4897512415767712,0.5622157022255236,0.5352618758246762,0.5793586806264005,1.0000000000000007,0.6408649795149901,0.5031929022902745,0.5482637238847669,0.48479175092632804,0.6025105796112484,0.4460052847022647,0.5288865170463225,0.4216285870560235,0.5798732361211955,0.6121314264187493,0.6014642585912121,0.3922209586805136,0.4746319737092453,0.3153300517436667,0.5052835942135071,0.5402345618724873,0.3028460632193619,0.27773043254970914,0.47585111432646837,0.5135058413197042,0.4022278712447007,0.4306291465718401,0.49084603163951807,0.6075850768337019,0.4485410257986543,0.511306978142122,0.2446635860097233,0.5038419076165409,0.480761732179007,0.3406743881226342,0.5145534640991084,0.4293388107301883,0.3705737319034009,0.5648152506467767,0.46789877532145946,0.39251570621060666,0.5530937082922831],[0.6532475518511711,0.43720109628084286,0.5805987683541918,0.5814006653577867,0.46877293899809347,0.4743057700106193,0.42522546960529756,0.5154728333638743,0.5766679604659714,0.6071212848290302,0.41777117332120833,0.5394907367454259,0.5316861262471826,0.5555902663957689,0.5182176499051041,0.6408649795149901,0.9999999999999996,0.5014100783392962,0.5170238683882217,0.5514231021142382,0.5960125327631117,0.4393449347689548,0.5821136267327858,0.5330530588295768,0.6155394644893375,0.5433962449007743,0.6089155629220676,0.42990077491754336,0.4692907162794098,0.4032660359098873,0.49399607006096624,0.4932018062606516,0.4878059890336509,0.3739241442891221,0.4466885921466572,0.53384962324179,0.45263635530464125,0.4187891677140664,0.486794122873736,0.6189458542511618,0.4017717988546362,0.5175278582189445,0.2525100135361726,0.5158441301176803,0.49329711331824466,0.4486667075223632,0.3224513117478524,0.4617850737449198,0.4281064804131168,0.5296894585886449,0.49126997846786763,0.43295232883525503,0.66245934757618],[0.6159107780002209,0.24879093554907986,0.5177390905771307,0.5014027027946637,0.5262779922266458,0.44241660027393614,0.3794835761762088,0.411986770293561,0.514132210490983,0.6901181695056662,0.3809600438262903,0.40587386815455084,0.4704568228678365,0.6065736202071351,0.7004363001559337,0.5031929022902745,0.5014100783392962,0.9999999999999999,0.580710308615953,0.4552033240660261,0.5764570654646681,0.3880007954649735,0.5355763672392075,0.48456462944473044,0.4828252060609748,0.4032760781944482,0.5848533227835543,0.3486010804265808,0.33831001029583563,0.31752971860670015,0.4738378981161325,0.34281894916706834,0.3427280776690203,0.3949245615667936,0.40440992777322776,0.530680916218387,0.34450233060393065,0.4639813813782476,0.4686031617341271,0.47602345201167934,0.2972173393592864,0.4614135928731198,0.34260475350774156,0.4787390770496663,0.43469160252113437,0.4057110918100283,0.36664571557986747,0.32117268321021514,0.47682041433992073,0.39616757498066185,0.34094307152775416,0.2869026027110993,0.6047807335646875],[0.5593582490828926,0.34211957496534373,0.5335463321392486,0.48398817987199694,0.5057977450163103,0.3123123189456239,0.3459119291661266,0.41280690714674717,0.41618874192543803,0.6103288846636334,0.37856281563597094,0.37014056162297526,0.4908732751999245,0.4720564744646202,0.431558031352347,0.5482637238847669,0.5170238683882217,0.580710308615953,0.9999999999999999,0.48288703977830794,0.5012412049203704,0.4075159049115077,0.4758930770188013,0.3985747428030751,0.5614796406271029,0.48480248771748075,0.5493714671507318,0.3130621566662268,0.42437701314574106,0.3883637246048798,0.4760907509618452,0.3260042381405922,0.36557689333875143,0.36248288855617916,0.4380696344803981,0.4379483631837003,0.37608113393263876,0.4355559857903932,0.5136910625454782,0.5204445106061593,0.3995167317617324,0.45196575558523017,0.34015746245922684,0.4452350987171875,0.4821017126707429,0.31179079884381894,0.4236301248371428,0.384703436627831,0.4505052488918092,0.4943581551952729,0.31378928335577905,0.33108019242122605,0.6334750658868062],[0.7963859724689023,0.6609029586425705,0.7540253928781195,0.5964923725718253,0.4192285603251795,0.49788708128496595,0.6694397079285421,0.7555171704409099,0.7472505887201039,0.5394524827241505,0.6023908990436045,0.44725604981997197,0.658390600581398,0.5197440274905634,0.6167138430269001,0.48479175092632804,0.5514231021142382,0.4552033240660261,0.48288703977830794,0.999999999999999,0.636555863371116,0.7117108826666815,0.7353778432678718,0.6039763889676739,0.45721085039081033,0.7064416595644634,0.5682375087162869,0.7064827241255116,0.7853060751754088,0.6105802084417048,0.6451002418132575,0.6487780515796561,0.42972933990024426,0.3186071547713185,0.6990796930529543,0.7537275618394449,0.54756966299149,0.3553766540632414,0.5560071928661977,0.6750935328569284,0.4525805634708554,0.7651276219967115,0.31852365868659266,0.6598523082770249,0.6310821393339959,0.49075286382264843,0.288053460460554,0.7533386958408524,0.5625297413818059,0.6632948891892501,0.6964161657140925,0.4155682822559301,0.5582869886460118],[0.7592627111118512,0.5763482482530099,0.6700443589947663,0.6264837455852698,0.44255124900816856,0.49691958751853904,0.5298918712957503,0.6661568703651473,0.6887575102099601,0.6139272692916586,0.5995459121214319,0.4846608742395837,0.6641308364555488,0.5478757738694119,0.6304028102099773,0.6025105796112484,0.5960125327631117,0.5764570654646681,0.5012412049203704,0.636555863371116,1.0000000000000007,0.5069061528577115,0.68637636199011,0.5828036569544414,0.5213583946881377,0.6537288827179161,0.6775693912894611,0.5433403438646485,0.5695549290499419,0.569159860605436,0.601445518372016,0.5831963520555389,0.3856115707303298,0.31000392862439013,0.6663958933389205,0.6576455286500718,0.5462011358969017,0.42859508167366184,0.5381631524183366,0.8846735173502024,0.5178369351855816,0.6968278858559144,0.31117297577316927,0.6146324877452297,0.548693270149072,0.5244156284259783,0.383897891203771,0.5916392094999231,0.501289853355212,0.6839060705865546,0.6396386360625675,0.40575338410410833,0.6378334404668711],[0.6122111776836745,0.5367197110583439,0.6217884449662442,0.4947122032163456,0.36928920752637945,0.44514592694176863,0.615356769845544,0.557146403591843,0.5646841465598337,0.4437084373239019,0.45242129008824633,0.27310338681088564,0.5826595498120438,0.447119196572151,0.5001637179448202,0.4460052847022647,0.4393449347689548,0.3880007954649735,0.4075159049115077,0.7117108826666815,0.5069061528577115,0.9999999999999993,0.555786658554255,0.46841300445803247,0.4172320658932811,0.5606862704719123,0.4209203413079567,0.446503384534408,0.6629554868853063,0.539095906815468,0.5134389686666578,0.500919937265003,0.3572144885570297,0.30594548195995286,0.5151091976041452,0.559895907502938,0.41842617420073175,0.2169436329439287,0.44340691551736783,0.5560383732463224,0.3927157153928069,0.523396652581918,0.301290674610205,0.5476235791093084,0.5902887122937527,0.4107324882297129,0.2457336304759477,0.560013507161136,0.4775092044277386,0.5237412549282573,0.5037183803804797,0.35606866689160044,0.4682637459873542],[0.79242244729729,0.6172832911870819,0.7731640477675314,0.6686656620657444,0.45324249845397346,0.4935779222274624,0.6367281768464935,0.7306960364575563,0.8003014474883197,0.5405626512929371,0.6489678936859563,0.4983345685329562,0.6208785017121574,0.5340347281568361,0.6459132362500859,0.5288865170463225,0.5821136267327858,0.5355763672392075,0.4758930770188013,0.7353778432678718,0.68637636199011,0.555786658554255,0.9999999999999987,0.6797479790359962,0.4476483717464029,0.6649526343236613,0.6084572953808135,0.6989521759269306,0.5730603231124036,0.5314268161849282,0.6477481704960175,0.6423737997014387,0.4377130807531818,0.3950557525235209,0.6617881899121817,0.7309707696787652,0.5853029772898501,0.36009446973935977,0.5375342869483797,0.6874035512942565,0.45187803386937087,0.6991303856159929,0.28516097998489925,0.6175278920430464,0.571017875261266,0.48656938276559375,0.3203079656465298,0.7037819691692907,0.6123263481597959,0.6495259892203353,0.6194350329771166,0.46226555202281405,0.6312650380845409],[0.638125470094466,0.44777010097005226,0.6200550742702781,0.654129462499243,0.3924141587004286,0.5077338052948825,0.5242970306036768,0.524536081757013,0.6446407283384947,0.4823521143980516,0.6569987451549899,0.4214284599739393,0.47292290523129377,0.42208099961957174,0.5746438747507618,0.4216285870560235,0.5330530588295768,0.48456462944473044,0.3985747428030751,0.6039763889676739,0.5828036569544414,0.46841300445803247,0.6797479790359962,1.0000000000000002,0.3543756366343865,0.44326628213482594,0.4836458324715118,0.48170400465440105,0.5072949088625872,0.6379330508714829,0.5482783491641705,0.47339776087947033,0.43001932022633965,0.37942597900385555,0.46112408158057877,0.5957834374975318,0.5964845659000112,0.32337343033512084,0.4048959454011649,0.6198962500721275,0.4095709344389591,0.5445527027549515,0.21950607060703944,0.5877827690595048,0.4172995155240538,0.4998212223629616,0.3407267143302251,0.5422130669458555,0.5341769523449345,0.5362097730641792,0.4465655493464334,0.4622203508737591,0.5340700853856479],[0.6219550987310722,0.3569145375510195,0.47796689601503967,0.39322091558101335,0.39103252493181406,0.3321060970153864,0.36959128836368466,0.48806634637105273,0.4227355816991458,0.5461180805457377,0.322881608770691,0.4178283750607478,0.6205978026121567,0.5460605098731287,0.43016683649223275,0.5798732361211955,0.6155394644893375,0.4828252060609748,0.5614796406271029,0.45721085039081033,0.5213583946881377,0.4172320658932811,0.4476483717464029,0.3543756366343865,1.0000000000000009,0.5225237475733058,0.8094432116278462,0.34929470742339863,0.5313717666285712,0.41942807135787735,0.4096024400993745,0.3723294507045997,0.3649956101476007,0.2318614516027024,0.5155024882015072,0.3993460131431686,0.3164340180797168,0.3871283312388901,0.5099181436782516,0.5263219584428236,0.36721044629842825,0.5071274390731259,0.3591971164437118,0.4958855127890774,0.4785072133356994,0.2964514605893718,0.4241383403114417,0.38066148557168134,0.34109714630555477,0.485607449135891,0.40725662560200077,0.2730490702422416,0.4824162529610696],[0.751441865690631,0.6168742151290648,0.7151301084856281,0.5135995272278961,0.4000083943465991,0.4364595037406893,0.5602447901430061,0.737536229467205,0.6963318054973558,0.545896430048725,0.514174498303893,0.4100423364989269,0.6275085394941676,0.5044263344036872,0.5406656186366948,0.6121314264187493,0.5433962449007743,0.4032760781944482,0.48480248771748075,0.7064416595644634,0.6537288827179161,0.5606862704719123,0.6649526343236613,0.44326628213482594,0.5225237475733058,0.9999999999999989,0.642441623800737,0.6663912566190373,0.6075011148035653,0.4908012194441473,0.6392282049652237,0.6744923340138862,0.39163821098975754,0.24123528320124588,0.634595318416989,0.6712323209136848,0.47208100340343956,0.386667506337278,0.6112119163370121,0.6607338107605314,0.40835605419777393,0.7260482152974002,0.3151118518903257,0.5769591777433888,0.5870094009768398,0.410903963121751,0.37824128336774565,0.6576941583159683,0.4613989517231971,0.6551569238391083,0.6439662546063643,0.4284738615857384,0.5371652555915595],[0.7836101244199513,0.4557517506692456,0.5842744457996034,0.4718765445774536,0.49449331021880344,0.41064895187060246,0.4822652816233939,0.6207971604899745,0.6092765242847108,0.5666275774709484,0.4619506765166273,0.49075741441754306,0.7131145858163608,0.5451170097205661,0.5600609664899691,0.6014642585912121,0.6089155629220676,0.5848533227835543,0.5493714671507318,0.5682375087162869,0.6775693912894611,0.4209203413079567,0.6084572953808135,0.4836458324715118,0.8094432116278462,0.642441623800737,1.0000000000000009,0.536993780274273,0.5954444354620402,0.4197512765530287,0.526199166892076,0.5002817933833913,0.4026767761295287,0.2951684285682321,0.6321918118970042,0.5717314165925745,0.40604104287453824,0.5116901185367184,0.5712997049713906,0.6507494740576192,0.44178225813849953,0.629852854100052,0.32591563899707554,0.6202196474629664,0.5234511444351405,0.46420875289661123,0.4528365204569714,0.4798480715790122,0.3975667679945639,0.5926738568532779,0.6078863735123704,0.36109976207190325,0.5418706773153898],[0.7613278809848213,0.7382137353577392,0.686444419635129,0.4582638643998759,0.32011240606833197,0.5166726148383024,0.46238570478789676,0.8139232620739972,0.7114848089886404,0.4221435979758599,0.5448753322741691,0.5176694810279523,0.6845444458595459,0.4823858196411486,0.5032872027971858,0.3922209586805136,0.42990077491754336,0.3486010804265808,0.3130621566662268,0.7064827241255116,0.5433403438646485,0.446503384534408,0.6989521759269306,0.48170400465440105,0.34929470742339863,0.6663912566190373,0.536993780274273,1.000000000000001,0.5506840006210684,0.4323446698447388,0.5592917963234096,0.7599500927144758,0.3403330611445109,0.15998430177147183,0.7026159657437041,0.807875010428519,0.5167871693913972,0.3056158892519541,0.4358530854338131,0.5898908546344669,0.45825732949056214,0.8040288310940134,0.23932184562498043,0.5770804033614401,0.5722797882815918,0.44556933175968766,0.28981409030264016,0.8004750442387903,0.46029916896503964,0.6389563414434847,0.7657321553722968,0.36457768662570555,0.455667216552828],[0.6724269058360742,0.5313669661839433,0.6530011980048094,0.46021193821678613,0.38431500333937924,0.46124562523896806,0.6006302144159681,0.6295051947432784,0.5623111183894373,0.4329099386361572,0.4845066039524318,0.39758546003817874,0.6773241316346001,0.4448565397765817,0.4844077867778144,0.4746319737092453,0.4692907162794098,0.33831001029583563,0.42437701314574106,0.7853060751754088,0.5695549290499419,0.6629554868853063,0.5730603231124036,0.5072949088625872,0.5313717666285712,0.6075011148035653,0.5954444354620402,0.5506840006210684,1.0000000000000002,0.553853316631456,0.5896969102279715,0.5234503087745838,0.3802585990564788,0.225416559013185,0.6326290894626219,0.6187252103679571,0.4566214275485801,0.33902167602386174,0.5236906629963718,0.6134695326879894,0.43750056380867686,0.6467905161796779,0.37151039954752313,0.6059991222365041,0.567429372904366,0.378837997996266,0.33424059330312283,0.592586426142788,0.4253753833136895,0.5930997148564335,0.5316137440431445,0.31048116501951617,0.477498519576032],[0.5646145529136943,0.5555981165319923,0.6034721784210466,0.5756243382515311,0.32816600029999093,0.404605172211587,0.5414263552407473,0.5377530526892628,0.5176982049543785,0.4301793388994512,0.622948526373884,0.2316265531331735,0.49197161014516094,0.312999165387263,0.43052431174765343,0.3153300517436667,0.4032660359098873,0.31752971860670015,0.3883637246048798,0.6105802084417048,0.569159860605436,0.539095906815468,0.5314268161849282,0.6379330508714829,0.41942807135787735,0.4908012194441473,0.4197512765530287,0.4323446698447388,0.553853316631456,0.9999999999999993,0.462789057587154,0.4885686478981481,0.3388355476835469,0.2116180415844765,0.5637572133742247,0.5405453345127877,0.4706350645563334,0.1977616170196675,0.4738964857897641,0.6281880946404905,0.4213129801383517,0.5824783870997955,0.2659558247963171,0.615485823937382,0.4834257906108423,0.38004001391563136,0.2954187615807345,0.593120056140287,0.4854472845219794,0.567742583292884,0.439541354228044,0.36684322826850413,0.4112707337506815],[0.7020039712726496,0.49870830746617456,0.7083753292188703,0.5389802657909152,0.49388253794611947,0.3968264178232489,0.4844879928689725,0.6502087975278508,0.6568229395123406,0.5803027032975471,0.5753589127329657,0.38159928528613773,0.5440018600656024,0.4657151338219338,0.5781281073635504,0.5052835942135071,0.49399607006096624,0.4738378981161325,0.4760907509618452,0.6451002418132575,0.601445518372016,0.5134389686666578,0.6477481704960175,0.5482783491641705,0.4096024400993745,0.6392282049652237,0.526199166892076,0.5592917963234096,0.5896969102279715,0.462789057587154,0.9999999999999996,0.5147734534413407,0.3686228451891597,0.29984140822569566,0.48810635082910725,0.6535394079305198,0.5713272591345316,0.4308480805634726,0.5734452753180381,0.6314229798211006,0.4095117087523738,0.5890324137300259,0.27113793520744095,0.4984736851367247,0.5908783598048735,0.4555855734704301,0.2903408183643316,0.5857826157206191,0.6058512810172544,0.6106075892865607,0.4688117600414034,0.411443095012978,0.5792776057942772],[0.6861598365412516,0.8864738335091955,0.668902785358193,0.43563940072130986,0.2972771104841238,0.5331519479989234,0.48617129364119577,0.7714911825171309,0.6633363000288437,0.46355787577642005,0.4896765605594265,0.42178798118299243,0.6150977750922266,0.4857693557804658,0.5674904687382702,0.5402345618724873,0.4932018062606516,0.34281894916706834,0.3260042381405922,0.6487780515796561,0.5831963520555389,0.500919937265003,0.6423737997014387,0.47339776087947033,0.3723294507045997,0.6744923340138862,0.5002817933833913,0.7599500927144758,0.5234503087745838,0.4885686478981481,0.5147734534413407,1.0000000000000002,0.2726165363254469,0.1479691684499645,0.629241412311856,0.7412140879883944,0.4527839048173105,0.2095768368642522,0.44797664038713797,0.6330235493626362,0.6034810391984506,0.6948066771385843,0.2177517187929052,0.6439023090454713,0.5484071116591227,0.39352376992579163,0.35874888853858244,0.6474672061836916,0.4101388102035431,0.613407834000065,0.6489072022450143,0.36440205513811785,0.4392983813679301],[0.46559692222851723,0.2869868014551788,0.47466540846232447,0.4641471514424624,0.26995222373350763,0.3733998906081701,0.43049659512419947,0.3662220741718515,0.5588589955262485,0.4674390277097125,0.266654201593791,0.26033276319650284,0.3358536335713519,0.40609658420633654,0.3802078368813151,0.3028460632193619,0.4878059890336509,0.3427280776690203,0.36557689333875143,0.42972933990024426,0.3856115707303298,0.3572144885570297,0.4377130807531818,0.43001932022633965,0.3649956101476007,0.39163821098975754,0.4026767761295287,0.3403330611445109,0.3802585990564788,0.3388355476835469,0.3686228451891597,0.2726165363254469,0.9999999999999998,0.5136306604860768,0.31154924797803074,0.4830261741680046,0.3267770985656957,0.43962133729373853,0.43639249670084923,0.432668173172877,0.22453101757115138,0.37160789896379426,0.3415490251192932,0.3797474587463532,0.23700798713886473,0.4967197612591933,0.12165921566813447,0.3182509937576091,0.331651036636448,0.38227001623726603,0.36107418009940384,0.6070311054763828,0.42940347821065417],[0.3398682026225263,0.13415606007371,0.3374050663265999,0.43083912102152133,0.20859561796082227,0.19408250360136856,0.4049922395409894,0.20150373322637757,0.4494197518617887,0.3578229280395873,0.244350438945197,0.24079273004383542,0.17502706467350945,0.22218161753989799,0.30325824470548374,0.27773043254970914,0.3739241442891221,0.3949245615667936,0.36248288855617916,0.3186071547713185,0.31000392862439013,0.30594548195995286,0.3950557525235209,0.37942597900385555,0.2318614516027024,0.24123528320124588,0.2951684285682321,0.15998430177147183,0.225416559013185,0.2116180415844765,0.29984140822569566,0.1479691684499645,0.5136306604860768,0.9999999999999991,0.1931976099327225,0.32569140504496497,0.20773873613816568,0.2310798640489619,0.28928158531885306,0.33305717213309266,0.12086678783564522,0.18975131178257484,0.17675067895536134,0.238266491206257,0.2820311034565942,0.399524553007727,0.1303564752015955,0.2071109169844064,0.25277365203679414,0.2059588434998914,0.202822453256645,0.5507600083919181,0.28848267501511343],[0.726204185410472,0.6507136338410021,0.6266771600231539,0.4904079645261204,0.3497812717582158,0.43667459458683566,0.4790994350103539,0.7387894715394328,0.6751057748832444,0.4338207737692168,0.5859200497876603,0.48574885317119615,0.7386012786641495,0.39807088111655303,0.46767213881674363,0.47585111432646837,0.4466885921466572,0.40440992777322776,0.4380696344803981,0.6990796930529543,0.6663958933389205,0.5151091976041452,0.6617881899121817,0.46112408158057877,0.5155024882015072,0.634595318416989,0.6321918118970042,0.7026159657437041,0.6326290894626219,0.5637572133742247,0.48810635082910725,0.629241412311856,0.31154924797803074,0.1931976099327225,1.0000000000000004,0.7028546070402935,0.47219794891394923,0.3087138009258962,0.48513517082901897,0.731839144110497,0.46216220387585466,0.78386069878135,0.30034577579822297,0.6787036512484569,0.6099404594724125,0.39700581259311846,0.3481840572012436,0.6857232057970344,0.4158300795367904,0.6404932721455823,0.6626964368534753,0.3423188602071283,0.4344355997899926],[0.7714613081192033,0.6904955732840306,0.7279428247962569,0.5658710122816657,0.42902330714392617,0.5064097095466094,0.5634683589950076,0.8081142421903184,0.7722147702610068,0.5733942119659673,0.5563242450832334,0.4707543621055518,0.6940952898768367,0.5644643650055822,0.6306383455503412,0.5135058413197042,0.53384962324179,0.530680916218387,0.4379483631837003,0.7537275618394449,0.6576455286500718,0.559895907502938,0.7309707696787652,0.5957834374975318,0.3993460131431686,0.6712323209136848,0.5717314165925745,0.807875010428519,0.6187252103679571,0.5405453345127877,0.6535394079305198,0.7412140879883944,0.4830261741680046,0.32569140504496497,0.7028546070402935,1.0000000000000002,0.5764349051358765,0.38943518642008174,0.5387402341279863,0.6824920836395543,0.49469146835648603,0.7708053163557884,0.2924939787964746,0.6887769640307404,0.6227979841043988,0.5708825971636724,0.4080311809191927,0.7221617890455467,0.5627672623279805,0.6679429422698151,0.7117582739022603,0.43429413365391367,0.5363295240665937],[0.601820467606269,0.4252099411879767,0.5609443485187946,0.6130542321685457,0.3783487143670987,0.4299921728987133,0.42309884363585587,0.5757742533193658,0.5711979368034754,0.4199176678443726,0.6360540964984244,0.35584343179136685,0.540102625171963,0.4481091770456318,0.4759490311001142,0.4022278712447007,0.45263635530464125,0.34450233060393065,0.37608113393263876,0.54756966299149,0.5462011358969017,0.41842617420073175,0.5853029772898501,0.5964845659000112,0.3164340180797168,0.47208100340343956,0.40604104287453824,0.5167871693913972,0.4566214275485801,0.4706350645563334,0.5713272591345316,0.4527839048173105,0.3267770985656957,0.20773873613816568,0.47219794891394923,0.5764349051358765,0.9999999999999999,0.2878147281917401,0.3830322264237127,0.6116379247565444,0.4100489007403384,0.5328485156602359,0.265751347339898,0.4285959210769247,0.43307280628031014,0.6098746307449624,0.24324129400839406,0.5485279318430337,0.6296150244771661,0.5800406138045583,0.4270005754328531,0.3853717721474773,0.45655952030738445],[0.4679893218320261,0.2364581204902365,0.3736870108971469,0.3521484965773787,0.3285834716463963,0.21192583245879812,0.32103728305308515,0.3832898641660569,0.3908034602542552,0.5408131279615783,0.3356895970421058,0.36085470135030395,0.390773671685212,0.40837129783899034,0.3362295666486766,0.4306291465718401,0.4187891677140664,0.4639813813782476,0.4355559857903932,0.3553766540632414,0.42859508167366184,0.2169436329439287,0.36009446973935977,0.32337343033512084,0.3871283312388901,0.386667506337278,0.5116901185367184,0.3056158892519541,0.33902167602386174,0.1977616170196675,0.4308480805634726,0.2095768368642522,0.43962133729373853,0.2310798640489619,0.3087138009258962,0.38943518642008174,0.2878147281917401,1.0,0.5017068169674109,0.3651114912213194,0.3622715554108547,0.3697830862663757,0.3263469060219837,0.28690174486255987,0.28529025439586125,0.3834906086757078,0.4290689664485486,0.2754310387143415,0.32495103265262415,0.5041430715373255,0.34178978318573494,0.1968933998626022,0.44538650023857396],[0.6058065321564964,0.48675013058317573,0.5771740528808949,0.5305305065544537,0.3862822914213624,0.3014844651764535,0.5503063415134902,0.5252426411895956,0.5456363706849011,0.560329622520595,0.4130658258630659,0.306592784088402,0.5148617451053984,0.3995830576959011,0.44905567773401933,0.49084603163951807,0.486794122873736,0.4686031617341271,0.5136910625454782,0.5560071928661977,0.5381631524183366,0.44340691551736783,0.5375342869483797,0.4048959454011649,0.5099181436782516,0.6112119163370121,0.5712997049713906,0.4358530854338131,0.5236906629963718,0.4738964857897641,0.5734452753180381,0.44797664038713797,0.43639249670084923,0.28928158531885306,0.48513517082901897,0.5387402341279863,0.3830322264237127,0.5017068169674109,1.0000000000000009,0.5334710659403048,0.4432247672063542,0.507022761815272,0.6340726372730427,0.4340301303220947,0.4469507458729462,0.3650049615746376,0.41830793761552,0.4580087405795123,0.3811516923257513,0.5975217278625301,0.48615258449699605,0.4015202065507144,0.47290669815758896],[0.7566439853479829,0.6289612143891624,0.7076388887353815,0.627676924989492,0.47316080314461845,0.49011668599456104,0.5401727099313197,0.6765727627544931,0.6860305464430032,0.5642226860525512,0.6208857099957815,0.46212552788029654,0.6639719833596053,0.49986909663001716,0.6147043107769637,0.6075850768337019,0.6189458542511618,0.47602345201167934,0.5204445106061593,0.6750935328569284,0.8846735173502024,0.5560383732463224,0.6874035512942565,0.6198962500721275,0.5263219584428236,0.6607338107605314,0.6507494740576192,0.5898908546344669,0.6134695326879894,0.6281880946404905,0.6314229798211006,0.6330235493626362,0.432668173172877,0.33305717213309266,0.731839144110497,0.6824920836395543,0.6116379247565444,0.3651114912213194,0.5334710659403048,1.0000000000000013,0.5507878580688914,0.6720648896948284,0.31508950969591226,0.6267425931365597,0.6486904592662417,0.5646860782971929,0.4102221430395137,0.6300715228595966,0.5232841570181843,0.7078426182009407,0.6298605505097555,0.46283242676184067,0.6150566317821232],[0.5151764172962977,0.660377983084966,0.47491095099644587,0.37703711026935766,0.30053756821139566,0.29252861591143114,0.4086669671904292,0.5574831126697475,0.4376811244062267,0.4573122142885874,0.43014711862705635,0.33780828229097004,0.5329606443975535,0.3860545739903165,0.3941114071524551,0.4485410257986543,0.4017717988546362,0.2972173393592864,0.3995167317617324,0.4525805634708554,0.5178369351855816,0.3927157153928069,0.45187803386937087,0.4095709344389591,0.36721044629842825,0.40835605419777393,0.44178225813849953,0.45825732949056214,0.43750056380867686,0.4213129801383517,0.4095117087523738,0.6034810391984506,0.22453101757115138,0.12086678783564522,0.46216220387585466,0.49469146835648603,0.4100489007403384,0.3622715554108547,0.4432247672063542,0.5507878580688914,1.0000000000000007,0.5422590306687533,0.292414336398246,0.4118360795848096,0.4383057990548033,0.3513742822144732,0.3872376667460023,0.4762972602687942,0.34667417431780445,0.8144023507515954,0.4452997500503165,0.2368475602725702,0.3682165033448515],[0.8113742801055359,0.6987599591899899,0.7309727384046418,0.5438789791043402,0.3443277917302412,0.5069279765137797,0.544781603566482,0.8482769163908935,0.7233569759730569,0.5364494132324116,0.5984570288797252,0.504761539616323,0.757417834788288,0.5229272896200616,0.5742705626915665,0.511306978142122,0.5175278582189445,0.4614135928731198,0.45196575558523017,0.7651276219967115,0.6968278858559144,0.523396652581918,0.6991303856159929,0.5445527027549515,0.5071274390731259,0.7260482152974002,0.629852854100052,0.8040288310940134,0.6467905161796779,0.5824783870997955,0.5890324137300259,0.6948066771385843,0.37160789896379426,0.18975131178257484,0.78386069878135,0.7708053163557884,0.5328485156602359,0.3697830862663757,0.507022761815272,0.6720648896948284,0.5422590306687533,1.0,0.2900796806436588,0.6877269169536162,0.5594553652684895,0.4448438933862313,0.3593292751110911,0.8111169602660951,0.47520259786557995,0.7341071056728166,0.7212624682267295,0.36596029710746386,0.47333964372862236],[0.33935866496102324,0.30697317482392733,0.3341755638340472,0.35425748391231104,0.20089237447882244,0.20941815284099868,0.3635724005215212,0.2652476052719008,0.33152979507199787,0.3113881856980518,0.1866440583007752,0.16934297111899563,0.30204337166788947,0.2692942216056647,0.25820661548677915,0.2446635860097233,0.2525100135361726,0.34260475350774156,0.34015746245922684,0.31852365868659266,0.31117297577316927,0.301290674610205,0.28516097998489925,0.21950607060703944,0.3591971164437118,0.3151118518903257,0.32591563899707554,0.23932184562498043,0.37151039954752313,0.2659558247963171,0.27113793520744095,0.2177517187929052,0.3415490251192932,0.17675067895536134,0.30034577579822297,0.2924939787964746,0.265751347339898,0.3263469060219837,0.6340726372730427,0.31508950969591226,0.292414336398246,0.2900796806436588,1.0000000000000004,0.18990457817354592,0.25673742058187854,0.2237423248640746,0.25372945052964446,0.25960978761385,0.281122944981259,0.3947470892157229,0.29322895727791604,0.27397241987550897,0.2869316079206889],[0.707378276169583,0.5759471919264963,0.7070374701323653,0.46712442295900536,0.38701177989248936,0.5682526483817303,0.5426330946801514,0.7026781664879528,0.6035678457319746,0.523512012808226,0.5312243269401635,0.4411723625038782,0.7085134852687986,0.4777537870092998,0.6090797416413135,0.5038419076165409,0.5158441301176803,0.4787390770496663,0.4452350987171875,0.6598523082770249,0.6146324877452297,0.5476235791093084,0.6175278920430464,0.5877827690595048,0.4958855127890774,0.5769591777433888,0.6202196474629664,0.5770804033614401,0.6059991222365041,0.615485823937382,0.4984736851367247,0.6439023090454713,0.3797474587463532,0.238266491206257,0.6787036512484569,0.6887769640307404,0.4285959210769247,0.28690174486255987,0.4340301303220947,0.6267425931365597,0.4118360795848096,0.6877269169536162,0.18990457817354592,1.0000000000000007,0.531447274250733,0.4830153229230035,0.37207972606258016,0.5946170684679343,0.43857080666059645,0.5756137283070728,0.5394379584309443,0.3541533846572729,0.49190737582742416],[0.6263630509747318,0.540755860806427,0.6872258588974942,0.46650990993464536,0.5527926428923481,0.41180530207277766,0.4715957054069247,0.5510161716549424,0.5355970100785188,0.4970658491802519,0.5353346651559944,0.4086370975986977,0.7085104192025536,0.46651581907031703,0.5201957666665576,0.480761732179007,0.49329711331824466,0.43469160252113437,0.4821017126707429,0.6310821393339959,0.548693270149072,0.5902887122937527,0.571017875261266,0.4172995155240538,0.4785072133356994,0.5870094009768398,0.5234511444351405,0.5722797882815918,0.567429372904366,0.4834257906108423,0.5908783598048735,0.5484071116591227,0.23700798713886473,0.2820311034565942,0.6099404594724125,0.6227979841043988,0.43307280628031014,0.28529025439586125,0.4469507458729462,0.6486904592662417,0.4383057990548033,0.5594553652684895,0.25673742058187854,0.531447274250733,0.9999999999999991,0.37998445116451934,0.33924752597780394,0.5365184172032808,0.5273137992404494,0.5799310478156646,0.5585437677453797,0.23035494118807281,0.5098562857190937],[0.560574384979282,0.40503356161667825,0.47403547909284877,0.49651641018266035,0.3235978603332624,0.3483809287980719,0.5204752586227026,0.4781272809182139,0.5392516111417396,0.45438890341150157,0.40976349077423063,0.3065459542279512,0.5067075018591323,0.38102152620422236,0.5017934954894496,0.3406743881226342,0.4486667075223632,0.4057110918100283,0.31179079884381894,0.49075286382264843,0.5244156284259783,0.4107324882297129,0.48656938276559375,0.4998212223629616,0.2964514605893718,0.410903963121751,0.46420875289661123,0.44556933175968766,0.378837997996266,0.38004001391563136,0.4555855734704301,0.39352376992579163,0.4967197612591933,0.399524553007727,0.39700581259311846,0.5708825971636724,0.6098746307449624,0.3834906086757078,0.3650049615746376,0.5646860782971929,0.3513742822144732,0.4448438933862313,0.2237423248640746,0.4830153229230035,0.37998445116451934,0.9999999999999996,0.31464153486959656,0.4789947739097592,0.3537778915831883,0.49010613981425843,0.43897618565158214,0.4765816591436486,0.42355208804782307],[0.3484439562621385,0.3457354449390755,0.3017096073611137,0.2538985649512886,0.2969462320029251,0.1953737375768121,0.31223580157480774,0.3731057660579426,0.2749050053334225,0.38239084256147454,0.29902559804192824,0.2988304866938703,0.3913073170620662,0.3852212390804421,0.285232652886095,0.5145534640991084,0.3224513117478524,0.36664571557986747,0.4236301248371428,0.288053460460554,0.383897891203771,0.2457336304759477,0.3203079656465298,0.3407267143302251,0.4241383403114417,0.37824128336774565,0.4528365204569714,0.28981409030264016,0.33424059330312283,0.2954187615807345,0.2903408183643316,0.35874888853858244,0.12165921566813447,0.1303564752015955,0.3481840572012436,0.4080311809191927,0.24324129400839406,0.4290689664485486,0.41830793761552,0.4102221430395137,0.3872376667460023,0.3593292751110911,0.25372945052964446,0.37207972606258016,0.33924752597780394,0.31464153486959656,0.9999999999999998,0.29075706894799264,0.2374635702362783,0.38844612175928633,0.27753521651435414,0.09345688441806527,0.35709159529126905],[0.7515270264925831,0.7025340502213439,0.6751456455902305,0.5563714870214265,0.2756299737989485,0.44009680976000726,0.5563147340866657,0.7823122422147325,0.6563747489825001,0.46027945742457876,0.6088780610837642,0.42824914590730156,0.6327828055093841,0.38103584921055395,0.5206068010643837,0.4293388107301883,0.4617850737449198,0.32117268321021514,0.384703436627831,0.7533386958408524,0.5916392094999231,0.560013507161136,0.7037819691692907,0.5422130669458555,0.38066148557168134,0.6576941583159683,0.4798480715790122,0.8004750442387903,0.592586426142788,0.593120056140287,0.5857826157206191,0.6474672061836916,0.3182509937576091,0.2071109169844064,0.6857232057970344,0.7221617890455467,0.5485279318430337,0.2754310387143415,0.4580087405795123,0.6300715228595966,0.4762972602687942,0.8111169602660951,0.25960978761385,0.5946170684679343,0.5365184172032808,0.4789947739097592,0.29075706894799264,1.0000000000000002,0.5555377625076389,0.6828832165050979,0.6548153196068224,0.3703783598780194,0.47054976789494435],[0.6182329920659038,0.4049127582902027,0.5816236540627158,0.5175058102967223,0.5234180087783228,0.4453643670512029,0.3917192600793652,0.4985434137512813,0.5913627054832244,0.4650153851933663,0.6465405346729168,0.37220954227679515,0.46068431334351245,0.4934948006632043,0.5450546307047683,0.3705737319034009,0.4281064804131168,0.47682041433992073,0.4505052488918092,0.5625297413818059,0.501289853355212,0.4775092044277386,0.6123263481597959,0.5341769523449345,0.34109714630555477,0.4613989517231971,0.3975667679945639,0.46029916896503964,0.4253753833136895,0.4854472845219794,0.6058512810172544,0.4101388102035431,0.331651036636448,0.25277365203679414,0.4158300795367904,0.5627672623279805,0.6296150244771661,0.32495103265262415,0.3811516923257513,0.5232841570181843,0.34667417431780445,0.47520259786557995,0.281122944981259,0.43857080666059645,0.5273137992404494,0.3537778915831883,0.2374635702362783,0.5555377625076389,0.9999999999999997,0.5326802045140895,0.3977623203764624,0.27416302362572065,0.5948822088843733],[0.7264572073749294,0.6735221478078356,0.6792012269622064,0.5747374385207588,0.39973034873510294,0.39816884469165725,0.53593766301929,0.7480308937215672,0.6475880807810219,0.5581256794580407,0.6327239827136861,0.3964767153369299,0.6997371050196017,0.47237015968319285,0.5383934099384403,0.5648152506467767,0.5296894585886449,0.39616757498066185,0.4943581551952729,0.6632948891892501,0.6839060705865546,0.5237412549282573,0.6495259892203353,0.5362097730641792,0.485607449135891,0.6551569238391083,0.5926738568532779,0.6389563414434847,0.5930997148564335,0.567742583292884,0.6106075892865607,0.613407834000065,0.38227001623726603,0.2059588434998914,0.6404932721455823,0.6679429422698151,0.5800406138045583,0.5041430715373255,0.5975217278625301,0.7078426182009407,0.8144023507515954,0.7341071056728166,0.3947470892157229,0.5756137283070728,0.5799310478156646,0.49010613981425843,0.38844612175928633,0.6828832165050979,0.5326802045140895,1.0000000000000004,0.6307059095402745,0.35335196249989037,0.5071065227893304],[0.7230126498102607,0.6896651903937752,0.6118967708243429,0.5211067912787788,0.3283095294733905,0.4211054786129995,0.4909849118654828,0.7055271674202622,0.7295747255554155,0.4306683740695665,0.4963501420053611,0.49988436082046783,0.6486543292348679,0.4164523476625244,0.5257598620050389,0.46789877532145946,0.49126997846786763,0.34094307152775416,0.31378928335577905,0.6964161657140925,0.6396386360625675,0.5037183803804797,0.6194350329771166,0.4465655493464334,0.40725662560200077,0.6439662546063643,0.6078863735123704,0.7657321553722968,0.5316137440431445,0.439541354228044,0.4688117600414034,0.6489072022450143,0.36107418009940384,0.202822453256645,0.6626964368534753,0.7117582739022603,0.4270005754328531,0.34178978318573494,0.48615258449699605,0.6298605505097555,0.4452997500503165,0.7212624682267295,0.29322895727791604,0.5394379584309443,0.5585437677453797,0.43897618565158214,0.27753521651435414,0.6548153196068224,0.3977623203764624,0.6307059095402745,0.9999999999999996,0.3750733610071375,0.4288929324732805],[0.4736253688888947,0.3201327768361194,0.4399751885898257,0.5263006047604193,0.2216901788272488,0.37048625084951503,0.4519494562940072,0.4087801407110048,0.5955983912616714,0.39369578488468326,0.2902907244366155,0.38219576675123823,0.28956418124028743,0.2710332469911133,0.3890830462927224,0.39251570621060666,0.43295232883525503,0.2869026027110993,0.33108019242122605,0.4155682822559301,0.40575338410410833,0.35606866689160044,0.46226555202281405,0.4622203508737591,0.2730490702422416,0.4284738615857384,0.36109976207190325,0.36457768662570555,0.31048116501951617,0.36684322826850413,0.411443095012978,0.36440205513811785,0.6070311054763828,0.5507600083919181,0.3423188602071283,0.43429413365391367,0.3853717721474773,0.1968933998626022,0.4015202065507144,0.46283242676184067,0.2368475602725702,0.36596029710746386,0.27397241987550897,0.3541533846572729,0.23035494118807281,0.4765816591436486,0.09345688441806527,0.3703783598780194,0.27416302362572065,0.35335196249989037,0.3750733610071375,1.0000000000000004,0.3652680658906819],[0.6808339568313748,0.41289990161151635,0.6195756307070406,0.5414173503920238,0.5694452992252088,0.5393890708361249,0.423991943802366,0.47451987609749424,0.5659864538345508,0.6620578683683693,0.47501503721023625,0.5276993965069557,0.5282583130591949,0.6191507052640332,0.5469403210165407,0.5530937082922831,0.66245934757618,0.6047807335646875,0.6334750658868062,0.5582869886460118,0.6378334404668711,0.4682637459873542,0.6312650380845409,0.5340700853856479,0.4824162529610696,0.5371652555915595,0.5418706773153898,0.455667216552828,0.477498519576032,0.4112707337506815,0.5792776057942772,0.4392983813679301,0.42940347821065417,0.28848267501511343,0.4344355997899926,0.5363295240665937,0.45655952030738445,0.44538650023857396,0.47290669815758896,0.6150566317821232,0.3682165033448515,0.47333964372862236,0.2869316079206889,0.49190737582742416,0.5098562857190937,0.42355208804782307,0.35709159529126905,0.47054976789494435,0.5948822088843733,0.5071065227893304,0.4288929324732805,0.3652680658906819,0.9999999999999996]],\"type\":\"heatmap\",\"xaxis\":\"x\",\"yaxis\":\"y\",\"hovertemplate\":\"x: %{x}<br>y: %{y}<br>Similarity Score: %{z}<extra></extra>\"}],                        {\"template\":{\"data\":{\"bar\":[{\"error_x\":{\"color\":\"#2a3f5f\"},\"error_y\":{\"color\":\"#2a3f5f\"},\"marker\":{\"line\":{\"color\":\"#E5ECF6\",\"width\":0.5},\"pattern\":{\"fillmode\":\"overlay\",\"size\":10,\"solidity\":0.2}},\"type\":\"bar\"}],\"barpolar\":[{\"marker\":{\"line\":{\"color\":\"#E5ECF6\",\"width\":0.5},\"pattern\":{\"fillmode\":\"overlay\",\"size\":10,\"solidity\":0.2}},\"type\":\"barpolar\"}],\"carpet\":[{\"aaxis\":{\"endlinecolor\":\"#2a3f5f\",\"gridcolor\":\"white\",\"linecolor\":\"white\",\"minorgridcolor\":\"white\",\"startlinecolor\":\"#2a3f5f\"},\"baxis\":{\"endlinecolor\":\"#2a3f5f\",\"gridcolor\":\"white\",\"linecolor\":\"white\",\"minorgridcolor\":\"white\",\"startlinecolor\":\"#2a3f5f\"},\"type\":\"carpet\"}],\"choropleth\":[{\"colorbar\":{\"outlinewidth\":0,\"ticks\":\"\"},\"type\":\"choropleth\"}],\"contour\":[{\"colorbar\":{\"outlinewidth\":0,\"ticks\":\"\"},\"colorscale\":[[0.0,\"#0d0887\"],[0.1111111111111111,\"#46039f\"],[0.2222222222222222,\"#7201a8\"],[0.3333333333333333,\"#9c179e\"],[0.4444444444444444,\"#bd3786\"],[0.5555555555555556,\"#d8576b\"],[0.6666666666666666,\"#ed7953\"],[0.7777777777777778,\"#fb9f3a\"],[0.8888888888888888,\"#fdca26\"],[1.0,\"#f0f921\"]],\"type\":\"contour\"}],\"contourcarpet\":[{\"colorbar\":{\"outlinewidth\":0,\"ticks\":\"\"},\"type\":\"contourcarpet\"}],\"heatmap\":[{\"colorbar\":{\"outlinewidth\":0,\"ticks\":\"\"},\"colorscale\":[[0.0,\"#0d0887\"],[0.1111111111111111,\"#46039f\"],[0.2222222222222222,\"#7201a8\"],[0.3333333333333333,\"#9c179e\"],[0.4444444444444444,\"#bd3786\"],[0.5555555555555556,\"#d8576b\"],[0.6666666666666666,\"#ed7953\"],[0.7777777777777778,\"#fb9f3a\"],[0.8888888888888888,\"#fdca26\"],[1.0,\"#f0f921\"]],\"type\":\"heatmap\"}],\"heatmapgl\":[{\"colorbar\":{\"outlinewidth\":0,\"ticks\":\"\"},\"colorscale\":[[0.0,\"#0d0887\"],[0.1111111111111111,\"#46039f\"],[0.2222222222222222,\"#7201a8\"],[0.3333333333333333,\"#9c179e\"],[0.4444444444444444,\"#bd3786\"],[0.5555555555555556,\"#d8576b\"],[0.6666666666666666,\"#ed7953\"],[0.7777777777777778,\"#fb9f3a\"],[0.8888888888888888,\"#fdca26\"],[1.0,\"#f0f921\"]],\"type\":\"heatmapgl\"}],\"histogram\":[{\"marker\":{\"pattern\":{\"fillmode\":\"overlay\",\"size\":10,\"solidity\":0.2}},\"type\":\"histogram\"}],\"histogram2d\":[{\"colorbar\":{\"outlinewidth\":0,\"ticks\":\"\"},\"colorscale\":[[0.0,\"#0d0887\"],[0.1111111111111111,\"#46039f\"],[0.2222222222222222,\"#7201a8\"],[0.3333333333333333,\"#9c179e\"],[0.4444444444444444,\"#bd3786\"],[0.5555555555555556,\"#d8576b\"],[0.6666666666666666,\"#ed7953\"],[0.7777777777777778,\"#fb9f3a\"],[0.8888888888888888,\"#fdca26\"],[1.0,\"#f0f921\"]],\"type\":\"histogram2d\"}],\"histogram2dcontour\":[{\"colorbar\":{\"outlinewidth\":0,\"ticks\":\"\"},\"colorscale\":[[0.0,\"#0d0887\"],[0.1111111111111111,\"#46039f\"],[0.2222222222222222,\"#7201a8\"],[0.3333333333333333,\"#9c179e\"],[0.4444444444444444,\"#bd3786\"],[0.5555555555555556,\"#d8576b\"],[0.6666666666666666,\"#ed7953\"],[0.7777777777777778,\"#fb9f3a\"],[0.8888888888888888,\"#fdca26\"],[1.0,\"#f0f921\"]],\"type\":\"histogram2dcontour\"}],\"mesh3d\":[{\"colorbar\":{\"outlinewidth\":0,\"ticks\":\"\"},\"type\":\"mesh3d\"}],\"parcoords\":[{\"line\":{\"colorbar\":{\"outlinewidth\":0,\"ticks\":\"\"}},\"type\":\"parcoords\"}],\"pie\":[{\"automargin\":true,\"type\":\"pie\"}],\"scatter\":[{\"marker\":{\"colorbar\":{\"outlinewidth\":0,\"ticks\":\"\"}},\"type\":\"scatter\"}],\"scatter3d\":[{\"line\":{\"colorbar\":{\"outlinewidth\":0,\"ticks\":\"\"}},\"marker\":{\"colorbar\":{\"outlinewidth\":0,\"ticks\":\"\"}},\"type\":\"scatter3d\"}],\"scattercarpet\":[{\"marker\":{\"colorbar\":{\"outlinewidth\":0,\"ticks\":\"\"}},\"type\":\"scattercarpet\"}],\"scattergeo\":[{\"marker\":{\"colorbar\":{\"outlinewidth\":0,\"ticks\":\"\"}},\"type\":\"scattergeo\"}],\"scattergl\":[{\"marker\":{\"colorbar\":{\"outlinewidth\":0,\"ticks\":\"\"}},\"type\":\"scattergl\"}],\"scattermapbox\":[{\"marker\":{\"colorbar\":{\"outlinewidth\":0,\"ticks\":\"\"}},\"type\":\"scattermapbox\"}],\"scatterpolar\":[{\"marker\":{\"colorbar\":{\"outlinewidth\":0,\"ticks\":\"\"}},\"type\":\"scatterpolar\"}],\"scatterpolargl\":[{\"marker\":{\"colorbar\":{\"outlinewidth\":0,\"ticks\":\"\"}},\"type\":\"scatterpolargl\"}],\"scatterternary\":[{\"marker\":{\"colorbar\":{\"outlinewidth\":0,\"ticks\":\"\"}},\"type\":\"scatterternary\"}],\"surface\":[{\"colorbar\":{\"outlinewidth\":0,\"ticks\":\"\"},\"colorscale\":[[0.0,\"#0d0887\"],[0.1111111111111111,\"#46039f\"],[0.2222222222222222,\"#7201a8\"],[0.3333333333333333,\"#9c179e\"],[0.4444444444444444,\"#bd3786\"],[0.5555555555555556,\"#d8576b\"],[0.6666666666666666,\"#ed7953\"],[0.7777777777777778,\"#fb9f3a\"],[0.8888888888888888,\"#fdca26\"],[1.0,\"#f0f921\"]],\"type\":\"surface\"}],\"table\":[{\"cells\":{\"fill\":{\"color\":\"#EBF0F8\"},\"line\":{\"color\":\"white\"}},\"header\":{\"fill\":{\"color\":\"#C8D4E3\"},\"line\":{\"color\":\"white\"}},\"type\":\"table\"}]},\"layout\":{\"annotationdefaults\":{\"arrowcolor\":\"#2a3f5f\",\"arrowhead\":0,\"arrowwidth\":1},\"autotypenumbers\":\"strict\",\"coloraxis\":{\"colorbar\":{\"outlinewidth\":0,\"ticks\":\"\"}},\"colorscale\":{\"diverging\":[[0,\"#8e0152\"],[0.1,\"#c51b7d\"],[0.2,\"#de77ae\"],[0.3,\"#f1b6da\"],[0.4,\"#fde0ef\"],[0.5,\"#f7f7f7\"],[0.6,\"#e6f5d0\"],[0.7,\"#b8e186\"],[0.8,\"#7fbc41\"],[0.9,\"#4d9221\"],[1,\"#276419\"]],\"sequential\":[[0.0,\"#0d0887\"],[0.1111111111111111,\"#46039f\"],[0.2222222222222222,\"#7201a8\"],[0.3333333333333333,\"#9c179e\"],[0.4444444444444444,\"#bd3786\"],[0.5555555555555556,\"#d8576b\"],[0.6666666666666666,\"#ed7953\"],[0.7777777777777778,\"#fb9f3a\"],[0.8888888888888888,\"#fdca26\"],[1.0,\"#f0f921\"]],\"sequentialminus\":[[0.0,\"#0d0887\"],[0.1111111111111111,\"#46039f\"],[0.2222222222222222,\"#7201a8\"],[0.3333333333333333,\"#9c179e\"],[0.4444444444444444,\"#bd3786\"],[0.5555555555555556,\"#d8576b\"],[0.6666666666666666,\"#ed7953\"],[0.7777777777777778,\"#fb9f3a\"],[0.8888888888888888,\"#fdca26\"],[1.0,\"#f0f921\"]]},\"colorway\":[\"#636efa\",\"#EF553B\",\"#00cc96\",\"#ab63fa\",\"#FFA15A\",\"#19d3f3\",\"#FF6692\",\"#B6E880\",\"#FF97FF\",\"#FECB52\"],\"font\":{\"color\":\"#2a3f5f\"},\"geo\":{\"bgcolor\":\"white\",\"lakecolor\":\"white\",\"landcolor\":\"#E5ECF6\",\"showlakes\":true,\"showland\":true,\"subunitcolor\":\"white\"},\"hoverlabel\":{\"align\":\"left\"},\"hovermode\":\"closest\",\"mapbox\":{\"style\":\"light\"},\"paper_bgcolor\":\"white\",\"plot_bgcolor\":\"#E5ECF6\",\"polar\":{\"angularaxis\":{\"gridcolor\":\"white\",\"linecolor\":\"white\",\"ticks\":\"\"},\"bgcolor\":\"#E5ECF6\",\"radialaxis\":{\"gridcolor\":\"white\",\"linecolor\":\"white\",\"ticks\":\"\"}},\"scene\":{\"xaxis\":{\"backgroundcolor\":\"#E5ECF6\",\"gridcolor\":\"white\",\"gridwidth\":2,\"linecolor\":\"white\",\"showbackground\":true,\"ticks\":\"\",\"zerolinecolor\":\"white\"},\"yaxis\":{\"backgroundcolor\":\"#E5ECF6\",\"gridcolor\":\"white\",\"gridwidth\":2,\"linecolor\":\"white\",\"showbackground\":true,\"ticks\":\"\",\"zerolinecolor\":\"white\"},\"zaxis\":{\"backgroundcolor\":\"#E5ECF6\",\"gridcolor\":\"white\",\"gridwidth\":2,\"linecolor\":\"white\",\"showbackground\":true,\"ticks\":\"\",\"zerolinecolor\":\"white\"}},\"shapedefaults\":{\"line\":{\"color\":\"#2a3f5f\"}},\"ternary\":{\"aaxis\":{\"gridcolor\":\"white\",\"linecolor\":\"white\",\"ticks\":\"\"},\"baxis\":{\"gridcolor\":\"white\",\"linecolor\":\"white\",\"ticks\":\"\"},\"bgcolor\":\"#E5ECF6\",\"caxis\":{\"gridcolor\":\"white\",\"linecolor\":\"white\",\"ticks\":\"\"}},\"title\":{\"x\":0.05},\"xaxis\":{\"automargin\":true,\"gridcolor\":\"white\",\"linecolor\":\"white\",\"ticks\":\"\",\"title\":{\"standoff\":15},\"zerolinecolor\":\"white\",\"zerolinewidth\":2},\"yaxis\":{\"automargin\":true,\"gridcolor\":\"white\",\"linecolor\":\"white\",\"ticks\":\"\",\"title\":{\"standoff\":15},\"zerolinecolor\":\"white\",\"zerolinewidth\":2}}},\"xaxis\":{\"anchor\":\"y\",\"domain\":[0.0,1.0],\"scaleanchor\":\"y\",\"constrain\":\"domain\"},\"yaxis\":{\"anchor\":\"x\",\"domain\":[0.0,1.0],\"autorange\":\"reversed\",\"constrain\":\"domain\"},\"coloraxis\":{\"colorbar\":{\"title\":{\"text\":\"Similarity Score\"}},\"colorscale\":[[0.0,\"rgb(247,252,240)\"],[0.125,\"rgb(224,243,219)\"],[0.25,\"rgb(204,235,197)\"],[0.375,\"rgb(168,221,181)\"],[0.5,\"rgb(123,204,196)\"],[0.625,\"rgb(78,179,211)\"],[0.75,\"rgb(43,140,190)\"],[0.875,\"rgb(8,104,172)\"],[1.0,\"rgb(8,64,129)\"]]},\"margin\":{\"t\":60},\"title\":{\"font\":{\"size\":22,\"color\":\"Black\"},\"text\":\"<b>Similarity Matrix\",\"y\":0.95,\"x\":0.55,\"xanchor\":\"center\",\"yanchor\":\"top\"},\"hoverlabel\":{\"font\":{\"size\":16,\"family\":\"Rockwell\"},\"bgcolor\":\"white\"},\"width\":800,\"height\":800,\"showlegend\":true,\"legend\":{\"title\":{\"text\":\"Trend\"}}},                        {\"responsive\": true}                    ).then(function(){\n",
              "                            \n",
              "var gd = document.getElementById('017d497b-19c1-4b23-a72e-c8ebc5fa8116');\n",
              "var x = new MutationObserver(function (mutations, observer) {{\n",
              "        var display = window.getComputedStyle(gd).display;\n",
              "        if (!display || display === 'none') {{\n",
              "            console.log([gd, 'removed!']);\n",
              "            Plotly.purge(gd);\n",
              "            observer.disconnect();\n",
              "        }}\n",
              "}});\n",
              "\n",
              "// Listen for the removal of the full notebook cells\n",
              "var notebookContainer = gd.closest('#notebook-container');\n",
              "if (notebookContainer) {{\n",
              "    x.observe(notebookContainer, {childList: true});\n",
              "}}\n",
              "\n",
              "// Listen for the clearing of the current output cell\n",
              "var outputEl = gd.closest('.output');\n",
              "if (outputEl) {{\n",
              "    x.observe(outputEl, {childList: true});\n",
              "}}\n",
              "\n",
              "                        })                };                            </script>        </div>\n",
              "</body>\n",
              "</html>"
            ]
          },
          "metadata": {}
        }
      ],
      "source": [
        "topic_model.visualize_heatmap()"
      ]
    },
    {
      "cell_type": "code",
      "execution_count": null,
      "metadata": {
        "id": "ebN3Jxl8AEN9",
        "colab": {
          "base_uri": "https://localhost:8080/",
          "height": 1000
        },
        "outputId": "c0a92392-7e40-4ac0-ffc1-aa1b2ae57938"
      },
      "outputs": [
        {
          "output_type": "display_data",
          "data": {
            "text/html": [
              "<html>\n",
              "<head><meta charset=\"utf-8\" /></head>\n",
              "<body>\n",
              "    <div>            <script src=\"https://cdnjs.cloudflare.com/ajax/libs/mathjax/2.7.5/MathJax.js?config=TeX-AMS-MML_SVG\"></script><script type=\"text/javascript\">if (window.MathJax) {MathJax.Hub.Config({SVG: {font: \"STIX-Web\"}});}</script>                <script type=\"text/javascript\">window.PlotlyConfig = {MathJaxConfig: 'local'};</script>\n",
              "        <script src=\"https://cdn.plot.ly/plotly-2.8.3.min.js\"></script>                <div id=\"aa680c66-129c-4572-9c91-f4240508df69\" class=\"plotly-graph-div\" style=\"height:3250px; width:1000px;\"></div>            <script type=\"text/javascript\">                                    window.PLOTLYENV=window.PLOTLYENV || {};                                    if (document.getElementById(\"aa680c66-129c-4572-9c91-f4240508df69\")) {                    Plotly.newPlot(                        \"aa680c66-129c-4572-9c91-f4240508df69\",                        [{\"marker\":{\"color\":\"#D55E00\"},\"orientation\":\"h\",\"x\":[0.05632303728829824,0.06459620926067657,0.12605096552155792,0.14971915224284404,0.44568966633910956],\"y\":[\"nice  \",\"honor  \",\"2020  \",\"kag  \",\"thank  \"],\"type\":\"bar\",\"xaxis\":\"x\",\"yaxis\":\"y\"},{\"marker\":{\"color\":\"#0072B2\"},\"orientation\":\"h\",\"x\":[0.06022882002119331,0.06463524860786374,0.07705200657309204,0.08591596632098247,0.09255539784558423],\"y\":[\"vets  \",\"amendment  \",\"total  \",\"complete  \",\"endorsement  \"],\"type\":\"bar\",\"xaxis\":\"x2\",\"yaxis\":\"y2\"},{\"marker\":{\"color\":\"#CC79A7\"},\"orientation\":\"h\",\"x\":[0.034929782025937814,0.04714032831004846,0.050179364841358126,0.06767294028796017,0.0946350139443315],\"y\":[\"security  \",\"mexico  \",\"southern  \",\"wall  \",\"border  \"],\"type\":\"bar\",\"xaxis\":\"x3\",\"yaxis\":\"y3\"},{\"marker\":{\"color\":\"#E69F00\"},\"orientation\":\"h\",\"x\":[0.04347474285961982,0.0465042515213615,0.055231987310708976,0.07229182306599162,0.07930330037080063],\"y\":[\"ballot  \",\"votes  \",\"rigged  \",\"election  \",\"ballots  \"],\"type\":\"bar\",\"xaxis\":\"x4\",\"yaxis\":\"y4\"},{\"marker\":{\"color\":\"#56B4E9\"},\"orientation\":\"h\",\"x\":[0.026585671866005543,0.027305156913479907,0.04739530739817863,0.09284033130715276,0.10027152475259239],\"y\":[\"wins  \",\"fracking  \",\"sleepy  \",\"joe  \",\"biden  \"],\"type\":\"bar\",\"xaxis\":\"x5\",\"yaxis\":\"y5\"},{\"marker\":{\"color\":\"#009E73\"},\"orientation\":\"h\",\"x\":[0.03673448885778236,0.040534498934180166,0.04236192311490563,0.06096686173518831,0.09994595577982444],\"y\":[\"farmers  \",\"trade  \",\"deal  \",\"tariffs  \",\"china  \"],\"type\":\"bar\",\"xaxis\":\"x6\",\"yaxis\":\"y6\"},{\"marker\":{\"color\":\"#F0E442\"},\"orientation\":\"h\",\"x\":[0.0256080053782419,0.029549699804926582,0.0354926581504323,0.05141518538370562,0.0935979793596265],\"y\":[\"new  \",\"number  \",\"congratulations  \",\"great  \",\"book  \"],\"type\":\"bar\",\"xaxis\":\"x7\",\"yaxis\":\"y7\"},{\"marker\":{\"color\":\"#D55E00\"},\"orientation\":\"h\",\"x\":[0.0340768723213792,0.0392607825699883,0.03963652859910307,0.041941244752642645,0.04395389445561188],\"y\":[\"venezuela  \",\"nation  \",\"today  \",\"god  \",\"honor  \"],\"type\":\"bar\",\"xaxis\":\"x8\",\"yaxis\":\"y8\"},{\"marker\":{\"color\":\"#0072B2\"},\"orientation\":\"h\",\"x\":[0.03570948259705528,0.041643408199129435,0.060912223064661375,0.06254474204440588,0.1419666367039689],\"y\":[\"robert  \",\"obstruction  \",\"collusion  \",\"report  \",\"mueller  \"],\"type\":\"bar\",\"xaxis\":\"x9\",\"yaxis\":\"y9\"},{\"marker\":{\"color\":\"#CC79A7\"},\"orientation\":\"h\",\"x\":[0.05788887310971628,0.06454961485770878,0.06669870711109319,0.06955423582585717,0.08494793683159532],\"y\":[\"crowd  \",\"florida  \",\"ohio  \",\"wisconsin  \",\"pennsylvania  \"],\"type\":\"bar\",\"xaxis\":\"x10\",\"yaxis\":\"y10\"},{\"marker\":{\"color\":\"#E69F00\"},\"orientation\":\"h\",\"x\":[0.03311766937890234,0.03555238264600757,0.03600282752634996,0.09729658206088161,0.13050619755439144],\"y\":[\"crazy  \",\"chuck  \",\"cryin  \",\"pelosi  \",\"nancy  \"],\"type\":\"bar\",\"xaxis\":\"x11\",\"yaxis\":\"y11\"},{\"marker\":{\"color\":\"#56B4E9\"},\"orientation\":\"h\",\"x\":[0.04405121957661493,0.04407347979431027,0.07783510408189474,0.0789304500173373,0.15734962642017875],\"y\":[\"msdnc  \",\"cnn  \",\"morning  \",\"wow  \",\"ratings  \"],\"type\":\"bar\",\"xaxis\":\"x12\",\"yaxis\":\"y12\"},{\"marker\":{\"color\":\"#009E73\"},\"orientation\":\"h\",\"x\":[0.04627670139395398,0.049399402080882414,0.06766707616714593,0.10012536352130207,0.11999828858091148],\"y\":[\"comey  \",\"fbi  \",\"clinton  \",\"crooked  \",\"hillary  \"],\"type\":\"bar\",\"xaxis\":\"x13\",\"yaxis\":\"y13\"},{\"marker\":{\"color\":\"#F0E442\"},\"orientation\":\"h\",\"x\":[0.02033333812475704,0.033397966951687064,0.0717928782836499,0.07458059650887722,0.13384957004104808],\"y\":[\"black  \",\"via  \",\"president  \",\"donald  \",\"trump  \"],\"type\":\"bar\",\"xaxis\":\"x14\",\"yaxis\":\"y14\"},{\"marker\":{\"color\":\"#D55E00\"},\"orientation\":\"h\",\"x\":[0.04647724273065749,0.06313697301029937,0.0643122571430604,0.12123776616397652,0.16592021973943735],\"y\":[\"transcripts  \",\"shifty  \",\"read  \",\"adam  \",\"schiff  \"],\"type\":\"bar\",\"xaxis\":\"x15\",\"yaxis\":\"y15\"},{\"marker\":{\"color\":\"#0072B2\"},\"orientation\":\"h\",\"x\":[0.022834168364788077,0.030125343872528524,0.04239367476588374,0.09982400599582994,0.10099206653291995],\"y\":[\"partner  \",\"media  \",\"democrats  \",\"radical  \",\"left  \"],\"type\":\"bar\",\"xaxis\":\"x16\",\"yaxis\":\"y16\"},{\"marker\":{\"color\":\"#CC79A7\"},\"orientation\":\"h\",\"x\":[0.052299229852673615,0.05569758347646573,0.0566878925080535,0.0720081756180233,0.08556610205264527],\"y\":[\"spying  \",\"obamagate  \",\"campaign  \",\"presidential  \",\"harassment  \"],\"type\":\"bar\",\"xaxis\":\"x17\",\"yaxis\":\"y17\"},{\"marker\":{\"color\":\"#E69F00\"},\"orientation\":\"h\",\"x\":[0.02315816491036439,0.02581660920513808,0.02960047675047955,0.11594997236755282,0.1680342255273312],\"y\":[\"democrats  \",\"trial  \",\"hoax  \",\"rt  \",\"impeachment  \"],\"type\":\"bar\",\"xaxis\":\"x18\",\"yaxis\":\"y18\"},{\"marker\":{\"color\":\"#56B4E9\"},\"orientation\":\"h\",\"x\":[0.04278391486507329,0.048468654005685646,0.050428197022313014,0.05970944767840313,0.13916391162374234],\"y\":[\"unemployment  \",\"history  \",\"ever  \",\"economy  \",\"best  \"],\"type\":\"bar\",\"xaxis\":\"x19\",\"yaxis\":\"y19\"},{\"marker\":{\"color\":\"#009E73\"},\"orientation\":\"h\",\"x\":[0.01864170631004002,0.021888256007977308,0.021961283224004546,0.10512202589931387,0.13668194981670978],\"y\":[\"today  \",\"conference  \",\"news  \",\"house  \",\"white  \"],\"type\":\"bar\",\"xaxis\":\"x20\",\"yaxis\":\"y20\"},{\"marker\":{\"color\":\"#F0E442\"},\"orientation\":\"h\",\"x\":[0.05905667135040681,0.0715992309494109,0.07599625390216402,0.08991807315067939,0.09758356112624335],\"y\":[\"inflation  \",\"interest  \",\"rates  \",\"reserve  \",\"fed  \"],\"type\":\"bar\",\"xaxis\":\"x21\",\"yaxis\":\"y21\"},{\"marker\":{\"color\":\"#D55E00\"},\"orientation\":\"h\",\"x\":[0.0893967593499396,0.10805131399407104,0.11792762168060661,0.2054208283632898,0.3423697579325642],\"y\":[\"keep  \",\"great  \",\"get  \",\"make  \",\"america  \"],\"type\":\"bar\",\"xaxis\":\"x22\",\"yaxis\":\"y22\"},{\"marker\":{\"color\":\"#0072B2\"},\"orientation\":\"h\",\"x\":[0.04467058147308742,0.053485912223431055,0.06296195903944764,0.06406132519850075,0.08382644933563833],\"y\":[\"mayor  \",\"agitators  \",\"portland  \",\"guard  \",\"anarchists  \"],\"type\":\"bar\",\"xaxis\":\"x23\",\"yaxis\":\"y23\"},{\"marker\":{\"color\":\"#CC79A7\"},\"orientation\":\"h\",\"x\":[0.05886485770953262,0.07588853455132803,0.07775337425424705,0.11100541774168364,0.13056405538926255],\"y\":[\"news  \",\"corrupt  \",\"fake  \",\"lamestream  \",\"media  \"],\"type\":\"bar\",\"xaxis\":\"x24\",\"yaxis\":\"y24\"},{\"marker\":{\"color\":\"#E69F00\"},\"orientation\":\"h\",\"x\":[0.17780355083523802,0.25736293273380023,0.2608510799345942,0.40975166763481036,0.8766436075421346],\"y\":[\"correct  \",\"100  \",\"yes  \",\"agree  \",\"true  \"],\"type\":\"bar\",\"xaxis\":\"x25\",\"yaxis\":\"y25\"},{\"marker\":{\"color\":\"#56B4E9\"},\"orientation\":\"h\",\"x\":[0.03117601768170807,0.03971125824470277,0.05098003300385231,0.17274567637877394,0.18595241346996585],\"y\":[\"story  \",\"enemy  \",\"media  \",\"news  \",\"fake  \"],\"type\":\"bar\",\"xaxis\":\"x26\",\"yaxis\":\"y26\"},{\"marker\":{\"color\":\"#009E73\"},\"orientation\":\"h\",\"x\":[0.0790299463919986,0.08396064850867437,0.08735303330697435,0.17375439164411166,0.30938721124840546],\"y\":[\"champion  \",\"going  \",\"proud  \",\"great  \",\"congratulations  \"],\"type\":\"bar\",\"xaxis\":\"x27\",\"yaxis\":\"y27\"},{\"marker\":{\"color\":\"#F0E442\"},\"orientation\":\"h\",\"x\":[0.08520889280437537,0.08623314220882188,0.09280758857179204,0.19149812971142358,0.20060828258736596],\"y\":[\"high  \",\"nasdaq  \",\"record  \",\"market  \",\"stock  \"],\"type\":\"bar\",\"xaxis\":\"x28\",\"yaxis\":\"y28\"},{\"marker\":{\"color\":\"#D55E00\"},\"orientation\":\"h\",\"x\":[0.0614248625615774,0.06169408633390878,0.06184321681530339,0.08402765880246033,0.08476932557638037],\"y\":[\"funds  \",\"funding  \",\"area  \",\"transit  \",\"bus  \"],\"type\":\"bar\",\"xaxis\":\"x29\",\"yaxis\":\"y29\"},{\"marker\":{\"color\":\"#0072B2\"},\"orientation\":\"h\",\"x\":[0.040517341487163835,0.042558785757629135,0.04666210113144283,0.13595270268362414,0.14079436717577357],\"y\":[\"daca  \",\"judges  \",\"justices  \",\"supreme  \",\"court  \"],\"type\":\"bar\",\"xaxis\":\"x30\",\"yaxis\":\"y30\"},{\"marker\":{\"color\":\"#CC79A7\"},\"orientation\":\"h\",\"x\":[0.10926572505488918,0.1134479962701586,0.1480109055177352,0.1535426585580394,0.49803276322605894],\"y\":[\"david  \",\"true  \",\"thanks  \",\"franklin  \",\"thank  \"],\"type\":\"bar\",\"xaxis\":\"x31\",\"yaxis\":\"y31\"},{\"marker\":{\"color\":\"#E69F00\"},\"orientation\":\"h\",\"x\":[0.04815944491779233,0.07419152770798304,0.09205155875221327,0.09537290018703745,0.11589919790272327],\"y\":[\"caliphate  \",\"syria  \",\"kurds  \",\"turkey  \",\"isis  \"],\"type\":\"bar\",\"xaxis\":\"x32\",\"yaxis\":\"y32\"},{\"marker\":{\"color\":\"#56B4E9\"},\"orientation\":\"h\",\"x\":[0.028413996905183772,0.03856669192581366,0.047137067909327805,0.05575202881710744,0.23211471908048945],\"y\":[\"attack  \",\"nuclear  \",\"sanctions  \",\"iranian  \",\"iran  \"],\"type\":\"bar\",\"xaxis\":\"x33\",\"yaxis\":\"y33\"},{\"marker\":{\"color\":\"#009E73\"},\"orientation\":\"h\",\"x\":[0.18214257484173907,0.3222461969279567,0.33612150284078585,0.5368049837669976,0.5940339987011252],\"y\":[\"eastern  \",\"tonight  \",\"900  \",\"enjoy  \",\"interviewed  \"],\"type\":\"bar\",\"xaxis\":\"x34\",\"yaxis\":\"y34\"},{\"marker\":{\"color\":\"#F0E442\"},\"orientation\":\"h\",\"x\":[0.05938772604251415,0.06355175812359992,0.06773183182168763,0.09576040726473146,0.12499468246809005],\"y\":[\"congratulations  \",\"welcome  \",\"honor  \",\"general  \",\"flynn  \"],\"type\":\"bar\",\"xaxis\":\"x35\",\"yaxis\":\"y35\"},{\"marker\":{\"color\":\"#D55E00\"},\"orientation\":\"h\",\"x\":[0.06282193811657673,0.06527905539918043,0.06877048084294354,0.15001195675529605,0.18793714685996285],\"y\":[\"dorian  \",\"hurricane  \",\"bishop  \",\"north  \",\"carolina  \"],\"type\":\"bar\",\"xaxis\":\"x36\",\"yaxis\":\"y36\"},{\"marker\":{\"color\":\"#0072B2\"},\"orientation\":\"h\",\"x\":[0.04306081722274417,0.05429484913491989,0.05506235516017498,0.24289535395484474,0.24541887813270732],\"y\":[\"continues  \",\"history  \",\"collusion  \",\"witch  \",\"hunt  \"],\"type\":\"bar\",\"xaxis\":\"x37\",\"yaxis\":\"y37\"},{\"marker\":{\"color\":\"#CC79A7\"},\"orientation\":\"h\",\"x\":[0.047945145959268444,0.05600276810906502,0.06901139337847692,0.09761222231917249,0.10799366591297956],\"y\":[\"deaths  \",\"open  \",\"vaccines  \",\"cases  \",\"testing  \"],\"type\":\"bar\",\"xaxis\":\"x38\",\"yaxis\":\"y38\"},{\"marker\":{\"color\":\"#E69F00\"},\"orientation\":\"h\",\"x\":[0.17863521620587552,0.20279224653644284,0.24106516933978786,0.3034348421407162,0.38063791796071533],\"y\":[\"530  \",\"eastern  \",\"house  \",\"white  \",\"conference  \"],\"type\":\"bar\",\"xaxis\":\"x39\",\"yaxis\":\"y39\"},{\"marker\":{\"color\":\"#56B4E9\"},\"orientation\":\"h\",\"x\":[0.0632534046334941,0.06341617448248998,0.07198917768538109,0.4131147344732286,0.8442417671549918],\"y\":[\"jobs  \",\"maine  \",\"pennsylvania  \",\"thank  \",\"maga  \"],\"type\":\"bar\",\"xaxis\":\"x40\",\"yaxis\":\"y40\"},{\"marker\":{\"color\":\"#009E73\"},\"orientation\":\"h\",\"x\":[0.08952547605005778,0.09559327272412631,0.13946840800865148,0.2220275589947167,0.24236450743269333],\"y\":[\"evening  \",\"incredible  \",\"great  \",\"amazing  \",\"job  \"],\"type\":\"bar\",\"xaxis\":\"x41\",\"yaxis\":\"y41\"},{\"marker\":{\"color\":\"#F0E442\"},\"orientation\":\"h\",\"x\":[0.0282338581434502,0.02951868845359932,0.030795218228816344,0.03346989127044137,0.2025270693154367],\"y\":[\"china  \",\"handling  \",\"testing  \",\"countries  \",\"coronavirus  \"],\"type\":\"bar\",\"xaxis\":\"x42\",\"yaxis\":\"y42\"},{\"marker\":{\"color\":\"#D55E00\"},\"orientation\":\"h\",\"x\":[0.025756010939437787,0.04933648077230028,0.10724126734098302,0.12847507912551862,0.1584366551456839],\"y\":[\"mayor  \",\"debate  \",\"bloomberg  \",\"mike  \",\"mini  \"],\"type\":\"bar\",\"xaxis\":\"x43\",\"yaxis\":\"y43\"},{\"marker\":{\"color\":\"#0072B2\"},\"orientation\":\"h\",\"x\":[0.1781044795142604,0.1822489520839702,0.18459797991438545,0.3192099733080603,0.3351419915016575],\"y\":[\"republican  \",\"95  \",\"party  \",\"approval  \",\"rating  \"],\"type\":\"bar\",\"xaxis\":\"x44\",\"yaxis\":\"y44\"},{\"marker\":{\"color\":\"#CC79A7\"},\"orientation\":\"h\",\"x\":[0.08762893571437415,0.11440289638049311,0.11522241346281215,0.13087306457557824,0.15425208329879295],\"y\":[\"north  \",\"un  \",\"jong  \",\"korea  \",\"kim  \"],\"type\":\"bar\",\"xaxis\":\"x45\",\"yaxis\":\"y45\"},{\"marker\":{\"color\":\"#E69F00\"},\"orientation\":\"h\",\"x\":[0.0595264562735282,0.06274376304127643,0.06670381315612356,0.07599386835558582,0.2934418854579416],\"y\":[\"ukrainian  \",\"socalled  \",\"schiff  \",\"call  \",\"whistleblower  \"],\"type\":\"bar\",\"xaxis\":\"x46\",\"yaxis\":\"y46\"},{\"marker\":{\"color\":\"#56B4E9\"},\"orientation\":\"h\",\"x\":[0.1409289492583337,0.1473926705894044,0.2824570989881019,0.3248758618344038,0.37792732400045503],\"y\":[\"texas  \",\"scam  \",\"greatness  \",\"transition  \",\"great  \"],\"type\":\"bar\",\"xaxis\":\"x47\",\"yaxis\":\"y47\"},{\"marker\":{\"color\":\"#009E73\"},\"orientation\":\"h\",\"x\":[0.0675528984655606,0.069956824846916,0.07038688103369649,0.09769631645341849,0.1539661935540035],\"y\":[\"vote  \",\"republican  \",\"edwards  \",\"governor  \",\"louisiana  \"],\"type\":\"bar\",\"xaxis\":\"x48\",\"yaxis\":\"y48\"},{\"marker\":{\"color\":\"#F0E442\"},\"orientation\":\"h\",\"x\":[0.05627494520225623,0.09122327429463684,0.13000030663598472,0.1729972487013034,0.2766542788774286],\"y\":[\"henderson  \",\"way  \",\"see  \",\"soon  \",\"maga  \"],\"type\":\"bar\",\"xaxis\":\"x49\",\"yaxis\":\"y49\"},{\"marker\":{\"color\":\"#D55E00\"},\"orientation\":\"h\",\"x\":[0.08799355067989156,0.09543867495195027,0.1686415659046531,0.47698026181033165,0.7466785686074813],\"y\":[\"245th  \",\"thanksgiving  \",\"day  \",\"birthday  \",\"happy  \"],\"type\":\"bar\",\"xaxis\":\"x50\",\"yaxis\":\"y50\"}],                        {\"template\":{\"data\":{\"barpolar\":[{\"marker\":{\"line\":{\"color\":\"white\",\"width\":0.5},\"pattern\":{\"fillmode\":\"overlay\",\"size\":10,\"solidity\":0.2}},\"type\":\"barpolar\"}],\"bar\":[{\"error_x\":{\"color\":\"#2a3f5f\"},\"error_y\":{\"color\":\"#2a3f5f\"},\"marker\":{\"line\":{\"color\":\"white\",\"width\":0.5},\"pattern\":{\"fillmode\":\"overlay\",\"size\":10,\"solidity\":0.2}},\"type\":\"bar\"}],\"carpet\":[{\"aaxis\":{\"endlinecolor\":\"#2a3f5f\",\"gridcolor\":\"#C8D4E3\",\"linecolor\":\"#C8D4E3\",\"minorgridcolor\":\"#C8D4E3\",\"startlinecolor\":\"#2a3f5f\"},\"baxis\":{\"endlinecolor\":\"#2a3f5f\",\"gridcolor\":\"#C8D4E3\",\"linecolor\":\"#C8D4E3\",\"minorgridcolor\":\"#C8D4E3\",\"startlinecolor\":\"#2a3f5f\"},\"type\":\"carpet\"}],\"choropleth\":[{\"colorbar\":{\"outlinewidth\":0,\"ticks\":\"\"},\"type\":\"choropleth\"}],\"contourcarpet\":[{\"colorbar\":{\"outlinewidth\":0,\"ticks\":\"\"},\"type\":\"contourcarpet\"}],\"contour\":[{\"colorbar\":{\"outlinewidth\":0,\"ticks\":\"\"},\"colorscale\":[[0.0,\"#0d0887\"],[0.1111111111111111,\"#46039f\"],[0.2222222222222222,\"#7201a8\"],[0.3333333333333333,\"#9c179e\"],[0.4444444444444444,\"#bd3786\"],[0.5555555555555556,\"#d8576b\"],[0.6666666666666666,\"#ed7953\"],[0.7777777777777778,\"#fb9f3a\"],[0.8888888888888888,\"#fdca26\"],[1.0,\"#f0f921\"]],\"type\":\"contour\"}],\"heatmapgl\":[{\"colorbar\":{\"outlinewidth\":0,\"ticks\":\"\"},\"colorscale\":[[0.0,\"#0d0887\"],[0.1111111111111111,\"#46039f\"],[0.2222222222222222,\"#7201a8\"],[0.3333333333333333,\"#9c179e\"],[0.4444444444444444,\"#bd3786\"],[0.5555555555555556,\"#d8576b\"],[0.6666666666666666,\"#ed7953\"],[0.7777777777777778,\"#fb9f3a\"],[0.8888888888888888,\"#fdca26\"],[1.0,\"#f0f921\"]],\"type\":\"heatmapgl\"}],\"heatmap\":[{\"colorbar\":{\"outlinewidth\":0,\"ticks\":\"\"},\"colorscale\":[[0.0,\"#0d0887\"],[0.1111111111111111,\"#46039f\"],[0.2222222222222222,\"#7201a8\"],[0.3333333333333333,\"#9c179e\"],[0.4444444444444444,\"#bd3786\"],[0.5555555555555556,\"#d8576b\"],[0.6666666666666666,\"#ed7953\"],[0.7777777777777778,\"#fb9f3a\"],[0.8888888888888888,\"#fdca26\"],[1.0,\"#f0f921\"]],\"type\":\"heatmap\"}],\"histogram2dcontour\":[{\"colorbar\":{\"outlinewidth\":0,\"ticks\":\"\"},\"colorscale\":[[0.0,\"#0d0887\"],[0.1111111111111111,\"#46039f\"],[0.2222222222222222,\"#7201a8\"],[0.3333333333333333,\"#9c179e\"],[0.4444444444444444,\"#bd3786\"],[0.5555555555555556,\"#d8576b\"],[0.6666666666666666,\"#ed7953\"],[0.7777777777777778,\"#fb9f3a\"],[0.8888888888888888,\"#fdca26\"],[1.0,\"#f0f921\"]],\"type\":\"histogram2dcontour\"}],\"histogram2d\":[{\"colorbar\":{\"outlinewidth\":0,\"ticks\":\"\"},\"colorscale\":[[0.0,\"#0d0887\"],[0.1111111111111111,\"#46039f\"],[0.2222222222222222,\"#7201a8\"],[0.3333333333333333,\"#9c179e\"],[0.4444444444444444,\"#bd3786\"],[0.5555555555555556,\"#d8576b\"],[0.6666666666666666,\"#ed7953\"],[0.7777777777777778,\"#fb9f3a\"],[0.8888888888888888,\"#fdca26\"],[1.0,\"#f0f921\"]],\"type\":\"histogram2d\"}],\"histogram\":[{\"marker\":{\"pattern\":{\"fillmode\":\"overlay\",\"size\":10,\"solidity\":0.2}},\"type\":\"histogram\"}],\"mesh3d\":[{\"colorbar\":{\"outlinewidth\":0,\"ticks\":\"\"},\"type\":\"mesh3d\"}],\"parcoords\":[{\"line\":{\"colorbar\":{\"outlinewidth\":0,\"ticks\":\"\"}},\"type\":\"parcoords\"}],\"pie\":[{\"automargin\":true,\"type\":\"pie\"}],\"scatter3d\":[{\"line\":{\"colorbar\":{\"outlinewidth\":0,\"ticks\":\"\"}},\"marker\":{\"colorbar\":{\"outlinewidth\":0,\"ticks\":\"\"}},\"type\":\"scatter3d\"}],\"scattercarpet\":[{\"marker\":{\"colorbar\":{\"outlinewidth\":0,\"ticks\":\"\"}},\"type\":\"scattercarpet\"}],\"scattergeo\":[{\"marker\":{\"colorbar\":{\"outlinewidth\":0,\"ticks\":\"\"}},\"type\":\"scattergeo\"}],\"scattergl\":[{\"marker\":{\"colorbar\":{\"outlinewidth\":0,\"ticks\":\"\"}},\"type\":\"scattergl\"}],\"scattermapbox\":[{\"marker\":{\"colorbar\":{\"outlinewidth\":0,\"ticks\":\"\"}},\"type\":\"scattermapbox\"}],\"scatterpolargl\":[{\"marker\":{\"colorbar\":{\"outlinewidth\":0,\"ticks\":\"\"}},\"type\":\"scatterpolargl\"}],\"scatterpolar\":[{\"marker\":{\"colorbar\":{\"outlinewidth\":0,\"ticks\":\"\"}},\"type\":\"scatterpolar\"}],\"scatter\":[{\"marker\":{\"colorbar\":{\"outlinewidth\":0,\"ticks\":\"\"}},\"type\":\"scatter\"}],\"scatterternary\":[{\"marker\":{\"colorbar\":{\"outlinewidth\":0,\"ticks\":\"\"}},\"type\":\"scatterternary\"}],\"surface\":[{\"colorbar\":{\"outlinewidth\":0,\"ticks\":\"\"},\"colorscale\":[[0.0,\"#0d0887\"],[0.1111111111111111,\"#46039f\"],[0.2222222222222222,\"#7201a8\"],[0.3333333333333333,\"#9c179e\"],[0.4444444444444444,\"#bd3786\"],[0.5555555555555556,\"#d8576b\"],[0.6666666666666666,\"#ed7953\"],[0.7777777777777778,\"#fb9f3a\"],[0.8888888888888888,\"#fdca26\"],[1.0,\"#f0f921\"]],\"type\":\"surface\"}],\"table\":[{\"cells\":{\"fill\":{\"color\":\"#EBF0F8\"},\"line\":{\"color\":\"white\"}},\"header\":{\"fill\":{\"color\":\"#C8D4E3\"},\"line\":{\"color\":\"white\"}},\"type\":\"table\"}]},\"layout\":{\"annotationdefaults\":{\"arrowcolor\":\"#2a3f5f\",\"arrowhead\":0,\"arrowwidth\":1},\"autotypenumbers\":\"strict\",\"coloraxis\":{\"colorbar\":{\"outlinewidth\":0,\"ticks\":\"\"}},\"colorscale\":{\"diverging\":[[0,\"#8e0152\"],[0.1,\"#c51b7d\"],[0.2,\"#de77ae\"],[0.3,\"#f1b6da\"],[0.4,\"#fde0ef\"],[0.5,\"#f7f7f7\"],[0.6,\"#e6f5d0\"],[0.7,\"#b8e186\"],[0.8,\"#7fbc41\"],[0.9,\"#4d9221\"],[1,\"#276419\"]],\"sequential\":[[0.0,\"#0d0887\"],[0.1111111111111111,\"#46039f\"],[0.2222222222222222,\"#7201a8\"],[0.3333333333333333,\"#9c179e\"],[0.4444444444444444,\"#bd3786\"],[0.5555555555555556,\"#d8576b\"],[0.6666666666666666,\"#ed7953\"],[0.7777777777777778,\"#fb9f3a\"],[0.8888888888888888,\"#fdca26\"],[1.0,\"#f0f921\"]],\"sequentialminus\":[[0.0,\"#0d0887\"],[0.1111111111111111,\"#46039f\"],[0.2222222222222222,\"#7201a8\"],[0.3333333333333333,\"#9c179e\"],[0.4444444444444444,\"#bd3786\"],[0.5555555555555556,\"#d8576b\"],[0.6666666666666666,\"#ed7953\"],[0.7777777777777778,\"#fb9f3a\"],[0.8888888888888888,\"#fdca26\"],[1.0,\"#f0f921\"]]},\"colorway\":[\"#636efa\",\"#EF553B\",\"#00cc96\",\"#ab63fa\",\"#FFA15A\",\"#19d3f3\",\"#FF6692\",\"#B6E880\",\"#FF97FF\",\"#FECB52\"],\"font\":{\"color\":\"#2a3f5f\"},\"geo\":{\"bgcolor\":\"white\",\"lakecolor\":\"white\",\"landcolor\":\"white\",\"showlakes\":true,\"showland\":true,\"subunitcolor\":\"#C8D4E3\"},\"hoverlabel\":{\"align\":\"left\"},\"hovermode\":\"closest\",\"mapbox\":{\"style\":\"light\"},\"paper_bgcolor\":\"white\",\"plot_bgcolor\":\"white\",\"polar\":{\"angularaxis\":{\"gridcolor\":\"#EBF0F8\",\"linecolor\":\"#EBF0F8\",\"ticks\":\"\"},\"bgcolor\":\"white\",\"radialaxis\":{\"gridcolor\":\"#EBF0F8\",\"linecolor\":\"#EBF0F8\",\"ticks\":\"\"}},\"scene\":{\"xaxis\":{\"backgroundcolor\":\"white\",\"gridcolor\":\"#DFE8F3\",\"gridwidth\":2,\"linecolor\":\"#EBF0F8\",\"showbackground\":true,\"ticks\":\"\",\"zerolinecolor\":\"#EBF0F8\"},\"yaxis\":{\"backgroundcolor\":\"white\",\"gridcolor\":\"#DFE8F3\",\"gridwidth\":2,\"linecolor\":\"#EBF0F8\",\"showbackground\":true,\"ticks\":\"\",\"zerolinecolor\":\"#EBF0F8\"},\"zaxis\":{\"backgroundcolor\":\"white\",\"gridcolor\":\"#DFE8F3\",\"gridwidth\":2,\"linecolor\":\"#EBF0F8\",\"showbackground\":true,\"ticks\":\"\",\"zerolinecolor\":\"#EBF0F8\"}},\"shapedefaults\":{\"line\":{\"color\":\"#2a3f5f\"}},\"ternary\":{\"aaxis\":{\"gridcolor\":\"#DFE8F3\",\"linecolor\":\"#A2B1C6\",\"ticks\":\"\"},\"baxis\":{\"gridcolor\":\"#DFE8F3\",\"linecolor\":\"#A2B1C6\",\"ticks\":\"\"},\"bgcolor\":\"white\",\"caxis\":{\"gridcolor\":\"#DFE8F3\",\"linecolor\":\"#A2B1C6\",\"ticks\":\"\"}},\"title\":{\"x\":0.05},\"xaxis\":{\"automargin\":true,\"gridcolor\":\"#EBF0F8\",\"linecolor\":\"#EBF0F8\",\"ticks\":\"\",\"title\":{\"standoff\":15},\"zerolinecolor\":\"#EBF0F8\",\"zerolinewidth\":2},\"yaxis\":{\"automargin\":true,\"gridcolor\":\"#EBF0F8\",\"linecolor\":\"#EBF0F8\",\"ticks\":\"\",\"title\":{\"standoff\":15},\"zerolinecolor\":\"#EBF0F8\",\"zerolinewidth\":2}}},\"xaxis\":{\"anchor\":\"y\",\"domain\":[0.0,0.175],\"showgrid\":true},\"yaxis\":{\"anchor\":\"x\",\"domain\":[0.9514792899408283,0.9999999999999999],\"showgrid\":true},\"xaxis2\":{\"anchor\":\"y2\",\"domain\":[0.275,0.45],\"showgrid\":true},\"yaxis2\":{\"anchor\":\"x2\",\"domain\":[0.9514792899408283,0.9999999999999999],\"showgrid\":true},\"xaxis3\":{\"anchor\":\"y3\",\"domain\":[0.55,0.7250000000000001],\"showgrid\":true},\"yaxis3\":{\"anchor\":\"x3\",\"domain\":[0.9514792899408283,0.9999999999999999],\"showgrid\":true},\"xaxis4\":{\"anchor\":\"y4\",\"domain\":[0.825,1.0],\"showgrid\":true},\"yaxis4\":{\"anchor\":\"x4\",\"domain\":[0.9514792899408283,0.9999999999999999],\"showgrid\":true},\"xaxis5\":{\"anchor\":\"y5\",\"domain\":[0.0,0.175],\"showgrid\":true},\"yaxis5\":{\"anchor\":\"x5\",\"domain\":[0.872189349112426,0.9207100591715975],\"showgrid\":true},\"xaxis6\":{\"anchor\":\"y6\",\"domain\":[0.275,0.45],\"showgrid\":true},\"yaxis6\":{\"anchor\":\"x6\",\"domain\":[0.872189349112426,0.9207100591715975],\"showgrid\":true},\"xaxis7\":{\"anchor\":\"y7\",\"domain\":[0.55,0.7250000000000001],\"showgrid\":true},\"yaxis7\":{\"anchor\":\"x7\",\"domain\":[0.872189349112426,0.9207100591715975],\"showgrid\":true},\"xaxis8\":{\"anchor\":\"y8\",\"domain\":[0.825,1.0],\"showgrid\":true},\"yaxis8\":{\"anchor\":\"x8\",\"domain\":[0.872189349112426,0.9207100591715975],\"showgrid\":true},\"xaxis9\":{\"anchor\":\"y9\",\"domain\":[0.0,0.175],\"showgrid\":true},\"yaxis9\":{\"anchor\":\"x9\",\"domain\":[0.7928994082840235,0.8414201183431951],\"showgrid\":true},\"xaxis10\":{\"anchor\":\"y10\",\"domain\":[0.275,0.45],\"showgrid\":true},\"yaxis10\":{\"anchor\":\"x10\",\"domain\":[0.7928994082840235,0.8414201183431951],\"showgrid\":true},\"xaxis11\":{\"anchor\":\"y11\",\"domain\":[0.55,0.7250000000000001],\"showgrid\":true},\"yaxis11\":{\"anchor\":\"x11\",\"domain\":[0.7928994082840235,0.8414201183431951],\"showgrid\":true},\"xaxis12\":{\"anchor\":\"y12\",\"domain\":[0.825,1.0],\"showgrid\":true},\"yaxis12\":{\"anchor\":\"x12\",\"domain\":[0.7928994082840235,0.8414201183431951],\"showgrid\":true},\"xaxis13\":{\"anchor\":\"y13\",\"domain\":[0.0,0.175],\"showgrid\":true},\"yaxis13\":{\"anchor\":\"x13\",\"domain\":[0.7136094674556213,0.7621301775147928],\"showgrid\":true},\"xaxis14\":{\"anchor\":\"y14\",\"domain\":[0.275,0.45],\"showgrid\":true},\"yaxis14\":{\"anchor\":\"x14\",\"domain\":[0.7136094674556213,0.7621301775147928],\"showgrid\":true},\"xaxis15\":{\"anchor\":\"y15\",\"domain\":[0.55,0.7250000000000001],\"showgrid\":true},\"yaxis15\":{\"anchor\":\"x15\",\"domain\":[0.7136094674556213,0.7621301775147928],\"showgrid\":true},\"xaxis16\":{\"anchor\":\"y16\",\"domain\":[0.825,1.0],\"showgrid\":true},\"yaxis16\":{\"anchor\":\"x16\",\"domain\":[0.7136094674556213,0.7621301775147928],\"showgrid\":true},\"xaxis17\":{\"anchor\":\"y17\",\"domain\":[0.0,0.175],\"showgrid\":true},\"yaxis17\":{\"anchor\":\"x17\",\"domain\":[0.6343195266272188,0.6828402366863904],\"showgrid\":true},\"xaxis18\":{\"anchor\":\"y18\",\"domain\":[0.275,0.45],\"showgrid\":true},\"yaxis18\":{\"anchor\":\"x18\",\"domain\":[0.6343195266272188,0.6828402366863904],\"showgrid\":true},\"xaxis19\":{\"anchor\":\"y19\",\"domain\":[0.55,0.7250000000000001],\"showgrid\":true},\"yaxis19\":{\"anchor\":\"x19\",\"domain\":[0.6343195266272188,0.6828402366863904],\"showgrid\":true},\"xaxis20\":{\"anchor\":\"y20\",\"domain\":[0.825,1.0],\"showgrid\":true},\"yaxis20\":{\"anchor\":\"x20\",\"domain\":[0.6343195266272188,0.6828402366863904],\"showgrid\":true},\"xaxis21\":{\"anchor\":\"y21\",\"domain\":[0.0,0.175],\"showgrid\":true},\"yaxis21\":{\"anchor\":\"x21\",\"domain\":[0.5550295857988166,0.6035502958579881],\"showgrid\":true},\"xaxis22\":{\"anchor\":\"y22\",\"domain\":[0.275,0.45],\"showgrid\":true},\"yaxis22\":{\"anchor\":\"x22\",\"domain\":[0.5550295857988166,0.6035502958579881],\"showgrid\":true},\"xaxis23\":{\"anchor\":\"y23\",\"domain\":[0.55,0.7250000000000001],\"showgrid\":true},\"yaxis23\":{\"anchor\":\"x23\",\"domain\":[0.5550295857988166,0.6035502958579881],\"showgrid\":true},\"xaxis24\":{\"anchor\":\"y24\",\"domain\":[0.825,1.0],\"showgrid\":true},\"yaxis24\":{\"anchor\":\"x24\",\"domain\":[0.5550295857988166,0.6035502958579881],\"showgrid\":true},\"xaxis25\":{\"anchor\":\"y25\",\"domain\":[0.0,0.175],\"showgrid\":true},\"yaxis25\":{\"anchor\":\"x25\",\"domain\":[0.47573964497041416,0.5242603550295858],\"showgrid\":true},\"xaxis26\":{\"anchor\":\"y26\",\"domain\":[0.275,0.45],\"showgrid\":true},\"yaxis26\":{\"anchor\":\"x26\",\"domain\":[0.47573964497041416,0.5242603550295858],\"showgrid\":true},\"xaxis27\":{\"anchor\":\"y27\",\"domain\":[0.55,0.7250000000000001],\"showgrid\":true},\"yaxis27\":{\"anchor\":\"x27\",\"domain\":[0.47573964497041416,0.5242603550295858],\"showgrid\":true},\"xaxis28\":{\"anchor\":\"y28\",\"domain\":[0.825,1.0],\"showgrid\":true},\"yaxis28\":{\"anchor\":\"x28\",\"domain\":[0.47573964497041416,0.5242603550295858],\"showgrid\":true},\"xaxis29\":{\"anchor\":\"y29\",\"domain\":[0.0,0.175],\"showgrid\":true},\"yaxis29\":{\"anchor\":\"x29\",\"domain\":[0.3964497041420118,0.4449704142011834],\"showgrid\":true},\"xaxis30\":{\"anchor\":\"y30\",\"domain\":[0.275,0.45],\"showgrid\":true},\"yaxis30\":{\"anchor\":\"x30\",\"domain\":[0.3964497041420118,0.4449704142011834],\"showgrid\":true},\"xaxis31\":{\"anchor\":\"y31\",\"domain\":[0.55,0.7250000000000001],\"showgrid\":true},\"yaxis31\":{\"anchor\":\"x31\",\"domain\":[0.3964497041420118,0.4449704142011834],\"showgrid\":true},\"xaxis32\":{\"anchor\":\"y32\",\"domain\":[0.825,1.0],\"showgrid\":true},\"yaxis32\":{\"anchor\":\"x32\",\"domain\":[0.3964497041420118,0.4449704142011834],\"showgrid\":true},\"xaxis33\":{\"anchor\":\"y33\",\"domain\":[0.0,0.175],\"showgrid\":true},\"yaxis33\":{\"anchor\":\"x33\",\"domain\":[0.31715976331360946,0.36568047337278103],\"showgrid\":true},\"xaxis34\":{\"anchor\":\"y34\",\"domain\":[0.275,0.45],\"showgrid\":true},\"yaxis34\":{\"anchor\":\"x34\",\"domain\":[0.31715976331360946,0.36568047337278103],\"showgrid\":true},\"xaxis35\":{\"anchor\":\"y35\",\"domain\":[0.55,0.7250000000000001],\"showgrid\":true},\"yaxis35\":{\"anchor\":\"x35\",\"domain\":[0.31715976331360946,0.36568047337278103],\"showgrid\":true},\"xaxis36\":{\"anchor\":\"y36\",\"domain\":[0.825,1.0],\"showgrid\":true},\"yaxis36\":{\"anchor\":\"x36\",\"domain\":[0.31715976331360946,0.36568047337278103],\"showgrid\":true},\"xaxis37\":{\"anchor\":\"y37\",\"domain\":[0.0,0.175],\"showgrid\":true},\"yaxis37\":{\"anchor\":\"x37\",\"domain\":[0.2378698224852071,0.2863905325443787],\"showgrid\":true},\"xaxis38\":{\"anchor\":\"y38\",\"domain\":[0.275,0.45],\"showgrid\":true},\"yaxis38\":{\"anchor\":\"x38\",\"domain\":[0.2378698224852071,0.2863905325443787],\"showgrid\":true},\"xaxis39\":{\"anchor\":\"y39\",\"domain\":[0.55,0.7250000000000001],\"showgrid\":true},\"yaxis39\":{\"anchor\":\"x39\",\"domain\":[0.2378698224852071,0.2863905325443787],\"showgrid\":true},\"xaxis40\":{\"anchor\":\"y40\",\"domain\":[0.825,1.0],\"showgrid\":true},\"yaxis40\":{\"anchor\":\"x40\",\"domain\":[0.2378698224852071,0.2863905325443787],\"showgrid\":true},\"xaxis41\":{\"anchor\":\"y41\",\"domain\":[0.0,0.175],\"showgrid\":true},\"yaxis41\":{\"anchor\":\"x41\",\"domain\":[0.15857988165680473,0.20710059171597633],\"showgrid\":true},\"xaxis42\":{\"anchor\":\"y42\",\"domain\":[0.275,0.45],\"showgrid\":true},\"yaxis42\":{\"anchor\":\"x42\",\"domain\":[0.15857988165680473,0.20710059171597633],\"showgrid\":true},\"xaxis43\":{\"anchor\":\"y43\",\"domain\":[0.55,0.7250000000000001],\"showgrid\":true},\"yaxis43\":{\"anchor\":\"x43\",\"domain\":[0.15857988165680473,0.20710059171597633],\"showgrid\":true},\"xaxis44\":{\"anchor\":\"y44\",\"domain\":[0.825,1.0],\"showgrid\":true},\"yaxis44\":{\"anchor\":\"x44\",\"domain\":[0.15857988165680473,0.20710059171597633],\"showgrid\":true},\"xaxis45\":{\"anchor\":\"y45\",\"domain\":[0.0,0.175],\"showgrid\":true},\"yaxis45\":{\"anchor\":\"x45\",\"domain\":[0.07928994082840236,0.12781065088757396],\"showgrid\":true},\"xaxis46\":{\"anchor\":\"y46\",\"domain\":[0.275,0.45],\"showgrid\":true},\"yaxis46\":{\"anchor\":\"x46\",\"domain\":[0.07928994082840236,0.12781065088757396],\"showgrid\":true},\"xaxis47\":{\"anchor\":\"y47\",\"domain\":[0.55,0.7250000000000001],\"showgrid\":true},\"yaxis47\":{\"anchor\":\"x47\",\"domain\":[0.07928994082840236,0.12781065088757396],\"showgrid\":true},\"xaxis48\":{\"anchor\":\"y48\",\"domain\":[0.825,1.0],\"showgrid\":true},\"yaxis48\":{\"anchor\":\"x48\",\"domain\":[0.07928994082840236,0.12781065088757396],\"showgrid\":true},\"xaxis49\":{\"anchor\":\"y49\",\"domain\":[0.0,0.175],\"showgrid\":true},\"yaxis49\":{\"anchor\":\"x49\",\"domain\":[0.0,0.04852071005917159],\"showgrid\":true},\"xaxis50\":{\"anchor\":\"y50\",\"domain\":[0.275,0.45],\"showgrid\":true},\"yaxis50\":{\"anchor\":\"x50\",\"domain\":[0.0,0.04852071005917159],\"showgrid\":true},\"xaxis51\":{\"anchor\":\"y51\",\"domain\":[0.55,0.7250000000000001],\"showgrid\":true},\"yaxis51\":{\"anchor\":\"x51\",\"domain\":[0.0,0.04852071005917159],\"showgrid\":true},\"xaxis52\":{\"anchor\":\"y52\",\"domain\":[0.825,1.0],\"showgrid\":true},\"yaxis52\":{\"anchor\":\"x52\",\"domain\":[0.0,0.04852071005917159],\"showgrid\":true},\"annotations\":[{\"font\":{\"size\":16},\"showarrow\":false,\"text\":\"Topic 0\",\"x\":0.0875,\"xanchor\":\"center\",\"xref\":\"paper\",\"y\":0.9999999999999999,\"yanchor\":\"bottom\",\"yref\":\"paper\"},{\"font\":{\"size\":16},\"showarrow\":false,\"text\":\"Topic 1\",\"x\":0.36250000000000004,\"xanchor\":\"center\",\"xref\":\"paper\",\"y\":0.9999999999999999,\"yanchor\":\"bottom\",\"yref\":\"paper\"},{\"font\":{\"size\":16},\"showarrow\":false,\"text\":\"Topic 2\",\"x\":0.6375000000000001,\"xanchor\":\"center\",\"xref\":\"paper\",\"y\":0.9999999999999999,\"yanchor\":\"bottom\",\"yref\":\"paper\"},{\"font\":{\"size\":16},\"showarrow\":false,\"text\":\"Topic 3\",\"x\":0.9125,\"xanchor\":\"center\",\"xref\":\"paper\",\"y\":0.9999999999999999,\"yanchor\":\"bottom\",\"yref\":\"paper\"},{\"font\":{\"size\":16},\"showarrow\":false,\"text\":\"Topic 4\",\"x\":0.0875,\"xanchor\":\"center\",\"xref\":\"paper\",\"y\":0.9207100591715975,\"yanchor\":\"bottom\",\"yref\":\"paper\"},{\"font\":{\"size\":16},\"showarrow\":false,\"text\":\"Topic 5\",\"x\":0.36250000000000004,\"xanchor\":\"center\",\"xref\":\"paper\",\"y\":0.9207100591715975,\"yanchor\":\"bottom\",\"yref\":\"paper\"},{\"font\":{\"size\":16},\"showarrow\":false,\"text\":\"Topic 6\",\"x\":0.6375000000000001,\"xanchor\":\"center\",\"xref\":\"paper\",\"y\":0.9207100591715975,\"yanchor\":\"bottom\",\"yref\":\"paper\"},{\"font\":{\"size\":16},\"showarrow\":false,\"text\":\"Topic 7\",\"x\":0.9125,\"xanchor\":\"center\",\"xref\":\"paper\",\"y\":0.9207100591715975,\"yanchor\":\"bottom\",\"yref\":\"paper\"},{\"font\":{\"size\":16},\"showarrow\":false,\"text\":\"Topic 8\",\"x\":0.0875,\"xanchor\":\"center\",\"xref\":\"paper\",\"y\":0.8414201183431951,\"yanchor\":\"bottom\",\"yref\":\"paper\"},{\"font\":{\"size\":16},\"showarrow\":false,\"text\":\"Topic 9\",\"x\":0.36250000000000004,\"xanchor\":\"center\",\"xref\":\"paper\",\"y\":0.8414201183431951,\"yanchor\":\"bottom\",\"yref\":\"paper\"},{\"font\":{\"size\":16},\"showarrow\":false,\"text\":\"Topic 10\",\"x\":0.6375000000000001,\"xanchor\":\"center\",\"xref\":\"paper\",\"y\":0.8414201183431951,\"yanchor\":\"bottom\",\"yref\":\"paper\"},{\"font\":{\"size\":16},\"showarrow\":false,\"text\":\"Topic 11\",\"x\":0.9125,\"xanchor\":\"center\",\"xref\":\"paper\",\"y\":0.8414201183431951,\"yanchor\":\"bottom\",\"yref\":\"paper\"},{\"font\":{\"size\":16},\"showarrow\":false,\"text\":\"Topic 12\",\"x\":0.0875,\"xanchor\":\"center\",\"xref\":\"paper\",\"y\":0.7621301775147928,\"yanchor\":\"bottom\",\"yref\":\"paper\"},{\"font\":{\"size\":16},\"showarrow\":false,\"text\":\"Topic 13\",\"x\":0.36250000000000004,\"xanchor\":\"center\",\"xref\":\"paper\",\"y\":0.7621301775147928,\"yanchor\":\"bottom\",\"yref\":\"paper\"},{\"font\":{\"size\":16},\"showarrow\":false,\"text\":\"Topic 14\",\"x\":0.6375000000000001,\"xanchor\":\"center\",\"xref\":\"paper\",\"y\":0.7621301775147928,\"yanchor\":\"bottom\",\"yref\":\"paper\"},{\"font\":{\"size\":16},\"showarrow\":false,\"text\":\"Topic 15\",\"x\":0.9125,\"xanchor\":\"center\",\"xref\":\"paper\",\"y\":0.7621301775147928,\"yanchor\":\"bottom\",\"yref\":\"paper\"},{\"font\":{\"size\":16},\"showarrow\":false,\"text\":\"Topic 16\",\"x\":0.0875,\"xanchor\":\"center\",\"xref\":\"paper\",\"y\":0.6828402366863904,\"yanchor\":\"bottom\",\"yref\":\"paper\"},{\"font\":{\"size\":16},\"showarrow\":false,\"text\":\"Topic 17\",\"x\":0.36250000000000004,\"xanchor\":\"center\",\"xref\":\"paper\",\"y\":0.6828402366863904,\"yanchor\":\"bottom\",\"yref\":\"paper\"},{\"font\":{\"size\":16},\"showarrow\":false,\"text\":\"Topic 18\",\"x\":0.6375000000000001,\"xanchor\":\"center\",\"xref\":\"paper\",\"y\":0.6828402366863904,\"yanchor\":\"bottom\",\"yref\":\"paper\"},{\"font\":{\"size\":16},\"showarrow\":false,\"text\":\"Topic 19\",\"x\":0.9125,\"xanchor\":\"center\",\"xref\":\"paper\",\"y\":0.6828402366863904,\"yanchor\":\"bottom\",\"yref\":\"paper\"},{\"font\":{\"size\":16},\"showarrow\":false,\"text\":\"Topic 20\",\"x\":0.0875,\"xanchor\":\"center\",\"xref\":\"paper\",\"y\":0.6035502958579881,\"yanchor\":\"bottom\",\"yref\":\"paper\"},{\"font\":{\"size\":16},\"showarrow\":false,\"text\":\"Topic 21\",\"x\":0.36250000000000004,\"xanchor\":\"center\",\"xref\":\"paper\",\"y\":0.6035502958579881,\"yanchor\":\"bottom\",\"yref\":\"paper\"},{\"font\":{\"size\":16},\"showarrow\":false,\"text\":\"Topic 22\",\"x\":0.6375000000000001,\"xanchor\":\"center\",\"xref\":\"paper\",\"y\":0.6035502958579881,\"yanchor\":\"bottom\",\"yref\":\"paper\"},{\"font\":{\"size\":16},\"showarrow\":false,\"text\":\"Topic 23\",\"x\":0.9125,\"xanchor\":\"center\",\"xref\":\"paper\",\"y\":0.6035502958579881,\"yanchor\":\"bottom\",\"yref\":\"paper\"},{\"font\":{\"size\":16},\"showarrow\":false,\"text\":\"Topic 24\",\"x\":0.0875,\"xanchor\":\"center\",\"xref\":\"paper\",\"y\":0.5242603550295858,\"yanchor\":\"bottom\",\"yref\":\"paper\"},{\"font\":{\"size\":16},\"showarrow\":false,\"text\":\"Topic 25\",\"x\":0.36250000000000004,\"xanchor\":\"center\",\"xref\":\"paper\",\"y\":0.5242603550295858,\"yanchor\":\"bottom\",\"yref\":\"paper\"},{\"font\":{\"size\":16},\"showarrow\":false,\"text\":\"Topic 26\",\"x\":0.6375000000000001,\"xanchor\":\"center\",\"xref\":\"paper\",\"y\":0.5242603550295858,\"yanchor\":\"bottom\",\"yref\":\"paper\"},{\"font\":{\"size\":16},\"showarrow\":false,\"text\":\"Topic 27\",\"x\":0.9125,\"xanchor\":\"center\",\"xref\":\"paper\",\"y\":0.5242603550295858,\"yanchor\":\"bottom\",\"yref\":\"paper\"},{\"font\":{\"size\":16},\"showarrow\":false,\"text\":\"Topic 28\",\"x\":0.0875,\"xanchor\":\"center\",\"xref\":\"paper\",\"y\":0.4449704142011834,\"yanchor\":\"bottom\",\"yref\":\"paper\"},{\"font\":{\"size\":16},\"showarrow\":false,\"text\":\"Topic 29\",\"x\":0.36250000000000004,\"xanchor\":\"center\",\"xref\":\"paper\",\"y\":0.4449704142011834,\"yanchor\":\"bottom\",\"yref\":\"paper\"},{\"font\":{\"size\":16},\"showarrow\":false,\"text\":\"Topic 30\",\"x\":0.6375000000000001,\"xanchor\":\"center\",\"xref\":\"paper\",\"y\":0.4449704142011834,\"yanchor\":\"bottom\",\"yref\":\"paper\"},{\"font\":{\"size\":16},\"showarrow\":false,\"text\":\"Topic 31\",\"x\":0.9125,\"xanchor\":\"center\",\"xref\":\"paper\",\"y\":0.4449704142011834,\"yanchor\":\"bottom\",\"yref\":\"paper\"},{\"font\":{\"size\":16},\"showarrow\":false,\"text\":\"Topic 32\",\"x\":0.0875,\"xanchor\":\"center\",\"xref\":\"paper\",\"y\":0.36568047337278103,\"yanchor\":\"bottom\",\"yref\":\"paper\"},{\"font\":{\"size\":16},\"showarrow\":false,\"text\":\"Topic 33\",\"x\":0.36250000000000004,\"xanchor\":\"center\",\"xref\":\"paper\",\"y\":0.36568047337278103,\"yanchor\":\"bottom\",\"yref\":\"paper\"},{\"font\":{\"size\":16},\"showarrow\":false,\"text\":\"Topic 34\",\"x\":0.6375000000000001,\"xanchor\":\"center\",\"xref\":\"paper\",\"y\":0.36568047337278103,\"yanchor\":\"bottom\",\"yref\":\"paper\"},{\"font\":{\"size\":16},\"showarrow\":false,\"text\":\"Topic 35\",\"x\":0.9125,\"xanchor\":\"center\",\"xref\":\"paper\",\"y\":0.36568047337278103,\"yanchor\":\"bottom\",\"yref\":\"paper\"},{\"font\":{\"size\":16},\"showarrow\":false,\"text\":\"Topic 36\",\"x\":0.0875,\"xanchor\":\"center\",\"xref\":\"paper\",\"y\":0.2863905325443787,\"yanchor\":\"bottom\",\"yref\":\"paper\"},{\"font\":{\"size\":16},\"showarrow\":false,\"text\":\"Topic 37\",\"x\":0.36250000000000004,\"xanchor\":\"center\",\"xref\":\"paper\",\"y\":0.2863905325443787,\"yanchor\":\"bottom\",\"yref\":\"paper\"},{\"font\":{\"size\":16},\"showarrow\":false,\"text\":\"Topic 38\",\"x\":0.6375000000000001,\"xanchor\":\"center\",\"xref\":\"paper\",\"y\":0.2863905325443787,\"yanchor\":\"bottom\",\"yref\":\"paper\"},{\"font\":{\"size\":16},\"showarrow\":false,\"text\":\"Topic 39\",\"x\":0.9125,\"xanchor\":\"center\",\"xref\":\"paper\",\"y\":0.2863905325443787,\"yanchor\":\"bottom\",\"yref\":\"paper\"},{\"font\":{\"size\":16},\"showarrow\":false,\"text\":\"Topic 40\",\"x\":0.0875,\"xanchor\":\"center\",\"xref\":\"paper\",\"y\":0.20710059171597633,\"yanchor\":\"bottom\",\"yref\":\"paper\"},{\"font\":{\"size\":16},\"showarrow\":false,\"text\":\"Topic 41\",\"x\":0.36250000000000004,\"xanchor\":\"center\",\"xref\":\"paper\",\"y\":0.20710059171597633,\"yanchor\":\"bottom\",\"yref\":\"paper\"},{\"font\":{\"size\":16},\"showarrow\":false,\"text\":\"Topic 42\",\"x\":0.6375000000000001,\"xanchor\":\"center\",\"xref\":\"paper\",\"y\":0.20710059171597633,\"yanchor\":\"bottom\",\"yref\":\"paper\"},{\"font\":{\"size\":16},\"showarrow\":false,\"text\":\"Topic 43\",\"x\":0.9125,\"xanchor\":\"center\",\"xref\":\"paper\",\"y\":0.20710059171597633,\"yanchor\":\"bottom\",\"yref\":\"paper\"},{\"font\":{\"size\":16},\"showarrow\":false,\"text\":\"Topic 44\",\"x\":0.0875,\"xanchor\":\"center\",\"xref\":\"paper\",\"y\":0.12781065088757396,\"yanchor\":\"bottom\",\"yref\":\"paper\"},{\"font\":{\"size\":16},\"showarrow\":false,\"text\":\"Topic 45\",\"x\":0.36250000000000004,\"xanchor\":\"center\",\"xref\":\"paper\",\"y\":0.12781065088757396,\"yanchor\":\"bottom\",\"yref\":\"paper\"},{\"font\":{\"size\":16},\"showarrow\":false,\"text\":\"Topic 46\",\"x\":0.6375000000000001,\"xanchor\":\"center\",\"xref\":\"paper\",\"y\":0.12781065088757396,\"yanchor\":\"bottom\",\"yref\":\"paper\"},{\"font\":{\"size\":16},\"showarrow\":false,\"text\":\"Topic 47\",\"x\":0.9125,\"xanchor\":\"center\",\"xref\":\"paper\",\"y\":0.12781065088757396,\"yanchor\":\"bottom\",\"yref\":\"paper\"},{\"font\":{\"size\":16},\"showarrow\":false,\"text\":\"Topic 48\",\"x\":0.0875,\"xanchor\":\"center\",\"xref\":\"paper\",\"y\":0.04852071005917159,\"yanchor\":\"bottom\",\"yref\":\"paper\"},{\"font\":{\"size\":16},\"showarrow\":false,\"text\":\"Topic 49\",\"x\":0.36250000000000004,\"xanchor\":\"center\",\"xref\":\"paper\",\"y\":0.04852071005917159,\"yanchor\":\"bottom\",\"yref\":\"paper\"}],\"title\":{\"font\":{\"size\":22,\"color\":\"Black\"},\"text\":\"<b>Topic Word Scores\",\"x\":0.5,\"xanchor\":\"center\",\"yanchor\":\"top\"},\"hoverlabel\":{\"font\":{\"size\":16,\"family\":\"Rockwell\"},\"bgcolor\":\"white\"},\"showlegend\":false,\"width\":1000,\"height\":3250},                        {\"responsive\": true}                    ).then(function(){\n",
              "                            \n",
              "var gd = document.getElementById('aa680c66-129c-4572-9c91-f4240508df69');\n",
              "var x = new MutationObserver(function (mutations, observer) {{\n",
              "        var display = window.getComputedStyle(gd).display;\n",
              "        if (!display || display === 'none') {{\n",
              "            console.log([gd, 'removed!']);\n",
              "            Plotly.purge(gd);\n",
              "            observer.disconnect();\n",
              "        }}\n",
              "}});\n",
              "\n",
              "// Listen for the removal of the full notebook cells\n",
              "var notebookContainer = gd.closest('#notebook-container');\n",
              "if (notebookContainer) {{\n",
              "    x.observe(notebookContainer, {childList: true});\n",
              "}}\n",
              "\n",
              "// Listen for the clearing of the current output cell\n",
              "var outputEl = gd.closest('.output');\n",
              "if (outputEl) {{\n",
              "    x.observe(outputEl, {childList: true});\n",
              "}}\n",
              "\n",
              "                        })                };                            </script>        </div>\n",
              "</body>\n",
              "</html>"
            ]
          },
          "metadata": {}
        }
      ],
      "source": [
        "topic_model.visualize_barchart(top_n_topics=50)"
      ]
    },
    {
      "cell_type": "code",
      "execution_count": null,
      "metadata": {
        "id": "2UVjWB_ZAEN9",
        "colab": {
          "base_uri": "https://localhost:8080/",
          "height": 517
        },
        "outputId": "c8202e3b-2d5e-4f27-d671-e099907da808"
      },
      "outputs": [
        {
          "output_type": "display_data",
          "data": {
            "text/html": [
              "<html>\n",
              "<head><meta charset=\"utf-8\" /></head>\n",
              "<body>\n",
              "    <div>            <script src=\"https://cdnjs.cloudflare.com/ajax/libs/mathjax/2.7.5/MathJax.js?config=TeX-AMS-MML_SVG\"></script><script type=\"text/javascript\">if (window.MathJax) {MathJax.Hub.Config({SVG: {font: \"STIX-Web\"}});}</script>                <script type=\"text/javascript\">window.PlotlyConfig = {MathJaxConfig: 'local'};</script>\n",
              "        <script src=\"https://cdn.plot.ly/plotly-2.8.3.min.js\"></script>                <div id=\"d534f4fc-73c8-49c9-b301-f62b5477e582\" class=\"plotly-graph-div\" style=\"height:500px; width:800px;\"></div>            <script type=\"text/javascript\">                                    window.PLOTLYENV=window.PLOTLYENV || {};                                    if (document.getElementById(\"d534f4fc-73c8-49c9-b301-f62b5477e582\")) {                    Plotly.newPlot(                        \"d534f4fc-73c8-49c9-b301-f62b5477e582\",                        [{\"hovertext\":\"<b>Topic -1</b>:great_nt_president_fake_people_goo\",\"line\":{\"color\":\"black\",\"width\":1.5},\"mode\":\"lines+lines\",\"name\":\"\",\"opacity\":0.1,\"x\":[1,2,3,4,5,6,7,8,9,10],\"y\":[0.010997338129441026,0.010460455417169482,0.009970904369815738,0.009433036538214805,0.009274025718330966,0.009099790111790563,0.0090584850893213,0.008969003247775002,0.008749839518740959,0.008343331314057853],\"type\":\"scatter\"},{\"hovertext\":\"<b>Topic 0</b>:thank_kag_2020_honor_nice_great_lov\",\"line\":{\"color\":\"black\",\"width\":1.5},\"mode\":\"lines+lines\",\"name\":\"\",\"opacity\":0.1,\"x\":[1,2,3,4,5,6,7,8,9,10],\"y\":[0.44568966633910956,0.14971915224284404,0.12605096552155792,0.06459620926067657,0.05632303728829824,0.044960210476473174,0.043516230450476284,0.02951597792371671,0.0281620272050619,0.024675182794394714],\"type\":\"scatter\"},{\"hovertext\":\"<b>Topic 1</b>:endorsement_complete_total_amendmen\",\"line\":{\"color\":\"black\",\"width\":1.5},\"mode\":\"lines+lines\",\"name\":\"\",\"opacity\":0.1,\"x\":[1,2,3,4,5,6,7,8,9,10],\"y\":[0.09255539784558423,0.08591596632098247,0.07705200657309204,0.06463524860786374,0.06022882002119331,0.05704281658478466,0.050349754665116195,0.0470161125291625,0.04674118336650868,0.0322090523490504],\"type\":\"scatter\"},{\"hovertext\":\"<b>Topic 2</b>:border_wall_southern_mexico_securit\",\"line\":{\"color\":\"black\",\"width\":1.5},\"mode\":\"lines+lines\",\"name\":\"\",\"opacity\":0.1,\"x\":[1,2,3,4,5,6,7,8,9,10],\"y\":[0.0946350139443315,0.06767294028796017,0.050179364841358126,0.04714032831004846,0.034929782025937814,0.026389605699030348,0.02598116888575316,0.023646574158267063,0.022052064507880685,0.020782563995609196],\"type\":\"scatter\"},{\"hovertext\":\"<b>Topic 3</b>:ballots_election_rigged_votes_ballo\",\"line\":{\"color\":\"black\",\"width\":1.5},\"mode\":\"lines+lines\",\"name\":\"\",\"opacity\":0.1,\"x\":[1,2,3,4,5,6,7,8,9,10],\"y\":[0.07930330037080063,0.07229182306599162,0.055231987310708976,0.0465042515213615,0.04347474285961982,0.03919682493849369,0.03721673705352927,0.034844088759333966,0.03218201777184566,0.030460184559001468],\"type\":\"scatter\"},{\"hovertext\":\"<b>Topic 4</b>:biden_joe_sleepy_fracking_wins_oil_\",\"line\":{\"color\":\"black\",\"width\":1.5},\"mode\":\"lines+lines\",\"name\":\"\",\"opacity\":0.1,\"x\":[1,2,3,4,5,6,7,8,9,10],\"y\":[0.10027152475259239,0.09284033130715276,0.04739530739817863,0.027305156913479907,0.026585671866005543,0.022545849828554808,0.019389476697640066,0.01930879362336691,0.017074028974656534,0.016865152370729754],\"type\":\"scatter\"},{\"hovertext\":\"<b>Topic 5</b>:china_tariffs_deal_trade_farmers_do\",\"line\":{\"color\":\"black\",\"width\":1.5},\"mode\":\"lines+lines\",\"name\":\"\",\"opacity\":0.1,\"x\":[1,2,3,4,5,6,7,8,9,10],\"y\":[0.09994595577982444,0.06096686173518831,0.04236192311490563,0.040534498934180166,0.03673448885778236,0.03420193277595846,0.03131867941225463,0.027561628502606815,0.026945123753512594,0.020190018949788266],\"type\":\"scatter\"},{\"hovertext\":\"<b>Topic 6</b>:book_great_congratulations_number_n\",\"line\":{\"color\":\"black\",\"width\":1.5},\"mode\":\"lines+lines\",\"name\":\"\",\"opacity\":0.1,\"x\":[1,2,3,4,5,6,7,8,9,10],\"y\":[0.0935979793596265,0.05141518538370562,0.0354926581504323,0.029549699804926582,0.0256080053782419,0.02537667170684825,0.02478877496963422,0.024729418255096815,0.023770891699841517,0.02327238484993288],\"type\":\"scatter\"},{\"hovertext\":\"<b>Topic 7</b>:honor_god_today_nation_venezuela_bl\",\"line\":{\"color\":\"black\",\"width\":1.5},\"mode\":\"lines+lines\",\"name\":\"\",\"opacity\":0.1,\"x\":[1,2,3,4,5,6,7,8,9,10],\"y\":[0.04395389445561188,0.041941244752642645,0.03963652859910307,0.0392607825699883,0.0340768723213792,0.030916161890049188,0.030818367383517006,0.027268668579624112,0.02434012875427533,0.024212645943457893],\"type\":\"scatter\"},{\"hovertext\":\"<b>Topic 8</b>:mueller_report_collusion_obstructio\",\"line\":{\"color\":\"black\",\"width\":1.5},\"mode\":\"lines+lines\",\"name\":\"\",\"opacity\":0.1,\"x\":[1,2,3,4,5,6,7,8,9,10],\"y\":[0.1419666367039689,0.06254474204440588,0.060912223064661375,0.041643408199129435,0.03570948259705528,0.028567586077644223,0.0257108274698798,0.02475309839361452,0.023451722570489414,0.022060799217567668],\"type\":\"scatter\"},{\"hovertext\":\"<b>Topic 9</b>:pennsylvania_wisconsin_ohio_florida\",\"line\":{\"color\":\"black\",\"width\":1.5},\"mode\":\"lines+lines\",\"name\":\"\",\"opacity\":0.1,\"x\":[1,2,3,4,5,6,7,8,9,10],\"y\":[0.08494793683159532,0.06955423582585717,0.06669870711109319,0.06454961485770878,0.05788887310971628,0.05407837484153626,0.05376496251050347,0.04948564745108509,0.04854426599177986,0.04832231437235424],\"type\":\"scatter\"},{\"hovertext\":\"<b>Topic 10</b>:nancy_pelosi_cryin_chuck_crazy_sch\",\"line\":{\"color\":\"black\",\"width\":1.5},\"mode\":\"lines+lines\",\"name\":\"\",\"opacity\":0.1,\"x\":[1,2,3,4,5,6,7,8,9,10],\"y\":[0.13050619755439144,0.09729658206088161,0.03600282752634996,0.03555238264600757,0.03311766937890234,0.030704330467006533,0.01967751015841794,0.01775504403589913,0.01743027494588743,0.015791084553986073],\"type\":\"scatter\"},{\"hovertext\":\"<b>Topic 11</b>:ratings_wow_morning_cnn_msdnc_rate\",\"line\":{\"color\":\"black\",\"width\":1.5},\"mode\":\"lines+lines\",\"name\":\"\",\"opacity\":0.1,\"x\":[1,2,3,4,5,6,7,8,9,10],\"y\":[0.15734962642017875,0.0789304500173373,0.07783510408189474,0.04407347979431027,0.04405121957661493,0.043676113759377244,0.04122239697281448,0.03759995620830394,0.035148416108119925,0.03425118397495489],\"type\":\"scatter\"},{\"hovertext\":\"<b>Topic 12</b>:hillary_crooked_clinton_fbi_comey_\",\"line\":{\"color\":\"black\",\"width\":1.5},\"mode\":\"lines+lines\",\"name\":\"\",\"opacity\":0.1,\"x\":[1,2,3,4,5,6,7,8,9,10],\"y\":[0.11999828858091148,0.10012536352130207,0.06766707616714593,0.049399402080882414,0.04627670139395398,0.04230812025955701,0.02840145290738309,0.02641455409340957,0.026004459997296198,0.025805209461518368],\"type\":\"scatter\"},{\"hovertext\":\"<b>Topic 13</b>:trump_donald_president_via_black_l\",\"line\":{\"color\":\"black\",\"width\":1.5},\"mode\":\"lines+lines\",\"name\":\"\",\"opacity\":0.1,\"x\":[1,2,3,4,5,6,7,8,9,10],\"y\":[0.13384957004104808,0.07458059650887722,0.0717928782836499,0.033397966951687064,0.02033333812475704,0.01903528887660755,0.018566158118715415,0.017706624889330076,0.017636191771757927,0.017374500503583752],\"type\":\"scatter\"},{\"hovertext\":\"<b>Topic 14</b>:schiff_adam_read_shifty_transcript\",\"line\":{\"color\":\"black\",\"width\":1.5},\"mode\":\"lines+lines\",\"name\":\"\",\"opacity\":0.1,\"x\":[1,2,3,4,5,6,7,8,9,10],\"y\":[0.16592021973943735,0.12123776616397652,0.0643122571430604,0.06313697301029937,0.04647724273065749,0.042160652729202885,0.03674210551285748,0.034355041315162156,0.032857612222174815,0.0318746230327315],\"type\":\"scatter\"},{\"hovertext\":\"<b>Topic 15</b>:left_radical_democrats_media_partn\",\"line\":{\"color\":\"black\",\"width\":1.5},\"mode\":\"lines+lines\",\"name\":\"\",\"opacity\":0.1,\"x\":[1,2,3,4,5,6,7,8,9,10],\"y\":[0.10099206653291995,0.09982400599582994,0.04239367476588374,0.030125343872528524,0.022834168364788077,0.02175236061306031,0.01834764590439243,0.01784238819372985,0.016569781285110843,0.015988986207826867],\"type\":\"scatter\"},{\"hovertext\":\"<b>Topic 16</b>:harassment_presidential_campaign_o\",\"line\":{\"color\":\"black\",\"width\":1.5},\"mode\":\"lines+lines\",\"name\":\"\",\"opacity\":0.1,\"x\":[1,2,3,4,5,6,7,8,9,10],\"y\":[0.08556610205264527,0.0720081756180233,0.0566878925080535,0.05569758347646573,0.052299229852673615,0.052234731562275705,0.04008840320438765,0.039001002790564065,0.03444712881287479,0.03322396648324344],\"type\":\"scatter\"},{\"hovertext\":\"<b>Topic 17</b>:impeachment_rt_hoax_trial_democrat\",\"line\":{\"color\":\"black\",\"width\":1.5},\"mode\":\"lines+lines\",\"name\":\"\",\"opacity\":0.1,\"x\":[1,2,3,4,5,6,7,8,9,10],\"y\":[0.1680342255273312,0.11594997236755282,0.02960047675047955,0.02581660920513808,0.02315816491036439,0.02035225921122818,0.019221764205105272,0.01889874751523768,0.01889874751523768,0.018349196593140646],\"type\":\"scatter\"},{\"hovertext\":\"<b>Topic 18</b>:best_economy_ever_history_unemploy\",\"line\":{\"color\":\"black\",\"width\":1.5},\"mode\":\"lines+lines\",\"name\":\"\",\"opacity\":0.1,\"x\":[1,2,3,4,5,6,7,8,9,10],\"y\":[0.13916391162374234,0.05970944767840313,0.050428197022313014,0.048468654005685646,0.04278391486507329,0.03960894439420677,0.033346314069311454,0.03140986596922902,0.02994231464510568,0.02632554959313853],\"type\":\"scatter\"},{\"hovertext\":\"<b>Topic 19</b>:white_house_news_conference_today_\",\"line\":{\"color\":\"black\",\"width\":1.5},\"mode\":\"lines+lines\",\"name\":\"\",\"opacity\":0.1,\"x\":[1,2,3,4,5,6,7,8,9,10],\"y\":[0.13668194981670978,0.10512202589931387,0.021961283224004546,0.021888256007977308,0.01864170631004002,0.01761577026841051,0.016789209323643105,0.015910570273693102,0.014763104450407948,0.014334487619592605],\"type\":\"scatter\"},{\"hovertext\":\"<b>Topic 20</b>:fed_reserve_rates_interest_inflati\",\"line\":{\"color\":\"black\",\"width\":1.5},\"mode\":\"lines+lines\",\"name\":\"\",\"opacity\":0.1,\"x\":[1,2,3,4,5,6,7,8,9,10],\"y\":[0.09758356112624335,0.08991807315067939,0.07599625390216402,0.0715992309494109,0.05905667135040681,0.05875006970982772,0.05599723926655911,0.052258304180682634,0.04705666852017842,0.046997113765930264],\"type\":\"scatter\"},{\"hovertext\":\"<b>Topic 21</b>:america_make_get_great_keep_standi\",\"line\":{\"color\":\"black\",\"width\":1.5},\"mode\":\"lines+lines\",\"name\":\"\",\"opacity\":0.1,\"x\":[1,2,3,4,5,6,7,8,9,10],\"y\":[0.3423697579325642,0.2054208283632898,0.11792762168060661,0.10805131399407104,0.0893967593499396,0.08300812594917673,0.08190560749715939,0.07438766231031144,0.05764578279710875,0.05675292042710784],\"type\":\"scatter\"},{\"hovertext\":\"<b>Topic 22</b>:anarchists_guard_portland_agitator\",\"line\":{\"color\":\"black\",\"width\":1.5},\"mode\":\"lines+lines\",\"name\":\"\",\"opacity\":0.1,\"x\":[1,2,3,4,5,6,7,8,9,10],\"y\":[0.08382644933563833,0.06406132519850075,0.06296195903944764,0.053485912223431055,0.04467058147308742,0.040426952602204254,0.04010181936832204,0.03743523776463092,0.03591785290424823,0.035806094369651424],\"type\":\"scatter\"},{\"hovertext\":\"<b>Topic 23</b>:media_lamestream_fake_corrupt_news\",\"line\":{\"color\":\"black\",\"width\":1.5},\"mode\":\"lines+lines\",\"name\":\"\",\"opacity\":0.1,\"x\":[1,2,3,4,5,6,7,8,9,10],\"y\":[0.13056405538926255,0.11100541774168364,0.07775337425424705,0.07588853455132803,0.05886485770953262,0.034220738470117355,0.03133599114360293,0.03088856722574661,0.03039697930326617,0.030151220064741815],\"type\":\"scatter\"},{\"hovertext\":\"<b>Topic 24</b>:true_agree_yes_100_correct_real_ca\",\"line\":{\"color\":\"black\",\"width\":1.5},\"mode\":\"lines+lines\",\"name\":\"\",\"opacity\":0.1,\"x\":[1,2,3,4,5,6,7,8,9,10],\"y\":[0.8766436075421346,0.40975166763481036,0.2608510799345942,0.25736293273380023,0.17780355083523802,0.14324802353766727,0.09620143610286486,0.08304157437036785,0.07229330280597314,0.07229330280597314],\"type\":\"scatter\"},{\"hovertext\":\"<b>Topic 25</b>:fake_news_media_enemy_story_report\",\"line\":{\"color\":\"black\",\"width\":1.5},\"mode\":\"lines+lines\",\"name\":\"\",\"opacity\":0.1,\"x\":[1,2,3,4,5,6,7,8,9,10],\"y\":[0.18595241346996585,0.17274567637877394,0.05098003300385231,0.03971125824470277,0.03117601768170807,0.02625505514661801,0.025749497806107323,0.025495054211924998,0.02477634106174421,0.023393701372884032],\"type\":\"scatter\"},{\"hovertext\":\"<b>Topic 26</b>:congratulations_great_proud_going_\",\"line\":{\"color\":\"black\",\"width\":1.5},\"mode\":\"lines+lines\",\"name\":\"\",\"opacity\":0.1,\"x\":[1,2,3,4,5,6,7,8,9,10],\"y\":[0.30938721124840546,0.17375439164411166,0.08735303330697435,0.08396064850867437,0.0790299463919986,0.07885879496942605,0.06357478343638573,0.05977837248501118,0.05823535553798289,0.05286859888513082],\"type\":\"scatter\"},{\"hovertext\":\"<b>Topic 27</b>:stock_market_record_nasdaq_high_al\",\"line\":{\"color\":\"black\",\"width\":1.5},\"mode\":\"lines+lines\",\"name\":\"\",\"opacity\":0.1,\"x\":[1,2,3,4,5,6,7,8,9,10],\"y\":[0.20060828258736596,0.19149812971142358,0.09280758857179204,0.08623314220882188,0.08520889280437537,0.07219308530251574,0.05197062009943581,0.050922988954385746,0.04812309089426499,0.04695372788093609],\"type\":\"scatter\"},{\"hovertext\":\"<b>Topic 28</b>:bus_transit_area_funding_funds_imp\",\"line\":{\"color\":\"black\",\"width\":1.5},\"mode\":\"lines+lines\",\"name\":\"\",\"opacity\":0.1,\"x\":[1,2,3,4,5,6,7,8,9,10],\"y\":[0.08476932557638037,0.08402765880246033,0.06184321681530339,0.06169408633390878,0.0614248625615774,0.05354458115162581,0.05058348794894605,0.04404461923318351,0.04130782427027617,0.04062467373930369],\"type\":\"scatter\"},{\"hovertext\":\"<b>Topic 29</b>:court_supreme_justices_judges_daca\",\"line\":{\"color\":\"black\",\"width\":1.5},\"mode\":\"lines+lines\",\"name\":\"\",\"opacity\":0.1,\"x\":[1,2,3,4,5,6,7,8,9,10],\"y\":[0.14079436717577357,0.13595270268362414,0.04666210113144283,0.042558785757629135,0.040517341487163835,0.03802513941097412,0.037203001914119634,0.037150201428769354,0.0355583013393256,0.031204946780215577],\"type\":\"scatter\"},{\"hovertext\":\"<b>Topic 30</b>:thank_franklin_thanks_true_david_e\",\"line\":{\"color\":\"black\",\"width\":1.5},\"mode\":\"lines+lines\",\"name\":\"\",\"opacity\":0.1,\"x\":[1,2,3,4,5,6,7,8,9,10],\"y\":[0.49803276322605894,0.1535426585580394,0.1480109055177352,0.1134479962701586,0.10926572505488918,0.10635539584949705,0.10333865060096063,0.0913913933634003,0.08037611172789415,0.07833709057090764],\"type\":\"scatter\"},{\"hovertext\":\"<b>Topic 31</b>:isis_turkey_kurds_syria_caliphate_\",\"line\":{\"color\":\"black\",\"width\":1.5},\"mode\":\"lines+lines\",\"name\":\"\",\"opacity\":0.1,\"x\":[1,2,3,4,5,6,7,8,9,10],\"y\":[0.11589919790272327,0.09537290018703745,0.09205155875221327,0.07419152770798304,0.04815944491779233,0.046025779376106635,0.04092573101504545,0.035470575266942396,0.033342239023822426,0.029462681192606237],\"type\":\"scatter\"},{\"hovertext\":\"<b>Topic 32</b>:iran_iranian_sanctions_nuclear_att\",\"line\":{\"color\":\"black\",\"width\":1.5},\"mode\":\"lines+lines\",\"name\":\"\",\"opacity\":0.1,\"x\":[1,2,3,4,5,6,7,8,9,10],\"y\":[0.23211471908048945,0.05575202881710744,0.047137067909327805,0.03856669192581366,0.028413996905183772,0.025700943393287105,0.025326344067735783,0.022370991841856556,0.02181264718521415,0.021535706535758255],\"type\":\"scatter\"},{\"hovertext\":\"<b>Topic 33</b>:interviewed_enjoy_900_tonight_east\",\"line\":{\"color\":\"black\",\"width\":1.5},\"mode\":\"lines+lines\",\"name\":\"\",\"opacity\":0.1,\"x\":[1,2,3,4,5,6,7,8,9,10],\"y\":[0.5940339987011252,0.5368049837669976,0.33612150284078585,0.3222461969279567,0.18214257484173907,0.13384420210968517,0.09696752428581212,0.08720593630537042,0.07675176125725928,0.06770127820041794],\"type\":\"scatter\"},{\"hovertext\":\"<b>Topic 34</b>:flynn_general_honor_welcome_congra\",\"line\":{\"color\":\"black\",\"width\":1.5},\"mode\":\"lines+lines\",\"name\":\"\",\"opacity\":0.1,\"x\":[1,2,3,4,5,6,7,8,9,10],\"y\":[0.12499468246809005,0.09576040726473146,0.06773183182168763,0.06355175812359992,0.05938772604251415,0.045098444440689577,0.04494483696442519,0.04262821773021906,0.0419176084655609,0.03903841722802706],\"type\":\"scatter\"},{\"hovertext\":\"<b>Topic 35</b>:carolina_north_bishop_hurricane_do\",\"line\":{\"color\":\"black\",\"width\":1.5},\"mode\":\"lines+lines\",\"name\":\"\",\"opacity\":0.1,\"x\":[1,2,3,4,5,6,7,8,9,10],\"y\":[0.18793714685996285,0.15001195675529605,0.06877048084294354,0.06527905539918043,0.06282193811657673,0.057925402876642905,0.040180709320183014,0.039667490336477984,0.029303593419555872,0.027612574054393678],\"type\":\"scatter\"},{\"hovertext\":\"<b>Topic 36</b>:hunt_witch_collusion_history_conti\",\"line\":{\"color\":\"black\",\"width\":1.5},\"mode\":\"lines+lines\",\"name\":\"\",\"opacity\":0.1,\"x\":[1,2,3,4,5,6,7,8,9,10],\"y\":[0.24541887813270732,0.24289535395484474,0.05506235516017498,0.05429484913491989,0.04306081722274417,0.04207877690900531,0.02959131983668794,0.029435803838244044,0.02760861704902578,0.02726876423696748],\"type\":\"scatter\"},{\"hovertext\":\"<b>Topic 37</b>:testing_cases_vaccines_open_deaths\",\"line\":{\"color\":\"black\",\"width\":1.5},\"mode\":\"lines+lines\",\"name\":\"\",\"opacity\":0.1,\"x\":[1,2,3,4,5,6,7,8,9,10],\"y\":[0.10799366591297956,0.09761222231917249,0.06901139337847692,0.05600276810906502,0.047945145959268444,0.04579903783362434,0.03857474474133236,0.037495172563956694,0.03556766537039563,0.03492462638341546],\"type\":\"scatter\"},{\"hovertext\":\"<b>Topic 38</b>:conference_white_house_eastern_530\",\"line\":{\"color\":\"black\",\"width\":1.5},\"mode\":\"lines+lines\",\"name\":\"\",\"opacity\":0.1,\"x\":[1,2,3,4,5,6,7,8,9,10],\"y\":[0.38063791796071533,0.3034348421407162,0.24106516933978786,0.20279224653644284,0.17863521620587552,0.12080758997138925,0.12058323970526653,0.1054064915589388,0.09262292821061768,0.08032035495184664],\"type\":\"scatter\"},{\"hovertext\":\"<b>Topic 39</b>:maga_thank_pennsylvania_maine_jobs\",\"line\":{\"color\":\"black\",\"width\":1.5},\"mode\":\"lines+lines\",\"name\":\"\",\"opacity\":0.1,\"x\":[1,2,3,4,5,6,7,8,9,10],\"y\":[0.8442417671549918,0.4131147344732286,0.07198917768538109,0.06341617448248998,0.0632534046334941,0.060563601774329526,0.051304924571980944,0.051304924571980944,0.051304924571980944,0.049929609107087235],\"type\":\"scatter\"},{\"hovertext\":\"<b>Topic 40</b>:job_amazing_great_incredible_eveni\",\"line\":{\"color\":\"black\",\"width\":1.5},\"mode\":\"lines+lines\",\"name\":\"\",\"opacity\":0.1,\"x\":[1,2,3,4,5,6,7,8,9,10],\"y\":[0.24236450743269333,0.2220275589947167,0.13946840800865148,0.09559327272412631,0.08952547605005778,0.08453704369550528,0.07460045054216775,0.0689439867132143,0.0552374193770146,0.04321882232965786],\"type\":\"scatter\"},{\"hovertext\":\"<b>Topic 41</b>:coronavirus_countries_testing_hand\",\"line\":{\"color\":\"black\",\"width\":1.5},\"mode\":\"lines+lines\",\"name\":\"\",\"opacity\":0.1,\"x\":[1,2,3,4,5,6,7,8,9,10],\"y\":[0.2025270693154367,0.03346989127044137,0.030795218228816344,0.02951868845359932,0.0282338581434502,0.027834870338977635,0.025634858194215657,0.025384345227476946,0.02357836040709506,0.023507901459766795],\"type\":\"scatter\"},{\"hovertext\":\"<b>Topic 42</b>:mini_mike_bloomberg_debate_mayor_g\",\"line\":{\"color\":\"black\",\"width\":1.5},\"mode\":\"lines+lines\",\"name\":\"\",\"opacity\":0.1,\"x\":[1,2,3,4,5,6,7,8,9,10],\"y\":[0.1584366551456839,0.12847507912551862,0.10724126734098302,0.04933648077230028,0.025756010939437787,0.025024401653006272,0.024286159642230833,0.02366495129888483,0.0227336939606015,0.022206348173153086],\"type\":\"scatter\"},{\"hovertext\":\"<b>Topic 43</b>:rating_approval_party_95_republica\",\"line\":{\"color\":\"black\",\"width\":1.5},\"mode\":\"lines+lines\",\"name\":\"\",\"opacity\":0.1,\"x\":[1,2,3,4,5,6,7,8,9,10],\"y\":[0.3351419915016575,0.3192099733080603,0.18459797991438545,0.1822489520839702,0.1781044795142604,0.12033931019153897,0.09178032350880229,0.07657588501163787,0.07260671761290151,0.04700225434254458],\"type\":\"scatter\"},{\"hovertext\":\"<b>Topic 44</b>:kim_korea_jong_un_north_bolton_cha\",\"line\":{\"color\":\"black\",\"width\":1.5},\"mode\":\"lines+lines\",\"name\":\"\",\"opacity\":0.1,\"x\":[1,2,3,4,5,6,7,8,9,10],\"y\":[0.15425208329879295,0.13087306457557824,0.11522241346281215,0.11440289638049311,0.08762893571437415,0.05917391192094471,0.05556621572110401,0.038511448990181614,0.036579283082629026,0.03332592194286337],\"type\":\"scatter\"},{\"hovertext\":\"<b>Topic 45</b>:whistleblower_call_schiff_socalled\",\"line\":{\"color\":\"black\",\"width\":1.5},\"mode\":\"lines+lines\",\"name\":\"\",\"opacity\":0.1,\"x\":[1,2,3,4,5,6,7,8,9,10],\"y\":[0.2934418854579416,0.07599386835558582,0.06670381315612356,0.06274376304127643,0.0595264562735282,0.055097182202646644,0.03938317672382734,0.039381824223166634,0.03913274047609652,0.03821822122843483],\"type\":\"scatter\"},{\"hovertext\":\"<b>Topic 46</b>:great_transition_greatness_scam_te\",\"line\":{\"color\":\"black\",\"width\":1.5},\"mode\":\"lines+lines\",\"name\":\"\",\"opacity\":0.1,\"x\":[1,2,3,4,5,6,7,8,9,10],\"y\":[0.37792732400045503,0.3248758618344038,0.2824570989881019,0.1473926705894044,0.1409289492583337,0.0914053253868626,0.08344216012748337,0.07548303431540851,0.07548303431540851,0.06906278302846612],\"type\":\"scatter\"},{\"hovertext\":\"<b>Topic 47</b>:louisiana_governor_edwards_republi\",\"line\":{\"color\":\"black\",\"width\":1.5},\"mode\":\"lines+lines\",\"name\":\"\",\"opacity\":0.1,\"x\":[1,2,3,4,5,6,7,8,9,10],\"y\":[0.1539661935540035,0.09769631645341849,0.07038688103369649,0.069956824846916,0.0675528984655606,0.06570082069786662,0.06185231169424855,0.05845320193830663,0.05201477405704913,0.04715119553727958],\"type\":\"scatter\"},{\"hovertext\":\"<b>Topic 48</b>:maga_soon_see_way_henderson_pennsy\",\"line\":{\"color\":\"black\",\"width\":1.5},\"mode\":\"lines+lines\",\"name\":\"\",\"opacity\":0.1,\"x\":[1,2,3,4,5,6,7,8,9,10],\"y\":[0.2766542788774286,0.1729972487013034,0.13000030663598472,0.09122327429463684,0.05627494520225623,0.05406164021915731,0.05090716267783365,0.04973292068525557,0.04890387654315439,0.048064488651609595],\"type\":\"scatter\"},{\"hovertext\":\"<b>Topic 49</b>:happy_birthday_day_thanksgiving_24\",\"line\":{\"color\":\"black\",\"width\":1.5},\"mode\":\"lines+lines\",\"name\":\"\",\"opacity\":0.1,\"x\":[1,2,3,4,5,6,7,8,9,10],\"y\":[0.7466785686074813,0.47698026181033165,0.1686415659046531,0.09543867495195027,0.08799355067989156,0.08799355067989156,0.07469408021878766,0.07282984392092792,0.0712155368826433,0.05026735124937513],\"type\":\"scatter\"},{\"hovertext\":\"<b>Topic 50</b>:israel_peace_arab_jewish_bahrain_e\",\"line\":{\"color\":\"black\",\"width\":1.5},\"mode\":\"lines+lines\",\"name\":\"\",\"opacity\":0.1,\"x\":[1,2,3,4,5,6,7,8,9,10],\"y\":[0.23565801370390274,0.055911163308780494,0.0543542307299868,0.05260788174447597,0.04236982062128418,0.03758253309640316,0.037032822223858064,0.035278787012519804,0.03460246211494277,0.03243300112629492],\"type\":\"scatter\"},{\"hovertext\":\"<b>Topic 51</b>:dems_nothing_democrats_senate_hous\",\"line\":{\"color\":\"black\",\"width\":1.5},\"mode\":\"lines+lines\",\"name\":\"\",\"opacity\":0.1,\"x\":[1,2,3,4,5,6,7,8,9,10],\"y\":[0.11916652013919708,0.08131510721322022,0.06339075137767747,0.04028480414976316,0.034437881334255405,0.026867594131028176,0.025425901861738185,0.02405639517679159,0.023924448524450338,0.022019546506341768],\"type\":\"scatter\"},{\"hovertext\":\"<b>Topic 52</b>:georgia_signature_verification_gov\",\"line\":{\"color\":\"black\",\"width\":1.5},\"mode\":\"lines+lines\",\"name\":\"\",\"opacity\":0.1,\"x\":[1,2,3,4,5,6,7,8,9,10],\"y\":[0.16810145678827573,0.10857168331344622,0.09320552524875342,0.06629103825629638,0.058253453280470886,0.054064316393675836,0.052186671443528794,0.052116516027371544,0.049424018478757964,0.046443521093228156],\"type\":\"scatter\"}],                        {\"template\":{\"data\":{\"barpolar\":[{\"marker\":{\"line\":{\"color\":\"white\",\"width\":0.5},\"pattern\":{\"fillmode\":\"overlay\",\"size\":10,\"solidity\":0.2}},\"type\":\"barpolar\"}],\"bar\":[{\"error_x\":{\"color\":\"#2a3f5f\"},\"error_y\":{\"color\":\"#2a3f5f\"},\"marker\":{\"line\":{\"color\":\"white\",\"width\":0.5},\"pattern\":{\"fillmode\":\"overlay\",\"size\":10,\"solidity\":0.2}},\"type\":\"bar\"}],\"carpet\":[{\"aaxis\":{\"endlinecolor\":\"#2a3f5f\",\"gridcolor\":\"#C8D4E3\",\"linecolor\":\"#C8D4E3\",\"minorgridcolor\":\"#C8D4E3\",\"startlinecolor\":\"#2a3f5f\"},\"baxis\":{\"endlinecolor\":\"#2a3f5f\",\"gridcolor\":\"#C8D4E3\",\"linecolor\":\"#C8D4E3\",\"minorgridcolor\":\"#C8D4E3\",\"startlinecolor\":\"#2a3f5f\"},\"type\":\"carpet\"}],\"choropleth\":[{\"colorbar\":{\"outlinewidth\":0,\"ticks\":\"\"},\"type\":\"choropleth\"}],\"contourcarpet\":[{\"colorbar\":{\"outlinewidth\":0,\"ticks\":\"\"},\"type\":\"contourcarpet\"}],\"contour\":[{\"colorbar\":{\"outlinewidth\":0,\"ticks\":\"\"},\"colorscale\":[[0.0,\"#0d0887\"],[0.1111111111111111,\"#46039f\"],[0.2222222222222222,\"#7201a8\"],[0.3333333333333333,\"#9c179e\"],[0.4444444444444444,\"#bd3786\"],[0.5555555555555556,\"#d8576b\"],[0.6666666666666666,\"#ed7953\"],[0.7777777777777778,\"#fb9f3a\"],[0.8888888888888888,\"#fdca26\"],[1.0,\"#f0f921\"]],\"type\":\"contour\"}],\"heatmapgl\":[{\"colorbar\":{\"outlinewidth\":0,\"ticks\":\"\"},\"colorscale\":[[0.0,\"#0d0887\"],[0.1111111111111111,\"#46039f\"],[0.2222222222222222,\"#7201a8\"],[0.3333333333333333,\"#9c179e\"],[0.4444444444444444,\"#bd3786\"],[0.5555555555555556,\"#d8576b\"],[0.6666666666666666,\"#ed7953\"],[0.7777777777777778,\"#fb9f3a\"],[0.8888888888888888,\"#fdca26\"],[1.0,\"#f0f921\"]],\"type\":\"heatmapgl\"}],\"heatmap\":[{\"colorbar\":{\"outlinewidth\":0,\"ticks\":\"\"},\"colorscale\":[[0.0,\"#0d0887\"],[0.1111111111111111,\"#46039f\"],[0.2222222222222222,\"#7201a8\"],[0.3333333333333333,\"#9c179e\"],[0.4444444444444444,\"#bd3786\"],[0.5555555555555556,\"#d8576b\"],[0.6666666666666666,\"#ed7953\"],[0.7777777777777778,\"#fb9f3a\"],[0.8888888888888888,\"#fdca26\"],[1.0,\"#f0f921\"]],\"type\":\"heatmap\"}],\"histogram2dcontour\":[{\"colorbar\":{\"outlinewidth\":0,\"ticks\":\"\"},\"colorscale\":[[0.0,\"#0d0887\"],[0.1111111111111111,\"#46039f\"],[0.2222222222222222,\"#7201a8\"],[0.3333333333333333,\"#9c179e\"],[0.4444444444444444,\"#bd3786\"],[0.5555555555555556,\"#d8576b\"],[0.6666666666666666,\"#ed7953\"],[0.7777777777777778,\"#fb9f3a\"],[0.8888888888888888,\"#fdca26\"],[1.0,\"#f0f921\"]],\"type\":\"histogram2dcontour\"}],\"histogram2d\":[{\"colorbar\":{\"outlinewidth\":0,\"ticks\":\"\"},\"colorscale\":[[0.0,\"#0d0887\"],[0.1111111111111111,\"#46039f\"],[0.2222222222222222,\"#7201a8\"],[0.3333333333333333,\"#9c179e\"],[0.4444444444444444,\"#bd3786\"],[0.5555555555555556,\"#d8576b\"],[0.6666666666666666,\"#ed7953\"],[0.7777777777777778,\"#fb9f3a\"],[0.8888888888888888,\"#fdca26\"],[1.0,\"#f0f921\"]],\"type\":\"histogram2d\"}],\"histogram\":[{\"marker\":{\"pattern\":{\"fillmode\":\"overlay\",\"size\":10,\"solidity\":0.2}},\"type\":\"histogram\"}],\"mesh3d\":[{\"colorbar\":{\"outlinewidth\":0,\"ticks\":\"\"},\"type\":\"mesh3d\"}],\"parcoords\":[{\"line\":{\"colorbar\":{\"outlinewidth\":0,\"ticks\":\"\"}},\"type\":\"parcoords\"}],\"pie\":[{\"automargin\":true,\"type\":\"pie\"}],\"scatter3d\":[{\"line\":{\"colorbar\":{\"outlinewidth\":0,\"ticks\":\"\"}},\"marker\":{\"colorbar\":{\"outlinewidth\":0,\"ticks\":\"\"}},\"type\":\"scatter3d\"}],\"scattercarpet\":[{\"marker\":{\"colorbar\":{\"outlinewidth\":0,\"ticks\":\"\"}},\"type\":\"scattercarpet\"}],\"scattergeo\":[{\"marker\":{\"colorbar\":{\"outlinewidth\":0,\"ticks\":\"\"}},\"type\":\"scattergeo\"}],\"scattergl\":[{\"marker\":{\"colorbar\":{\"outlinewidth\":0,\"ticks\":\"\"}},\"type\":\"scattergl\"}],\"scattermapbox\":[{\"marker\":{\"colorbar\":{\"outlinewidth\":0,\"ticks\":\"\"}},\"type\":\"scattermapbox\"}],\"scatterpolargl\":[{\"marker\":{\"colorbar\":{\"outlinewidth\":0,\"ticks\":\"\"}},\"type\":\"scatterpolargl\"}],\"scatterpolar\":[{\"marker\":{\"colorbar\":{\"outlinewidth\":0,\"ticks\":\"\"}},\"type\":\"scatterpolar\"}],\"scatter\":[{\"marker\":{\"colorbar\":{\"outlinewidth\":0,\"ticks\":\"\"}},\"type\":\"scatter\"}],\"scatterternary\":[{\"marker\":{\"colorbar\":{\"outlinewidth\":0,\"ticks\":\"\"}},\"type\":\"scatterternary\"}],\"surface\":[{\"colorbar\":{\"outlinewidth\":0,\"ticks\":\"\"},\"colorscale\":[[0.0,\"#0d0887\"],[0.1111111111111111,\"#46039f\"],[0.2222222222222222,\"#7201a8\"],[0.3333333333333333,\"#9c179e\"],[0.4444444444444444,\"#bd3786\"],[0.5555555555555556,\"#d8576b\"],[0.6666666666666666,\"#ed7953\"],[0.7777777777777778,\"#fb9f3a\"],[0.8888888888888888,\"#fdca26\"],[1.0,\"#f0f921\"]],\"type\":\"surface\"}],\"table\":[{\"cells\":{\"fill\":{\"color\":\"#EBF0F8\"},\"line\":{\"color\":\"white\"}},\"header\":{\"fill\":{\"color\":\"#C8D4E3\"},\"line\":{\"color\":\"white\"}},\"type\":\"table\"}]},\"layout\":{\"annotationdefaults\":{\"arrowcolor\":\"#2a3f5f\",\"arrowhead\":0,\"arrowwidth\":1},\"autotypenumbers\":\"strict\",\"coloraxis\":{\"colorbar\":{\"outlinewidth\":0,\"ticks\":\"\"}},\"colorscale\":{\"diverging\":[[0,\"#8e0152\"],[0.1,\"#c51b7d\"],[0.2,\"#de77ae\"],[0.3,\"#f1b6da\"],[0.4,\"#fde0ef\"],[0.5,\"#f7f7f7\"],[0.6,\"#e6f5d0\"],[0.7,\"#b8e186\"],[0.8,\"#7fbc41\"],[0.9,\"#4d9221\"],[1,\"#276419\"]],\"sequential\":[[0.0,\"#0d0887\"],[0.1111111111111111,\"#46039f\"],[0.2222222222222222,\"#7201a8\"],[0.3333333333333333,\"#9c179e\"],[0.4444444444444444,\"#bd3786\"],[0.5555555555555556,\"#d8576b\"],[0.6666666666666666,\"#ed7953\"],[0.7777777777777778,\"#fb9f3a\"],[0.8888888888888888,\"#fdca26\"],[1.0,\"#f0f921\"]],\"sequentialminus\":[[0.0,\"#0d0887\"],[0.1111111111111111,\"#46039f\"],[0.2222222222222222,\"#7201a8\"],[0.3333333333333333,\"#9c179e\"],[0.4444444444444444,\"#bd3786\"],[0.5555555555555556,\"#d8576b\"],[0.6666666666666666,\"#ed7953\"],[0.7777777777777778,\"#fb9f3a\"],[0.8888888888888888,\"#fdca26\"],[1.0,\"#f0f921\"]]},\"colorway\":[\"#636efa\",\"#EF553B\",\"#00cc96\",\"#ab63fa\",\"#FFA15A\",\"#19d3f3\",\"#FF6692\",\"#B6E880\",\"#FF97FF\",\"#FECB52\"],\"font\":{\"color\":\"#2a3f5f\"},\"geo\":{\"bgcolor\":\"white\",\"lakecolor\":\"white\",\"landcolor\":\"white\",\"showlakes\":true,\"showland\":true,\"subunitcolor\":\"#C8D4E3\"},\"hoverlabel\":{\"align\":\"left\"},\"hovermode\":\"closest\",\"mapbox\":{\"style\":\"light\"},\"paper_bgcolor\":\"white\",\"plot_bgcolor\":\"white\",\"polar\":{\"angularaxis\":{\"gridcolor\":\"#EBF0F8\",\"linecolor\":\"#EBF0F8\",\"ticks\":\"\"},\"bgcolor\":\"white\",\"radialaxis\":{\"gridcolor\":\"#EBF0F8\",\"linecolor\":\"#EBF0F8\",\"ticks\":\"\"}},\"scene\":{\"xaxis\":{\"backgroundcolor\":\"white\",\"gridcolor\":\"#DFE8F3\",\"gridwidth\":2,\"linecolor\":\"#EBF0F8\",\"showbackground\":true,\"ticks\":\"\",\"zerolinecolor\":\"#EBF0F8\"},\"yaxis\":{\"backgroundcolor\":\"white\",\"gridcolor\":\"#DFE8F3\",\"gridwidth\":2,\"linecolor\":\"#EBF0F8\",\"showbackground\":true,\"ticks\":\"\",\"zerolinecolor\":\"#EBF0F8\"},\"zaxis\":{\"backgroundcolor\":\"white\",\"gridcolor\":\"#DFE8F3\",\"gridwidth\":2,\"linecolor\":\"#EBF0F8\",\"showbackground\":true,\"ticks\":\"\",\"zerolinecolor\":\"#EBF0F8\"}},\"shapedefaults\":{\"line\":{\"color\":\"#2a3f5f\"}},\"ternary\":{\"aaxis\":{\"gridcolor\":\"#DFE8F3\",\"linecolor\":\"#A2B1C6\",\"ticks\":\"\"},\"baxis\":{\"gridcolor\":\"#DFE8F3\",\"linecolor\":\"#A2B1C6\",\"ticks\":\"\"},\"bgcolor\":\"white\",\"caxis\":{\"gridcolor\":\"#DFE8F3\",\"linecolor\":\"#A2B1C6\",\"ticks\":\"\"}},\"title\":{\"x\":0.05},\"xaxis\":{\"automargin\":true,\"gridcolor\":\"#EBF0F8\",\"linecolor\":\"#EBF0F8\",\"ticks\":\"\",\"title\":{\"standoff\":15},\"zerolinecolor\":\"#EBF0F8\",\"zerolinewidth\":2},\"yaxis\":{\"automargin\":true,\"gridcolor\":\"#EBF0F8\",\"linecolor\":\"#EBF0F8\",\"ticks\":\"\",\"title\":{\"standoff\":15},\"zerolinecolor\":\"#EBF0F8\",\"zerolinewidth\":2}}},\"xaxis\":{\"range\":[0,10],\"tick0\":1,\"dtick\":2,\"title\":{\"text\":\"Term Rank\"}},\"title\":{\"font\":{\"size\":22,\"color\":\"Black\"},\"text\":\"<b>Term score decline per Topic</b>\",\"y\":0.9,\"x\":0.5,\"xanchor\":\"center\",\"yanchor\":\"top\"},\"hoverlabel\":{\"font\":{\"size\":16,\"family\":\"Rockwell\"},\"bgcolor\":\"white\"},\"showlegend\":false,\"width\":800,\"height\":500,\"yaxis\":{\"title\":{\"text\":\"c-TF-IDF score\"}}},                        {\"responsive\": true}                    ).then(function(){\n",
              "                            \n",
              "var gd = document.getElementById('d534f4fc-73c8-49c9-b301-f62b5477e582');\n",
              "var x = new MutationObserver(function (mutations, observer) {{\n",
              "        var display = window.getComputedStyle(gd).display;\n",
              "        if (!display || display === 'none') {{\n",
              "            console.log([gd, 'removed!']);\n",
              "            Plotly.purge(gd);\n",
              "            observer.disconnect();\n",
              "        }}\n",
              "}});\n",
              "\n",
              "// Listen for the removal of the full notebook cells\n",
              "var notebookContainer = gd.closest('#notebook-container');\n",
              "if (notebookContainer) {{\n",
              "    x.observe(notebookContainer, {childList: true});\n",
              "}}\n",
              "\n",
              "// Listen for the clearing of the current output cell\n",
              "var outputEl = gd.closest('.output');\n",
              "if (outputEl) {{\n",
              "    x.observe(outputEl, {childList: true});\n",
              "}}\n",
              "\n",
              "                        })                };                            </script>        </div>\n",
              "</body>\n",
              "</html>"
            ]
          },
          "metadata": {}
        }
      ],
      "source": [
        "topic_model.visualize_term_rank()"
      ]
    }
  ],
  "metadata": {
    "accelerator": "GPU",
    "colab": {
      "machine_shape": "hm",
      "provenance": [],
      "include_colab_link": true
    },
    "gpuClass": "premium",
    "kernelspec": {
      "display_name": "Python 3 (ipykernel)",
      "language": "python",
      "name": "python3"
    },
    "language_info": {
      "codemirror_mode": {
        "name": "ipython",
        "version": 3
      },
      "file_extension": ".py",
      "mimetype": "text/x-python",
      "name": "python",
      "nbconvert_exporter": "python",
      "pygments_lexer": "ipython3",
      "version": "3.9.13"
    },
    "widgets": {
      "application/vnd.jupyter.widget-state+json": {
        "955e83c88a6a45b7a07b85f1602c068d": {
          "model_module": "@jupyter-widgets/controls",
          "model_name": "HBoxModel",
          "model_module_version": "1.5.0",
          "state": {
            "_dom_classes": [],
            "_model_module": "@jupyter-widgets/controls",
            "_model_module_version": "1.5.0",
            "_model_name": "HBoxModel",
            "_view_count": null,
            "_view_module": "@jupyter-widgets/controls",
            "_view_module_version": "1.5.0",
            "_view_name": "HBoxView",
            "box_style": "",
            "children": [
              "IPY_MODEL_dffe8aa35316486097b960f4b0c0d867",
              "IPY_MODEL_21eb1c41a8384d3f81c126e0e8ee8b6d",
              "IPY_MODEL_0e2eeb88b6ff4b84ba721473de4d62b9"
            ],
            "layout": "IPY_MODEL_6ef5bd33ac3b4e04b0113f52db8fe9ec"
          }
        },
        "dffe8aa35316486097b960f4b0c0d867": {
          "model_module": "@jupyter-widgets/controls",
          "model_name": "HTMLModel",
          "model_module_version": "1.5.0",
          "state": {
            "_dom_classes": [],
            "_model_module": "@jupyter-widgets/controls",
            "_model_module_version": "1.5.0",
            "_model_name": "HTMLModel",
            "_view_count": null,
            "_view_module": "@jupyter-widgets/controls",
            "_view_module_version": "1.5.0",
            "_view_name": "HTMLView",
            "description": "",
            "description_tooltip": null,
            "layout": "IPY_MODEL_336cbd3b761b460dbd4bc015dfc6552b",
            "placeholder": "​",
            "style": "IPY_MODEL_91ddc7c850494fd1812d0562ea7f0457",
            "value": "Batches: 100%"
          }
        },
        "21eb1c41a8384d3f81c126e0e8ee8b6d": {
          "model_module": "@jupyter-widgets/controls",
          "model_name": "FloatProgressModel",
          "model_module_version": "1.5.0",
          "state": {
            "_dom_classes": [],
            "_model_module": "@jupyter-widgets/controls",
            "_model_module_version": "1.5.0",
            "_model_name": "FloatProgressModel",
            "_view_count": null,
            "_view_module": "@jupyter-widgets/controls",
            "_view_module_version": "1.5.0",
            "_view_name": "ProgressView",
            "bar_style": "success",
            "description": "",
            "description_tooltip": null,
            "layout": "IPY_MODEL_c8f68caef3f247b08d1c84d6c37ea958",
            "max": 317,
            "min": 0,
            "orientation": "horizontal",
            "style": "IPY_MODEL_d339d2276a914c679c315381639bdd79",
            "value": 317
          }
        },
        "0e2eeb88b6ff4b84ba721473de4d62b9": {
          "model_module": "@jupyter-widgets/controls",
          "model_name": "HTMLModel",
          "model_module_version": "1.5.0",
          "state": {
            "_dom_classes": [],
            "_model_module": "@jupyter-widgets/controls",
            "_model_module_version": "1.5.0",
            "_model_name": "HTMLModel",
            "_view_count": null,
            "_view_module": "@jupyter-widgets/controls",
            "_view_module_version": "1.5.0",
            "_view_name": "HTMLView",
            "description": "",
            "description_tooltip": null,
            "layout": "IPY_MODEL_c5e680656c4f4520bbf52ee638a97917",
            "placeholder": "​",
            "style": "IPY_MODEL_cbb8e53c34364566be0fc9ae0ccc1ecd",
            "value": " 317/317 [00:03&lt;00:00, 184.60it/s]"
          }
        },
        "6ef5bd33ac3b4e04b0113f52db8fe9ec": {
          "model_module": "@jupyter-widgets/base",
          "model_name": "LayoutModel",
          "model_module_version": "1.2.0",
          "state": {
            "_model_module": "@jupyter-widgets/base",
            "_model_module_version": "1.2.0",
            "_model_name": "LayoutModel",
            "_view_count": null,
            "_view_module": "@jupyter-widgets/base",
            "_view_module_version": "1.2.0",
            "_view_name": "LayoutView",
            "align_content": null,
            "align_items": null,
            "align_self": null,
            "border": null,
            "bottom": null,
            "display": null,
            "flex": null,
            "flex_flow": null,
            "grid_area": null,
            "grid_auto_columns": null,
            "grid_auto_flow": null,
            "grid_auto_rows": null,
            "grid_column": null,
            "grid_gap": null,
            "grid_row": null,
            "grid_template_areas": null,
            "grid_template_columns": null,
            "grid_template_rows": null,
            "height": null,
            "justify_content": null,
            "justify_items": null,
            "left": null,
            "margin": null,
            "max_height": null,
            "max_width": null,
            "min_height": null,
            "min_width": null,
            "object_fit": null,
            "object_position": null,
            "order": null,
            "overflow": null,
            "overflow_x": null,
            "overflow_y": null,
            "padding": null,
            "right": null,
            "top": null,
            "visibility": null,
            "width": null
          }
        },
        "336cbd3b761b460dbd4bc015dfc6552b": {
          "model_module": "@jupyter-widgets/base",
          "model_name": "LayoutModel",
          "model_module_version": "1.2.0",
          "state": {
            "_model_module": "@jupyter-widgets/base",
            "_model_module_version": "1.2.0",
            "_model_name": "LayoutModel",
            "_view_count": null,
            "_view_module": "@jupyter-widgets/base",
            "_view_module_version": "1.2.0",
            "_view_name": "LayoutView",
            "align_content": null,
            "align_items": null,
            "align_self": null,
            "border": null,
            "bottom": null,
            "display": null,
            "flex": null,
            "flex_flow": null,
            "grid_area": null,
            "grid_auto_columns": null,
            "grid_auto_flow": null,
            "grid_auto_rows": null,
            "grid_column": null,
            "grid_gap": null,
            "grid_row": null,
            "grid_template_areas": null,
            "grid_template_columns": null,
            "grid_template_rows": null,
            "height": null,
            "justify_content": null,
            "justify_items": null,
            "left": null,
            "margin": null,
            "max_height": null,
            "max_width": null,
            "min_height": null,
            "min_width": null,
            "object_fit": null,
            "object_position": null,
            "order": null,
            "overflow": null,
            "overflow_x": null,
            "overflow_y": null,
            "padding": null,
            "right": null,
            "top": null,
            "visibility": null,
            "width": null
          }
        },
        "91ddc7c850494fd1812d0562ea7f0457": {
          "model_module": "@jupyter-widgets/controls",
          "model_name": "DescriptionStyleModel",
          "model_module_version": "1.5.0",
          "state": {
            "_model_module": "@jupyter-widgets/controls",
            "_model_module_version": "1.5.0",
            "_model_name": "DescriptionStyleModel",
            "_view_count": null,
            "_view_module": "@jupyter-widgets/base",
            "_view_module_version": "1.2.0",
            "_view_name": "StyleView",
            "description_width": ""
          }
        },
        "c8f68caef3f247b08d1c84d6c37ea958": {
          "model_module": "@jupyter-widgets/base",
          "model_name": "LayoutModel",
          "model_module_version": "1.2.0",
          "state": {
            "_model_module": "@jupyter-widgets/base",
            "_model_module_version": "1.2.0",
            "_model_name": "LayoutModel",
            "_view_count": null,
            "_view_module": "@jupyter-widgets/base",
            "_view_module_version": "1.2.0",
            "_view_name": "LayoutView",
            "align_content": null,
            "align_items": null,
            "align_self": null,
            "border": null,
            "bottom": null,
            "display": null,
            "flex": null,
            "flex_flow": null,
            "grid_area": null,
            "grid_auto_columns": null,
            "grid_auto_flow": null,
            "grid_auto_rows": null,
            "grid_column": null,
            "grid_gap": null,
            "grid_row": null,
            "grid_template_areas": null,
            "grid_template_columns": null,
            "grid_template_rows": null,
            "height": null,
            "justify_content": null,
            "justify_items": null,
            "left": null,
            "margin": null,
            "max_height": null,
            "max_width": null,
            "min_height": null,
            "min_width": null,
            "object_fit": null,
            "object_position": null,
            "order": null,
            "overflow": null,
            "overflow_x": null,
            "overflow_y": null,
            "padding": null,
            "right": null,
            "top": null,
            "visibility": null,
            "width": null
          }
        },
        "d339d2276a914c679c315381639bdd79": {
          "model_module": "@jupyter-widgets/controls",
          "model_name": "ProgressStyleModel",
          "model_module_version": "1.5.0",
          "state": {
            "_model_module": "@jupyter-widgets/controls",
            "_model_module_version": "1.5.0",
            "_model_name": "ProgressStyleModel",
            "_view_count": null,
            "_view_module": "@jupyter-widgets/base",
            "_view_module_version": "1.2.0",
            "_view_name": "StyleView",
            "bar_color": null,
            "description_width": ""
          }
        },
        "c5e680656c4f4520bbf52ee638a97917": {
          "model_module": "@jupyter-widgets/base",
          "model_name": "LayoutModel",
          "model_module_version": "1.2.0",
          "state": {
            "_model_module": "@jupyter-widgets/base",
            "_model_module_version": "1.2.0",
            "_model_name": "LayoutModel",
            "_view_count": null,
            "_view_module": "@jupyter-widgets/base",
            "_view_module_version": "1.2.0",
            "_view_name": "LayoutView",
            "align_content": null,
            "align_items": null,
            "align_self": null,
            "border": null,
            "bottom": null,
            "display": null,
            "flex": null,
            "flex_flow": null,
            "grid_area": null,
            "grid_auto_columns": null,
            "grid_auto_flow": null,
            "grid_auto_rows": null,
            "grid_column": null,
            "grid_gap": null,
            "grid_row": null,
            "grid_template_areas": null,
            "grid_template_columns": null,
            "grid_template_rows": null,
            "height": null,
            "justify_content": null,
            "justify_items": null,
            "left": null,
            "margin": null,
            "max_height": null,
            "max_width": null,
            "min_height": null,
            "min_width": null,
            "object_fit": null,
            "object_position": null,
            "order": null,
            "overflow": null,
            "overflow_x": null,
            "overflow_y": null,
            "padding": null,
            "right": null,
            "top": null,
            "visibility": null,
            "width": null
          }
        },
        "cbb8e53c34364566be0fc9ae0ccc1ecd": {
          "model_module": "@jupyter-widgets/controls",
          "model_name": "DescriptionStyleModel",
          "model_module_version": "1.5.0",
          "state": {
            "_model_module": "@jupyter-widgets/controls",
            "_model_module_version": "1.5.0",
            "_model_name": "DescriptionStyleModel",
            "_view_count": null,
            "_view_module": "@jupyter-widgets/base",
            "_view_module_version": "1.2.0",
            "_view_name": "StyleView",
            "description_width": ""
          }
        }
      }
    }
  },
  "nbformat": 4,
  "nbformat_minor": 0
}